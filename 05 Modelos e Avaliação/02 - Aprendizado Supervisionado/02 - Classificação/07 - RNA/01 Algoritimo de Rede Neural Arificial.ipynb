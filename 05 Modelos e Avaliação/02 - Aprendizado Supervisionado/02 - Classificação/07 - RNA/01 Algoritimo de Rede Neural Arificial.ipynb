{
 "cells": [
  {
   "cell_type": "markdown",
   "metadata": {},
   "source": [
    "# <font color='red'>Algoritimo de Rede Neural Arificial</font>\n",
    "\n",
    "###### Por: Marcus Rosa Godoi"
   ]
  },
  {
   "cell_type": "markdown",
   "metadata": {},
   "source": [
    "![rna.png](rna.png)\n",
    "\n",
    "Fonte:<a href=\"https://medium.com/brasil-ai/entendendo-o-funcionamento-de-uma-rede-neural-artificial-4463fcf44dd0\">medium.com/</a>"
   ]
  },
  {
   "cell_type": "markdown",
   "metadata": {},
   "source": [
    "# 1 - Keras - Sequential Model\n",
    "<a href=\"https://keras.io/guides/sequential_model/\">keras/</a>"
   ]
  },
  {
   "cell_type": "code",
   "execution_count": null,
   "metadata": {},
   "outputs": [],
   "source": [
    "#Import\n",
    "from keras.models import Sequential\n",
    "from keras.layers import Dense, Flatten, Dropout, Conv2D, MaxPooling2D\n",
    "from keras.utils import np_utils\n",
    "from keras.utils.vis_utils import plot_model\n",
    "\n",
    "from sklearn.metrics import confusion_matrix, accuracy_score, classification_report          \n",
    "from yellowbrick.classifier import ConfusionMatrix   "
   ]
  },
  {
   "cell_type": "markdown",
   "metadata": {},
   "source": [
    "## 1.1 - Criar Modelo Sequencial"
   ]
  },
  {
   "cell_type": "markdown",
   "metadata": {},
   "source": [
    "Funções de ativação:\n",
    "\n",
    "1. relu function\n",
    "2. sigmoid function     # Classificação Binária\n",
    "3. softmax function     # Classificação Categórica\n",
    "4. tanh function\n",
    "5. softplus function    #softplus(x) = log(exp(x) + 1).\n",
    "6. softsign function    #softsign(x) = x / (abs(x) + 1).\n",
    "7. selu function\n",
    "8. elu function\n",
    "9. exponential function"
   ]
  },
  {
   "cell_type": "code",
   "execution_count": null,
   "metadata": {},
   "outputs": [],
   "source": [
    "# Criando o modelo preditivo usando KERAS\n",
    "\n",
    "modelo = Sequential()  #uma camada apos a outra\n",
    "\n",
    "modelo.add(Dense(units = 5, activation = 'relu', input_dim = 4))#camadas oculta1 (5 neurônios)+ camda de entrada(4)\n",
    "modelo.add(Dropout(0.2))\n",
    "\n",
    "modelo.add(Dense(units = 4,  activation = 'relu'))# camada de oculta 2 (4)\n",
    "modelo.add(Dropout(0.2))\n",
    "\n",
    "modelo.add(Dense(units = 3, activation = 'softmax')) #camada de saida (3 saídas)"
   ]
  },
  {
   "cell_type": "code",
   "execution_count": null,
   "metadata": {},
   "outputs": [],
   "source": [
    "# Ver Modelo\n",
    "modelo.summary()"
   ]
  },
  {
   "cell_type": "markdown",
   "metadata": {},
   "source": [
    "## 1.2 - Otimizador"
   ]
  },
  {
   "cell_type": "markdown",
   "metadata": {
    "ExecuteTime": {
     "end_time": "2020-05-25T03:37:42.052916Z",
     "start_time": "2020-05-25T03:37:41.996275Z"
    }
   },
   "source": [
    "#### Otimizadores disponíveis:                                 \n",
    "1. SGD                              \n",
    "2. RMSprop                          \n",
    "3. Adam                             \n",
    "4. Adadelta                       \n",
    "5. Adagrad                          \n",
    "6. Adamax                            \n",
    "7. Nadam                             \n",
    "8. Ftrl      \n",
    "\n",
    "<a href=\"https://keras.io/api/optimizers/\">optimezers/</a>"
   ]
  },
  {
   "cell_type": "markdown",
   "metadata": {},
   "source": [
    "#### Metrics -> exibição do resultdado. Pode der uma função mais simples:\n",
    "Accuracy metrics\n",
    "1. accuracy\n",
    "2. binary_accuracy\n",
    "3. categorical_accuracy\n",
    "4. top_k_categorical_accurac\n",
    "5. sparse_top_k_categorical_accuracy\n",
    "\n",
    "<a href=\"https://keras.io/api/metrics/\">metrics/</a>"
   ]
  },
  {
   "cell_type": "markdown",
   "metadata": {},
   "source": [
    "#### Loss = Erro para o treinamento.\n",
    "Probabilistic losses\n",
    "\n",
    "    BinaryCrossentropy class\n",
    "    CategoricalCrossentropy class\n",
    "    SparseCategoricalCrossentropy class\n",
    "    Poisson class\n",
    "    binary_crossentropy function\n",
    "    categorical_crossentropy function\n",
    "    sparse_categorical_crossentropy function\n",
    "    poisson function\n",
    "    KLDivergence class\n",
    "    kl_divergence function\n",
    "\n",
    "Regression losses\n",
    "\n",
    "    MeanSquaredError class\n",
    "    MeanAbsoluteError class\n",
    "    MeanAbsolutePercentageError class\n",
    "    MeanSquaredLogarithmicError class\n",
    "    CosineSimilarity class\n",
    "    mean_squared_error function\n",
    "    mean_absolute_error function\n",
    "    mean_absolute_percentage_error function\n",
    "    mean_squared_logarithmic_error function\n",
    "    cosine_similarity function\n",
    "    Huber class\n",
    "    huber function\n",
    "    LogCosh class\n",
    "    log_cosh function\n",
    "\n",
    "Hinge losses for \"maximum-margin\" classification\n",
    "\n",
    "    Hinge class\n",
    "    SquaredHinge class\n",
    "    CategoricalHinge class\n",
    "    hinge function\n",
    "    squared_hinge function\n",
    "    categorical_hinge function\n",
    "https://keras.io/api/losses/\n",
    "<a href=\"https://keras.io/api/losses/\">losses/</a>"
   ]
  },
  {
   "cell_type": "code",
   "execution_count": null,
   "metadata": {},
   "outputs": [],
   "source": [
    "#Classificação Binária\n",
    "modelo.compile(optimizer = 'adam', \n",
    "                      loss = 'binary_crossentropy',\n",
    "                      metrics = ['binary_accuracy'])"
   ]
  },
  {
   "cell_type": "markdown",
   "metadata": {
    "ExecuteTime": {
     "end_time": "2020-05-25T04:02:22.657742Z",
     "start_time": "2020-05-25T04:02:22.653752Z"
    }
   },
   "source": [
    "## 1.3 - Treino"
   ]
  },
  {
   "cell_type": "code",
   "execution_count": null,
   "metadata": {},
   "outputs": [],
   "source": [
    "# Treinando o modelo\n",
    "historico = modelo.fit(X_treinamento, \n",
    "                       y_treinamento, \n",
    "                       epochs = 1000, \n",
    "                       validation_data = (X_teste, y_teste))\n",
    "#batch_size=64\n",
    "#validation_split=0.2"
   ]
  },
  {
   "cell_type": "markdown",
   "metadata": {
    "ExecuteTime": {
     "end_time": "2020-05-25T04:11:21.145474Z",
     "start_time": "2020-05-25T04:11:21.141488Z"
    }
   },
   "source": [
    "## 1.4 - Imagem do Treino"
   ]
  },
  {
   "cell_type": "code",
   "execution_count": null,
   "metadata": {},
   "outputs": [],
   "source": [
    "historico.history.keys()\n",
    "plt.plot(historico.history['val_loss'])\n",
    "plt.plot(historico.history['val_accuracy'])"
   ]
  },
  {
   "cell_type": "markdown",
   "metadata": {},
   "source": [
    "## 1.5 Seleção de Atributos\n",
    "Usando abordagem estatística univariada."
   ]
  },
  {
   "cell_type": "markdown",
   "metadata": {},
   "source": [
    "### Validação Cruzada"
   ]
  },
  {
   "cell_type": "code",
   "execution_count": null,
   "metadata": {},
   "outputs": [],
   "source": [
    "resultados = cross_val_score(modelo, \n",
    "                         x_treino, \n",
    "                         y_treino, \n",
    "                         cv=10,\n",
    "                         n_jobs= -1,\n",
    "                         scoring = 'accuracy')"
   ]
  },
  {
   "cell_type": "code",
   "execution_count": null,
   "metadata": {},
   "outputs": [],
   "source": [
    "media = resultados.mean()\n",
    "std = resultados.std()\n",
    "print('Média: ', media)\n",
    "print('Std: ', std)"
   ]
  },
  {
   "cell_type": "code",
   "execution_count": null,
   "metadata": {},
   "outputs": [],
   "source": [
    "melhor_resultado = media"
   ]
  },
  {
   "cell_type": "markdown",
   "metadata": {},
   "source": [
    "### Obter pontuação usando modelos com seleção de recursos"
   ]
  },
  {
   "cell_type": "code",
   "execution_count": null,
   "metadata": {},
   "outputs": [],
   "source": [
    "for i in range(1, x_treino_poly.shape[1]+1, 1):\n",
    "    # Select i atributos\n",
    "    select = SelectKBest(score_func=chi2, k=i) #chi2 = qui-quadrado\n",
    "    select.fit(x_treino_poly, y_treino)\n",
    "    x_treino_poly_selected = select.transform(x_treino_poly)\n",
    "\n",
    "    # Modelo com i atributos selecionados\n",
    "    modelo.fit(x_treino_poly_selected, y_treino)\n",
    "    resultados = cross_val_score(modelo, x_treino_poly_selected, y_treino, cv=10)\n",
    "    media = resultados.mean()\n",
    "    std = resultados.std()\n",
    "    print('Média: ', media)\n",
    "    print('Std: ', desvio)\n",
    "    print('CV acuracia: ', media, '+/- ', std)\n",
    "    \n",
    "    # Salvar resultados se melhorar a pontuação\n",
    "    if np.mean(resultados) > melhor_resultado:\n",
    "        melhor_resultado = media\n",
    "        melhor_std = std\n",
    "        k_atributos_melhor_resultado = i\n",
    "    elif media == melhor_resultado:\n",
    "        if std <  melhor_std:\n",
    "            melhor_resultado = media\n",
    "            melhor_std = std\n",
    "            k_atributos_melhor_resultado = i"
   ]
  },
  {
   "cell_type": "code",
   "execution_count": null,
   "metadata": {},
   "outputs": [],
   "source": [
    "print('Número de atributos com melhor pontuação: ', k_atributos_melhor_resultado)"
   ]
  },
  {
   "cell_type": "markdown",
   "metadata": {},
   "source": [
    "### Selecionar Atributos"
   ]
  },
  {
   "cell_type": "code",
   "execution_count": null,
   "metadata": {},
   "outputs": [],
   "source": [
    "select = SelectKBest(score_func = chi2, k = k_atributos_melhor_resultado)\n",
    "select.fit(x_treino_poly, y_treino)\n",
    "x_treino_poly_selected = select.transform(x_treino_poly)"
   ]
  },
  {
   "cell_type": "markdown",
   "metadata": {},
   "source": [
    "### Treinar Modelo"
   ]
  },
  {
   "cell_type": "code",
   "execution_count": null,
   "metadata": {},
   "outputs": [],
   "source": [
    "modelo = Sequential()  #uma camada apos a outra\n",
    "modelo.add(Dense(units = 5, activation = 'relu', input_dim = 4))#camadas oculta1 (5 neurônios)+ camda de entrada(4)\n",
    "modelo.add(Dropout(0.2))\n",
    "modelo.add(Dense(units = 4,  activation = 'relu'))# camada de oculta 2 (4)\n",
    "modelo.add(Dropout(0.2))\n",
    "modelo.add(Dense(units = 1, activation = 'softmax')) #camada de saida (1 saídas)\n",
    "\n",
    "modelo.compile(optimizer = 'adam',\n",
    "               loss = 'binary_crossentropy',\n",
    "               metrics = ['binary_accuracy'])\n",
    "\n",
    "\n",
    "modelo.fit(x_treino_poly_selected, y_treino)"
   ]
  },
  {
   "cell_type": "markdown",
   "metadata": {},
   "source": [
    "### Resultados\n"
   ]
  },
  {
   "cell_type": "code",
   "execution_count": null,
   "metadata": {},
   "outputs": [],
   "source": [
    "resultados = cross_val_score(modelo, \n",
    "                         x_treino_poly_selected, \n",
    "                         y_treino, \n",
    "                         cv=10,\n",
    "                         n_jobs= -1,\n",
    "                         scoring = 'binary_accuracy')"
   ]
  },
  {
   "cell_type": "markdown",
   "metadata": {},
   "source": [
    "### Curva de Aprendizado"
   ]
  },
  {
   "cell_type": "code",
   "execution_count": null,
   "metadata": {},
   "outputs": [],
   "source": [
    "title = \"Curva de Aprendizado (RNA)\"\n",
    "cv = 10\n",
    "plot_learning_curve(modelo, \n",
    "                    title, \n",
    "                    x_treino_poly_selected,\n",
    "                    y_treino, \n",
    "                    ylim = (0.7, 1.01), \n",
    "                    cv = cv, \n",
    "                    n_jobs = -1);"
   ]
  },
  {
   "cell_type": "markdown",
   "metadata": {},
   "source": [
    "### Curva de Validação"
   ]
  },
  {
   "cell_type": "code",
   "execution_count": null,
   "metadata": {},
   "outputs": [],
   "source": [
    "title = 'Curva de Validação (RNA)'\n",
    "param_name = 'optimizer'\n",
    "param_range = ['SGD', 'RMSprop', 'adam', 'Adadelta', 'Adagrad', 'Adamax', 'Nadam', 'Ftr1'] \n",
    "cv = 10\n",
    "plot_validation_curve(estimator=modelo, \n",
    "                      title = title, \n",
    "                      X = x_treino_poly_selected, \n",
    "                      y = y_treino, \n",
    "                      param_name = param_name, \n",
    "                      ylim = (0.5, 1.01), \n",
    "                      param_range = param_range);"
   ]
  },
  {
   "cell_type": "markdown",
   "metadata": {},
   "source": [
    "### Fazer a mesma transformação com os dados de teste."
   ]
  },
  {
   "cell_type": "code",
   "execution_count": null,
   "metadata": {},
   "outputs": [],
   "source": []
  },
  {
   "cell_type": "markdown",
   "metadata": {},
   "source": [
    "## 1.6 - Verificando a exatidão no modelo nos dados de teste"
   ]
  },
  {
   "cell_type": "code",
   "execution_count": null,
   "metadata": {},
   "outputs": [],
   "source": [
    "previsao1 = modelo.predict(x_teste)\n",
    "previsao2 = resultado.predict(x_teste)"
   ]
  },
  {
   "cell_type": "code",
   "execution_count": null,
   "metadata": {},
   "outputs": [],
   "source": [
    "print(\"Taxa de Acerto (Accuracy): {0:.6f}%\".format(accuracy_score(y_teste, previsao1)*100))"
   ]
  },
  {
   "cell_type": "code",
   "execution_count": null,
   "metadata": {},
   "outputs": [],
   "source": [
    "print(\"Taxa de Acerto (Accuracy): {0:.6f}%\".format(accuracy_score(y_teste, previsao2)*100))"
   ]
  },
  {
   "cell_type": "code",
   "execution_count": null,
   "metadata": {},
   "outputs": [],
   "source": [
    "print(\"Classification Report\")\n",
    "print(metrics.classification_report(y_teste, previsao1, labels = [1, 0]));"
   ]
  },
  {
   "cell_type": "code",
   "execution_count": null,
   "metadata": {},
   "outputs": [],
   "source": [
    "print(\"Classification Report\")\n",
    "print(metrics.classification_report(y_teste, previsao2, labels = [1, 0]));"
   ]
  },
  {
   "cell_type": "code",
   "execution_count": null,
   "metadata": {},
   "outputs": [],
   "source": [
    "# Criando uma Confusion Matrix\n",
    "\n",
    "print(\"Confusion Matrix\")\n",
    "confusao1 = confusion_matrix(y_teste, previsao1)\n",
    "confusao1"
   ]
  },
  {
   "cell_type": "code",
   "execution_count": null,
   "metadata": {},
   "outputs": [],
   "source": [
    "# Criando uma Confusion Matrix\n",
    "\n",
    "print(\"Confusion Matrix\")\n",
    "confusao2 = confusion_matrix(y_teste, previsao2)\n",
    "confusao2"
   ]
  },
  {
   "cell_type": "markdown",
   "metadata": {},
   "source": [
    "## 1.7 - Tuning"
   ]
  },
  {
   "cell_type": "markdown",
   "metadata": {},
   "source": [
    "optimizer = ['SGD', 'RMSprop', 'adam', 'Adadelta', 'Adagrad', 'Adamax', 'Nadam', 'Ftr1'] \n",
    "\n",
    "numero de camadas **\n",
    "\n",
    "neurons = [1, 5, 10, 15, 20, 25, 30]\n",
    "\n",
    "loos = ['binary_crossentropy', 'hinge']\n",
    "\n",
    "activation = ['softmax', 'softplus', 'softsign', 'relu', 'tanh', 'sigmoid', 'hard_sigmoid', 'linear']\n",
    "\n",
    "dropout_rate = [0.0, 0.1, 0.2, 0.3, 0.4, 0.5, 0.6, 0.7, 0.8, 0.9]\n",
    "\n",
    "init_mode = ['uniform', 'lecun_uniform', 'normal', 'zero', 'glorot_normal', 'glorot_uniform', 'he_normal', 'he_uniform']\n",
    "\n",
    "learn_rate = [0.001, 0.01, 0.1, 0.2, 0.3]\n",
    "\n",
    "momentum = [0.0, 0.2, 0.4, 0.6, 0.8, 0.9]\n",
    "\n",
    "batch_size = [32, 64, 128, 256, 512 ]\n",
    "\n",
    "epochs: [500, 1000, 5000]"
   ]
  },
  {
   "cell_type": "code",
   "execution_count": null,
   "metadata": {},
   "outputs": [],
   "source": []
  },
  {
   "cell_type": "markdown",
   "metadata": {},
   "source": [
    "# Fim"
   ]
  },
  {
   "cell_type": "markdown",
   "metadata": {},
   "source": [
    "### Obrigado - Marcus Rosa Godoi "
   ]
  }
 ],
 "metadata": {
  "kernelspec": {
   "display_name": "Python 3",
   "language": "python",
   "name": "python3"
  },
  "language_info": {
   "codemirror_mode": {
    "name": "ipython",
    "version": 3
   },
   "file_extension": ".py",
   "mimetype": "text/x-python",
   "name": "python",
   "nbconvert_exporter": "python",
   "pygments_lexer": "ipython3",
   "version": "3.7.4"
  }
 },
 "nbformat": 4,
 "nbformat_minor": 2
}
