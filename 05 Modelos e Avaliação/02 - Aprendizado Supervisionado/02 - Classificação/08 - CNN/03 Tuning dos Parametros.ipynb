{
 "cells": [
  {
   "cell_type": "markdown",
   "metadata": {},
   "source": [
    "# <font color='red'>Algoritimo CNN Tuning</font>\n",
    "\n",
    "###### Por: Marcus Rosa Godoi"
   ]
  },
  {
   "cell_type": "markdown",
   "metadata": {},
   "source": [
    "![cnn.png](cnn.png)\n",
    "Fonte: <a href=\"https://www.infoq.com/br/articles/redes-neurais-convolucionais/\">imagem</a>"
   ]
  },
  {
   "cell_type": "markdown",
   "metadata": {},
   "source": [
    "# 1 - Keras - Sequential Model\n",
    "<a href=\"https://keras.io/guides/sequential_model/\">keras/</a>"
   ]
  },
  {
   "cell_type": "code",
   "execution_count": null,
   "metadata": {},
   "outputs": [],
   "source": [
    "#Import\n",
    "from keras.models import Sequential\n",
    "from keras.layers import Dense, Flatten, Dropout, Conv2D, MaxPooling2D\n",
    "from keras.utils import np_utils\n",
    "from keras.utils.vis_utils import plot_model\n",
    "\n",
    "from sklearn.metrics import confusion_matrix, accuracy_score, classification_report          \n",
    "from yellowbrick.classifier import ConfusionMatrix   \n",
    "\n",
    "from keras.wrappers.scikit_learn import KerasClassifier\n",
    "from sklearn.model_selection import cross_val_score"
   ]
  },
  {
   "cell_type": "markdown",
   "metadata": {},
   "source": [
    "## 1.1 - Criar Modelo Sequencial"
   ]
  },
  {
   "cell_type": "markdown",
   "metadata": {},
   "source": [
    "Verificar Parametros no Notebook \"01 Algoritimo de Rede Neural Arificial\""
   ]
  },
  {
   "cell_type": "code",
   "execution_count": null,
   "metadata": {},
   "outputs": [],
   "source": [
    "def criarRede():\n",
    "    \n",
    "    modelo = Sequential()\n",
    "\n",
    "    #PRIMEIRA CAMADA DE CONVLUÇÃO\n",
    "    modelo.add(Conv2D(32, (3,3), input_shape=(28, 28, 1), activation = 'relu')) #32 ->  Nº DE KERNELS \n",
    "    #64 É MAIS RECONMENDAVEL E POTENCIAS DE 2: 128 256 512 1024\n",
    "    #(3,3) pois a imagem é pequena \n",
    "    modelo.add(BatchNormalization()) #NORMALIAÇÃO NOS MAPAS DE CONVLOLUÇÃO\n",
    "    modelo.add(MaxPooling2D(pool_size = (2,2)))#POOLING\n",
    "    \n",
    "    #SEGUNDA CAMADA DE CONVLUÇÃO\n",
    "    modelo.add(Conv2D(32, (3,3), activation = 'relu')) #não possui input shape\n",
    "    modelo.add(BatchNormalization()) # normalização na camada de convolução\n",
    "    modelo.add(MaxPooling2D(pool_size = (2,2)))\n",
    "    \n",
    "    #Flatten\n",
    "    modelo.add(Flatten()) #usa somente no final de todas convoluções\n",
    "    \n",
    "    #CAMADA DENSA\n",
    "    modelo.add(Dense(units = 128, activation = 'relu')) #13x13 na entrada(169) camada oculta 128. Valor multiplo de 2\n",
    "    modelo.add(Dropout(0.2))\n",
    "    modelo.add(Dense(units = 128, activation = 'relu'))\n",
    "    modelo.add(Dropout(0.2))\n",
    "    modelo.add(Dense(units = 10, activation = 'softmax'))\n",
    "    \n",
    "    #Otimizador\n",
    "    modelo.compile(optimizer = 'adam',\n",
    "                   loss = 'categorical_crossentropy',\n",
    "                   metrics = ['accuracy'])\n",
    "    \n",
    "    \n",
    "    return modelo"
   ]
  },
  {
   "cell_type": "code",
   "execution_count": null,
   "metadata": {},
   "outputs": [],
   "source": [
    "#Classificação\n",
    "modelo = KerasClassifier(build_fn = criarRede)"
   ]
  },
  {
   "cell_type": "code",
   "execution_count": null,
   "metadata": {},
   "outputs": [],
   "source": [
    "#parametros de teste:\n",
    "parametros = {'batch_size': [10, 30],\n",
    "              'epochs': [50, 100],\n",
    "              'optimizer': ['adam', 'sgd'],\n",
    "              'loos': ['binary_crossentropy', 'hinge'],\n",
    "              'kernel_initializer': ['random_uniform', 'normal'],\n",
    "              'activation': ['relu', 'tanh'],\n",
    "              'neurons': [16, 8]}"
   ]
  },
  {
   "cell_type": "code",
   "execution_count": null,
   "metadata": {},
   "outputs": [],
   "source": [
    "grid_search = GridSearchCV(estimator = modelo,\n",
    "                           param_grid = parametros,\n",
    "                           scoring = 'accuracy',\n",
    "                           cv = 10)"
   ]
  },
  {
   "cell_type": "markdown",
   "metadata": {
    "ExecuteTime": {
     "end_time": "2020-05-25T04:02:22.657742Z",
     "start_time": "2020-05-25T04:02:22.653752Z"
    }
   },
   "source": [
    "## 1.2 - Treino"
   ]
  },
  {
   "cell_type": "code",
   "execution_count": null,
   "metadata": {},
   "outputs": [],
   "source": [
    "grid_search = grid_search.fit(previsores, classe)"
   ]
  },
  {
   "cell_type": "markdown",
   "metadata": {
    "ExecuteTime": {
     "end_time": "2020-05-25T04:02:22.657742Z",
     "start_time": "2020-05-25T04:02:22.653752Z"
    }
   },
   "source": [
    "## 1.3 - Melhores Parâmetros"
   ]
  },
  {
   "cell_type": "code",
   "execution_count": null,
   "metadata": {},
   "outputs": [],
   "source": [
    "melhores_parametros = grid_search.best_params_\n",
    "melhor_precisao = grid_search.best_score_\n",
    "print(melhores_parametros)\n",
    "print(melhor_precisao)"
   ]
  },
  {
   "cell_type": "markdown",
   "metadata": {},
   "source": [
    "# Fim"
   ]
  },
  {
   "cell_type": "markdown",
   "metadata": {},
   "source": [
    "### Obrigado - Marcus Rosa Godoi "
   ]
  }
 ],
 "metadata": {
  "kernelspec": {
   "display_name": "Python 3",
   "language": "python",
   "name": "python3"
  },
  "language_info": {
   "codemirror_mode": {
    "name": "ipython",
    "version": 3
   },
   "file_extension": ".py",
   "mimetype": "text/x-python",
   "name": "python",
   "nbconvert_exporter": "python",
   "pygments_lexer": "ipython3",
   "version": "3.7.4"
  }
 },
 "nbformat": 4,
 "nbformat_minor": 2
}
