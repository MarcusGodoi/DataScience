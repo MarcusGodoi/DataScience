{
 "cells": [
  {
   "cell_type": "markdown",
   "metadata": {},
   "source": [
    "# <font color='red'>Parte 5 -  Modelos de Machine Learning</font>\n",
    "Nesta etapa veremos exemplos modelos para classificar se uma pessoa tem ou não Diabetes.\n",
    "\n",
    "O Foco desse notebook é puramente para a construção dos modelos.\n",
    "###### Por: Marcus Rosa Godoi"
   ]
  },
  {
   "cell_type": "markdown",
   "metadata": {
    "heading_collapsed": true,
    "slideshow": {
     "slide_type": "-"
    }
   },
   "source": [
    "# <font color='grey'>0.0 - IMPORTS</font>"
   ]
  },
  {
   "cell_type": "markdown",
   "metadata": {
    "hidden": true
   },
   "source": [
    " "
   ]
  },
  {
   "cell_type": "code",
   "execution_count": 224,
   "metadata": {
    "ExecuteTime": {
     "end_time": "2020-05-22T06:33:25.216015Z",
     "start_time": "2020-05-22T06:32:47.724938Z"
    },
    "hidden": true
   },
   "outputs": [
    {
     "name": "stderr",
     "output_type": "stream",
     "text": [
      "Using TensorFlow backend.\n"
     ]
    }
   ],
   "source": [
    "import pandas as pd\n",
    "import numpy as np\n",
    "import matplotlib.pylab as plt\n",
    "import seaborn as sns\n",
    "\n",
    "from sklearn.model_selection import train_test_split                                         #MANIPULAÇÃO DOS DADOS\n",
    "from sklearn.preprocessing import LabelEncoder, OneHotEncoder                                #MANIPULAÇÃO DOS DADOS\n",
    "from sklearn.preprocessing import MinMaxScaler                                               #MANIPULAÇÃO DOS DADOS\n",
    "\n",
    "from sklearn.linear_model import LogisticRegression                                          #MODELO\n",
    "from sklearn.ensemble import RandomForestClassifier                                          #MODELO\n",
    "\n",
    "from sklearn.metrics import confusion_matrix, accuracy_score, classification_report          #AVALIAÇÃO\n",
    "from yellowbrick.classifier import ConfusionMatrix                                           #AVALIAÇÃO  \n",
    "#from sklearn import metrics                                                                 #AVALIAÇÃO\n",
    "\n",
    "from keras.models import Sequential\n",
    "from keras.layers import Dense, Dropout\n",
    "from keras.utils import np_utils\n",
    "from keras.utils.vis_utils import plot_model"
   ]
  },
  {
   "cell_type": "markdown",
   "metadata": {
    "hidden": true
   },
   "source": [
    " \n",
    " "
   ]
  },
  {
   "cell_type": "markdown",
   "metadata": {
    "heading_collapsed": true
   },
   "source": [
    "# <font color='grey'>1.0  - COLETAS DE DADOS</font>"
   ]
  },
  {
   "cell_type": "markdown",
   "metadata": {
    "hidden": true
   },
   "source": [
    "Prevendo a Ocorrência de Diabetes.\n",
    "\n",
    "\n",
    "Conjunto de Dados do Repositório de Machine Learning da UCI / Kaggle.\n",
    "\n",
    "\n",
    "https://www.kaggle.com/uciml/pima-indians-diabetes-database/data"
   ]
  },
  {
   "cell_type": "code",
   "execution_count": 2,
   "metadata": {
    "ExecuteTime": {
     "end_time": "2020-05-22T04:47:33.045378Z",
     "start_time": "2020-05-22T04:47:33.035410Z"
    },
    "hidden": true
   },
   "outputs": [],
   "source": [
    "base1 = pd.read_csv(\"Dados/diabetes.csv\")"
   ]
  },
  {
   "cell_type": "code",
   "execution_count": null,
   "metadata": {
    "ExecuteTime": {
     "end_time": "2020-05-21T23:47:25.935117Z",
     "start_time": "2020-05-21T23:47:25.747551Z"
    },
    "hidden": true
   },
   "outputs": [],
   "source": [
    "base1"
   ]
  },
  {
   "cell_type": "markdown",
   "metadata": {
    "hidden": true
   },
   "source": [
    "## 1.1 - Verificação da Base de Dados"
   ]
  },
  {
   "cell_type": "markdown",
   "metadata": {
    "hidden": true
   },
   "source": [
    " "
   ]
  },
  {
   "cell_type": "code",
   "execution_count": null,
   "metadata": {
    "ExecuteTime": {
     "end_time": "2020-05-21T23:47:26.032032Z",
     "start_time": "2020-05-21T23:47:25.938049Z"
    },
    "hidden": true
   },
   "outputs": [],
   "source": [
    "# Verificando o formato dos dados\n",
    "\n",
    "print('Número de Linhas: {}'.format(base1.shape[0]))\n",
    "print('Número de Colunas: {}'.format(base1.shape[1]))"
   ]
  },
  {
   "cell_type": "code",
   "execution_count": null,
   "metadata": {
    "ExecuteTime": {
     "end_time": "2020-05-21T23:47:26.163203Z",
     "start_time": "2020-05-21T23:47:26.035017Z"
    },
    "hidden": true
   },
   "outputs": [],
   "source": [
    "# Varificando tipo dos dados\n",
    "\n",
    "base1.dtypes"
   ]
  },
  {
   "cell_type": "code",
   "execution_count": null,
   "metadata": {
    "ExecuteTime": {
     "end_time": "2020-05-21T23:47:26.269258Z",
     "start_time": "2020-05-21T23:47:26.166193Z"
    },
    "hidden": true
   },
   "outputs": [],
   "source": [
    "# Verificando as primeiras linhas do dataset\n",
    "\n",
    "base1.head()"
   ]
  },
  {
   "cell_type": "code",
   "execution_count": null,
   "metadata": {
    "ExecuteTime": {
     "end_time": "2020-05-21T23:47:26.387489Z",
     "start_time": "2020-05-21T23:47:26.272213Z"
    },
    "hidden": true
   },
   "outputs": [],
   "source": [
    "# Verificando as últimas linhas do dataset\n",
    "\n",
    "base1.tail()"
   ]
  },
  {
   "cell_type": "code",
   "execution_count": null,
   "metadata": {
    "ExecuteTime": {
     "end_time": "2020-05-21T23:47:26.549107Z",
     "start_time": "2020-05-21T23:47:26.390476Z"
    },
    "hidden": true
   },
   "outputs": [],
   "source": [
    "# Verificando estatisticas básicas dos dados\n",
    "\n",
    "base1.describe()"
   ]
  },
  {
   "cell_type": "markdown",
   "metadata": {
    "heading_collapsed": true
   },
   "source": [
    "# <font color='grey'>2.0 - LIMPEZA DOS DADOS</font>"
   ]
  },
  {
   "cell_type": "code",
   "execution_count": 3,
   "metadata": {
    "ExecuteTime": {
     "end_time": "2020-05-22T04:47:44.106449Z",
     "start_time": "2020-05-22T04:47:44.101462Z"
    },
    "hidden": true
   },
   "outputs": [],
   "source": [
    "base2 = base1.copy() #Fazer uma copia da base de daods para cada etapa. \n",
    "                     #Evitando perde-la caso ocorra uma manipulação errada"
   ]
  },
  {
   "cell_type": "markdown",
   "metadata": {
    "heading_collapsed": true,
    "hidden": true
   },
   "source": [
    "## 2.1 - Valores Missing"
   ]
  },
  {
   "cell_type": "markdown",
   "metadata": {
    "hidden": true
   },
   "source": [
    " "
   ]
  },
  {
   "cell_type": "code",
   "execution_count": 4,
   "metadata": {
    "ExecuteTime": {
     "end_time": "2020-05-22T04:47:53.038087Z",
     "start_time": "2020-05-22T04:47:53.029109Z"
    },
    "hidden": true
   },
   "outputs": [
    {
     "data": {
      "text/plain": [
       "False"
      ]
     },
     "execution_count": 4,
     "metadata": {},
     "output_type": "execute_result"
    }
   ],
   "source": [
    "# Verificando se existem valores nulos na base de dados\n",
    "base2.isnull().values.any()"
   ]
  },
  {
   "cell_type": "code",
   "execution_count": 5,
   "metadata": {
    "ExecuteTime": {
     "end_time": "2020-05-22T04:47:53.478067Z",
     "start_time": "2020-05-22T04:47:53.471087Z"
    },
    "hidden": true
   },
   "outputs": [
    {
     "data": {
      "text/plain": [
       "Pregnancies                 0\n",
       "Glucose                     0\n",
       "BloodPressure               0\n",
       "SkinThickness               0\n",
       "Insulin                     0\n",
       "BMI                         0\n",
       "DiabetesPedigreeFunction    0\n",
       "Age                         0\n",
       "Outcome                     0\n",
       "dtype: int64"
      ]
     },
     "execution_count": 5,
     "metadata": {},
     "output_type": "execute_result"
    }
   ],
   "source": [
    "base2.isnull().sum()"
   ]
  },
  {
   "cell_type": "code",
   "execution_count": 6,
   "metadata": {
    "ExecuteTime": {
     "end_time": "2020-05-22T04:47:54.033265Z",
     "start_time": "2020-05-22T04:47:53.970362Z"
    },
    "hidden": true
   },
   "outputs": [
    {
     "data": {
      "text/html": [
       "<div>\n",
       "<style scoped>\n",
       "    .dataframe tbody tr th:only-of-type {\n",
       "        vertical-align: middle;\n",
       "    }\n",
       "\n",
       "    .dataframe tbody tr th {\n",
       "        vertical-align: top;\n",
       "    }\n",
       "\n",
       "    .dataframe thead th {\n",
       "        text-align: right;\n",
       "    }\n",
       "</style>\n",
       "<table border=\"1\" class=\"dataframe\">\n",
       "  <thead>\n",
       "    <tr style=\"text-align: right;\">\n",
       "      <th></th>\n",
       "      <th>Pregnancies</th>\n",
       "      <th>Glucose</th>\n",
       "      <th>BloodPressure</th>\n",
       "      <th>SkinThickness</th>\n",
       "      <th>Insulin</th>\n",
       "      <th>BMI</th>\n",
       "      <th>DiabetesPedigreeFunction</th>\n",
       "      <th>Age</th>\n",
       "      <th>Outcome</th>\n",
       "    </tr>\n",
       "  </thead>\n",
       "  <tbody>\n",
       "  </tbody>\n",
       "</table>\n",
       "</div>"
      ],
      "text/plain": [
       "Empty DataFrame\n",
       "Columns: [Pregnancies, Glucose, BloodPressure, SkinThickness, Insulin, BMI, DiabetesPedigreeFunction, Age, Outcome]\n",
       "Index: []"
      ]
     },
     "execution_count": 6,
     "metadata": {},
     "output_type": "execute_result"
    }
   ],
   "source": [
    "#Locanizar dados nulos pela coluna\n",
    "base2.loc[pd.isnull(base2['Glucose'])]   #localizar valores Nan por coluna"
   ]
  },
  {
   "cell_type": "markdown",
   "metadata": {
    "hidden": true
   },
   "source": [
    " "
   ]
  },
  {
   "cell_type": "markdown",
   "metadata": {
    "hidden": true
   },
   "source": [
    " #### Observação:\n",
    " Neste exemplo vimos que não possui valores nulos na base de dados"
   ]
  },
  {
   "cell_type": "markdown",
   "metadata": {
    "heading_collapsed": true,
    "hidden": true
   },
   "source": [
    "## 2.2 - Valores Missing Ocultos"
   ]
  },
  {
   "cell_type": "markdown",
   "metadata": {
    "hidden": true
   },
   "source": [
    " "
   ]
  },
  {
   "cell_type": "code",
   "execution_count": 7,
   "metadata": {
    "ExecuteTime": {
     "end_time": "2020-05-22T04:48:00.118508Z",
     "start_time": "2020-05-22T04:48:00.094574Z"
    },
    "hidden": true
   },
   "outputs": [
    {
     "name": "stdout",
     "output_type": "stream",
     "text": [
      "# Linhas no dataframe 768\n",
      "# Linhas missing Glucose: 5\n",
      "# Linhas missing BloodPressure: 35\n",
      "# Linhas missing SkinThickness: 227\n",
      "# Linhas missing insulin: 374\n",
      "# Linhas missing BMI: 11\n",
      "# Linhas missing DiabetesPedigreeFunction: 0\n",
      "# Linhas missing Age: 0\n"
     ]
    }
   ],
   "source": [
    "# NESTE CASO VALORE IGUAIS A ZERO PARA OS PREVISORES FORAM CONSIFDERADOS MISSING\n",
    "print(\"# Linhas no dataframe {0}\".format(len(base2)))\n",
    "#print(\"# Linhas missing Pregnancies: {0}\".format(len(base2.loc[base2['Pregnancies'] == 0])))\n",
    "print(\"# Linhas missing Glucose: {0}\".format(len(base2.loc[base2['Glucose'] == 0])))\n",
    "print(\"# Linhas missing BloodPressure: {0}\".format(len(base2.loc[base2['BloodPressure'] == 0])))\n",
    "print(\"# Linhas missing SkinThickness: {0}\".format(len(base2.loc[base2['SkinThickness'] == 0])))\n",
    "print(\"# Linhas missing insulin: {0}\".format(len(base2.loc[base2['Insulin'] == 0])))\n",
    "print(\"# Linhas missing BMI: {0}\".format(len(base2.loc[base2['BMI'] == 0])))\n",
    "print(\"# Linhas missing DiabetesPedigreeFunction: {0}\".format(len(base2.loc[base2['DiabetesPedigreeFunction'] == 0])))\n",
    "print(\"# Linhas missing Age: {0}\".format(len(base2.loc[base2['Age'] == 0])))"
   ]
  },
  {
   "cell_type": "markdown",
   "metadata": {
    "heading_collapsed": true,
    "hidden": true
   },
   "source": [
    "## 2.3 - Tratando Dados Missing"
   ]
  },
  {
   "cell_type": "markdown",
   "metadata": {
    "hidden": true
   },
   "source": [
    " A estratégia adotada foi a de substituir os valores iguais a zero pela média das colunas.\n",
    " \n",
    " Destacado em vermelho.\n",
    " \n",
    " Mais de uma delas pode ser realizada dependendo da situação."
   ]
  },
  {
   "cell_type": "markdown",
   "metadata": {
    "heading_collapsed": true,
    "hidden": true
   },
   "source": [
    "#### Substituindo os valores missing, pela média dos dados"
   ]
  },
  {
   "cell_type": "code",
   "execution_count": null,
   "metadata": {
    "hidden": true
   },
   "outputs": [],
   "source": [
    "base = base.fillna(base.mean())"
   ]
  },
  {
   "cell_type": "markdown",
   "metadata": {
    "hidden": true
   },
   "source": [
    "#### <font color='red'>Substituindo os valores iguais a zero, pela média dos dados (MISSING OCULTOS)</font>"
   ]
  },
  {
   "cell_type": "code",
   "execution_count": 8,
   "metadata": {
    "ExecuteTime": {
     "end_time": "2020-05-22T04:48:11.643873Z",
     "start_time": "2020-05-22T04:48:11.636891Z"
    },
    "hidden": true
   },
   "outputs": [
    {
     "data": {
      "text/plain": [
       "Pregnancies                  0.000\n",
       "Glucose                      0.000\n",
       "BloodPressure                0.000\n",
       "SkinThickness                0.000\n",
       "Insulin                      0.000\n",
       "BMI                          0.000\n",
       "DiabetesPedigreeFunction     0.078\n",
       "Age                         21.000\n",
       "Outcome                      0.000\n",
       "dtype: float64"
      ]
     },
     "execution_count": 8,
     "metadata": {},
     "output_type": "execute_result"
    }
   ],
   "source": [
    "base2.min()"
   ]
  },
  {
   "cell_type": "code",
   "execution_count": 9,
   "metadata": {
    "ExecuteTime": {
     "end_time": "2020-05-22T04:48:12.481970Z",
     "start_time": "2020-05-22T04:48:12.476985Z"
    },
    "hidden": true
   },
   "outputs": [],
   "source": [
    "colunas = list(base2.columns)\n",
    "medias = list(base2.mean())"
   ]
  },
  {
   "cell_type": "code",
   "execution_count": 10,
   "metadata": {
    "ExecuteTime": {
     "end_time": "2020-05-22T04:48:13.484124Z",
     "start_time": "2020-05-22T04:48:13.218636Z"
    },
    "hidden": true
   },
   "outputs": [],
   "source": [
    "for c,m in zip(colunas,medias):\n",
    "    if (c == 'Outcome')| (c == 'Pregnancies'):\n",
    "        continue\n",
    "    for x,i in zip(base2[c], range(base2.shape[0])):\n",
    "        if (x==0):\n",
    "            base2.loc[i,c]=m"
   ]
  },
  {
   "cell_type": "code",
   "execution_count": 11,
   "metadata": {
    "ExecuteTime": {
     "end_time": "2020-05-22T04:48:16.148325Z",
     "start_time": "2020-05-22T04:48:16.141341Z"
    },
    "hidden": true
   },
   "outputs": [
    {
     "data": {
      "text/plain": [
       "Pregnancies                  0.000\n",
       "Glucose                     44.000\n",
       "BloodPressure               24.000\n",
       "SkinThickness                7.000\n",
       "Insulin                     14.000\n",
       "BMI                         18.200\n",
       "DiabetesPedigreeFunction     0.078\n",
       "Age                         21.000\n",
       "Outcome                      0.000\n",
       "dtype: float64"
      ]
     },
     "execution_count": 11,
     "metadata": {},
     "output_type": "execute_result"
    }
   ],
   "source": [
    "base2.min()"
   ]
  },
  {
   "cell_type": "markdown",
   "metadata": {
    "hidden": true
   },
   "source": [
    " "
   ]
  },
  {
   "cell_type": "markdown",
   "metadata": {
    "heading_collapsed": true,
    "hidden": true
   },
   "source": [
    "#### APAGANDO DADOS DE MISSING"
   ]
  },
  {
   "cell_type": "markdown",
   "metadata": {
    "hidden": true
   },
   "source": [
    " "
   ]
  },
  {
   "cell_type": "code",
   "execution_count": null,
   "metadata": {
    "hidden": true
   },
   "outputs": [],
   "source": [
    "base = base.dropna('Glucose', axis = 0)  #AXIS = 0 APAGA A LINHA\n",
    "#Neste caso apaga todaas as linhas com valores nulos(missing)"
   ]
  },
  {
   "cell_type": "markdown",
   "metadata": {
    "hidden": true
   },
   "source": [
    " "
   ]
  },
  {
   "cell_type": "markdown",
   "metadata": {
    "heading_collapsed": true,
    "hidden": true
   },
   "source": [
    "#### APAGANDO DADOS DE MISSING OCULTOS"
   ]
  },
  {
   "cell_type": "markdown",
   "metadata": {
    "hidden": true
   },
   "source": [
    " "
   ]
  },
  {
   "cell_type": "code",
   "execution_count": null,
   "metadata": {
    "hidden": true
   },
   "outputs": [],
   "source": [
    "i1 = base.loc[base.Glucose == 10] #loc -> localizar (i1 = inconsistentes um)\n",
    "base = base[base.Glucose > 0] #A BASE DE DADOS AGORA SO POSSUIRÁ OS DADOS ONDE A GLICOSE É MAIOR QUE ZERO "
   ]
  },
  {
   "cell_type": "markdown",
   "metadata": {
    "hidden": true
   },
   "source": [
    " "
   ]
  },
  {
   "cell_type": "markdown",
   "metadata": {
    "heading_collapsed": true,
    "hidden": true
   },
   "source": [
    "#### ALTERANDO  DADOS MISSING CATEGORICOS"
   ]
  },
  {
   "cell_type": "markdown",
   "metadata": {
    "hidden": true
   },
   "source": [
    "Não Ocorre neste caso, mas para exemplo "
   ]
  },
  {
   "cell_type": "code",
   "execution_count": null,
   "metadata": {
    "hidden": true
   },
   "outputs": [],
   "source": [
    "# Varialvel categorica, caso não for apaga-la\n",
    "\n",
    "base['vehicleType'].value_counts() # verificar qual item mais se repete para poder tratar depois ->limousine\n",
    "#Fazer para todas as colunas que tiverem valores categóricos nulos \n",
    "\n",
    "valores = {'vehicleType': 'limousine', \n",
    "           'gearbox': 'manuell',\n",
    "           'model': 'golf', \n",
    "           'fuelType': 'benzin',\n",
    "           'notRepairedDamage': 'nein'}\n",
    "\n",
    "#NOME DA COLUNA : VALOR QUE MAIS SE REPETE NESSA COLUNA"
   ]
  },
  {
   "cell_type": "code",
   "execution_count": null,
   "metadata": {
    "hidden": true
   },
   "outputs": [],
   "source": [
    "base = base.fillna(value = valores)\n",
    "#tocamos os valorers nulos pelos valores que mais se repetiram"
   ]
  },
  {
   "cell_type": "markdown",
   "metadata": {
    "hidden": true
   },
   "source": [
    " "
   ]
  },
  {
   "cell_type": "markdown",
   "metadata": {
    "heading_collapsed": true,
    "hidden": true
   },
   "source": [
    "## 2.4 - Outliers"
   ]
  },
  {
   "cell_type": "markdown",
   "metadata": {
    "hidden": true
   },
   "source": [
    " Detectar outliers usando boxplot.\n",
    " Neste caso vamos considerar que os outiliers prejudicam o modelo. "
   ]
  },
  {
   "cell_type": "code",
   "execution_count": null,
   "metadata": {
    "ExecuteTime": {
     "end_time": "2020-05-21T07:39:07.083991Z",
     "start_time": "2020-05-21T07:39:06.678187Z"
    },
    "hidden": true
   },
   "outputs": [],
   "source": [
    "plt.figure(figsize=(18,10))\n",
    "sns.boxplot(data = base2)"
   ]
  },
  {
   "cell_type": "code",
   "execution_count": null,
   "metadata": {
    "ExecuteTime": {
     "end_time": "2020-05-21T07:39:14.018209Z",
     "start_time": "2020-05-21T07:39:13.806774Z"
    },
    "hidden": true
   },
   "outputs": [],
   "source": [
    "plt.figure(figsize=(18,10))\n",
    "sns.boxplot(data = base2['SkinThickness'])"
   ]
  },
  {
   "cell_type": "markdown",
   "metadata": {
    "hidden": true
   },
   "source": [
    " "
   ]
  },
  {
   "cell_type": "markdown",
   "metadata": {
    "heading_collapsed": true,
    "hidden": true
   },
   "source": [
    "## 2.5 - Tratamento de Outliers"
   ]
  },
  {
   "cell_type": "markdown",
   "metadata": {
    "hidden": true
   },
   "source": [
    " "
   ]
  },
  {
   "cell_type": "markdown",
   "metadata": {
    "hidden": true
   },
   "source": [
    "#### Substituindo os outliers, pela média dos dados."
   ]
  },
  {
   "cell_type": "markdown",
   "metadata": {
    "hidden": true
   },
   "source": [
    "Apenas para exemplo."
   ]
  },
  {
   "cell_type": "code",
   "execution_count": null,
   "metadata": {
    "ExecuteTime": {
     "end_time": "2020-05-21T06:58:16.713717Z",
     "start_time": "2020-05-21T06:58:16.709728Z"
    },
    "hidden": true
   },
   "outputs": [],
   "source": [
    "base2_2 = base2.copy()"
   ]
  },
  {
   "cell_type": "code",
   "execution_count": null,
   "metadata": {
    "ExecuteTime": {
     "end_time": "2020-05-21T06:58:17.302932Z",
     "start_time": "2020-05-21T06:58:17.272013Z"
    },
    "hidden": true
   },
   "outputs": [],
   "source": [
    "d = base2_2.describe()\n",
    "q1 = d.iloc[4,3] #primeiro quartil - \" SkinThickness \"\n",
    "q3 = d.iloc[6,3] #terceiro quartil - \" SkinThickness \"\n",
    "iqr = q3 - q1    #Intervalo Interquartil\n",
    "minimo = q1 - (1.5 * iqr)\n",
    "maximo = q3 + (1.5 * iqr)"
   ]
  },
  {
   "cell_type": "code",
   "execution_count": null,
   "metadata": {
    "ExecuteTime": {
     "end_time": "2020-05-21T06:58:17.837544Z",
     "start_time": "2020-05-21T06:58:17.831558Z"
    },
    "hidden": true
   },
   "outputs": [],
   "source": [
    "media = base2_2['SkinThickness'] .mean()\n",
    "media"
   ]
  },
  {
   "cell_type": "code",
   "execution_count": null,
   "metadata": {
    "ExecuteTime": {
     "end_time": "2020-05-21T06:58:21.470054Z",
     "start_time": "2020-05-21T06:58:21.457089Z"
    },
    "hidden": true,
    "scrolled": true
   },
   "outputs": [],
   "source": [
    "for x,i in zip(base2_2['SkinThickness'], range(base2_2.shape[0])):\n",
    "    if (x < minimo) | (x > maximo):\n",
    "        base2_2.loc[i,'SkinThickness'] = media"
   ]
  },
  {
   "cell_type": "code",
   "execution_count": null,
   "metadata": {
    "ExecuteTime": {
     "end_time": "2020-05-21T06:58:22.365451Z",
     "start_time": "2020-05-21T06:58:22.358471Z"
    },
    "hidden": true
   },
   "outputs": [],
   "source": [
    "base2_2.loc[0,'SkinThickness']"
   ]
  },
  {
   "cell_type": "code",
   "execution_count": null,
   "metadata": {
    "ExecuteTime": {
     "end_time": "2020-05-21T06:58:24.534748Z",
     "start_time": "2020-05-21T06:58:24.520746Z"
    },
    "hidden": true
   },
   "outputs": [],
   "source": [
    "base2_2.head()"
   ]
  },
  {
   "cell_type": "code",
   "execution_count": null,
   "metadata": {
    "ExecuteTime": {
     "end_time": "2020-05-21T06:58:30.277800Z",
     "start_time": "2020-05-21T06:58:30.270822Z"
    },
    "hidden": true
   },
   "outputs": [],
   "source": [
    "base2_2['SkinThickness'].max()"
   ]
  },
  {
   "cell_type": "markdown",
   "metadata": {
    "hidden": true
   },
   "source": [
    "#### Apagando os outliers"
   ]
  },
  {
   "cell_type": "code",
   "execution_count": null,
   "metadata": {
    "ExecuteTime": {
     "end_time": "2020-05-21T05:40:15.095654Z",
     "start_time": "2020-05-21T05:40:15.090668Z"
    },
    "hidden": true
   },
   "outputs": [],
   "source": [
    "base2_3 = base2.copy()"
   ]
  },
  {
   "cell_type": "code",
   "execution_count": null,
   "metadata": {
    "ExecuteTime": {
     "end_time": "2020-05-21T05:40:16.088016Z",
     "start_time": "2020-05-21T05:40:16.053110Z"
    },
    "hidden": true
   },
   "outputs": [],
   "source": [
    "d = base2_3.describe()\n",
    "q1 = d.iloc[4,3] #primeiro quartil - \" SkinThickness \"\n",
    "q3 = d.iloc[6,3] #terceiro quartil - \" SkinThickness \"\n",
    "iqr = q3 - q1    #Intervalo Interquartil\n",
    "minimo = q1 - (1.5 * iqr)\n",
    "maximo = q3 + (1.5 * iqr)"
   ]
  },
  {
   "cell_type": "code",
   "execution_count": null,
   "metadata": {
    "ExecuteTime": {
     "end_time": "2020-05-21T05:40:16.918701Z",
     "start_time": "2020-05-21T05:40:16.892773Z"
    },
    "hidden": true
   },
   "outputs": [],
   "source": [
    "outliers = base2_3[(base2_3['SkinThickness']>maximo)|(base2_3['SkinThickness']<minimo)]\n",
    "outliers"
   ]
  },
  {
   "cell_type": "code",
   "execution_count": null,
   "metadata": {
    "ExecuteTime": {
     "end_time": "2020-05-21T05:41:02.126492Z",
     "start_time": "2020-05-21T05:41:02.120509Z"
    },
    "hidden": true
   },
   "outputs": [],
   "source": [
    "outliers.index"
   ]
  },
  {
   "cell_type": "code",
   "execution_count": null,
   "metadata": {
    "ExecuteTime": {
     "end_time": "2020-05-21T05:42:09.000823Z",
     "start_time": "2020-05-21T05:42:08.995836Z"
    },
    "hidden": true
   },
   "outputs": [],
   "source": [
    "base2_3 = base2_3.drop(outliers.index)"
   ]
  },
  {
   "cell_type": "code",
   "execution_count": null,
   "metadata": {
    "ExecuteTime": {
     "end_time": "2020-05-21T05:42:10.360950Z",
     "start_time": "2020-05-21T05:42:10.356959Z"
    },
    "hidden": true
   },
   "outputs": [],
   "source": [
    "base2_3.shape"
   ]
  },
  {
   "cell_type": "markdown",
   "metadata": {
    "hidden": true
   },
   "source": [
    "#### <font color='grey'>Substituindo os outliers usando transformação logarítmica. /font>"
   ]
  },
  {
   "cell_type": "code",
   "execution_count": null,
   "metadata": {
    "hidden": true
   },
   "outputs": [],
   "source": []
  },
  {
   "cell_type": "markdown",
   "metadata": {
    "hidden": true
   },
   "source": [
    " "
   ]
  },
  {
   "cell_type": "markdown",
   "metadata": {
    "heading_collapsed": true,
    "hidden": true
   },
   "source": [
    "## 2.6 - Apagar Colunas"
   ]
  },
  {
   "cell_type": "markdown",
   "metadata": {
    "hidden": true
   },
   "source": [
    " "
   ]
  },
  {
   "cell_type": "code",
   "execution_count": null,
   "metadata": {
    "ExecuteTime": {
     "end_time": "2020-05-21T06:14:42.107029Z",
     "start_time": "2020-05-21T06:14:42.101045Z"
    },
    "hidden": true
   },
   "outputs": [],
   "source": [
    "# Lista todas as colunas\n",
    "list(base2)"
   ]
  },
  {
   "cell_type": "code",
   "execution_count": null,
   "metadata": {
    "hidden": true
   },
   "outputs": [],
   "source": [
    "nome_coluna = base.NomeDaColuna  #salvar essa coluna caso seja necessário\n",
    "base = base.drop('NomeDaColuna', axis = 1)     #AXIS = 1 APAGA A COLUNA"
   ]
  },
  {
   "cell_type": "markdown",
   "metadata": {
    "heading_collapsed": true
   },
   "source": [
    "# <font color='grey'>3.0  - EXPLORAÇÃO DOS DADOS</font>"
   ]
  },
  {
   "cell_type": "code",
   "execution_count": 12,
   "metadata": {
    "ExecuteTime": {
     "end_time": "2020-05-22T04:48:51.625073Z",
     "start_time": "2020-05-22T04:48:51.620091Z"
    },
    "hidden": true
   },
   "outputs": [],
   "source": [
    " base3 = base2.copy()"
   ]
  },
  {
   "cell_type": "markdown",
   "metadata": {
    "hidden": true
   },
   "source": [
    "## 3.1 - Visualização de Estatísticas Básicas"
   ]
  },
  {
   "cell_type": "markdown",
   "metadata": {
    "hidden": true
   },
   "source": [
    " "
   ]
  },
  {
   "cell_type": "code",
   "execution_count": null,
   "metadata": {
    "ExecuteTime": {
     "end_time": "2020-05-21T07:39:26.538275Z",
     "start_time": "2020-05-21T07:39:26.498324Z"
    },
    "hidden": true
   },
   "outputs": [],
   "source": [
    "base3.describe()"
   ]
  },
  {
   "cell_type": "markdown",
   "metadata": {
    "hidden": true
   },
   "source": [
    " "
   ]
  },
  {
   "cell_type": "markdown",
   "metadata": {
    "hidden": true
   },
   "source": [
    "## 3.2 - Listar Nomes das Colunas (Atributos)"
   ]
  },
  {
   "cell_type": "markdown",
   "metadata": {
    "hidden": true
   },
   "source": [
    " "
   ]
  },
  {
   "cell_type": "code",
   "execution_count": null,
   "metadata": {
    "ExecuteTime": {
     "end_time": "2020-05-21T07:39:32.311911Z",
     "start_time": "2020-05-21T07:39:32.304964Z"
    },
    "hidden": true
   },
   "outputs": [],
   "source": [
    "# Lista todas as colunas\n",
    "list(base3)"
   ]
  },
  {
   "cell_type": "markdown",
   "metadata": {
    "hidden": true
   },
   "source": [
    "'Pregnancies', Number of times pregnant\n",
    "\n",
    " 'Glucose', Plasma glucose concentration a 2 hours in an oral glucose tolerance test\n",
    "\n",
    " 'Blood Pressure',Diastolic blood pressure (mm Hg)\n",
    "\n",
    " 'Skin Thickness', Triceps skin fold thickness (mm)\n",
    "\n",
    " 'Insulin', 2-Hour serum insulin (mu U/ml)\n",
    "\n",
    " 'BMI',  Body mass index (weight in kg/(height in m)^2)\n",
    "\n",
    " 'Diabetes Pedigree Function', Diabetes pedigree function\n",
    "\n",
    " 'Age', Age (years)\n",
    "\n",
    " 'Outcome' Class variable (0 or 1) 268 of 768 are 1, the others are 0"
   ]
  },
  {
   "cell_type": "markdown",
   "metadata": {
    "hidden": true
   },
   "source": [
    "## 3.3 - Verificar Distribuição da Classe"
   ]
  },
  {
   "cell_type": "code",
   "execution_count": null,
   "metadata": {
    "ExecuteTime": {
     "end_time": "2020-05-21T07:39:32.731728Z",
     "start_time": "2020-05-21T07:39:32.722749Z"
    },
    "hidden": true
   },
   "outputs": [],
   "source": [
    "# Verificando como os dados estão distribuídos\n",
    "num_true = len(base1.loc[base1['Outcome'] == True])\n",
    "num_false = len(base1.loc[base1['Outcome'] == False])\n",
    "print(\"Número de Casos Verdadeiros: {0} ({1:2.2f}%)\".format(num_true, (num_true/ (num_true + num_false)) * 100))\n",
    "print(\"Número de Casos Falsos     : {0} ({1:2.2f}%)\".format(num_false, (num_false/ (num_true + num_false)) * 100))"
   ]
  },
  {
   "cell_type": "markdown",
   "metadata": {
    "hidden": true
   },
   "source": [
    "## 3.4 - Correlação"
   ]
  },
  {
   "cell_type": "markdown",
   "metadata": {
    "hidden": true
   },
   "source": [
    " "
   ]
  },
  {
   "cell_type": "code",
   "execution_count": null,
   "metadata": {
    "ExecuteTime": {
     "end_time": "2020-05-21T07:39:34.371341Z",
     "start_time": "2020-05-21T07:39:34.364363Z"
    },
    "hidden": true
   },
   "outputs": [],
   "source": [
    "# Identificando a correlação entre as variáveis\n",
    "# Correlação não implica causalidade\n",
    "def plot_corr(base3, size=12):\n",
    "    corr = base3.corr()    \n",
    "    fig, ax = plt.subplots(figsize = (size, size))\n",
    "    ax.matshow(corr)  \n",
    "    plt.xticks(range(len(corr.columns)), corr.columns) \n",
    "    plt.yticks(range(len(corr.columns)), corr.columns)  "
   ]
  },
  {
   "cell_type": "code",
   "execution_count": null,
   "metadata": {
    "ExecuteTime": {
     "end_time": "2020-05-21T07:39:50.254822Z",
     "start_time": "2020-05-21T07:39:49.947643Z"
    },
    "hidden": true
   },
   "outputs": [],
   "source": [
    "# Criando o gráfico\n",
    "plot_corr(base3)"
   ]
  },
  {
   "cell_type": "code",
   "execution_count": null,
   "metadata": {
    "ExecuteTime": {
     "end_time": "2020-05-21T07:39:53.349202Z",
     "start_time": "2020-05-21T07:39:53.329255Z"
    },
    "hidden": true
   },
   "outputs": [],
   "source": [
    "# Visualizando a correlação em tabela\n",
    "# Coeficiente de correlação: \n",
    "# +1  = forte correlação positiva\n",
    "# 0   = não há correlação\n",
    "# -1  = forte correlação negativa\n",
    "base3.corr()"
   ]
  },
  {
   "cell_type": "markdown",
   "metadata": {
    "hidden": true
   },
   "source": [
    " "
   ]
  },
  {
   "cell_type": "markdown",
   "metadata": {
    "hidden": true
   },
   "source": [
    "## 3.5 - Verificar/ Visualizar a  Distribuição/Relação entre os Atributos"
   ]
  },
  {
   "cell_type": "markdown",
   "metadata": {
    "hidden": true
   },
   "source": [
    "### 3.5.1 - Histogramas"
   ]
  },
  {
   "cell_type": "code",
   "execution_count": null,
   "metadata": {
    "ExecuteTime": {
     "end_time": "2020-05-21T07:39:58.899778Z",
     "start_time": "2020-05-21T07:39:57.534389Z"
    },
    "hidden": true
   },
   "outputs": [],
   "source": [
    "base3.hist(bins=10, figsize=(20,15))\n",
    "plt.show()"
   ]
  },
  {
   "cell_type": "code",
   "execution_count": null,
   "metadata": {
    "ExecuteTime": {
     "end_time": "2020-05-21T07:40:09.378051Z",
     "start_time": "2020-05-21T07:40:07.487109Z"
    },
    "hidden": true
   },
   "outputs": [],
   "source": [
    "#Densidade\n",
    "plt.figure(1,figsize=(18,10))\n",
    "plt.subplot(3,3,1)#linhas, colunas, nºdo grafico\n",
    "sns.distplot(base3.iloc[:,0], hist = True, kde = True, bins = 20, color = 'blue',hist_kws={'edgecolor': 'black'})\n",
    "\n",
    "plt.subplot(3,3,2)\n",
    "sns.distplot(base3.iloc[:,1], hist = True, kde = True, bins = 20, color = 'blue',hist_kws={'edgecolor': 'black'})\n",
    "\n",
    "plt.subplot(3,3,3)\n",
    "sns.distplot(base3.iloc[:,2], hist = True, kde = True, bins = 20, color = 'blue',hist_kws={'edgecolor': 'black'})\n",
    "\n",
    "plt.subplot(3,3,4)\n",
    "sns.distplot(base3.iloc[:,3], hist = True, kde = True, bins = 20, color = 'blue',hist_kws={'edgecolor': 'black'})\n",
    "\n",
    "plt.subplot(3,3,5)\n",
    "sns.distplot(base3.iloc[:,4], hist = True, kde = True, bins = 20, color = 'blue',hist_kws={'edgecolor': 'black'})\n",
    "\n",
    "plt.subplot(3,3,6)\n",
    "sns.distplot(base3.iloc[:,5], hist = True, kde = True, bins = 20, color = 'blue',hist_kws={'edgecolor': 'black'})\n",
    "\n",
    "plt.subplot(3,3,7)\n",
    "sns.distplot(base3.iloc[:,6], hist = True, kde = True, bins = 20, color = 'blue',hist_kws={'edgecolor': 'black'})\n",
    "\n",
    "plt.subplot(3,3,8)\n",
    "sns.distplot(base3.iloc[:,7], hist = True, kde = True, bins = 20, color = 'blue',hist_kws={'edgecolor': 'black'})\n",
    "\n",
    "plt.subplot(3,3,9)\n",
    "sns.distplot(base3.iloc[:,8], hist = True, kde = True, bins = 20, color = 'blue',hist_kws={'edgecolor': 'black'})\n",
    "\n",
    "plt.tight_layout()\n"
   ]
  },
  {
   "cell_type": "markdown",
   "metadata": {
    "hidden": true
   },
   "source": [
    "### 3.5.2 - Idade x Número de gravidez"
   ]
  },
  {
   "cell_type": "code",
   "execution_count": null,
   "metadata": {
    "ExecuteTime": {
     "end_time": "2020-05-21T08:00:30.475132Z",
     "start_time": "2020-05-21T08:00:30.208663Z"
    },
    "hidden": true
   },
   "outputs": [],
   "source": [
    "#Qual a relação entre idade e número que as mulhres engravidam?\n",
    "# A idade das mulheres afeta a quantidade de vezes que engravidam.\n",
    "\n",
    "plt.figure(1,figsize=(18,10))\n",
    "\n",
    "x = base3.Age\n",
    "y = base3.Pregnancies\n",
    "\n",
    "#Computando os valores e gerando o gráfico\n",
    "m, b = np.polyfit(x, y, 1)\n",
    "plt.plot(x, y, '.')\n",
    "plt.plot(x, m*x + b, '-', color = \"red\")\n",
    "plt.xlabel(\"Idade\")\n",
    "plt.ylabel(\"Número de gravidez\")\n",
    "plt.title(\"Idade x Número de gravidez\")\n",
    "plt.show()\n",
    "\n"
   ]
  },
  {
   "cell_type": "markdown",
   "metadata": {
    "hidden": true
   },
   "source": [
    "### 3.5.3 - Idade x Pressão Arterial"
   ]
  },
  {
   "cell_type": "code",
   "execution_count": null,
   "metadata": {
    "ExecuteTime": {
     "end_time": "2020-05-21T08:00:34.564517Z",
     "start_time": "2020-05-21T08:00:34.292244Z"
    },
    "hidden": true
   },
   "outputs": [],
   "source": [
    "#Qual a relação entre idade e a pressão arterial?\n",
    "# A idade das mulheres afeta a pressão.\n",
    "\n",
    "plt.figure(1,figsize=(18,10))\n",
    "\n",
    "x = base3.Age\n",
    "y = base3.BloodPressure\n",
    "\n",
    "#Computando os valores e gerando o gráfico\n",
    "m, b = np.polyfit(x, y, 1)\n",
    "plt.plot(x, y, '.')\n",
    "plt.plot(x, m*x + b, '-', color = \"red\")\n",
    "plt.xlabel(\"Idade\")\n",
    "plt.ylabel(\"Pressão Arterial\")\n",
    "plt.title(\"Idade x Pressão Arterial\")\n",
    "plt.show()\n"
   ]
  },
  {
   "cell_type": "markdown",
   "metadata": {
    "hidden": true
   },
   "source": [
    "### 3.5.4 - Insulina x Glicose"
   ]
  },
  {
   "cell_type": "code",
   "execution_count": null,
   "metadata": {
    "ExecuteTime": {
     "end_time": "2020-05-21T08:00:45.064353Z",
     "start_time": "2020-05-21T08:00:44.801057Z"
    },
    "hidden": true
   },
   "outputs": [],
   "source": [
    "#Qual a relação entre insulina e a pressão arterial?\n",
    "# A insulna das mulheres afeta a glicose.\n",
    "\n",
    "plt.figure(1,figsize=(18,10))\n",
    "\n",
    "x = base3.Insulin\n",
    "y = base3.Glucose\n",
    "\n",
    "#Computando os valores e gerando o gráfico\n",
    "m, b = np.polyfit(x, y, 1)\n",
    "plt.plot(x, y, '.')\n",
    "plt.plot(x, m*x + b, '-', color = \"red\")\n",
    "plt.xlabel(\"Glicose\")\n",
    "plt.ylabel(\"Insulina\")\n",
    "plt.title(\"Insulina x Glicose\")\n",
    "plt.show()"
   ]
  },
  {
   "cell_type": "markdown",
   "metadata": {
    "hidden": true
   },
   "source": [
    "### 3.5.5- IMC x Espessura da pele\n"
   ]
  },
  {
   "cell_type": "code",
   "execution_count": null,
   "metadata": {
    "ExecuteTime": {
     "end_time": "2020-05-21T08:13:00.507934Z",
     "start_time": "2020-05-21T08:13:00.229869Z"
    },
    "hidden": true
   },
   "outputs": [],
   "source": [
    "#Qual a relação entre o IMC e a Espessura da pele?\n",
    "# A Espessura da pele das mulheres afeta o IMC.\n",
    "\n",
    "plt.figure(1,figsize=(18,10))\n",
    "\n",
    "x = base3.BMI\n",
    "y = base3.SkinThickness\n",
    "\n",
    "#Computando os valores e gerando o gráfico\n",
    "m, b = np.polyfit(x, y, 1)\n",
    "plt.plot(x, m*x + b, '-', color = \"red\")\n",
    "plt.scatter(x, y, color = 'blue', facecolors = 'none', marker = '*')\n",
    "\n",
    "plt.xlabel('IMC')\n",
    "plt.ylabel('Espessura da pele')\n",
    "plt.title('IMC x Espessura da pele')\n",
    "plt.show()"
   ]
  },
  {
   "cell_type": "markdown",
   "metadata": {
    "heading_collapsed": true
   },
   "source": [
    "# <font color='grey'>4.0 - MODELAGEM DOS DADOS</font>"
   ]
  },
  {
   "cell_type": "markdown",
   "metadata": {
    "hidden": true
   },
   "source": [
    " "
   ]
  },
  {
   "cell_type": "code",
   "execution_count": 138,
   "metadata": {
    "ExecuteTime": {
     "end_time": "2020-05-22T05:41:36.371164Z",
     "start_time": "2020-05-22T05:41:36.366179Z"
    },
    "hidden": true
   },
   "outputs": [],
   "source": [
    "base4 = base3.copy()"
   ]
  },
  {
   "cell_type": "code",
   "execution_count": null,
   "metadata": {
    "ExecuteTime": {
     "end_time": "2020-05-21T23:51:07.032948Z",
     "start_time": "2020-05-21T23:51:07.017991Z"
    },
    "hidden": true
   },
   "outputs": [],
   "source": [
    "base4.head()"
   ]
  },
  {
   "cell_type": "markdown",
   "metadata": {
    "hidden": true
   },
   "source": [
    "## 4.1 - Verificar Distribuição da Classe"
   ]
  },
  {
   "cell_type": "markdown",
   "metadata": {
    "hidden": true
   },
   "source": [
    "O ideal seria valores iguais para cada classe."
   ]
  },
  {
   "cell_type": "code",
   "execution_count": 14,
   "metadata": {
    "ExecuteTime": {
     "end_time": "2020-05-22T04:49:34.724064Z",
     "start_time": "2020-05-22T04:49:34.715088Z"
    },
    "hidden": true
   },
   "outputs": [
    {
     "data": {
      "text/plain": [
       "0    500\n",
       "1    268\n",
       "Name: Outcome, dtype: int64"
      ]
     },
     "execution_count": 14,
     "metadata": {},
     "output_type": "execute_result"
    }
   ],
   "source": [
    "base4['Outcome'].value_counts() #contagem do atributo classe## 3.3 - Virificar Distribuição da Classe"
   ]
  },
  {
   "cell_type": "markdown",
   "metadata": {
    "hidden": true
   },
   "source": [
    "Como possui pucos dados vamos primeiramente deixar essa mesma distribuição.\n",
    "\n",
    "Caso os resultados não forem bons uma possibilidade igualar a quantidade de itens da claase=0 e da classe=1"
   ]
  },
  {
   "cell_type": "markdown",
   "metadata": {
    "hidden": true
   },
   "source": [
    "### 4.1.1 - Selecionando dados das Classes\n",
    "Evitar o acontecimento de classes raras."
   ]
  },
  {
   "cell_type": "code",
   "execution_count": 15,
   "metadata": {
    "ExecuteTime": {
     "end_time": "2020-05-22T04:49:43.207133Z",
     "start_time": "2020-05-22T04:49:43.200152Z"
    },
    "hidden": true
   },
   "outputs": [],
   "source": [
    "q = 268  #Quantdade de itens por classes\n",
    "\n",
    "amostra0 = base4.loc[base4.Outcome == 0] #pega todos os itens com a classe igual a zero\n",
    "amostra1 = base4.loc[base4.Outcome == 1] #pega todos os itens com a classe igual a um"
   ]
  },
  {
   "cell_type": "code",
   "execution_count": 16,
   "metadata": {
    "ExecuteTime": {
     "end_time": "2020-05-22T04:49:43.787646Z",
     "start_time": "2020-05-22T04:49:43.780670Z"
    },
    "hidden": true
   },
   "outputs": [],
   "source": [
    "amostra0 = amostra0.sample(q) #pega uma amostra dos itens com a classe igual a zero, com a quantidade especificada.\n",
    "amostra1 = amostra1.sample(q) #pega uma amostra dos itens com a classe igual a um, com a quantidade especificada."
   ]
  },
  {
   "cell_type": "code",
   "execution_count": 17,
   "metadata": {
    "ExecuteTime": {
     "end_time": "2020-05-22T04:49:44.269414Z",
     "start_time": "2020-05-22T04:49:44.263430Z"
    },
    "hidden": true
   },
   "outputs": [],
   "source": [
    "base41 = pd.concat([amostra0,amostra1]) #concatenar a base de dados classes=0 e classes=1"
   ]
  },
  {
   "cell_type": "code",
   "execution_count": 18,
   "metadata": {
    "ExecuteTime": {
     "end_time": "2020-05-22T04:49:44.899712Z",
     "start_time": "2020-05-22T04:49:44.842241Z"
    },
    "hidden": true
   },
   "outputs": [],
   "source": [
    "base41 = base41.sort_index() #ordenar a base pelo index novamente, para que os valores sequenciados não gerem algum vício."
   ]
  },
  {
   "cell_type": "code",
   "execution_count": 19,
   "metadata": {
    "ExecuteTime": {
     "end_time": "2020-05-22T04:49:45.395628Z",
     "start_time": "2020-05-22T04:49:45.381667Z"
    },
    "hidden": true
   },
   "outputs": [
    {
     "data": {
      "text/html": [
       "<div>\n",
       "<style scoped>\n",
       "    .dataframe tbody tr th:only-of-type {\n",
       "        vertical-align: middle;\n",
       "    }\n",
       "\n",
       "    .dataframe tbody tr th {\n",
       "        vertical-align: top;\n",
       "    }\n",
       "\n",
       "    .dataframe thead th {\n",
       "        text-align: right;\n",
       "    }\n",
       "</style>\n",
       "<table border=\"1\" class=\"dataframe\">\n",
       "  <thead>\n",
       "    <tr style=\"text-align: right;\">\n",
       "      <th></th>\n",
       "      <th>Pregnancies</th>\n",
       "      <th>Glucose</th>\n",
       "      <th>BloodPressure</th>\n",
       "      <th>SkinThickness</th>\n",
       "      <th>Insulin</th>\n",
       "      <th>BMI</th>\n",
       "      <th>DiabetesPedigreeFunction</th>\n",
       "      <th>Age</th>\n",
       "      <th>Outcome</th>\n",
       "    </tr>\n",
       "  </thead>\n",
       "  <tbody>\n",
       "    <tr>\n",
       "      <td>0</td>\n",
       "      <td>6</td>\n",
       "      <td>148.0</td>\n",
       "      <td>72.0</td>\n",
       "      <td>35.000000</td>\n",
       "      <td>79.799479</td>\n",
       "      <td>33.6</td>\n",
       "      <td>0.627</td>\n",
       "      <td>50</td>\n",
       "      <td>1</td>\n",
       "    </tr>\n",
       "    <tr>\n",
       "      <td>2</td>\n",
       "      <td>8</td>\n",
       "      <td>183.0</td>\n",
       "      <td>64.0</td>\n",
       "      <td>20.536458</td>\n",
       "      <td>79.799479</td>\n",
       "      <td>23.3</td>\n",
       "      <td>0.672</td>\n",
       "      <td>32</td>\n",
       "      <td>1</td>\n",
       "    </tr>\n",
       "    <tr>\n",
       "      <td>3</td>\n",
       "      <td>1</td>\n",
       "      <td>89.0</td>\n",
       "      <td>66.0</td>\n",
       "      <td>23.000000</td>\n",
       "      <td>94.000000</td>\n",
       "      <td>28.1</td>\n",
       "      <td>0.167</td>\n",
       "      <td>21</td>\n",
       "      <td>0</td>\n",
       "    </tr>\n",
       "    <tr>\n",
       "      <td>4</td>\n",
       "      <td>0</td>\n",
       "      <td>137.0</td>\n",
       "      <td>40.0</td>\n",
       "      <td>35.000000</td>\n",
       "      <td>168.000000</td>\n",
       "      <td>43.1</td>\n",
       "      <td>2.288</td>\n",
       "      <td>33</td>\n",
       "      <td>1</td>\n",
       "    </tr>\n",
       "    <tr>\n",
       "      <td>5</td>\n",
       "      <td>5</td>\n",
       "      <td>116.0</td>\n",
       "      <td>74.0</td>\n",
       "      <td>20.536458</td>\n",
       "      <td>79.799479</td>\n",
       "      <td>25.6</td>\n",
       "      <td>0.201</td>\n",
       "      <td>30</td>\n",
       "      <td>0</td>\n",
       "    </tr>\n",
       "  </tbody>\n",
       "</table>\n",
       "</div>"
      ],
      "text/plain": [
       "   Pregnancies  Glucose  BloodPressure  SkinThickness     Insulin   BMI  \\\n",
       "0            6    148.0           72.0      35.000000   79.799479  33.6   \n",
       "2            8    183.0           64.0      20.536458   79.799479  23.3   \n",
       "3            1     89.0           66.0      23.000000   94.000000  28.1   \n",
       "4            0    137.0           40.0      35.000000  168.000000  43.1   \n",
       "5            5    116.0           74.0      20.536458   79.799479  25.6   \n",
       "\n",
       "   DiabetesPedigreeFunction  Age  Outcome  \n",
       "0                     0.627   50        1  \n",
       "2                     0.672   32        1  \n",
       "3                     0.167   21        0  \n",
       "4                     2.288   33        1  \n",
       "5                     0.201   30        0  "
      ]
     },
     "execution_count": 19,
     "metadata": {},
     "output_type": "execute_result"
    }
   ],
   "source": [
    "base41.head()"
   ]
  },
  {
   "cell_type": "code",
   "execution_count": 20,
   "metadata": {
    "ExecuteTime": {
     "end_time": "2020-05-22T04:49:45.909660Z",
     "start_time": "2020-05-22T04:49:45.903678Z"
    },
    "hidden": true
   },
   "outputs": [
    {
     "data": {
      "text/plain": [
       "(536, 9)"
      ]
     },
     "execution_count": 20,
     "metadata": {},
     "output_type": "execute_result"
    }
   ],
   "source": [
    "base41.shape"
   ]
  },
  {
   "cell_type": "code",
   "execution_count": 21,
   "metadata": {
    "ExecuteTime": {
     "end_time": "2020-05-22T04:49:49.314074Z",
     "start_time": "2020-05-22T04:49:49.305098Z"
    },
    "hidden": true
   },
   "outputs": [
    {
     "data": {
      "text/plain": [
       "1    268\n",
       "0    268\n",
       "Name: Outcome, dtype: int64"
      ]
     },
     "execution_count": 21,
     "metadata": {},
     "output_type": "execute_result"
    }
   ],
   "source": [
    "base41['Outcome'].value_counts() #contagem do atributo classe## 3.3 - Virificar Distribuição da Classe"
   ]
  },
  {
   "cell_type": "markdown",
   "metadata": {
    "heading_collapsed": true,
    "hidden": true
   },
   "source": [
    "## <font color='grey'>4.2 - Remover colunas desnecessárias. </font>"
   ]
  },
  {
   "cell_type": "code",
   "execution_count": null,
   "metadata": {
    "hidden": true
   },
   "outputs": [],
   "source": [
    "#Remover coluna da base de dados\n",
    "base = base.drop('NomeDaColuna', axis = 1) #axis =1 significa a coluna toda"
   ]
  },
  {
   "cell_type": "markdown",
   "metadata": {
    "hidden": true
   },
   "source": [
    "## 4.3 - Separar a Base de Dados em Atributos e Classes"
   ]
  },
  {
   "cell_type": "code",
   "execution_count": 185,
   "metadata": {
    "ExecuteTime": {
     "end_time": "2020-05-22T05:53:51.176098Z",
     "start_time": "2020-05-22T05:53:51.170113Z"
    },
    "hidden": true
   },
   "outputs": [],
   "source": [
    "#SEPARA EM ATRIBUTOS E CLASSES\n",
    "previsores = base4.iloc[:,0:8].values   #.values converte para valores numpy // colunas de 0 a 6\n",
    "classe = base4.iloc[:,8].values         #.values converte para valores numpy // coluna 8"
   ]
  },
  {
   "cell_type": "markdown",
   "metadata": {
    "heading_collapsed": true,
    "hidden": true
   },
   "source": [
    "## <font color='grey'> 4.4 - Transformar Atributos Categóricos para Numéricos </font>"
   ]
  },
  {
   "cell_type": "markdown",
   "metadata": {
    "hidden": true
   },
   "source": [
    "Exemplo."
   ]
  },
  {
   "cell_type": "code",
   "execution_count": null,
   "metadata": {
    "hidden": true
   },
   "outputs": [],
   "source": [
    "#transformar atributos categoricos para numericos\n",
    "\n",
    "labelEncoder = LabelEncoder() \n",
    "previsores[:,0] = labelEncoder.fit_transform(previsores[:,0])\n",
    "previsores[:,1] = labelEncoder.fit_transform(previsores[:,1])\n",
    "previsores[:,3] = labelEncoder.fit_transform(previsores[:,3])\n",
    "\n",
    "\n",
    "# 0 0 0 4\n",
    "# 2 0 1 0\n",
    "# 3 0 0 1"
   ]
  },
  {
   "cell_type": "code",
   "execution_count": null,
   "metadata": {
    "hidden": true
   },
   "outputs": [],
   "source": [
    "#Atributos  -- DUMMY\n",
    "\n",
    "onehotencoder = OneHotEncoder(categorical_features = [0,1,3,5,8,9,10])\n",
    "previsores = onehotencoder.fit_transform(previsores).toarray()\n",
    "\n",
    "#Gera varius outros atributos com essas caracteristicas\n",
    "#atr 1  1 0 0\n",
    "#atr 2  0 1 0\n",
    "#atr 3  0 0 1"
   ]
  },
  {
   "cell_type": "markdown",
   "metadata": {
    "heading_collapsed": true,
    "hidden": true
   },
   "source": [
    "## <font color='grey'> 4.5 - Transformar Classes Categóricas para Numéricos (Classe Binária) </font>"
   ]
  },
  {
   "cell_type": "markdown",
   "metadata": {
    "hidden": true
   },
   "source": [
    "Exemplo."
   ]
  },
  {
   "cell_type": "code",
   "execution_count": null,
   "metadata": {
    "hidden": true
   },
   "outputs": [],
   "source": [
    "# Definindo as classes BINARIAS ESTANDO CATEGORICA(NESSE CASO BOOL para numérico)\n",
    "\n",
    "diabetes_map = {True : 1, False : 0}\n",
    "\n",
    "# Aplicando o mapeamento ao dataset\n",
    "base['diabetes'] = base['diabetes'].map(diabetes_map)\n",
    "\n",
    "# Verificando as primeiras linhas do dataset\n",
    "df.head(5)"
   ]
  },
  {
   "cell_type": "markdown",
   "metadata": {
    "heading_collapsed": true,
    "hidden": true
   },
   "source": [
    "## <font color='grey'> 4.6 - Transformar Classes Categóricas para Numéricos(Multiplas Classes) </font>"
   ]
  },
  {
   "cell_type": "markdown",
   "metadata": {
    "hidden": true
   },
   "source": [
    "Exemplo."
   ]
  },
  {
   "cell_type": "code",
   "execution_count": null,
   "metadata": {
    "hidden": true
   },
   "outputs": [],
   "source": [
    "#CONVERTER  AS SAIDAS CATEGORICAS PARA NUMERICAS - KERAS\n",
    "labelencoder = LabelEncoder()\n",
    "classe = labelencoder.fit_transform(classe) #TANSFORMA EM NUMEROS 1 2 3\n",
    "classe_dummy = np_utils.to_categorical(classe) #TRANSFORMA EM BINARIOS \n",
    "# iris setosa     1 0 0\n",
    "# iris virginica  0 1 0\n",
    "# iris versicolor 0 0 1"
   ]
  },
  {
   "cell_type": "markdown",
   "metadata": {
    "hidden": true
   },
   "source": [
    "##  4.7 - Dividir Base de Dados em Treino e Teste"
   ]
  },
  {
   "cell_type": "code",
   "execution_count": 186,
   "metadata": {
    "ExecuteTime": {
     "end_time": "2020-05-22T05:53:52.994168Z",
     "start_time": "2020-05-22T05:53:52.989182Z"
    },
    "hidden": true
   },
   "outputs": [],
   "source": [
    "#DIVIDIR DADOS EM TREINAMENTO E TESTE\n",
    "#Realizar testes com uma divisão 80% treino e 20% teste (base de dados pequena)\n",
    "x_treino, x_teste, y_treino, y_teste = train_test_split(previsores, classe, test_size = 0.3, random_state = 0)\n",
    "\n",
    "#x sao as entradas\n",
    "#y sao as saidas"
   ]
  },
  {
   "cell_type": "markdown",
   "metadata": {
    "hidden": true
   },
   "source": [
    "##  4.8 - Normalizar Variáveis"
   ]
  },
  {
   "cell_type": "code",
   "execution_count": 187,
   "metadata": {
    "ExecuteTime": {
     "end_time": "2020-05-22T05:53:54.714039Z",
     "start_time": "2020-05-22T05:53:54.709053Z"
    },
    "hidden": true
   },
   "outputs": [],
   "source": [
    "#NORMALIZADOR DE VARIAVEIS\n",
    "normalizador = MinMaxScaler(feature_range=(0,1)) #NORMALIZAÇÃO DOS VALORES \n",
    "x_treino = normalizador.fit_transform(x_treino)\n",
    "\n",
    "#USADO PARA FAZER PREVISÃO\n",
    "#base_teste_normalizada = normalizador.transform(x_teste) #NAO USA O FIT_TRANSFORM POIS QUERO USAR A MESMA NORMALIZAÇÃO\n",
    "#USADO PARA VISUALIZAR OS DADOS SEM A NORMALIZAÇÃO\n",
    "#previsoes = normalizador.inverse_transform(previsoes) #REMOBVER A NORMALIZAÇÃO"
   ]
  },
  {
   "cell_type": "markdown",
   "metadata": {
    "ExecuteTime": {
     "end_time": "2020-05-22T04:51:42.591376Z",
     "start_time": "2020-05-22T04:51:42.587386Z"
    }
   },
   "source": [
    "# <font color='red'>5.0 - MODELO</font>"
   ]
  },
  {
   "cell_type": "code",
   "execution_count": 188,
   "metadata": {
    "ExecuteTime": {
     "end_time": "2020-05-22T05:53:56.993901Z",
     "start_time": "2020-05-22T05:53:56.989388Z"
    }
   },
   "outputs": [],
   "source": [
    "base5 = base4.copy()"
   ]
  },
  {
   "cell_type": "markdown",
   "metadata": {
    "heading_collapsed": true
   },
   "source": [
    "## 5.0 Reset de Variáveis\n",
    "Caso ocorra algo com as variaveis de teste e treino basta resetá-las aqui."
   ]
  },
  {
   "cell_type": "code",
   "execution_count": 212,
   "metadata": {
    "ExecuteTime": {
     "end_time": "2020-05-22T06:16:56.598513Z",
     "start_time": "2020-05-22T06:16:56.592528Z"
    },
    "hidden": true
   },
   "outputs": [],
   "source": [
    "x_treino1, y_treino1, y_teste1 = x_treino, y_treino, y_teste"
   ]
  },
  {
   "cell_type": "code",
   "execution_count": 213,
   "metadata": {
    "ExecuteTime": {
     "end_time": "2020-05-22T06:16:57.569845Z",
     "start_time": "2020-05-22T06:16:57.565856Z"
    },
    "hidden": true
   },
   "outputs": [],
   "source": [
    "x_treino2, y_treino2, y_teste2 = x_treino, y_treino, y_teste"
   ]
  },
  {
   "cell_type": "code",
   "execution_count": 214,
   "metadata": {
    "ExecuteTime": {
     "end_time": "2020-05-22T06:16:59.392524Z",
     "start_time": "2020-05-22T06:16:59.388534Z"
    },
    "hidden": true
   },
   "outputs": [],
   "source": [
    "x_treino3, y_treino3, y_teste3 = x_treino, y_treino, y_teste"
   ]
  },
  {
   "cell_type": "markdown",
   "metadata": {
    "heading_collapsed": true
   },
   "source": [
    "## 5.1 Modelo 1 - Regressão Logística"
   ]
  },
  {
   "cell_type": "code",
   "execution_count": 201,
   "metadata": {
    "ExecuteTime": {
     "end_time": "2020-05-22T05:57:35.180904Z",
     "start_time": "2020-05-22T05:57:35.172928Z"
    },
    "hidden": true
   },
   "outputs": [
    {
     "name": "stderr",
     "output_type": "stream",
     "text": [
      "C:\\Users\\marcu\\Anaconda3\\lib\\site-packages\\sklearn\\linear_model\\logistic.py:432: FutureWarning: Default solver will be changed to 'lbfgs' in 0.22. Specify a solver to silence this warning.\n",
      "  FutureWarning)\n"
     ]
    }
   ],
   "source": [
    "# Criando o modelo preditivo usando SCIKIT-LEARN\n",
    "modelo1 = LogisticRegression(C = 0.1, \n",
    "                             max_iter = 100000000,\n",
    "                             tol=0.000001)\n",
    "\n",
    "# Treinando o modelo\n",
    "modelo1.fit(x_treino1, y_treino1.ravel())"
   ]
  },
  {
   "cell_type": "markdown",
   "metadata": {
    "hidden": true
   },
   "source": [
    "### 5.1.1 - Previsão"
   ]
  },
  {
   "cell_type": "code",
   "execution_count": 262,
   "metadata": {
    "ExecuteTime": {
     "end_time": "2020-05-22T07:05:50.147192Z",
     "start_time": "2020-05-22T07:05:50.142166Z"
    },
    "hidden": true
   },
   "outputs": [],
   "source": [
    "# Verificando nos dados de teste\n",
    "x_teste1 = normalizador.transform(x_teste) #NAO USA O FIT_TRANSFORM POIS QUERO USAR A MESMA NORMALIZAÇÃO\n",
    "\n",
    "previsao1 = modelo1.predict(x_teste1)"
   ]
  },
  {
   "cell_type": "code",
   "execution_count": 192,
   "metadata": {
    "ExecuteTime": {
     "end_time": "2020-05-22T05:54:15.720673Z",
     "start_time": "2020-05-22T05:54:15.714691Z"
    },
    "hidden": true
   },
   "outputs": [
    {
     "data": {
      "text/plain": [
       "array([1, 0, 0, 1, 0, 0, 0, 1, 0, 0, 0, 1, 0, 0, 0, 0, 1, 0, 0, 0, 0, 0,\n",
       "       0, 0, 0, 0, 0, 1, 0, 0, 0, 0, 0, 0, 0, 1, 0, 0, 0, 0, 0, 0, 0, 1,\n",
       "       1, 0, 0, 0, 0, 0, 0, 0, 1, 0, 0, 0, 0, 0, 0, 0, 1, 0, 0, 0, 0, 1,\n",
       "       1, 0, 0, 0, 0, 0, 0, 1, 1, 0, 0, 0, 0, 0, 0, 0, 0, 0, 0, 0, 0, 0,\n",
       "       1, 0, 0, 0, 0, 0, 0, 0, 0, 0, 0, 0, 0, 0, 0, 0, 0, 0, 0, 0, 0, 1,\n",
       "       0, 0, 0, 0, 0, 0, 0, 1, 0, 0, 0, 0, 0, 0, 0, 0, 0, 0, 0, 0, 0, 0,\n",
       "       0, 1, 0, 0, 0, 0, 0, 0, 0, 0, 0, 0, 0, 0, 0, 0, 0, 0, 0, 0, 0, 0,\n",
       "       1, 0, 0, 0, 0, 1, 1, 1, 0, 0, 1, 0, 0, 0, 0, 0, 0, 0, 0, 0, 0, 0,\n",
       "       0, 0, 0, 0, 0, 1, 0, 1, 0, 0, 0, 0, 0, 0, 0, 0, 0, 0, 0, 1, 0, 0,\n",
       "       0, 0, 0, 0, 0, 0, 0, 0, 0, 0, 0, 0, 0, 0, 0, 0, 0, 0, 0, 0, 0, 0,\n",
       "       0, 0, 0, 0, 0, 0, 0, 0, 0, 0, 0], dtype=int64)"
      ]
     },
     "execution_count": 192,
     "metadata": {},
     "output_type": "execute_result"
    }
   ],
   "source": [
    "previsao1"
   ]
  },
  {
   "cell_type": "markdown",
   "metadata": {
    "ExecuteTime": {
     "end_time": "2020-05-22T06:04:40.021797Z",
     "start_time": "2020-05-22T06:04:40.016813Z"
    },
    "hidden": true
   },
   "source": [
    "### 5.1.2 - Métricas"
   ]
  },
  {
   "cell_type": "code",
   "execution_count": 205,
   "metadata": {
    "ExecuteTime": {
     "end_time": "2020-05-22T06:01:08.991591Z",
     "start_time": "2020-05-22T06:01:08.985064Z"
    },
    "hidden": true
   },
   "outputs": [
    {
     "name": "stdout",
     "output_type": "stream",
     "text": [
      "Taxa de Acerto (Accuracy): 76.190476%\n"
     ]
    }
   ],
   "source": [
    "print(\"Taxa de Acerto (Accuracy): {0:.6f}%\".format(accuracy_score(y_teste1, previsao1)*100))"
   ]
  },
  {
   "cell_type": "code",
   "execution_count": 208,
   "metadata": {
    "ExecuteTime": {
     "end_time": "2020-05-22T06:03:36.530105Z",
     "start_time": "2020-05-22T06:03:36.519098Z"
    },
    "hidden": true
   },
   "outputs": [
    {
     "name": "stdout",
     "output_type": "stream",
     "text": [
      "Classification Report\n",
      "              precision    recall  f1-score   support\n",
      "\n",
      "           1       0.85      0.31      0.46        74\n",
      "           0       0.75      0.97      0.85       157\n",
      "\n",
      "    accuracy                           0.76       231\n",
      "   macro avg       0.80      0.64      0.65       231\n",
      "weighted avg       0.78      0.76      0.72       231\n",
      "\n"
     ]
    }
   ],
   "source": [
    "print(\"Classification Report\")\n",
    "print(metrics.classification_report(y_teste1, previsao1, labels = [1, 0]));"
   ]
  },
  {
   "cell_type": "code",
   "execution_count": 196,
   "metadata": {
    "ExecuteTime": {
     "end_time": "2020-05-22T05:54:42.599329Z",
     "start_time": "2020-05-22T05:54:42.591349Z"
    },
    "hidden": true
   },
   "outputs": [
    {
     "name": "stdout",
     "output_type": "stream",
     "text": [
      "Confusion Matrix\n"
     ]
    },
    {
     "data": {
      "text/plain": [
       "array([[153,   4],\n",
       "       [ 51,  23]], dtype=int64)"
      ]
     },
     "execution_count": 196,
     "metadata": {},
     "output_type": "execute_result"
    }
   ],
   "source": [
    "# Criando uma Confusion Matrix\n",
    "print(\"Confusion Matrix\")\n",
    "confusao1 = confusion_matrix(y_teste1, previsao1)\n",
    "confusao1"
   ]
  },
  {
   "cell_type": "markdown",
   "metadata": {
    "ExecuteTime": {
     "end_time": "2020-05-22T06:06:09.793061Z",
     "start_time": "2020-05-22T06:06:09.789075Z"
    },
    "hidden": true
   },
   "source": [
    "### 5.1.3 - Avaliação"
   ]
  },
  {
   "cell_type": "markdown",
   "metadata": {
    "hidden": true
   },
   "source": [
    "Problemas para classificar a classe igual a Positiva(1). Provavelmente por ter muito menos resultados positivos"
   ]
  },
  {
   "cell_type": "markdown",
   "metadata": {
    "heading_collapsed": true
   },
   "source": [
    "## 5.2 Modelo 2 - Random Forest"
   ]
  },
  {
   "cell_type": "code",
   "execution_count": 217,
   "metadata": {
    "ExecuteTime": {
     "end_time": "2020-05-22T06:25:55.364419Z",
     "start_time": "2020-05-22T06:25:55.124493Z"
    },
    "hidden": true
   },
   "outputs": [
    {
     "name": "stderr",
     "output_type": "stream",
     "text": [
      "C:\\Users\\marcu\\Anaconda3\\lib\\site-packages\\sklearn\\ensemble\\forest.py:245: FutureWarning: The default value of n_estimators will change from 10 in version 0.20 to 100 in 0.22.\n",
      "  \"10 in version 0.20 to 100 in 0.22.\", FutureWarning)\n"
     ]
    },
    {
     "data": {
      "text/plain": [
       "RandomForestClassifier(bootstrap=True, class_weight=None, criterion='gini',\n",
       "                       max_depth=None, max_features='auto', max_leaf_nodes=None,\n",
       "                       min_impurity_decrease=0.0, min_impurity_split=None,\n",
       "                       min_samples_leaf=1, min_samples_split=2,\n",
       "                       min_weight_fraction_leaf=0.0, n_estimators=10,\n",
       "                       n_jobs=None, oob_score=False, random_state=42, verbose=0,\n",
       "                       warm_start=False)"
      ]
     },
     "execution_count": 217,
     "metadata": {},
     "output_type": "execute_result"
    }
   ],
   "source": [
    "# Criando o modelo preditivo usando SCIKIT-LEARN\n",
    "modelo2 = RandomForestClassifier(random_state = 42)\n",
    "\n",
    "# Treinando o modelo\n",
    "modelo2.fit(x_treino2, y_treino2.ravel())"
   ]
  },
  {
   "cell_type": "markdown",
   "metadata": {
    "hidden": true
   },
   "source": [
    "### 5.2.1 - Previsão"
   ]
  },
  {
   "cell_type": "code",
   "execution_count": 219,
   "metadata": {
    "ExecuteTime": {
     "end_time": "2020-05-22T06:26:39.327000Z",
     "start_time": "2020-05-22T06:26:39.319025Z"
    },
    "hidden": true
   },
   "outputs": [],
   "source": [
    "# Verificando nos dados de teste\n",
    "x_teste2 = normalizador.transform(x_teste) #NAO USA O FIT_TRANSFORM POIS QUERO USAR A MESMA NORMALIZAÇÃO\n",
    "\n",
    "previsao2 = modelo2.predict(x_teste2)"
   ]
  },
  {
   "cell_type": "code",
   "execution_count": 220,
   "metadata": {
    "ExecuteTime": {
     "end_time": "2020-05-22T06:26:55.325806Z",
     "start_time": "2020-05-22T06:26:55.319822Z"
    },
    "hidden": true,
    "scrolled": true
   },
   "outputs": [
    {
     "data": {
      "text/plain": [
       "array([1, 0, 0, 0, 0, 0, 1, 1, 0, 0, 1, 1, 0, 0, 0, 0, 1, 0, 0, 0, 0, 0,\n",
       "       0, 0, 0, 0, 0, 1, 0, 0, 0, 0, 0, 0, 0, 1, 1, 0, 0, 1, 0, 0, 0, 1,\n",
       "       0, 0, 0, 0, 0, 0, 0, 0, 1, 1, 0, 0, 0, 0, 0, 0, 1, 1, 0, 1, 1, 1,\n",
       "       1, 0, 1, 0, 0, 0, 0, 1, 1, 1, 0, 1, 0, 0, 0, 1, 0, 0, 0, 0, 0, 0,\n",
       "       1, 0, 0, 0, 0, 0, 1, 0, 1, 0, 0, 1, 0, 0, 0, 0, 1, 0, 0, 0, 0, 0,\n",
       "       0, 0, 1, 0, 1, 1, 0, 0, 0, 1, 0, 0, 0, 0, 0, 0, 0, 0, 1, 0, 0, 0,\n",
       "       0, 1, 1, 1, 0, 1, 0, 0, 0, 1, 0, 0, 1, 0, 0, 0, 0, 0, 0, 0, 0, 0,\n",
       "       1, 0, 1, 0, 0, 1, 0, 0, 0, 0, 1, 0, 0, 0, 0, 0, 0, 0, 0, 0, 0, 0,\n",
       "       0, 0, 0, 0, 0, 1, 0, 1, 0, 0, 1, 0, 0, 0, 0, 0, 0, 0, 0, 1, 1, 0,\n",
       "       0, 0, 0, 0, 0, 1, 1, 0, 0, 0, 0, 0, 0, 0, 0, 0, 0, 0, 0, 0, 1, 0,\n",
       "       0, 0, 1, 1, 1, 1, 1, 0, 0, 0, 1], dtype=int64)"
      ]
     },
     "execution_count": 220,
     "metadata": {},
     "output_type": "execute_result"
    }
   ],
   "source": [
    "previsao2"
   ]
  },
  {
   "cell_type": "markdown",
   "metadata": {
    "ExecuteTime": {
     "end_time": "2020-05-22T06:04:40.021797Z",
     "start_time": "2020-05-22T06:04:40.016813Z"
    },
    "hidden": true
   },
   "source": [
    "### 5.2.2 - Métricas"
   ]
  },
  {
   "cell_type": "code",
   "execution_count": 221,
   "metadata": {
    "ExecuteTime": {
     "end_time": "2020-05-22T06:27:38.321857Z",
     "start_time": "2020-05-22T06:27:38.315874Z"
    },
    "hidden": true
   },
   "outputs": [
    {
     "name": "stdout",
     "output_type": "stream",
     "text": [
      "Taxa de Acerto (Accuracy): 75.324675%\n"
     ]
    }
   ],
   "source": [
    "print(\"Taxa de Acerto (Accuracy): {0:.6f}%\".format(accuracy_score(y_teste2, previsao2)*100))"
   ]
  },
  {
   "cell_type": "code",
   "execution_count": 222,
   "metadata": {
    "ExecuteTime": {
     "end_time": "2020-05-22T06:27:50.230240Z",
     "start_time": "2020-05-22T06:27:50.219272Z"
    },
    "hidden": true
   },
   "outputs": [
    {
     "name": "stdout",
     "output_type": "stream",
     "text": [
      "Classification Report\n",
      "              precision    recall  f1-score   support\n",
      "\n",
      "           1       0.64      0.51      0.57        74\n",
      "           0       0.79      0.87      0.83       157\n",
      "\n",
      "    accuracy                           0.75       231\n",
      "   macro avg       0.72      0.69      0.70       231\n",
      "weighted avg       0.74      0.75      0.74       231\n",
      "\n"
     ]
    }
   ],
   "source": [
    "print(\"Classification Report\")\n",
    "print(metrics.classification_report(y_teste2, previsao2, labels = [1, 0]));"
   ]
  },
  {
   "cell_type": "code",
   "execution_count": 223,
   "metadata": {
    "ExecuteTime": {
     "end_time": "2020-05-22T06:28:22.054519Z",
     "start_time": "2020-05-22T06:28:22.045545Z"
    },
    "hidden": true
   },
   "outputs": [
    {
     "name": "stdout",
     "output_type": "stream",
     "text": [
      "Confusion Matrix\n"
     ]
    },
    {
     "data": {
      "text/plain": [
       "array([[136,  21],\n",
       "       [ 36,  38]], dtype=int64)"
      ]
     },
     "execution_count": 223,
     "metadata": {},
     "output_type": "execute_result"
    }
   ],
   "source": [
    "# Criando uma Confusion Matrix\n",
    "print(\"Confusion Matrix\")\n",
    "confusao2 = confusion_matrix(y_teste2, previsao2)\n",
    "confusao2"
   ]
  },
  {
   "cell_type": "markdown",
   "metadata": {
    "ExecuteTime": {
     "end_time": "2020-05-22T06:06:09.793061Z",
     "start_time": "2020-05-22T06:06:09.789075Z"
    },
    "hidden": true
   },
   "source": [
    "### 5.2.3 - Avaliação"
   ]
  },
  {
   "cell_type": "markdown",
   "metadata": {
    "hidden": true
   },
   "source": [
    "Problemas para classificar a classe igual a Positiva(1). Provavelmente por ter muito menos resultados positivos"
   ]
  },
  {
   "cell_type": "markdown",
   "metadata": {
    "heading_collapsed": true
   },
   "source": [
    "## 5.3 Modelo 3 - Rede Neural Artificial"
   ]
  },
  {
   "cell_type": "code",
   "execution_count": 226,
   "metadata": {
    "ExecuteTime": {
     "end_time": "2020-05-22T06:43:12.006245Z",
     "start_time": "2020-05-22T06:43:09.723679Z"
    },
    "hidden": true
   },
   "outputs": [],
   "source": [
    "# Criando o modelo preditivo usando KERAS\n",
    "modelo3 = Sequential()  #uma camada apos a outra\n",
    "\n",
    "modelo3.add(Dense(units = 5, activation = 'relu', input_dim = 8)) #5 camadas ocultas + 8 entrada\n",
    "modelo3.add(Dropout(0.2))\n",
    "\n",
    "modelo3.add(Dense(units = 5,  activation = 'relu'))# camada de oculta 2\n",
    "modelo3.add(Dropout(0.2))\n",
    "\n",
    "modelo3.add(Dense(units = 1, activation = 'sigmoid')) #camada de saida"
   ]
  },
  {
   "cell_type": "code",
   "execution_count": 227,
   "metadata": {
    "ExecuteTime": {
     "end_time": "2020-05-22T06:43:16.112924Z",
     "start_time": "2020-05-22T06:43:16.106944Z"
    },
    "hidden": true
   },
   "outputs": [
    {
     "name": "stdout",
     "output_type": "stream",
     "text": [
      "Model: \"sequential_2\"\n",
      "_________________________________________________________________\n",
      "Layer (type)                 Output Shape              Param #   \n",
      "=================================================================\n",
      "dense_2 (Dense)              (None, 5)                 45        \n",
      "_________________________________________________________________\n",
      "dropout_1 (Dropout)          (None, 5)                 0         \n",
      "_________________________________________________________________\n",
      "dense_3 (Dense)              (None, 5)                 30        \n",
      "_________________________________________________________________\n",
      "dropout_2 (Dropout)          (None, 5)                 0         \n",
      "_________________________________________________________________\n",
      "dense_4 (Dense)              (None, 1)                 6         \n",
      "=================================================================\n",
      "Total params: 81\n",
      "Trainable params: 81\n",
      "Non-trainable params: 0\n",
      "_________________________________________________________________\n"
     ]
    }
   ],
   "source": [
    "modelo3.summary()"
   ]
  },
  {
   "cell_type": "code",
   "execution_count": 229,
   "metadata": {
    "ExecuteTime": {
     "end_time": "2020-05-22T06:44:02.768630Z",
     "start_time": "2020-05-22T06:44:02.262362Z"
    },
    "hidden": true
   },
   "outputs": [],
   "source": [
    "#Classificação Binária\n",
    "modelo3.compile(optimizer = 'adam', \n",
    "                      loss = 'binary_crossentropy',\n",
    "                      metrics = ['binary_accuracy'])"
   ]
  },
  {
   "cell_type": "code",
   "execution_count": 230,
   "metadata": {
    "ExecuteTime": {
     "end_time": "2020-05-22T06:45:56.394497Z",
     "start_time": "2020-05-22T06:44:07.162835Z"
    },
    "hidden": true,
    "scrolled": true
   },
   "outputs": [
    {
     "name": "stdout",
     "output_type": "stream",
     "text": [
      "Train on 537 samples, validate on 231 samples\n",
      "Epoch 1/1000\n",
      "537/537 [==============================] - 5s 10ms/step - loss: 0.6910 - binary_accuracy: 0.6145 - val_loss: 0.6912 - val_binary_accuracy: 0.6667\n",
      "Epoch 2/1000\n",
      "537/537 [==============================] - 0s 189us/step - loss: 0.6857 - binary_accuracy: 0.6611 - val_loss: 0.6876 - val_binary_accuracy: 0.6710\n",
      "Epoch 3/1000\n",
      "537/537 [==============================] - 0s 191us/step - loss: 0.6827 - binary_accuracy: 0.6611 - val_loss: 0.6846 - val_binary_accuracy: 0.6710\n",
      "Epoch 4/1000\n",
      "537/537 [==============================] - 0s 225us/step - loss: 0.6826 - binary_accuracy: 0.6462 - val_loss: 0.6797 - val_binary_accuracy: 0.6840\n",
      "Epoch 5/1000\n",
      "537/537 [==============================] - 0s 223us/step - loss: 0.6784 - binary_accuracy: 0.6518 - val_loss: 0.6757 - val_binary_accuracy: 0.6883\n",
      "Epoch 6/1000\n",
      "537/537 [==============================] - 0s 215us/step - loss: 0.6768 - binary_accuracy: 0.6462 - val_loss: 0.6712 - val_binary_accuracy: 0.6840\n",
      "Epoch 7/1000\n",
      "537/537 [==============================] - 0s 195us/step - loss: 0.6725 - binary_accuracy: 0.6499 - val_loss: 0.6655 - val_binary_accuracy: 0.6840\n",
      "Epoch 8/1000\n",
      "537/537 [==============================] - 0s 201us/step - loss: 0.6663 - binary_accuracy: 0.6611 - val_loss: 0.6592 - val_binary_accuracy: 0.6840\n",
      "Epoch 9/1000\n",
      "537/537 [==============================] - 0s 219us/step - loss: 0.6598 - binary_accuracy: 0.6667 - val_loss: 0.6540 - val_binary_accuracy: 0.6883\n",
      "Epoch 10/1000\n",
      "537/537 [==============================] - 0s 232us/step - loss: 0.6541 - binary_accuracy: 0.6853 - val_loss: 0.6479 - val_binary_accuracy: 0.6883\n",
      "Epoch 11/1000\n",
      "537/537 [==============================] - 0s 210us/step - loss: 0.6535 - binary_accuracy: 0.6629 - val_loss: 0.6425 - val_binary_accuracy: 0.6883\n",
      "Epoch 12/1000\n",
      "537/537 [==============================] - 0s 191us/step - loss: 0.6446 - binary_accuracy: 0.6853 - val_loss: 0.6370 - val_binary_accuracy: 0.6883\n",
      "Epoch 13/1000\n",
      "537/537 [==============================] - 0s 223us/step - loss: 0.6480 - binary_accuracy: 0.6685 - val_loss: 0.6322 - val_binary_accuracy: 0.6840\n",
      "Epoch 14/1000\n",
      "537/537 [==============================] - 0s 214us/step - loss: 0.6389 - binary_accuracy: 0.6872 - val_loss: 0.6277 - val_binary_accuracy: 0.6926\n",
      "Epoch 15/1000\n",
      "537/537 [==============================] - 0s 215us/step - loss: 0.6360 - binary_accuracy: 0.6667 - val_loss: 0.6230 - val_binary_accuracy: 0.6970\n",
      "Epoch 16/1000\n",
      "537/537 [==============================] - 0s 193us/step - loss: 0.6392 - binary_accuracy: 0.6741 - val_loss: 0.6180 - val_binary_accuracy: 0.6926\n",
      "Epoch 17/1000\n",
      "537/537 [==============================] - 0s 191us/step - loss: 0.6289 - binary_accuracy: 0.6927 - val_loss: 0.6134 - val_binary_accuracy: 0.7056\n",
      "Epoch 18/1000\n",
      "537/537 [==============================] - 0s 197us/step - loss: 0.6199 - binary_accuracy: 0.6927 - val_loss: 0.6079 - val_binary_accuracy: 0.7100\n",
      "Epoch 19/1000\n",
      "537/537 [==============================] - 0s 167us/step - loss: 0.6213 - binary_accuracy: 0.6872 - val_loss: 0.6030 - val_binary_accuracy: 0.7056\n",
      "Epoch 20/1000\n",
      "537/537 [==============================] - 0s 175us/step - loss: 0.6113 - binary_accuracy: 0.7188 - val_loss: 0.5974 - val_binary_accuracy: 0.7056\n",
      "Epoch 21/1000\n",
      "537/537 [==============================] - 0s 197us/step - loss: 0.6228 - binary_accuracy: 0.6965 - val_loss: 0.5930 - val_binary_accuracy: 0.7100\n",
      "Epoch 22/1000\n",
      "537/537 [==============================] - 0s 208us/step - loss: 0.6127 - binary_accuracy: 0.7002 - val_loss: 0.5894 - val_binary_accuracy: 0.7100\n",
      "Epoch 23/1000\n",
      "537/537 [==============================] - 0s 201us/step - loss: 0.6074 - binary_accuracy: 0.7039 - val_loss: 0.5849 - val_binary_accuracy: 0.7013\n",
      "Epoch 24/1000\n",
      "537/537 [==============================] - 0s 210us/step - loss: 0.6016 - binary_accuracy: 0.7132 - val_loss: 0.5804 - val_binary_accuracy: 0.7100\n",
      "Epoch 25/1000\n",
      "537/537 [==============================] - 0s 195us/step - loss: 0.5947 - binary_accuracy: 0.7114 - val_loss: 0.5755 - val_binary_accuracy: 0.7186\n",
      "Epoch 26/1000\n",
      "537/537 [==============================] - 0s 180us/step - loss: 0.6030 - binary_accuracy: 0.7058 - val_loss: 0.5719 - val_binary_accuracy: 0.7143\n",
      "Epoch 27/1000\n",
      "537/537 [==============================] - 0s 173us/step - loss: 0.5910 - binary_accuracy: 0.7169 - val_loss: 0.5677 - val_binary_accuracy: 0.7359\n",
      "Epoch 28/1000\n",
      "537/537 [==============================] - 0s 176us/step - loss: 0.5891 - binary_accuracy: 0.7244 - val_loss: 0.5643 - val_binary_accuracy: 0.7359\n",
      "Epoch 29/1000\n",
      "537/537 [==============================] - 0s 195us/step - loss: 0.5900 - binary_accuracy: 0.7039 - val_loss: 0.5608 - val_binary_accuracy: 0.7359\n",
      "Epoch 30/1000\n",
      "537/537 [==============================] - 0s 176us/step - loss: 0.6042 - binary_accuracy: 0.6946 - val_loss: 0.5586 - val_binary_accuracy: 0.7359\n",
      "Epoch 31/1000\n",
      "537/537 [==============================] - 0s 201us/step - loss: 0.5764 - binary_accuracy: 0.7281 - val_loss: 0.5554 - val_binary_accuracy: 0.7403\n",
      "Epoch 32/1000\n",
      "537/537 [==============================] - 0s 204us/step - loss: 0.5826 - binary_accuracy: 0.7169 - val_loss: 0.5526 - val_binary_accuracy: 0.7359\n",
      "Epoch 33/1000\n",
      "537/537 [==============================] - 0s 210us/step - loss: 0.5672 - binary_accuracy: 0.7225 - val_loss: 0.5489 - val_binary_accuracy: 0.7403\n",
      "Epoch 34/1000\n",
      "537/537 [==============================] - 0s 199us/step - loss: 0.5851 - binary_accuracy: 0.7169 - val_loss: 0.5461 - val_binary_accuracy: 0.7403\n",
      "Epoch 35/1000\n",
      "537/537 [==============================] - 0s 195us/step - loss: 0.5652 - binary_accuracy: 0.7356 - val_loss: 0.5436 - val_binary_accuracy: 0.7403\n",
      "Epoch 36/1000\n",
      "537/537 [==============================] - 0s 195us/step - loss: 0.5707 - binary_accuracy: 0.7244 - val_loss: 0.5405 - val_binary_accuracy: 0.7403\n",
      "Epoch 37/1000\n",
      "537/537 [==============================] - 0s 169us/step - loss: 0.5695 - binary_accuracy: 0.7244 - val_loss: 0.5376 - val_binary_accuracy: 0.7662\n",
      "Epoch 38/1000\n",
      "537/537 [==============================] - 0s 169us/step - loss: 0.5656 - binary_accuracy: 0.7207 - val_loss: 0.5354 - val_binary_accuracy: 0.7576\n",
      "Epoch 39/1000\n",
      "537/537 [==============================] - 0s 175us/step - loss: 0.5652 - binary_accuracy: 0.7207 - val_loss: 0.5332 - val_binary_accuracy: 0.7706\n",
      "Epoch 40/1000\n",
      "537/537 [==============================] - 0s 176us/step - loss: 0.5650 - binary_accuracy: 0.7114 - val_loss: 0.5317 - val_binary_accuracy: 0.7619\n",
      "Epoch 41/1000\n",
      "537/537 [==============================] - 0s 186us/step - loss: 0.5779 - binary_accuracy: 0.7207 - val_loss: 0.5314 - val_binary_accuracy: 0.7446\n",
      "Epoch 42/1000\n",
      "537/537 [==============================] - 0s 171us/step - loss: 0.5745 - binary_accuracy: 0.7114 - val_loss: 0.5305 - val_binary_accuracy: 0.7489\n",
      "Epoch 43/1000\n",
      "537/537 [==============================] - 0s 202us/step - loss: 0.5492 - binary_accuracy: 0.7393 - val_loss: 0.5268 - val_binary_accuracy: 0.7706\n",
      "Epoch 44/1000\n",
      "537/537 [==============================] - 0s 171us/step - loss: 0.5520 - binary_accuracy: 0.7300 - val_loss: 0.5257 - val_binary_accuracy: 0.7706\n",
      "Epoch 45/1000\n",
      "537/537 [==============================] - 0s 178us/step - loss: 0.5688 - binary_accuracy: 0.7281 - val_loss: 0.5240 - val_binary_accuracy: 0.7662\n",
      "Epoch 46/1000\n",
      "537/537 [==============================] - 0s 180us/step - loss: 0.5847 - binary_accuracy: 0.7263 - val_loss: 0.5270 - val_binary_accuracy: 0.7576\n",
      "Epoch 47/1000\n",
      "537/537 [==============================] - 0s 180us/step - loss: 0.5574 - binary_accuracy: 0.7300 - val_loss: 0.5247 - val_binary_accuracy: 0.7662\n",
      "Epoch 48/1000\n",
      "537/537 [==============================] - 0s 186us/step - loss: 0.5582 - binary_accuracy: 0.7374 - val_loss: 0.5231 - val_binary_accuracy: 0.7662\n",
      "Epoch 49/1000\n",
      "537/537 [==============================] - 0s 182us/step - loss: 0.5432 - binary_accuracy: 0.7449 - val_loss: 0.5206 - val_binary_accuracy: 0.7662\n",
      "Epoch 50/1000\n",
      "537/537 [==============================] - 0s 178us/step - loss: 0.5523 - binary_accuracy: 0.7318 - val_loss: 0.5206 - val_binary_accuracy: 0.7662\n",
      "Epoch 51/1000\n",
      "537/537 [==============================] - 0s 184us/step - loss: 0.5758 - binary_accuracy: 0.7002 - val_loss: 0.5211 - val_binary_accuracy: 0.7662\n"
     ]
    },
    {
     "name": "stdout",
     "output_type": "stream",
     "text": [
      "Epoch 52/1000\n",
      "537/537 [==============================] - 0s 182us/step - loss: 0.5667 - binary_accuracy: 0.7225 - val_loss: 0.5198 - val_binary_accuracy: 0.7662\n",
      "Epoch 53/1000\n",
      "537/537 [==============================] - 0s 171us/step - loss: 0.5676 - binary_accuracy: 0.7281 - val_loss: 0.5195 - val_binary_accuracy: 0.7619\n",
      "Epoch 54/1000\n",
      "537/537 [==============================] - 0s 165us/step - loss: 0.5454 - binary_accuracy: 0.7486 - val_loss: 0.5197 - val_binary_accuracy: 0.7662\n",
      "Epoch 55/1000\n",
      "537/537 [==============================] - 0s 169us/step - loss: 0.5478 - binary_accuracy: 0.7244 - val_loss: 0.5156 - val_binary_accuracy: 0.7619\n",
      "Epoch 56/1000\n",
      "537/537 [==============================] - 0s 176us/step - loss: 0.5549 - binary_accuracy: 0.7169 - val_loss: 0.5153 - val_binary_accuracy: 0.7662\n",
      "Epoch 57/1000\n",
      "537/537 [==============================] - 0s 175us/step - loss: 0.5804 - binary_accuracy: 0.7188 - val_loss: 0.5162 - val_binary_accuracy: 0.7662\n",
      "Epoch 58/1000\n",
      "537/537 [==============================] - 0s 169us/step - loss: 0.5593 - binary_accuracy: 0.7169 - val_loss: 0.5158 - val_binary_accuracy: 0.7662\n",
      "Epoch 59/1000\n",
      "537/537 [==============================] - 0s 175us/step - loss: 0.5621 - binary_accuracy: 0.7244 - val_loss: 0.5165 - val_binary_accuracy: 0.7662\n",
      "Epoch 60/1000\n",
      "537/537 [==============================] - 0s 175us/step - loss: 0.5338 - binary_accuracy: 0.7523 - val_loss: 0.5147 - val_binary_accuracy: 0.7662\n",
      "Epoch 61/1000\n",
      "537/537 [==============================] - 0s 182us/step - loss: 0.5469 - binary_accuracy: 0.7356 - val_loss: 0.5123 - val_binary_accuracy: 0.7749\n",
      "Epoch 62/1000\n",
      "537/537 [==============================] - 0s 167us/step - loss: 0.5449 - binary_accuracy: 0.7412 - val_loss: 0.5103 - val_binary_accuracy: 0.7792\n",
      "Epoch 63/1000\n",
      "537/537 [==============================] - 0s 173us/step - loss: 0.5477 - binary_accuracy: 0.7281 - val_loss: 0.5109 - val_binary_accuracy: 0.7706\n",
      "Epoch 64/1000\n",
      "537/537 [==============================] - 0s 171us/step - loss: 0.5611 - binary_accuracy: 0.7225 - val_loss: 0.5121 - val_binary_accuracy: 0.7619\n",
      "Epoch 65/1000\n",
      "537/537 [==============================] - 0s 169us/step - loss: 0.5353 - binary_accuracy: 0.7505 - val_loss: 0.5109 - val_binary_accuracy: 0.7662\n",
      "Epoch 66/1000\n",
      "537/537 [==============================] - 0s 178us/step - loss: 0.5517 - binary_accuracy: 0.7449 - val_loss: 0.5086 - val_binary_accuracy: 0.7749\n",
      "Epoch 67/1000\n",
      "537/537 [==============================] - 0s 176us/step - loss: 0.5420 - binary_accuracy: 0.7356 - val_loss: 0.5086 - val_binary_accuracy: 0.7706\n",
      "Epoch 68/1000\n",
      "537/537 [==============================] - 0s 206us/step - loss: 0.5316 - binary_accuracy: 0.7356 - val_loss: 0.5089 - val_binary_accuracy: 0.7706\n",
      "Epoch 69/1000\n",
      "537/537 [==============================] - 0s 201us/step - loss: 0.5414 - binary_accuracy: 0.7337 - val_loss: 0.5071 - val_binary_accuracy: 0.7749\n",
      "Epoch 70/1000\n",
      "537/537 [==============================] - 0s 199us/step - loss: 0.5446 - binary_accuracy: 0.7412 - val_loss: 0.5061 - val_binary_accuracy: 0.7749\n",
      "Epoch 71/1000\n",
      "537/537 [==============================] - 0s 230us/step - loss: 0.5460 - binary_accuracy: 0.7300 - val_loss: 0.5060 - val_binary_accuracy: 0.7749\n",
      "Epoch 72/1000\n",
      "537/537 [==============================] - 0s 180us/step - loss: 0.5235 - binary_accuracy: 0.7486 - val_loss: 0.5040 - val_binary_accuracy: 0.7749\n",
      "Epoch 73/1000\n",
      "537/537 [==============================] - 0s 178us/step - loss: 0.5455 - binary_accuracy: 0.7356 - val_loss: 0.5031 - val_binary_accuracy: 0.7706\n",
      "Epoch 74/1000\n",
      "537/537 [==============================] - 0s 186us/step - loss: 0.5373 - binary_accuracy: 0.7300 - val_loss: 0.5041 - val_binary_accuracy: 0.7706\n",
      "Epoch 75/1000\n",
      "537/537 [==============================] - 0s 163us/step - loss: 0.5233 - binary_accuracy: 0.7263 - val_loss: 0.5030 - val_binary_accuracy: 0.7706\n",
      "Epoch 76/1000\n",
      "537/537 [==============================] - 0s 182us/step - loss: 0.5226 - binary_accuracy: 0.7412 - val_loss: 0.5017 - val_binary_accuracy: 0.7706\n",
      "Epoch 77/1000\n",
      "537/537 [==============================] - 0s 184us/step - loss: 0.5295 - binary_accuracy: 0.7486 - val_loss: 0.4991 - val_binary_accuracy: 0.7706\n",
      "Epoch 78/1000\n",
      "537/537 [==============================] - 0s 295us/step - loss: 0.5291 - binary_accuracy: 0.7486 - val_loss: 0.5007 - val_binary_accuracy: 0.7706\n",
      "Epoch 79/1000\n",
      "537/537 [==============================] - 0s 262us/step - loss: 0.5635 - binary_accuracy: 0.7151 - val_loss: 0.5005 - val_binary_accuracy: 0.7706\n",
      "Epoch 80/1000\n",
      "537/537 [==============================] - 0s 312us/step - loss: 0.5442 - binary_accuracy: 0.7188 - val_loss: 0.5030 - val_binary_accuracy: 0.7662\n",
      "Epoch 81/1000\n",
      "537/537 [==============================] - 0s 215us/step - loss: 0.5336 - binary_accuracy: 0.7300 - val_loss: 0.5002 - val_binary_accuracy: 0.7749\n",
      "Epoch 82/1000\n",
      "537/537 [==============================] - 0s 206us/step - loss: 0.5423 - binary_accuracy: 0.7467 - val_loss: 0.5008 - val_binary_accuracy: 0.7706\n",
      "Epoch 83/1000\n",
      "537/537 [==============================] - 0s 199us/step - loss: 0.5406 - binary_accuracy: 0.7374 - val_loss: 0.4995 - val_binary_accuracy: 0.7706\n",
      "Epoch 84/1000\n",
      "537/537 [==============================] - 0s 182us/step - loss: 0.5151 - binary_accuracy: 0.7505 - val_loss: 0.5003 - val_binary_accuracy: 0.7706\n",
      "Epoch 85/1000\n",
      "537/537 [==============================] - 0s 178us/step - loss: 0.5439 - binary_accuracy: 0.7263 - val_loss: 0.4982 - val_binary_accuracy: 0.7706\n",
      "Epoch 86/1000\n",
      "537/537 [==============================] - 0s 186us/step - loss: 0.5305 - binary_accuracy: 0.7393 - val_loss: 0.4991 - val_binary_accuracy: 0.7706\n",
      "Epoch 87/1000\n",
      "537/537 [==============================] - 0s 180us/step - loss: 0.5230 - binary_accuracy: 0.7356 - val_loss: 0.4982 - val_binary_accuracy: 0.7749\n",
      "Epoch 88/1000\n",
      "537/537 [==============================] - 0s 178us/step - loss: 0.5393 - binary_accuracy: 0.7281 - val_loss: 0.4972 - val_binary_accuracy: 0.7749\n",
      "Epoch 89/1000\n",
      "537/537 [==============================] - 0s 204us/step - loss: 0.5311 - binary_accuracy: 0.7356 - val_loss: 0.4993 - val_binary_accuracy: 0.7662\n",
      "Epoch 90/1000\n",
      "537/537 [==============================] - 0s 182us/step - loss: 0.5158 - binary_accuracy: 0.7616 - val_loss: 0.4964 - val_binary_accuracy: 0.7706\n",
      "Epoch 91/1000\n",
      "537/537 [==============================] - 0s 178us/step - loss: 0.5467 - binary_accuracy: 0.7393 - val_loss: 0.5000 - val_binary_accuracy: 0.7662\n",
      "Epoch 92/1000\n",
      "537/537 [==============================] - 0s 180us/step - loss: 0.5208 - binary_accuracy: 0.7430 - val_loss: 0.4997 - val_binary_accuracy: 0.7662\n",
      "Epoch 93/1000\n",
      "537/537 [==============================] - 0s 176us/step - loss: 0.5287 - binary_accuracy: 0.7430 - val_loss: 0.4977 - val_binary_accuracy: 0.7749\n",
      "Epoch 94/1000\n",
      "537/537 [==============================] - 0s 182us/step - loss: 0.5385 - binary_accuracy: 0.7318 - val_loss: 0.4949 - val_binary_accuracy: 0.7706\n",
      "Epoch 95/1000\n",
      "537/537 [==============================] - 0s 178us/step - loss: 0.5137 - binary_accuracy: 0.7449 - val_loss: 0.4937 - val_binary_accuracy: 0.7706\n",
      "Epoch 96/1000\n",
      "537/537 [==============================] - 0s 178us/step - loss: 0.5265 - binary_accuracy: 0.7412 - val_loss: 0.4926 - val_binary_accuracy: 0.7706\n",
      "Epoch 97/1000\n",
      "537/537 [==============================] - 0s 180us/step - loss: 0.5264 - binary_accuracy: 0.7598 - val_loss: 0.4931 - val_binary_accuracy: 0.7706\n",
      "Epoch 98/1000\n",
      "537/537 [==============================] - 0s 178us/step - loss: 0.5333 - binary_accuracy: 0.7598 - val_loss: 0.4941 - val_binary_accuracy: 0.7706\n",
      "Epoch 99/1000\n",
      "537/537 [==============================] - 0s 191us/step - loss: 0.5101 - binary_accuracy: 0.7542 - val_loss: 0.4931 - val_binary_accuracy: 0.7749\n",
      "Epoch 100/1000\n",
      "537/537 [==============================] - 0s 184us/step - loss: 0.5434 - binary_accuracy: 0.7337 - val_loss: 0.4942 - val_binary_accuracy: 0.7749\n",
      "Epoch 101/1000\n",
      "537/537 [==============================] - 0s 180us/step - loss: 0.5002 - binary_accuracy: 0.7561 - val_loss: 0.4933 - val_binary_accuracy: 0.7662\n",
      "Epoch 102/1000\n",
      "537/537 [==============================] - 0s 182us/step - loss: 0.5334 - binary_accuracy: 0.7300 - val_loss: 0.4952 - val_binary_accuracy: 0.7706\n"
     ]
    },
    {
     "name": "stdout",
     "output_type": "stream",
     "text": [
      "Epoch 103/1000\n",
      "537/537 [==============================] - 0s 182us/step - loss: 0.5218 - binary_accuracy: 0.7318 - val_loss: 0.4961 - val_binary_accuracy: 0.7706\n",
      "Epoch 104/1000\n",
      "537/537 [==============================] - 0s 169us/step - loss: 0.5085 - binary_accuracy: 0.7635 - val_loss: 0.4941 - val_binary_accuracy: 0.7792\n",
      "Epoch 105/1000\n",
      "537/537 [==============================] - 0s 176us/step - loss: 0.5497 - binary_accuracy: 0.7281 - val_loss: 0.4941 - val_binary_accuracy: 0.7662\n",
      "Epoch 106/1000\n",
      "537/537 [==============================] - 0s 173us/step - loss: 0.5161 - binary_accuracy: 0.7505 - val_loss: 0.4954 - val_binary_accuracy: 0.7749\n",
      "Epoch 107/1000\n",
      "537/537 [==============================] - 0s 178us/step - loss: 0.5207 - binary_accuracy: 0.7523 - val_loss: 0.4944 - val_binary_accuracy: 0.7662\n",
      "Epoch 108/1000\n",
      "537/537 [==============================] - 0s 167us/step - loss: 0.5185 - binary_accuracy: 0.7486 - val_loss: 0.4933 - val_binary_accuracy: 0.7662\n",
      "Epoch 109/1000\n",
      "537/537 [==============================] - 0s 188us/step - loss: 0.5192 - binary_accuracy: 0.7579 - val_loss: 0.4932 - val_binary_accuracy: 0.7619\n",
      "Epoch 110/1000\n",
      "537/537 [==============================] - 0s 182us/step - loss: 0.5364 - binary_accuracy: 0.7393 - val_loss: 0.4922 - val_binary_accuracy: 0.7662\n",
      "Epoch 111/1000\n",
      "537/537 [==============================] - 0s 175us/step - loss: 0.5145 - binary_accuracy: 0.7616 - val_loss: 0.4912 - val_binary_accuracy: 0.7662\n",
      "Epoch 112/1000\n",
      "537/537 [==============================] - 0s 169us/step - loss: 0.4973 - binary_accuracy: 0.7598 - val_loss: 0.4908 - val_binary_accuracy: 0.7662\n",
      "Epoch 113/1000\n",
      "537/537 [==============================] - 0s 175us/step - loss: 0.5174 - binary_accuracy: 0.7412 - val_loss: 0.4905 - val_binary_accuracy: 0.7662\n",
      "Epoch 114/1000\n",
      "537/537 [==============================] - 0s 180us/step - loss: 0.5248 - binary_accuracy: 0.7374 - val_loss: 0.4909 - val_binary_accuracy: 0.7662\n",
      "Epoch 115/1000\n",
      "537/537 [==============================] - 0s 176us/step - loss: 0.5304 - binary_accuracy: 0.7393 - val_loss: 0.4915 - val_binary_accuracy: 0.7662\n",
      "Epoch 116/1000\n",
      "537/537 [==============================] - 0s 178us/step - loss: 0.5221 - binary_accuracy: 0.7412 - val_loss: 0.4902 - val_binary_accuracy: 0.7619\n",
      "Epoch 117/1000\n",
      "537/537 [==============================] - 0s 180us/step - loss: 0.5202 - binary_accuracy: 0.7412 - val_loss: 0.4897 - val_binary_accuracy: 0.7619\n",
      "Epoch 118/1000\n",
      "537/537 [==============================] - 0s 178us/step - loss: 0.5229 - binary_accuracy: 0.7337 - val_loss: 0.4905 - val_binary_accuracy: 0.7662\n",
      "Epoch 119/1000\n",
      "537/537 [==============================] - 0s 189us/step - loss: 0.5304 - binary_accuracy: 0.7412 - val_loss: 0.4914 - val_binary_accuracy: 0.7706\n",
      "Epoch 120/1000\n",
      "537/537 [==============================] - 0s 186us/step - loss: 0.5106 - binary_accuracy: 0.7467 - val_loss: 0.4913 - val_binary_accuracy: 0.7619\n",
      "Epoch 121/1000\n",
      "537/537 [==============================] - 0s 182us/step - loss: 0.5116 - binary_accuracy: 0.7356 - val_loss: 0.4924 - val_binary_accuracy: 0.7662\n",
      "Epoch 122/1000\n",
      "537/537 [==============================] - 0s 175us/step - loss: 0.5118 - binary_accuracy: 0.7505 - val_loss: 0.4911 - val_binary_accuracy: 0.7662\n",
      "Epoch 123/1000\n",
      "537/537 [==============================] - 0s 189us/step - loss: 0.5372 - binary_accuracy: 0.7169 - val_loss: 0.4920 - val_binary_accuracy: 0.7619\n",
      "Epoch 124/1000\n",
      "537/537 [==============================] - 0s 202us/step - loss: 0.5275 - binary_accuracy: 0.7225 - val_loss: 0.4926 - val_binary_accuracy: 0.7576\n",
      "Epoch 125/1000\n",
      "537/537 [==============================] - 0s 167us/step - loss: 0.5398 - binary_accuracy: 0.7374 - val_loss: 0.4926 - val_binary_accuracy: 0.7662\n",
      "Epoch 126/1000\n",
      "537/537 [==============================] - 0s 173us/step - loss: 0.5054 - binary_accuracy: 0.7542 - val_loss: 0.4918 - val_binary_accuracy: 0.7576\n",
      "Epoch 127/1000\n",
      "537/537 [==============================] - 0s 167us/step - loss: 0.5097 - binary_accuracy: 0.7616 - val_loss: 0.4911 - val_binary_accuracy: 0.7619\n",
      "Epoch 128/1000\n",
      "537/537 [==============================] - 0s 169us/step - loss: 0.5310 - binary_accuracy: 0.7505 - val_loss: 0.4905 - val_binary_accuracy: 0.7532\n",
      "Epoch 129/1000\n",
      "537/537 [==============================] - 0s 204us/step - loss: 0.5169 - binary_accuracy: 0.7412 - val_loss: 0.4902 - val_binary_accuracy: 0.7662\n",
      "Epoch 130/1000\n",
      "537/537 [==============================] - 0s 165us/step - loss: 0.5460 - binary_accuracy: 0.7151 - val_loss: 0.4910 - val_binary_accuracy: 0.7619\n",
      "Epoch 131/1000\n",
      "537/537 [==============================] - 0s 201us/step - loss: 0.4925 - binary_accuracy: 0.7579 - val_loss: 0.4918 - val_binary_accuracy: 0.7662\n",
      "Epoch 132/1000\n",
      "537/537 [==============================] - 0s 202us/step - loss: 0.5178 - binary_accuracy: 0.7393 - val_loss: 0.4915 - val_binary_accuracy: 0.7662\n",
      "Epoch 133/1000\n",
      "537/537 [==============================] - 0s 193us/step - loss: 0.5220 - binary_accuracy: 0.7374 - val_loss: 0.4919 - val_binary_accuracy: 0.7706\n",
      "Epoch 134/1000\n",
      "537/537 [==============================] - 0s 208us/step - loss: 0.5218 - binary_accuracy: 0.7486 - val_loss: 0.4917 - val_binary_accuracy: 0.7576\n",
      "Epoch 135/1000\n",
      "537/537 [==============================] - 0s 204us/step - loss: 0.4993 - binary_accuracy: 0.7523 - val_loss: 0.4906 - val_binary_accuracy: 0.7532\n",
      "Epoch 136/1000\n",
      "537/537 [==============================] - 0s 188us/step - loss: 0.5093 - binary_accuracy: 0.7486 - val_loss: 0.4891 - val_binary_accuracy: 0.7532\n",
      "Epoch 137/1000\n",
      "537/537 [==============================] - 0s 186us/step - loss: 0.5250 - binary_accuracy: 0.7412 - val_loss: 0.4902 - val_binary_accuracy: 0.7576\n",
      "Epoch 138/1000\n",
      "537/537 [==============================] - 0s 184us/step - loss: 0.5126 - binary_accuracy: 0.7449 - val_loss: 0.4919 - val_binary_accuracy: 0.7576\n",
      "Epoch 139/1000\n",
      "537/537 [==============================] - 0s 171us/step - loss: 0.5157 - binary_accuracy: 0.7449 - val_loss: 0.4920 - val_binary_accuracy: 0.7576\n",
      "Epoch 140/1000\n",
      "537/537 [==============================] - 0s 167us/step - loss: 0.5299 - binary_accuracy: 0.7151 - val_loss: 0.4916 - val_binary_accuracy: 0.7619\n",
      "Epoch 141/1000\n",
      "537/537 [==============================] - 0s 173us/step - loss: 0.5011 - binary_accuracy: 0.7412 - val_loss: 0.4918 - val_binary_accuracy: 0.7619\n",
      "Epoch 142/1000\n",
      "537/537 [==============================] - 0s 176us/step - loss: 0.5245 - binary_accuracy: 0.7542 - val_loss: 0.4911 - val_binary_accuracy: 0.7489\n",
      "Epoch 143/1000\n",
      "537/537 [==============================] - 0s 186us/step - loss: 0.4940 - binary_accuracy: 0.7561 - val_loss: 0.4904 - val_binary_accuracy: 0.7532\n",
      "Epoch 144/1000\n",
      "537/537 [==============================] - 0s 178us/step - loss: 0.5150 - binary_accuracy: 0.7542 - val_loss: 0.4890 - val_binary_accuracy: 0.7532\n",
      "Epoch 145/1000\n",
      "537/537 [==============================] - 0s 176us/step - loss: 0.5055 - binary_accuracy: 0.7393 - val_loss: 0.4879 - val_binary_accuracy: 0.7532\n",
      "Epoch 146/1000\n",
      "537/537 [==============================] - 0s 175us/step - loss: 0.5062 - binary_accuracy: 0.7523 - val_loss: 0.4885 - val_binary_accuracy: 0.7532\n",
      "Epoch 147/1000\n",
      "537/537 [==============================] - 0s 169us/step - loss: 0.4948 - binary_accuracy: 0.7523 - val_loss: 0.4883 - val_binary_accuracy: 0.7532\n",
      "Epoch 148/1000\n",
      "537/537 [==============================] - 0s 178us/step - loss: 0.5192 - binary_accuracy: 0.7318 - val_loss: 0.4892 - val_binary_accuracy: 0.7619\n",
      "Epoch 149/1000\n",
      "537/537 [==============================] - 0s 195us/step - loss: 0.4981 - binary_accuracy: 0.7579 - val_loss: 0.4878 - val_binary_accuracy: 0.7532\n",
      "Epoch 150/1000\n",
      "537/537 [==============================] - 0s 173us/step - loss: 0.4984 - binary_accuracy: 0.7709 - val_loss: 0.4860 - val_binary_accuracy: 0.7532\n",
      "Epoch 151/1000\n",
      "537/537 [==============================] - 0s 165us/step - loss: 0.5127 - binary_accuracy: 0.7505 - val_loss: 0.4857 - val_binary_accuracy: 0.7576\n",
      "Epoch 152/1000\n",
      "537/537 [==============================] - 0s 188us/step - loss: 0.5195 - binary_accuracy: 0.7486 - val_loss: 0.4873 - val_binary_accuracy: 0.7619\n",
      "Epoch 153/1000\n"
     ]
    },
    {
     "name": "stdout",
     "output_type": "stream",
     "text": [
      "537/537 [==============================] - 0s 173us/step - loss: 0.5088 - binary_accuracy: 0.7561 - val_loss: 0.4879 - val_binary_accuracy: 0.7489\n",
      "Epoch 154/1000\n",
      "537/537 [==============================] - 0s 167us/step - loss: 0.5017 - binary_accuracy: 0.7542 - val_loss: 0.4880 - val_binary_accuracy: 0.7532\n",
      "Epoch 155/1000\n",
      "537/537 [==============================] - 0s 173us/step - loss: 0.4887 - binary_accuracy: 0.7709 - val_loss: 0.4871 - val_binary_accuracy: 0.7619\n",
      "Epoch 156/1000\n",
      "537/537 [==============================] - 0s 206us/step - loss: 0.4968 - binary_accuracy: 0.7654 - val_loss: 0.4868 - val_binary_accuracy: 0.7576\n",
      "Epoch 157/1000\n",
      "537/537 [==============================] - 0s 201us/step - loss: 0.4902 - binary_accuracy: 0.7784 - val_loss: 0.4857 - val_binary_accuracy: 0.7576\n",
      "Epoch 158/1000\n",
      "537/537 [==============================] - 0s 186us/step - loss: 0.5082 - binary_accuracy: 0.7523 - val_loss: 0.4851 - val_binary_accuracy: 0.7532\n",
      "Epoch 159/1000\n",
      "537/537 [==============================] - 0s 171us/step - loss: 0.5222 - binary_accuracy: 0.7393 - val_loss: 0.4854 - val_binary_accuracy: 0.7532\n",
      "Epoch 160/1000\n",
      "537/537 [==============================] - 0s 167us/step - loss: 0.5058 - binary_accuracy: 0.7486 - val_loss: 0.4854 - val_binary_accuracy: 0.7576\n",
      "Epoch 161/1000\n",
      "537/537 [==============================] - 0s 173us/step - loss: 0.5070 - binary_accuracy: 0.7505 - val_loss: 0.4849 - val_binary_accuracy: 0.7489\n",
      "Epoch 162/1000\n",
      "537/537 [==============================] - 0s 169us/step - loss: 0.4988 - binary_accuracy: 0.7523 - val_loss: 0.4853 - val_binary_accuracy: 0.7446\n",
      "Epoch 163/1000\n",
      "537/537 [==============================] - 0s 195us/step - loss: 0.5044 - binary_accuracy: 0.7449 - val_loss: 0.4858 - val_binary_accuracy: 0.7532\n",
      "Epoch 164/1000\n",
      "537/537 [==============================] - 0s 193us/step - loss: 0.5049 - binary_accuracy: 0.7486 - val_loss: 0.4851 - val_binary_accuracy: 0.7489\n",
      "Epoch 165/1000\n",
      "537/537 [==============================] - 0s 184us/step - loss: 0.4993 - binary_accuracy: 0.7598 - val_loss: 0.4854 - val_binary_accuracy: 0.7576\n",
      "Epoch 166/1000\n",
      "537/537 [==============================] - 0s 165us/step - loss: 0.5188 - binary_accuracy: 0.7337 - val_loss: 0.4860 - val_binary_accuracy: 0.7532\n",
      "Epoch 167/1000\n",
      "537/537 [==============================] - 0s 178us/step - loss: 0.4933 - binary_accuracy: 0.7430 - val_loss: 0.4859 - val_binary_accuracy: 0.7576\n",
      "Epoch 168/1000\n",
      "537/537 [==============================] - 0s 184us/step - loss: 0.5025 - binary_accuracy: 0.7356 - val_loss: 0.4866 - val_binary_accuracy: 0.7576\n",
      "Epoch 169/1000\n",
      "537/537 [==============================] - 0s 182us/step - loss: 0.4882 - binary_accuracy: 0.7523 - val_loss: 0.4855 - val_binary_accuracy: 0.7576\n",
      "Epoch 170/1000\n",
      "537/537 [==============================] - 0s 175us/step - loss: 0.4965 - binary_accuracy: 0.7505 - val_loss: 0.4839 - val_binary_accuracy: 0.7532\n",
      "Epoch 171/1000\n",
      "537/537 [==============================] - 0s 167us/step - loss: 0.4846 - binary_accuracy: 0.7654 - val_loss: 0.4826 - val_binary_accuracy: 0.7532\n",
      "Epoch 172/1000\n",
      "537/537 [==============================] - 0s 175us/step - loss: 0.4846 - binary_accuracy: 0.7728 - val_loss: 0.4822 - val_binary_accuracy: 0.7619\n",
      "Epoch 173/1000\n",
      "537/537 [==============================] - 0s 180us/step - loss: 0.5088 - binary_accuracy: 0.7542 - val_loss: 0.4826 - val_binary_accuracy: 0.7532\n",
      "Epoch 174/1000\n",
      "537/537 [==============================] - 0s 176us/step - loss: 0.5057 - binary_accuracy: 0.7337 - val_loss: 0.4836 - val_binary_accuracy: 0.7576\n",
      "Epoch 175/1000\n",
      "537/537 [==============================] - 0s 182us/step - loss: 0.5089 - binary_accuracy: 0.7598 - val_loss: 0.4831 - val_binary_accuracy: 0.7619\n",
      "Epoch 176/1000\n",
      "537/537 [==============================] - 0s 180us/step - loss: 0.5191 - binary_accuracy: 0.7356 - val_loss: 0.4838 - val_binary_accuracy: 0.7532\n",
      "Epoch 177/1000\n",
      "537/537 [==============================] - 0s 173us/step - loss: 0.5164 - binary_accuracy: 0.7225 - val_loss: 0.4839 - val_binary_accuracy: 0.7619\n",
      "Epoch 178/1000\n",
      "537/537 [==============================] - 0s 167us/step - loss: 0.5064 - binary_accuracy: 0.7430 - val_loss: 0.4831 - val_binary_accuracy: 0.7619\n",
      "Epoch 179/1000\n",
      "537/537 [==============================] - 0s 195us/step - loss: 0.4896 - binary_accuracy: 0.7542 - val_loss: 0.4837 - val_binary_accuracy: 0.7576\n",
      "Epoch 180/1000\n",
      "537/537 [==============================] - 0s 186us/step - loss: 0.5017 - binary_accuracy: 0.7598 - val_loss: 0.4838 - val_binary_accuracy: 0.7532\n",
      "Epoch 181/1000\n",
      "537/537 [==============================] - 0s 191us/step - loss: 0.4805 - binary_accuracy: 0.7486 - val_loss: 0.4820 - val_binary_accuracy: 0.7662\n",
      "Epoch 182/1000\n",
      "537/537 [==============================] - 0s 184us/step - loss: 0.4929 - binary_accuracy: 0.7691 - val_loss: 0.4815 - val_binary_accuracy: 0.7532\n",
      "Epoch 183/1000\n",
      "537/537 [==============================] - 0s 176us/step - loss: 0.4940 - binary_accuracy: 0.7616 - val_loss: 0.4816 - val_binary_accuracy: 0.7576\n",
      "Epoch 184/1000\n",
      "537/537 [==============================] - 0s 182us/step - loss: 0.5099 - binary_accuracy: 0.7300 - val_loss: 0.4831 - val_binary_accuracy: 0.7576\n",
      "Epoch 185/1000\n",
      "537/537 [==============================] - 0s 176us/step - loss: 0.4974 - binary_accuracy: 0.7486 - val_loss: 0.4822 - val_binary_accuracy: 0.7532\n",
      "Epoch 186/1000\n",
      "537/537 [==============================] - 0s 178us/step - loss: 0.5013 - binary_accuracy: 0.7561 - val_loss: 0.4807 - val_binary_accuracy: 0.7576\n",
      "Epoch 187/1000\n",
      "537/537 [==============================] - 0s 189us/step - loss: 0.5033 - binary_accuracy: 0.7505 - val_loss: 0.4807 - val_binary_accuracy: 0.7532\n",
      "Epoch 188/1000\n",
      "537/537 [==============================] - 0s 191us/step - loss: 0.4915 - binary_accuracy: 0.7579 - val_loss: 0.4812 - val_binary_accuracy: 0.7576\n",
      "Epoch 189/1000\n",
      "537/537 [==============================] - 0s 199us/step - loss: 0.4867 - binary_accuracy: 0.7747 - val_loss: 0.4811 - val_binary_accuracy: 0.7576\n",
      "Epoch 190/1000\n",
      "537/537 [==============================] - 0s 184us/step - loss: 0.4947 - binary_accuracy: 0.7561 - val_loss: 0.4809 - val_binary_accuracy: 0.7532\n",
      "Epoch 191/1000\n",
      "537/537 [==============================] - 0s 167us/step - loss: 0.4834 - binary_accuracy: 0.7542 - val_loss: 0.4806 - val_binary_accuracy: 0.7532\n",
      "Epoch 192/1000\n",
      "537/537 [==============================] - 0s 178us/step - loss: 0.5112 - binary_accuracy: 0.7207 - val_loss: 0.4811 - val_binary_accuracy: 0.7489\n",
      "Epoch 193/1000\n",
      "537/537 [==============================] - 0s 197us/step - loss: 0.5073 - binary_accuracy: 0.7337 - val_loss: 0.4810 - val_binary_accuracy: 0.7489\n",
      "Epoch 194/1000\n",
      "537/537 [==============================] - 0s 186us/step - loss: 0.4649 - binary_accuracy: 0.7709 - val_loss: 0.4788 - val_binary_accuracy: 0.7532\n",
      "Epoch 195/1000\n",
      "537/537 [==============================] - 0s 182us/step - loss: 0.5036 - binary_accuracy: 0.7393 - val_loss: 0.4798 - val_binary_accuracy: 0.7576\n",
      "Epoch 196/1000\n",
      "537/537 [==============================] - 0s 171us/step - loss: 0.5041 - binary_accuracy: 0.7374 - val_loss: 0.4808 - val_binary_accuracy: 0.7619\n",
      "Epoch 197/1000\n",
      "537/537 [==============================] - 0s 167us/step - loss: 0.5044 - binary_accuracy: 0.7393 - val_loss: 0.4812 - val_binary_accuracy: 0.7532\n",
      "Epoch 198/1000\n",
      "537/537 [==============================] - 0s 175us/step - loss: 0.5005 - binary_accuracy: 0.7635 - val_loss: 0.4807 - val_binary_accuracy: 0.7619\n",
      "Epoch 199/1000\n",
      "537/537 [==============================] - 0s 182us/step - loss: 0.5055 - binary_accuracy: 0.7412 - val_loss: 0.4812 - val_binary_accuracy: 0.7489\n",
      "Epoch 200/1000\n",
      "537/537 [==============================] - 0s 182us/step - loss: 0.4799 - binary_accuracy: 0.7821 - val_loss: 0.4814 - val_binary_accuracy: 0.7489\n",
      "Epoch 201/1000\n",
      "537/537 [==============================] - 0s 184us/step - loss: 0.5010 - binary_accuracy: 0.7393 - val_loss: 0.4809 - val_binary_accuracy: 0.7532\n",
      "Epoch 202/1000\n",
      "537/537 [==============================] - 0s 184us/step - loss: 0.5012 - binary_accuracy: 0.7356 - val_loss: 0.4808 - val_binary_accuracy: 0.7532\n",
      "Epoch 203/1000\n",
      "537/537 [==============================] - 0s 178us/step - loss: 0.4699 - binary_accuracy: 0.7654 - val_loss: 0.4813 - val_binary_accuracy: 0.7532\n"
     ]
    },
    {
     "name": "stdout",
     "output_type": "stream",
     "text": [
      "Epoch 204/1000\n",
      "537/537 [==============================] - 0s 182us/step - loss: 0.4819 - binary_accuracy: 0.7486 - val_loss: 0.4819 - val_binary_accuracy: 0.7489\n",
      "Epoch 205/1000\n",
      "537/537 [==============================] - 0s 176us/step - loss: 0.5092 - binary_accuracy: 0.7505 - val_loss: 0.4802 - val_binary_accuracy: 0.7532\n",
      "Epoch 206/1000\n",
      "537/537 [==============================] - 0s 178us/step - loss: 0.5126 - binary_accuracy: 0.7300 - val_loss: 0.4794 - val_binary_accuracy: 0.7532\n",
      "Epoch 207/1000\n",
      "537/537 [==============================] - 0s 182us/step - loss: 0.5092 - binary_accuracy: 0.7337 - val_loss: 0.4804 - val_binary_accuracy: 0.7576\n",
      "Epoch 208/1000\n",
      "537/537 [==============================] - 0s 173us/step - loss: 0.4888 - binary_accuracy: 0.7505 - val_loss: 0.4803 - val_binary_accuracy: 0.7532\n",
      "Epoch 209/1000\n",
      "537/537 [==============================] - 0s 180us/step - loss: 0.4853 - binary_accuracy: 0.7616 - val_loss: 0.4805 - val_binary_accuracy: 0.7532\n",
      "Epoch 210/1000\n",
      "537/537 [==============================] - 0s 167us/step - loss: 0.4960 - binary_accuracy: 0.7486 - val_loss: 0.4799 - val_binary_accuracy: 0.7532\n",
      "Epoch 211/1000\n",
      "537/537 [==============================] - 0s 176us/step - loss: 0.4974 - binary_accuracy: 0.7561 - val_loss: 0.4791 - val_binary_accuracy: 0.7489\n",
      "Epoch 212/1000\n",
      "537/537 [==============================] - 0s 173us/step - loss: 0.4973 - binary_accuracy: 0.7505 - val_loss: 0.4779 - val_binary_accuracy: 0.7576\n",
      "Epoch 213/1000\n",
      "537/537 [==============================] - 0s 169us/step - loss: 0.4920 - binary_accuracy: 0.7449 - val_loss: 0.4797 - val_binary_accuracy: 0.7532\n",
      "Epoch 214/1000\n",
      "537/537 [==============================] - 0s 178us/step - loss: 0.4700 - binary_accuracy: 0.7579 - val_loss: 0.4802 - val_binary_accuracy: 0.7532\n",
      "Epoch 215/1000\n",
      "537/537 [==============================] - 0s 175us/step - loss: 0.4814 - binary_accuracy: 0.7691 - val_loss: 0.4803 - val_binary_accuracy: 0.7489\n",
      "Epoch 216/1000\n",
      "537/537 [==============================] - 0s 165us/step - loss: 0.4904 - binary_accuracy: 0.7616 - val_loss: 0.4798 - val_binary_accuracy: 0.7489\n",
      "Epoch 217/1000\n",
      "537/537 [==============================] - 0s 169us/step - loss: 0.4846 - binary_accuracy: 0.7449 - val_loss: 0.4798 - val_binary_accuracy: 0.7532\n",
      "Epoch 218/1000\n",
      "537/537 [==============================] - 0s 176us/step - loss: 0.4947 - binary_accuracy: 0.7449 - val_loss: 0.4799 - val_binary_accuracy: 0.7576\n",
      "Epoch 219/1000\n",
      "537/537 [==============================] - 0s 182us/step - loss: 0.4998 - binary_accuracy: 0.7505 - val_loss: 0.4812 - val_binary_accuracy: 0.7532\n",
      "Epoch 220/1000\n",
      "537/537 [==============================] - 0s 178us/step - loss: 0.4870 - binary_accuracy: 0.7542 - val_loss: 0.4812 - val_binary_accuracy: 0.7532\n",
      "Epoch 221/1000\n",
      "537/537 [==============================] - 0s 167us/step - loss: 0.5035 - binary_accuracy: 0.7486 - val_loss: 0.4828 - val_binary_accuracy: 0.7576\n",
      "Epoch 222/1000\n",
      "537/537 [==============================] - 0s 175us/step - loss: 0.4982 - binary_accuracy: 0.7505 - val_loss: 0.4800 - val_binary_accuracy: 0.7532\n",
      "Epoch 223/1000\n",
      "537/537 [==============================] - 0s 173us/step - loss: 0.4791 - binary_accuracy: 0.7542 - val_loss: 0.4804 - val_binary_accuracy: 0.7489\n",
      "Epoch 224/1000\n",
      "537/537 [==============================] - 0s 167us/step - loss: 0.5051 - binary_accuracy: 0.7430 - val_loss: 0.4796 - val_binary_accuracy: 0.7489\n",
      "Epoch 225/1000\n",
      "537/537 [==============================] - 0s 171us/step - loss: 0.4953 - binary_accuracy: 0.7412 - val_loss: 0.4793 - val_binary_accuracy: 0.7489\n",
      "Epoch 226/1000\n",
      "537/537 [==============================] - 0s 175us/step - loss: 0.5041 - binary_accuracy: 0.7616 - val_loss: 0.4784 - val_binary_accuracy: 0.7576\n",
      "Epoch 227/1000\n",
      "537/537 [==============================] - 0s 167us/step - loss: 0.4944 - binary_accuracy: 0.7616 - val_loss: 0.4786 - val_binary_accuracy: 0.7576\n",
      "Epoch 228/1000\n",
      "537/537 [==============================] - 0s 171us/step - loss: 0.5207 - binary_accuracy: 0.7356 - val_loss: 0.4782 - val_binary_accuracy: 0.7576\n",
      "Epoch 229/1000\n",
      "537/537 [==============================] - 0s 175us/step - loss: 0.4823 - binary_accuracy: 0.7598 - val_loss: 0.4784 - val_binary_accuracy: 0.7532\n",
      "Epoch 230/1000\n",
      "537/537 [==============================] - 0s 182us/step - loss: 0.4884 - binary_accuracy: 0.7523 - val_loss: 0.4788 - val_binary_accuracy: 0.7532\n",
      "Epoch 231/1000\n",
      "537/537 [==============================] - 0s 171us/step - loss: 0.4780 - binary_accuracy: 0.7542 - val_loss: 0.4784 - val_binary_accuracy: 0.7576\n",
      "Epoch 232/1000\n",
      "537/537 [==============================] - 0s 173us/step - loss: 0.4863 - binary_accuracy: 0.7747 - val_loss: 0.4782 - val_binary_accuracy: 0.7532\n",
      "Epoch 233/1000\n",
      "537/537 [==============================] - 0s 175us/step - loss: 0.4719 - binary_accuracy: 0.7561 - val_loss: 0.4800 - val_binary_accuracy: 0.7532\n",
      "Epoch 234/1000\n",
      "537/537 [==============================] - 0s 180us/step - loss: 0.4713 - binary_accuracy: 0.7579 - val_loss: 0.4781 - val_binary_accuracy: 0.7576\n",
      "Epoch 235/1000\n",
      "537/537 [==============================] - 0s 171us/step - loss: 0.4822 - binary_accuracy: 0.7635 - val_loss: 0.4779 - val_binary_accuracy: 0.7576\n",
      "Epoch 236/1000\n",
      "537/537 [==============================] - 0s 169us/step - loss: 0.4921 - binary_accuracy: 0.7561 - val_loss: 0.4773 - val_binary_accuracy: 0.7532\n",
      "Epoch 237/1000\n",
      "537/537 [==============================] - 0s 175us/step - loss: 0.4880 - binary_accuracy: 0.7542 - val_loss: 0.4765 - val_binary_accuracy: 0.7576\n",
      "Epoch 238/1000\n",
      "537/537 [==============================] - 0s 165us/step - loss: 0.4918 - binary_accuracy: 0.7616 - val_loss: 0.4765 - val_binary_accuracy: 0.7576\n",
      "Epoch 239/1000\n",
      "537/537 [==============================] - 0s 175us/step - loss: 0.4837 - binary_accuracy: 0.7598 - val_loss: 0.4741 - val_binary_accuracy: 0.7576\n",
      "Epoch 240/1000\n",
      "537/537 [==============================] - 0s 182us/step - loss: 0.4814 - binary_accuracy: 0.7709 - val_loss: 0.4744 - val_binary_accuracy: 0.7619\n",
      "Epoch 241/1000\n",
      "537/537 [==============================] - 0s 176us/step - loss: 0.4916 - binary_accuracy: 0.7561 - val_loss: 0.4751 - val_binary_accuracy: 0.7619\n",
      "Epoch 242/1000\n",
      "537/537 [==============================] - 0s 165us/step - loss: 0.4876 - binary_accuracy: 0.7598 - val_loss: 0.4754 - val_binary_accuracy: 0.7576\n",
      "Epoch 243/1000\n",
      "537/537 [==============================] - 0s 171us/step - loss: 0.4788 - binary_accuracy: 0.7672 - val_loss: 0.4763 - val_binary_accuracy: 0.7532\n",
      "Epoch 244/1000\n",
      "537/537 [==============================] - 0s 171us/step - loss: 0.4895 - binary_accuracy: 0.7505 - val_loss: 0.4768 - val_binary_accuracy: 0.7576\n",
      "Epoch 245/1000\n",
      "537/537 [==============================] - 0s 169us/step - loss: 0.4683 - binary_accuracy: 0.7542 - val_loss: 0.4774 - val_binary_accuracy: 0.7532\n",
      "Epoch 246/1000\n",
      "537/537 [==============================] - 0s 173us/step - loss: 0.4983 - binary_accuracy: 0.7486 - val_loss: 0.4779 - val_binary_accuracy: 0.7532\n",
      "Epoch 247/1000\n",
      "537/537 [==============================] - 0s 173us/step - loss: 0.4975 - binary_accuracy: 0.7412 - val_loss: 0.4773 - val_binary_accuracy: 0.7576\n",
      "Epoch 248/1000\n",
      "537/537 [==============================] - 0s 167us/step - loss: 0.4784 - binary_accuracy: 0.7728 - val_loss: 0.4757 - val_binary_accuracy: 0.7662\n",
      "Epoch 249/1000\n",
      "537/537 [==============================] - 0s 193us/step - loss: 0.5059 - binary_accuracy: 0.7318 - val_loss: 0.4769 - val_binary_accuracy: 0.7576\n",
      "Epoch 250/1000\n",
      "537/537 [==============================] - 0s 195us/step - loss: 0.4789 - binary_accuracy: 0.7672 - val_loss: 0.4775 - val_binary_accuracy: 0.7576\n",
      "Epoch 251/1000\n",
      "537/537 [==============================] - 0s 202us/step - loss: 0.5031 - binary_accuracy: 0.7467 - val_loss: 0.4785 - val_binary_accuracy: 0.7576\n",
      "Epoch 252/1000\n",
      "537/537 [==============================] - 0s 193us/step - loss: 0.4801 - binary_accuracy: 0.7486 - val_loss: 0.4775 - val_binary_accuracy: 0.7576\n",
      "Epoch 253/1000\n",
      "537/537 [==============================] - 0s 178us/step - loss: 0.4789 - binary_accuracy: 0.7467 - val_loss: 0.4765 - val_binary_accuracy: 0.7576\n",
      "Epoch 254/1000\n"
     ]
    },
    {
     "name": "stdout",
     "output_type": "stream",
     "text": [
      "537/537 [==============================] - 0s 180us/step - loss: 0.5145 - binary_accuracy: 0.7412 - val_loss: 0.4764 - val_binary_accuracy: 0.7576\n",
      "Epoch 255/1000\n",
      "537/537 [==============================] - 0s 178us/step - loss: 0.4993 - binary_accuracy: 0.7412 - val_loss: 0.4769 - val_binary_accuracy: 0.7532\n",
      "Epoch 256/1000\n",
      "537/537 [==============================] - 0s 173us/step - loss: 0.4713 - binary_accuracy: 0.7542 - val_loss: 0.4765 - val_binary_accuracy: 0.7619\n",
      "Epoch 257/1000\n",
      "537/537 [==============================] - 0s 188us/step - loss: 0.4994 - binary_accuracy: 0.7393 - val_loss: 0.4760 - val_binary_accuracy: 0.7619\n",
      "Epoch 258/1000\n",
      "537/537 [==============================] - 0s 202us/step - loss: 0.4739 - binary_accuracy: 0.7616 - val_loss: 0.4780 - val_binary_accuracy: 0.7532\n",
      "Epoch 259/1000\n",
      "537/537 [==============================] - 0s 184us/step - loss: 0.4783 - binary_accuracy: 0.7561 - val_loss: 0.4765 - val_binary_accuracy: 0.7619\n",
      "Epoch 260/1000\n",
      "537/537 [==============================] - 0s 189us/step - loss: 0.4819 - binary_accuracy: 0.7523 - val_loss: 0.4747 - val_binary_accuracy: 0.7706\n",
      "Epoch 261/1000\n",
      "537/537 [==============================] - 0s 175us/step - loss: 0.4836 - binary_accuracy: 0.7412 - val_loss: 0.4758 - val_binary_accuracy: 0.7619\n",
      "Epoch 262/1000\n",
      "537/537 [==============================] - 0s 169us/step - loss: 0.4960 - binary_accuracy: 0.7561 - val_loss: 0.4767 - val_binary_accuracy: 0.7619\n",
      "Epoch 263/1000\n",
      "537/537 [==============================] - 0s 169us/step - loss: 0.4698 - binary_accuracy: 0.7728 - val_loss: 0.4767 - val_binary_accuracy: 0.7619\n",
      "Epoch 264/1000\n",
      "537/537 [==============================] - 0s 189us/step - loss: 0.4896 - binary_accuracy: 0.7337 - val_loss: 0.4765 - val_binary_accuracy: 0.7619\n",
      "Epoch 265/1000\n",
      "537/537 [==============================] - 0s 201us/step - loss: 0.5114 - binary_accuracy: 0.7393 - val_loss: 0.4760 - val_binary_accuracy: 0.7576\n",
      "Epoch 266/1000\n",
      "537/537 [==============================] - 0s 188us/step - loss: 0.4890 - binary_accuracy: 0.7598 - val_loss: 0.4754 - val_binary_accuracy: 0.7662\n",
      "Epoch 267/1000\n",
      "537/537 [==============================] - 0s 176us/step - loss: 0.4754 - binary_accuracy: 0.7561 - val_loss: 0.4757 - val_binary_accuracy: 0.7662\n",
      "Epoch 268/1000\n",
      "537/537 [==============================] - 0s 173us/step - loss: 0.4569 - binary_accuracy: 0.7784 - val_loss: 0.4761 - val_binary_accuracy: 0.7662\n",
      "Epoch 269/1000\n",
      "537/537 [==============================] - 0s 171us/step - loss: 0.4688 - binary_accuracy: 0.7709 - val_loss: 0.4770 - val_binary_accuracy: 0.7619\n",
      "Epoch 270/1000\n",
      "537/537 [==============================] - 0s 204us/step - loss: 0.4883 - binary_accuracy: 0.7616 - val_loss: 0.4747 - val_binary_accuracy: 0.7706\n",
      "Epoch 271/1000\n",
      "537/537 [==============================] - 0s 197us/step - loss: 0.4877 - binary_accuracy: 0.7561 - val_loss: 0.4772 - val_binary_accuracy: 0.7662\n",
      "Epoch 272/1000\n",
      "537/537 [==============================] - 0s 186us/step - loss: 0.4992 - binary_accuracy: 0.7318 - val_loss: 0.4789 - val_binary_accuracy: 0.7532\n",
      "Epoch 273/1000\n",
      "537/537 [==============================] - 0s 175us/step - loss: 0.4861 - binary_accuracy: 0.7505 - val_loss: 0.4777 - val_binary_accuracy: 0.7576\n",
      "Epoch 274/1000\n",
      "537/537 [==============================] - 0s 171us/step - loss: 0.4953 - binary_accuracy: 0.7393 - val_loss: 0.4769 - val_binary_accuracy: 0.7619\n",
      "Epoch 275/1000\n",
      "537/537 [==============================] - 0s 173us/step - loss: 0.4857 - binary_accuracy: 0.7579 - val_loss: 0.4783 - val_binary_accuracy: 0.7532\n",
      "Epoch 276/1000\n",
      "537/537 [==============================] - 0s 188us/step - loss: 0.4796 - binary_accuracy: 0.7505 - val_loss: 0.4796 - val_binary_accuracy: 0.7532\n",
      "Epoch 277/1000\n",
      "537/537 [==============================] - 0s 195us/step - loss: 0.4841 - binary_accuracy: 0.7374 - val_loss: 0.4779 - val_binary_accuracy: 0.7576\n",
      "Epoch 278/1000\n",
      "537/537 [==============================] - 0s 188us/step - loss: 0.4826 - binary_accuracy: 0.7486 - val_loss: 0.4784 - val_binary_accuracy: 0.7619\n",
      "Epoch 279/1000\n",
      "537/537 [==============================] - 0s 169us/step - loss: 0.4956 - binary_accuracy: 0.7263 - val_loss: 0.4773 - val_binary_accuracy: 0.7619\n",
      "Epoch 280/1000\n",
      "537/537 [==============================] - 0s 176us/step - loss: 0.4710 - binary_accuracy: 0.7579 - val_loss: 0.4773 - val_binary_accuracy: 0.7662\n",
      "Epoch 281/1000\n",
      "537/537 [==============================] - 0s 169us/step - loss: 0.4916 - binary_accuracy: 0.7523 - val_loss: 0.4770 - val_binary_accuracy: 0.7662\n",
      "Epoch 282/1000\n",
      "537/537 [==============================] - 0s 210us/step - loss: 0.4818 - binary_accuracy: 0.7356 - val_loss: 0.4765 - val_binary_accuracy: 0.7662\n",
      "Epoch 283/1000\n",
      "537/537 [==============================] - 0s 204us/step - loss: 0.4707 - binary_accuracy: 0.7486 - val_loss: 0.4769 - val_binary_accuracy: 0.7662\n",
      "Epoch 284/1000\n",
      "537/537 [==============================] - 0s 186us/step - loss: 0.4817 - binary_accuracy: 0.7654 - val_loss: 0.4773 - val_binary_accuracy: 0.7662\n",
      "Epoch 285/1000\n",
      "537/537 [==============================] - 0s 173us/step - loss: 0.4882 - binary_accuracy: 0.7523 - val_loss: 0.4754 - val_binary_accuracy: 0.7662\n",
      "Epoch 286/1000\n",
      "537/537 [==============================] - 0s 167us/step - loss: 0.4674 - binary_accuracy: 0.7635 - val_loss: 0.4736 - val_binary_accuracy: 0.7706\n",
      "Epoch 287/1000\n",
      "537/537 [==============================] - 0s 178us/step - loss: 0.4710 - binary_accuracy: 0.7579 - val_loss: 0.4733 - val_binary_accuracy: 0.7706\n",
      "Epoch 288/1000\n",
      "537/537 [==============================] - 0s 193us/step - loss: 0.4858 - binary_accuracy: 0.7486 - val_loss: 0.4735 - val_binary_accuracy: 0.7706\n",
      "Epoch 289/1000\n",
      "537/537 [==============================] - 0s 188us/step - loss: 0.4871 - binary_accuracy: 0.7616 - val_loss: 0.4730 - val_binary_accuracy: 0.7662\n",
      "Epoch 290/1000\n",
      "537/537 [==============================] - 0s 199us/step - loss: 0.4620 - binary_accuracy: 0.7635 - val_loss: 0.4754 - val_binary_accuracy: 0.7662\n",
      "Epoch 291/1000\n",
      "537/537 [==============================] - 0s 169us/step - loss: 0.4714 - binary_accuracy: 0.7523 - val_loss: 0.4757 - val_binary_accuracy: 0.7662\n",
      "Epoch 292/1000\n",
      "537/537 [==============================] - 0s 173us/step - loss: 0.4828 - binary_accuracy: 0.7467 - val_loss: 0.4798 - val_binary_accuracy: 0.7619\n",
      "Epoch 293/1000\n",
      "537/537 [==============================] - 0s 163us/step - loss: 0.4953 - binary_accuracy: 0.7486 - val_loss: 0.4749 - val_binary_accuracy: 0.7706\n",
      "Epoch 294/1000\n",
      "537/537 [==============================] - 0s 195us/step - loss: 0.4782 - binary_accuracy: 0.7356 - val_loss: 0.4748 - val_binary_accuracy: 0.7706\n",
      "Epoch 295/1000\n",
      "537/537 [==============================] - 0s 197us/step - loss: 0.4607 - binary_accuracy: 0.7542 - val_loss: 0.4770 - val_binary_accuracy: 0.7662\n",
      "Epoch 296/1000\n",
      "537/537 [==============================] - 0s 189us/step - loss: 0.4911 - binary_accuracy: 0.7467 - val_loss: 0.4756 - val_binary_accuracy: 0.7662\n",
      "Epoch 297/1000\n",
      "537/537 [==============================] - 0s 176us/step - loss: 0.4882 - binary_accuracy: 0.7393 - val_loss: 0.4762 - val_binary_accuracy: 0.7662\n",
      "Epoch 298/1000\n",
      "537/537 [==============================] - 0s 171us/step - loss: 0.4711 - binary_accuracy: 0.7579 - val_loss: 0.4740 - val_binary_accuracy: 0.7706\n",
      "Epoch 299/1000\n",
      "537/537 [==============================] - 0s 173us/step - loss: 0.4836 - binary_accuracy: 0.7505 - val_loss: 0.4734 - val_binary_accuracy: 0.7706\n",
      "Epoch 300/1000\n",
      "537/537 [==============================] - 0s 191us/step - loss: 0.5034 - binary_accuracy: 0.7356 - val_loss: 0.4744 - val_binary_accuracy: 0.7706\n",
      "Epoch 301/1000\n",
      "537/537 [==============================] - 0s 191us/step - loss: 0.4816 - binary_accuracy: 0.7486 - val_loss: 0.4755 - val_binary_accuracy: 0.7619\n",
      "Epoch 302/1000\n",
      "537/537 [==============================] - 0s 186us/step - loss: 0.4917 - binary_accuracy: 0.7616 - val_loss: 0.4748 - val_binary_accuracy: 0.7662\n",
      "Epoch 303/1000\n",
      "537/537 [==============================] - 0s 193us/step - loss: 0.4793 - binary_accuracy: 0.7467 - val_loss: 0.4764 - val_binary_accuracy: 0.7662\n",
      "Epoch 304/1000\n",
      "537/537 [==============================] - 0s 206us/step - loss: 0.4635 - binary_accuracy: 0.7709 - val_loss: 0.4734 - val_binary_accuracy: 0.7706\n"
     ]
    },
    {
     "name": "stdout",
     "output_type": "stream",
     "text": [
      "Epoch 305/1000\n",
      "537/537 [==============================] - 0s 215us/step - loss: 0.4816 - binary_accuracy: 0.7486 - val_loss: 0.4718 - val_binary_accuracy: 0.7706\n",
      "Epoch 306/1000\n",
      "537/537 [==============================] - 0s 180us/step - loss: 0.4707 - binary_accuracy: 0.7467 - val_loss: 0.4729 - val_binary_accuracy: 0.7706\n",
      "Epoch 307/1000\n",
      "537/537 [==============================] - 0s 169us/step - loss: 0.4879 - binary_accuracy: 0.7598 - val_loss: 0.4718 - val_binary_accuracy: 0.7706\n",
      "Epoch 308/1000\n",
      "537/537 [==============================] - 0s 175us/step - loss: 0.4856 - binary_accuracy: 0.7374 - val_loss: 0.4710 - val_binary_accuracy: 0.7792\n",
      "Epoch 309/1000\n",
      "537/537 [==============================] - 0s 189us/step - loss: 0.4874 - binary_accuracy: 0.7430 - val_loss: 0.4724 - val_binary_accuracy: 0.7706\n",
      "Epoch 310/1000\n",
      "537/537 [==============================] - 0s 176us/step - loss: 0.4936 - binary_accuracy: 0.7505 - val_loss: 0.4716 - val_binary_accuracy: 0.7662\n",
      "Epoch 311/1000\n",
      "537/537 [==============================] - 0s 176us/step - loss: 0.4859 - binary_accuracy: 0.7598 - val_loss: 0.4731 - val_binary_accuracy: 0.7662\n",
      "Epoch 312/1000\n",
      "537/537 [==============================] - 0s 173us/step - loss: 0.4883 - binary_accuracy: 0.7523 - val_loss: 0.4740 - val_binary_accuracy: 0.7662\n",
      "Epoch 313/1000\n",
      "537/537 [==============================] - 0s 173us/step - loss: 0.4743 - binary_accuracy: 0.7635 - val_loss: 0.4727 - val_binary_accuracy: 0.7706\n",
      "Epoch 314/1000\n",
      "537/537 [==============================] - 0s 176us/step - loss: 0.4774 - binary_accuracy: 0.7561 - val_loss: 0.4718 - val_binary_accuracy: 0.7706\n",
      "Epoch 315/1000\n",
      "537/537 [==============================] - 0s 165us/step - loss: 0.4799 - binary_accuracy: 0.7467 - val_loss: 0.4729 - val_binary_accuracy: 0.7706\n",
      "Epoch 316/1000\n",
      "537/537 [==============================] - 0s 167us/step - loss: 0.4869 - binary_accuracy: 0.7467 - val_loss: 0.4733 - val_binary_accuracy: 0.7706\n",
      "Epoch 317/1000\n",
      "537/537 [==============================] - 0s 175us/step - loss: 0.4559 - binary_accuracy: 0.7709 - val_loss: 0.4725 - val_binary_accuracy: 0.7706\n",
      "Epoch 318/1000\n",
      "537/537 [==============================] - 0s 180us/step - loss: 0.4833 - binary_accuracy: 0.7412 - val_loss: 0.4731 - val_binary_accuracy: 0.7706\n",
      "Epoch 319/1000\n",
      "537/537 [==============================] - 0s 264us/step - loss: 0.4686 - binary_accuracy: 0.7691 - val_loss: 0.4733 - val_binary_accuracy: 0.7662\n",
      "Epoch 320/1000\n",
      "537/537 [==============================] - 0s 243us/step - loss: 0.4845 - binary_accuracy: 0.7467 - val_loss: 0.4738 - val_binary_accuracy: 0.7706\n",
      "Epoch 321/1000\n",
      "537/537 [==============================] - 0s 197us/step - loss: 0.4924 - binary_accuracy: 0.7523 - val_loss: 0.4735 - val_binary_accuracy: 0.7662\n",
      "Epoch 322/1000\n",
      "537/537 [==============================] - 0s 180us/step - loss: 0.4826 - binary_accuracy: 0.7542 - val_loss: 0.4751 - val_binary_accuracy: 0.7576\n",
      "Epoch 323/1000\n",
      "537/537 [==============================] - 0s 176us/step - loss: 0.4821 - binary_accuracy: 0.7374 - val_loss: 0.4752 - val_binary_accuracy: 0.7662\n",
      "Epoch 324/1000\n",
      "537/537 [==============================] - 0s 182us/step - loss: 0.4834 - binary_accuracy: 0.7505 - val_loss: 0.4757 - val_binary_accuracy: 0.7619\n",
      "Epoch 325/1000\n",
      "537/537 [==============================] - 0s 178us/step - loss: 0.4850 - binary_accuracy: 0.7523 - val_loss: 0.4740 - val_binary_accuracy: 0.7706\n",
      "Epoch 326/1000\n",
      "537/537 [==============================] - 0s 169us/step - loss: 0.4807 - binary_accuracy: 0.7393 - val_loss: 0.4772 - val_binary_accuracy: 0.7619\n",
      "Epoch 327/1000\n",
      "537/537 [==============================] - 0s 178us/step - loss: 0.4952 - binary_accuracy: 0.7523 - val_loss: 0.4765 - val_binary_accuracy: 0.7576\n",
      "Epoch 328/1000\n",
      "537/537 [==============================] - 0s 173us/step - loss: 0.4630 - binary_accuracy: 0.7784 - val_loss: 0.4757 - val_binary_accuracy: 0.7576\n",
      "Epoch 329/1000\n",
      "537/537 [==============================] - 0s 210us/step - loss: 0.4589 - binary_accuracy: 0.7561 - val_loss: 0.4761 - val_binary_accuracy: 0.7576\n",
      "Epoch 330/1000\n",
      "537/537 [==============================] - 0s 191us/step - loss: 0.4917 - binary_accuracy: 0.7486 - val_loss: 0.4748 - val_binary_accuracy: 0.7662\n",
      "Epoch 331/1000\n",
      "537/537 [==============================] - 0s 186us/step - loss: 0.4933 - binary_accuracy: 0.7467 - val_loss: 0.4755 - val_binary_accuracy: 0.7662\n",
      "Epoch 332/1000\n",
      "537/537 [==============================] - 0s 193us/step - loss: 0.4675 - binary_accuracy: 0.7467 - val_loss: 0.4759 - val_binary_accuracy: 0.7619\n",
      "Epoch 333/1000\n",
      "537/537 [==============================] - 0s 206us/step - loss: 0.4819 - binary_accuracy: 0.7523 - val_loss: 0.4769 - val_binary_accuracy: 0.7619\n",
      "Epoch 334/1000\n",
      "537/537 [==============================] - 0s 191us/step - loss: 0.4939 - binary_accuracy: 0.7505 - val_loss: 0.4757 - val_binary_accuracy: 0.7619\n",
      "Epoch 335/1000\n",
      "537/537 [==============================] - 0s 210us/step - loss: 0.4744 - binary_accuracy: 0.7635 - val_loss: 0.4772 - val_binary_accuracy: 0.7662\n",
      "Epoch 336/1000\n",
      "537/537 [==============================] - 0s 208us/step - loss: 0.4685 - binary_accuracy: 0.7616 - val_loss: 0.4758 - val_binary_accuracy: 0.7619\n",
      "Epoch 337/1000\n",
      "537/537 [==============================] - 0s 189us/step - loss: 0.4701 - binary_accuracy: 0.7486 - val_loss: 0.4764 - val_binary_accuracy: 0.7619\n",
      "Epoch 338/1000\n",
      "537/537 [==============================] - 0s 204us/step - loss: 0.4764 - binary_accuracy: 0.7579 - val_loss: 0.4769 - val_binary_accuracy: 0.7619\n",
      "Epoch 339/1000\n",
      "537/537 [==============================] - 0s 186us/step - loss: 0.4834 - binary_accuracy: 0.7616 - val_loss: 0.4760 - val_binary_accuracy: 0.7662\n",
      "Epoch 340/1000\n",
      "537/537 [==============================] - 0s 195us/step - loss: 0.4801 - binary_accuracy: 0.7449 - val_loss: 0.4753 - val_binary_accuracy: 0.7662\n",
      "Epoch 341/1000\n",
      "537/537 [==============================] - 0s 188us/step - loss: 0.4883 - binary_accuracy: 0.7505 - val_loss: 0.4761 - val_binary_accuracy: 0.7662\n",
      "Epoch 342/1000\n",
      "537/537 [==============================] - 0s 186us/step - loss: 0.4926 - binary_accuracy: 0.7281 - val_loss: 0.4766 - val_binary_accuracy: 0.7619\n",
      "Epoch 343/1000\n",
      "537/537 [==============================] - 0s 188us/step - loss: 0.5000 - binary_accuracy: 0.7207 - val_loss: 0.4762 - val_binary_accuracy: 0.7619\n",
      "Epoch 344/1000\n",
      "537/537 [==============================] - 0s 193us/step - loss: 0.4633 - binary_accuracy: 0.7691 - val_loss: 0.4767 - val_binary_accuracy: 0.7576\n",
      "Epoch 345/1000\n",
      "537/537 [==============================] - 0s 188us/step - loss: 0.4796 - binary_accuracy: 0.7505 - val_loss: 0.4745 - val_binary_accuracy: 0.7662\n",
      "Epoch 346/1000\n",
      "537/537 [==============================] - 0s 189us/step - loss: 0.4743 - binary_accuracy: 0.7579 - val_loss: 0.4727 - val_binary_accuracy: 0.7662\n",
      "Epoch 347/1000\n",
      "537/537 [==============================] - 0s 202us/step - loss: 0.4740 - binary_accuracy: 0.7505 - val_loss: 0.4747 - val_binary_accuracy: 0.7706\n",
      "Epoch 348/1000\n",
      "537/537 [==============================] - 0s 201us/step - loss: 0.4795 - binary_accuracy: 0.7337 - val_loss: 0.4741 - val_binary_accuracy: 0.7706\n",
      "Epoch 349/1000\n",
      "537/537 [==============================] - 0s 182us/step - loss: 0.4821 - binary_accuracy: 0.7412 - val_loss: 0.4752 - val_binary_accuracy: 0.7662\n",
      "Epoch 350/1000\n",
      "537/537 [==============================] - 0s 199us/step - loss: 0.4863 - binary_accuracy: 0.7430 - val_loss: 0.4769 - val_binary_accuracy: 0.7576\n",
      "Epoch 351/1000\n",
      "537/537 [==============================] - 0s 182us/step - loss: 0.4743 - binary_accuracy: 0.7523 - val_loss: 0.4764 - val_binary_accuracy: 0.7662\n",
      "Epoch 352/1000\n",
      "537/537 [==============================] - 0s 188us/step - loss: 0.4550 - binary_accuracy: 0.7598 - val_loss: 0.4780 - val_binary_accuracy: 0.7576\n",
      "Epoch 353/1000\n",
      "537/537 [==============================] - 0s 195us/step - loss: 0.4803 - binary_accuracy: 0.7561 - val_loss: 0.4786 - val_binary_accuracy: 0.7619\n",
      "Epoch 354/1000\n",
      "537/537 [==============================] - 0s 176us/step - loss: 0.4710 - binary_accuracy: 0.7654 - val_loss: 0.4768 - val_binary_accuracy: 0.7662\n",
      "Epoch 355/1000\n"
     ]
    },
    {
     "name": "stdout",
     "output_type": "stream",
     "text": [
      "537/537 [==============================] - 0s 178us/step - loss: 0.4837 - binary_accuracy: 0.7449 - val_loss: 0.4765 - val_binary_accuracy: 0.7662\n",
      "Epoch 356/1000\n",
      "537/537 [==============================] - 0s 175us/step - loss: 0.4721 - binary_accuracy: 0.7616 - val_loss: 0.4746 - val_binary_accuracy: 0.7706\n",
      "Epoch 357/1000\n",
      "537/537 [==============================] - 0s 178us/step - loss: 0.4759 - binary_accuracy: 0.7449 - val_loss: 0.4753 - val_binary_accuracy: 0.7662\n",
      "Epoch 358/1000\n",
      "537/537 [==============================] - 0s 176us/step - loss: 0.4661 - binary_accuracy: 0.7542 - val_loss: 0.4764 - val_binary_accuracy: 0.7662\n",
      "Epoch 359/1000\n",
      "537/537 [==============================] - 0s 189us/step - loss: 0.4965 - binary_accuracy: 0.7244 - val_loss: 0.4783 - val_binary_accuracy: 0.7662\n",
      "Epoch 360/1000\n",
      "537/537 [==============================] - 0s 201us/step - loss: 0.4746 - binary_accuracy: 0.7784 - val_loss: 0.4762 - val_binary_accuracy: 0.7662\n",
      "Epoch 361/1000\n",
      "537/537 [==============================] - 0s 193us/step - loss: 0.4931 - binary_accuracy: 0.7672 - val_loss: 0.4765 - val_binary_accuracy: 0.7662\n",
      "Epoch 362/1000\n",
      "537/537 [==============================] - 0s 193us/step - loss: 0.4758 - binary_accuracy: 0.7691 - val_loss: 0.4771 - val_binary_accuracy: 0.7662\n",
      "Epoch 363/1000\n",
      "537/537 [==============================] - 0s 186us/step - loss: 0.4736 - binary_accuracy: 0.7579 - val_loss: 0.4766 - val_binary_accuracy: 0.7662\n",
      "Epoch 364/1000\n",
      "537/537 [==============================] - 0s 180us/step - loss: 0.4731 - binary_accuracy: 0.7542 - val_loss: 0.4773 - val_binary_accuracy: 0.7662\n",
      "Epoch 365/1000\n",
      "537/537 [==============================] - 0s 176us/step - loss: 0.4823 - binary_accuracy: 0.7449 - val_loss: 0.4773 - val_binary_accuracy: 0.7662\n",
      "Epoch 366/1000\n",
      "537/537 [==============================] - 0s 199us/step - loss: 0.4977 - binary_accuracy: 0.7467 - val_loss: 0.4769 - val_binary_accuracy: 0.7662\n",
      "Epoch 367/1000\n",
      "537/537 [==============================] - 0s 206us/step - loss: 0.4864 - binary_accuracy: 0.7579 - val_loss: 0.4772 - val_binary_accuracy: 0.7662\n",
      "Epoch 368/1000\n",
      "537/537 [==============================] - 0s 186us/step - loss: 0.4637 - binary_accuracy: 0.7616 - val_loss: 0.4779 - val_binary_accuracy: 0.7662\n",
      "Epoch 369/1000\n",
      "537/537 [==============================] - 0s 191us/step - loss: 0.4786 - binary_accuracy: 0.7412 - val_loss: 0.4780 - val_binary_accuracy: 0.7662\n",
      "Epoch 370/1000\n",
      "537/537 [==============================] - 0s 178us/step - loss: 0.4701 - binary_accuracy: 0.7542 - val_loss: 0.4753 - val_binary_accuracy: 0.7706\n",
      "Epoch 371/1000\n",
      "537/537 [==============================] - 0s 184us/step - loss: 0.4644 - binary_accuracy: 0.7523 - val_loss: 0.4754 - val_binary_accuracy: 0.7706\n",
      "Epoch 372/1000\n",
      "537/537 [==============================] - 0s 186us/step - loss: 0.4675 - binary_accuracy: 0.7561 - val_loss: 0.4759 - val_binary_accuracy: 0.7706\n",
      "Epoch 373/1000\n",
      "537/537 [==============================] - 0s 184us/step - loss: 0.4904 - binary_accuracy: 0.7467 - val_loss: 0.4753 - val_binary_accuracy: 0.7749\n",
      "Epoch 374/1000\n",
      "537/537 [==============================] - 0s 178us/step - loss: 0.4897 - binary_accuracy: 0.7374 - val_loss: 0.4757 - val_binary_accuracy: 0.7706\n",
      "Epoch 375/1000\n",
      "537/537 [==============================] - 0s 171us/step - loss: 0.4814 - binary_accuracy: 0.7356 - val_loss: 0.4764 - val_binary_accuracy: 0.7619\n",
      "Epoch 376/1000\n",
      "537/537 [==============================] - 0s 182us/step - loss: 0.4588 - binary_accuracy: 0.7616 - val_loss: 0.4774 - val_binary_accuracy: 0.7619\n",
      "Epoch 377/1000\n",
      "537/537 [==============================] - 0s 188us/step - loss: 0.4892 - binary_accuracy: 0.7430 - val_loss: 0.4776 - val_binary_accuracy: 0.7619\n",
      "Epoch 378/1000\n",
      "537/537 [==============================] - 0s 173us/step - loss: 0.4700 - binary_accuracy: 0.7654 - val_loss: 0.4758 - val_binary_accuracy: 0.7662\n",
      "Epoch 379/1000\n",
      "537/537 [==============================] - 0s 173us/step - loss: 0.4761 - binary_accuracy: 0.7505 - val_loss: 0.4763 - val_binary_accuracy: 0.7662\n",
      "Epoch 380/1000\n",
      "537/537 [==============================] - 0s 189us/step - loss: 0.4631 - binary_accuracy: 0.7598 - val_loss: 0.4770 - val_binary_accuracy: 0.7662\n",
      "Epoch 381/1000\n",
      "537/537 [==============================] - 0s 176us/step - loss: 0.4675 - binary_accuracy: 0.7635 - val_loss: 0.4781 - val_binary_accuracy: 0.7662\n",
      "Epoch 382/1000\n",
      "537/537 [==============================] - 0s 199us/step - loss: 0.4882 - binary_accuracy: 0.7393 - val_loss: 0.4785 - val_binary_accuracy: 0.7619\n",
      "Epoch 383/1000\n",
      "537/537 [==============================] - 0s 180us/step - loss: 0.4710 - binary_accuracy: 0.7598 - val_loss: 0.4793 - val_binary_accuracy: 0.7662\n",
      "Epoch 384/1000\n",
      "537/537 [==============================] - 0s 180us/step - loss: 0.4727 - binary_accuracy: 0.7579 - val_loss: 0.4800 - val_binary_accuracy: 0.7576\n",
      "Epoch 385/1000\n",
      "537/537 [==============================] - 0s 182us/step - loss: 0.4535 - binary_accuracy: 0.7672 - val_loss: 0.4787 - val_binary_accuracy: 0.7662\n",
      "Epoch 386/1000\n",
      "537/537 [==============================] - 0s 184us/step - loss: 0.4512 - binary_accuracy: 0.7542 - val_loss: 0.4792 - val_binary_accuracy: 0.7662\n",
      "Epoch 387/1000\n",
      "537/537 [==============================] - 0s 191us/step - loss: 0.4642 - binary_accuracy: 0.7561 - val_loss: 0.4788 - val_binary_accuracy: 0.7619\n",
      "Epoch 388/1000\n",
      "537/537 [==============================] - 0s 191us/step - loss: 0.4880 - binary_accuracy: 0.7430 - val_loss: 0.4775 - val_binary_accuracy: 0.7662\n",
      "Epoch 389/1000\n",
      "537/537 [==============================] - 0s 176us/step - loss: 0.4654 - binary_accuracy: 0.7672 - val_loss: 0.4781 - val_binary_accuracy: 0.7706\n",
      "Epoch 390/1000\n",
      "537/537 [==============================] - 0s 176us/step - loss: 0.4892 - binary_accuracy: 0.7561 - val_loss: 0.4796 - val_binary_accuracy: 0.7619\n",
      "Epoch 391/1000\n",
      "537/537 [==============================] - 0s 197us/step - loss: 0.4766 - binary_accuracy: 0.7542 - val_loss: 0.4802 - val_binary_accuracy: 0.7619\n",
      "Epoch 392/1000\n",
      "537/537 [==============================] - 0s 178us/step - loss: 0.4708 - binary_accuracy: 0.7561 - val_loss: 0.4817 - val_binary_accuracy: 0.7619\n",
      "Epoch 393/1000\n",
      "537/537 [==============================] - 0s 182us/step - loss: 0.4939 - binary_accuracy: 0.7505 - val_loss: 0.4817 - val_binary_accuracy: 0.7532\n",
      "Epoch 394/1000\n",
      "537/537 [==============================] - 0s 199us/step - loss: 0.4720 - binary_accuracy: 0.7561 - val_loss: 0.4810 - val_binary_accuracy: 0.7576\n",
      "Epoch 395/1000\n",
      "537/537 [==============================] - 0s 214us/step - loss: 0.4505 - binary_accuracy: 0.7616 - val_loss: 0.4801 - val_binary_accuracy: 0.7619\n",
      "Epoch 396/1000\n",
      "537/537 [==============================] - 0s 234us/step - loss: 0.4717 - binary_accuracy: 0.7393 - val_loss: 0.4812 - val_binary_accuracy: 0.7619\n",
      "Epoch 397/1000\n",
      "537/537 [==============================] - 0s 227us/step - loss: 0.4731 - binary_accuracy: 0.7579 - val_loss: 0.4800 - val_binary_accuracy: 0.7706\n",
      "Epoch 398/1000\n",
      "537/537 [==============================] - 0s 186us/step - loss: 0.4682 - binary_accuracy: 0.7616 - val_loss: 0.4809 - val_binary_accuracy: 0.7706\n",
      "Epoch 399/1000\n",
      "537/537 [==============================] - 0s 180us/step - loss: 0.4719 - binary_accuracy: 0.7374 - val_loss: 0.4811 - val_binary_accuracy: 0.7576\n",
      "Epoch 400/1000\n",
      "537/537 [==============================] - 0s 182us/step - loss: 0.4764 - binary_accuracy: 0.7393 - val_loss: 0.4808 - val_binary_accuracy: 0.7662\n",
      "Epoch 401/1000\n",
      "537/537 [==============================] - 0s 182us/step - loss: 0.4704 - binary_accuracy: 0.7449 - val_loss: 0.4822 - val_binary_accuracy: 0.7576\n",
      "Epoch 402/1000\n",
      "537/537 [==============================] - 0s 182us/step - loss: 0.4733 - binary_accuracy: 0.7505 - val_loss: 0.4803 - val_binary_accuracy: 0.7662\n",
      "Epoch 403/1000\n",
      "537/537 [==============================] - 0s 184us/step - loss: 0.4695 - binary_accuracy: 0.7635 - val_loss: 0.4812 - val_binary_accuracy: 0.7706\n",
      "Epoch 404/1000\n",
      "537/537 [==============================] - 0s 182us/step - loss: 0.4786 - binary_accuracy: 0.7356 - val_loss: 0.4824 - val_binary_accuracy: 0.7576\n",
      "Epoch 405/1000\n",
      "537/537 [==============================] - 0s 180us/step - loss: 0.4815 - binary_accuracy: 0.7505 - val_loss: 0.4803 - val_binary_accuracy: 0.7532\n"
     ]
    },
    {
     "name": "stdout",
     "output_type": "stream",
     "text": [
      "Epoch 406/1000\n",
      "537/537 [==============================] - 0s 189us/step - loss: 0.4841 - binary_accuracy: 0.7486 - val_loss: 0.4794 - val_binary_accuracy: 0.7619\n",
      "Epoch 407/1000\n",
      "537/537 [==============================] - 0s 171us/step - loss: 0.4809 - binary_accuracy: 0.7598 - val_loss: 0.4806 - val_binary_accuracy: 0.7619\n",
      "Epoch 408/1000\n",
      "537/537 [==============================] - 0s 167us/step - loss: 0.4699 - binary_accuracy: 0.7505 - val_loss: 0.4790 - val_binary_accuracy: 0.7706\n",
      "Epoch 409/1000\n",
      "537/537 [==============================] - 0s 169us/step - loss: 0.4790 - binary_accuracy: 0.7467 - val_loss: 0.4807 - val_binary_accuracy: 0.7662\n",
      "Epoch 410/1000\n",
      "537/537 [==============================] - 0s 173us/step - loss: 0.4679 - binary_accuracy: 0.7561 - val_loss: 0.4827 - val_binary_accuracy: 0.7576\n",
      "Epoch 411/1000\n",
      "537/537 [==============================] - 0s 173us/step - loss: 0.4729 - binary_accuracy: 0.7542 - val_loss: 0.4827 - val_binary_accuracy: 0.7532\n",
      "Epoch 412/1000\n",
      "537/537 [==============================] - 0s 169us/step - loss: 0.4701 - binary_accuracy: 0.7505 - val_loss: 0.4803 - val_binary_accuracy: 0.7619\n",
      "Epoch 413/1000\n",
      "537/537 [==============================] - 0s 173us/step - loss: 0.4846 - binary_accuracy: 0.7467 - val_loss: 0.4795 - val_binary_accuracy: 0.7662\n",
      "Epoch 414/1000\n",
      "537/537 [==============================] - 0s 165us/step - loss: 0.4643 - binary_accuracy: 0.7598 - val_loss: 0.4820 - val_binary_accuracy: 0.7619\n",
      "Epoch 415/1000\n",
      "537/537 [==============================] - 0s 175us/step - loss: 0.4642 - binary_accuracy: 0.7486 - val_loss: 0.4817 - val_binary_accuracy: 0.7619\n",
      "Epoch 416/1000\n",
      "537/537 [==============================] - 0s 180us/step - loss: 0.4581 - binary_accuracy: 0.7561 - val_loss: 0.4813 - val_binary_accuracy: 0.7619\n",
      "Epoch 417/1000\n",
      "537/537 [==============================] - 0s 173us/step - loss: 0.4636 - binary_accuracy: 0.7561 - val_loss: 0.4829 - val_binary_accuracy: 0.7576\n",
      "Epoch 418/1000\n",
      "537/537 [==============================] - 0s 182us/step - loss: 0.4880 - binary_accuracy: 0.7505 - val_loss: 0.4814 - val_binary_accuracy: 0.7662\n",
      "Epoch 419/1000\n",
      "537/537 [==============================] - 0s 184us/step - loss: 0.4647 - binary_accuracy: 0.7430 - val_loss: 0.4816 - val_binary_accuracy: 0.7619\n",
      "Epoch 420/1000\n",
      "537/537 [==============================] - 0s 171us/step - loss: 0.4693 - binary_accuracy: 0.7561 - val_loss: 0.4834 - val_binary_accuracy: 0.7489\n",
      "Epoch 421/1000\n",
      "537/537 [==============================] - 0s 193us/step - loss: 0.4657 - binary_accuracy: 0.7542 - val_loss: 0.4830 - val_binary_accuracy: 0.7576\n",
      "Epoch 422/1000\n",
      "537/537 [==============================] - 0s 188us/step - loss: 0.4643 - binary_accuracy: 0.7374 - val_loss: 0.4813 - val_binary_accuracy: 0.7576\n",
      "Epoch 423/1000\n",
      "537/537 [==============================] - 0s 175us/step - loss: 0.4633 - binary_accuracy: 0.7579 - val_loss: 0.4828 - val_binary_accuracy: 0.7576\n",
      "Epoch 424/1000\n",
      "537/537 [==============================] - 0s 167us/step - loss: 0.4837 - binary_accuracy: 0.7356 - val_loss: 0.4834 - val_binary_accuracy: 0.7532\n",
      "Epoch 425/1000\n",
      "537/537 [==============================] - 0s 171us/step - loss: 0.4711 - binary_accuracy: 0.7505 - val_loss: 0.4818 - val_binary_accuracy: 0.7576\n",
      "Epoch 426/1000\n",
      "537/537 [==============================] - 0s 195us/step - loss: 0.4805 - binary_accuracy: 0.7449 - val_loss: 0.4801 - val_binary_accuracy: 0.7619\n",
      "Epoch 427/1000\n",
      "537/537 [==============================] - 0s 228us/step - loss: 0.4603 - binary_accuracy: 0.7598 - val_loss: 0.4807 - val_binary_accuracy: 0.7619\n",
      "Epoch 428/1000\n",
      "537/537 [==============================] - 0s 208us/step - loss: 0.4800 - binary_accuracy: 0.7505 - val_loss: 0.4802 - val_binary_accuracy: 0.7619\n",
      "Epoch 429/1000\n",
      "537/537 [==============================] - 0s 199us/step - loss: 0.4772 - binary_accuracy: 0.7542 - val_loss: 0.4792 - val_binary_accuracy: 0.7619\n",
      "Epoch 430/1000\n",
      "537/537 [==============================] - 0s 178us/step - loss: 0.4741 - binary_accuracy: 0.7542 - val_loss: 0.4806 - val_binary_accuracy: 0.7619\n",
      "Epoch 431/1000\n",
      "537/537 [==============================] - 0s 169us/step - loss: 0.4694 - binary_accuracy: 0.7672 - val_loss: 0.4802 - val_binary_accuracy: 0.7619\n",
      "Epoch 432/1000\n",
      "537/537 [==============================] - 0s 201us/step - loss: 0.4584 - binary_accuracy: 0.7598 - val_loss: 0.4820 - val_binary_accuracy: 0.7576\n",
      "Epoch 433/1000\n",
      "537/537 [==============================] - 0s 195us/step - loss: 0.4706 - binary_accuracy: 0.7691 - val_loss: 0.4802 - val_binary_accuracy: 0.7619\n",
      "Epoch 434/1000\n",
      "537/537 [==============================] - 0s 201us/step - loss: 0.4688 - binary_accuracy: 0.7505 - val_loss: 0.4809 - val_binary_accuracy: 0.7619\n",
      "Epoch 435/1000\n",
      "537/537 [==============================] - 0s 215us/step - loss: 0.4645 - binary_accuracy: 0.7635 - val_loss: 0.4793 - val_binary_accuracy: 0.7619\n",
      "Epoch 436/1000\n",
      "537/537 [==============================] - 0s 202us/step - loss: 0.4709 - binary_accuracy: 0.7467 - val_loss: 0.4803 - val_binary_accuracy: 0.7576\n",
      "Epoch 437/1000\n",
      "537/537 [==============================] - 0s 184us/step - loss: 0.4730 - binary_accuracy: 0.7467 - val_loss: 0.4822 - val_binary_accuracy: 0.7576\n",
      "Epoch 438/1000\n",
      "537/537 [==============================] - 0s 193us/step - loss: 0.4696 - binary_accuracy: 0.7430 - val_loss: 0.4809 - val_binary_accuracy: 0.7619\n",
      "Epoch 439/1000\n",
      "537/537 [==============================] - 0s 193us/step - loss: 0.4705 - binary_accuracy: 0.7486 - val_loss: 0.4799 - val_binary_accuracy: 0.7576\n",
      "Epoch 440/1000\n",
      "537/537 [==============================] - 0s 186us/step - loss: 0.4770 - binary_accuracy: 0.7430 - val_loss: 0.4785 - val_binary_accuracy: 0.7619\n",
      "Epoch 441/1000\n",
      "537/537 [==============================] - 0s 212us/step - loss: 0.4779 - binary_accuracy: 0.7374 - val_loss: 0.4797 - val_binary_accuracy: 0.7619\n",
      "Epoch 442/1000\n",
      "537/537 [==============================] - 0s 221us/step - loss: 0.4678 - binary_accuracy: 0.7430 - val_loss: 0.4809 - val_binary_accuracy: 0.7619\n",
      "Epoch 443/1000\n",
      "537/537 [==============================] - 0s 215us/step - loss: 0.4625 - binary_accuracy: 0.7672 - val_loss: 0.4822 - val_binary_accuracy: 0.7576\n",
      "Epoch 444/1000\n",
      "537/537 [==============================] - 0s 219us/step - loss: 0.4715 - binary_accuracy: 0.7486 - val_loss: 0.4810 - val_binary_accuracy: 0.7619\n",
      "Epoch 445/1000\n",
      "537/537 [==============================] - 0s 189us/step - loss: 0.4801 - binary_accuracy: 0.7449 - val_loss: 0.4821 - val_binary_accuracy: 0.7576\n",
      "Epoch 446/1000\n",
      "537/537 [==============================] - 0s 178us/step - loss: 0.4595 - binary_accuracy: 0.7542 - val_loss: 0.4826 - val_binary_accuracy: 0.7619\n",
      "Epoch 447/1000\n",
      "537/537 [==============================] - 0s 188us/step - loss: 0.4589 - binary_accuracy: 0.7672 - val_loss: 0.4827 - val_binary_accuracy: 0.7619\n",
      "Epoch 448/1000\n",
      "537/537 [==============================] - 0s 186us/step - loss: 0.4495 - binary_accuracy: 0.7728 - val_loss: 0.4814 - val_binary_accuracy: 0.7619\n",
      "Epoch 449/1000\n",
      "537/537 [==============================] - 0s 223us/step - loss: 0.4653 - binary_accuracy: 0.7430 - val_loss: 0.4815 - val_binary_accuracy: 0.7619\n",
      "Epoch 450/1000\n",
      "537/537 [==============================] - 0s 241us/step - loss: 0.4680 - binary_accuracy: 0.7616 - val_loss: 0.4810 - val_binary_accuracy: 0.7619\n",
      "Epoch 451/1000\n",
      "537/537 [==============================] - 0s 214us/step - loss: 0.4563 - binary_accuracy: 0.7374 - val_loss: 0.4814 - val_binary_accuracy: 0.7619\n",
      "Epoch 452/1000\n",
      "537/537 [==============================] - 0s 197us/step - loss: 0.4573 - binary_accuracy: 0.7579 - val_loss: 0.4807 - val_binary_accuracy: 0.7662\n",
      "Epoch 453/1000\n",
      "537/537 [==============================] - 0s 191us/step - loss: 0.4644 - binary_accuracy: 0.7598 - val_loss: 0.4810 - val_binary_accuracy: 0.7619\n",
      "Epoch 454/1000\n",
      "537/537 [==============================] - 0s 201us/step - loss: 0.4443 - binary_accuracy: 0.7747 - val_loss: 0.4811 - val_binary_accuracy: 0.7662\n",
      "Epoch 455/1000\n",
      "537/537 [==============================] - 0s 180us/step - loss: 0.4797 - binary_accuracy: 0.7337 - val_loss: 0.4804 - val_binary_accuracy: 0.7619\n",
      "Epoch 456/1000\n"
     ]
    },
    {
     "name": "stdout",
     "output_type": "stream",
     "text": [
      "537/537 [==============================] - 0s 184us/step - loss: 0.4670 - binary_accuracy: 0.7523 - val_loss: 0.4808 - val_binary_accuracy: 0.7619\n",
      "Epoch 457/1000\n",
      "537/537 [==============================] - 0s 230us/step - loss: 0.4574 - binary_accuracy: 0.7579 - val_loss: 0.4817 - val_binary_accuracy: 0.7619\n",
      "Epoch 458/1000\n",
      "537/537 [==============================] - 0s 204us/step - loss: 0.4668 - binary_accuracy: 0.7561 - val_loss: 0.4812 - val_binary_accuracy: 0.7619\n",
      "Epoch 459/1000\n",
      "537/537 [==============================] - 0s 197us/step - loss: 0.4704 - binary_accuracy: 0.7523 - val_loss: 0.4809 - val_binary_accuracy: 0.7619\n",
      "Epoch 460/1000\n",
      "537/537 [==============================] - 0s 169us/step - loss: 0.4700 - binary_accuracy: 0.7523 - val_loss: 0.4829 - val_binary_accuracy: 0.7576\n",
      "Epoch 461/1000\n",
      "537/537 [==============================] - 0s 175us/step - loss: 0.4540 - binary_accuracy: 0.7523 - val_loss: 0.4830 - val_binary_accuracy: 0.7576\n",
      "Epoch 462/1000\n",
      "537/537 [==============================] - 0s 199us/step - loss: 0.4718 - binary_accuracy: 0.7579 - val_loss: 0.4829 - val_binary_accuracy: 0.7576\n",
      "Epoch 463/1000\n",
      "537/537 [==============================] - 0s 212us/step - loss: 0.4667 - binary_accuracy: 0.7691 - val_loss: 0.4813 - val_binary_accuracy: 0.7619\n",
      "Epoch 464/1000\n",
      "537/537 [==============================] - 0s 189us/step - loss: 0.4649 - binary_accuracy: 0.7467 - val_loss: 0.4814 - val_binary_accuracy: 0.7576\n",
      "Epoch 465/1000\n",
      "537/537 [==============================] - 0s 186us/step - loss: 0.4774 - binary_accuracy: 0.7374 - val_loss: 0.4811 - val_binary_accuracy: 0.7576\n",
      "Epoch 466/1000\n",
      "537/537 [==============================] - 0s 176us/step - loss: 0.4507 - binary_accuracy: 0.7542 - val_loss: 0.4825 - val_binary_accuracy: 0.7576\n",
      "Epoch 467/1000\n",
      "537/537 [==============================] - 0s 180us/step - loss: 0.4605 - binary_accuracy: 0.7579 - val_loss: 0.4838 - val_binary_accuracy: 0.7619\n",
      "Epoch 468/1000\n",
      "537/537 [==============================] - 0s 167us/step - loss: 0.4414 - binary_accuracy: 0.7523 - val_loss: 0.4852 - val_binary_accuracy: 0.7532\n",
      "Epoch 469/1000\n",
      "537/537 [==============================] - 0s 171us/step - loss: 0.4623 - binary_accuracy: 0.7561 - val_loss: 0.4844 - val_binary_accuracy: 0.7576\n",
      "Epoch 470/1000\n",
      "537/537 [==============================] - 0s 178us/step - loss: 0.4601 - binary_accuracy: 0.7598 - val_loss: 0.4828 - val_binary_accuracy: 0.7619\n",
      "Epoch 471/1000\n",
      "537/537 [==============================] - 0s 193us/step - loss: 0.4754 - binary_accuracy: 0.7598 - val_loss: 0.4834 - val_binary_accuracy: 0.7576\n",
      "Epoch 472/1000\n",
      "537/537 [==============================] - 0s 214us/step - loss: 0.4549 - binary_accuracy: 0.7598 - val_loss: 0.4829 - val_binary_accuracy: 0.7576\n",
      "Epoch 473/1000\n",
      "537/537 [==============================] - 0s 191us/step - loss: 0.4687 - binary_accuracy: 0.7672 - val_loss: 0.4836 - val_binary_accuracy: 0.7619\n",
      "Epoch 474/1000\n",
      "537/537 [==============================] - 0s 178us/step - loss: 0.4473 - binary_accuracy: 0.7616 - val_loss: 0.4852 - val_binary_accuracy: 0.7576\n",
      "Epoch 475/1000\n",
      "537/537 [==============================] - 0s 178us/step - loss: 0.4658 - binary_accuracy: 0.7691 - val_loss: 0.4838 - val_binary_accuracy: 0.7619\n",
      "Epoch 476/1000\n",
      "537/537 [==============================] - 0s 195us/step - loss: 0.4639 - binary_accuracy: 0.7356 - val_loss: 0.4828 - val_binary_accuracy: 0.7619\n",
      "Epoch 477/1000\n",
      "537/537 [==============================] - 0s 189us/step - loss: 0.4740 - binary_accuracy: 0.7542 - val_loss: 0.4814 - val_binary_accuracy: 0.7576\n",
      "Epoch 478/1000\n",
      "537/537 [==============================] - 0s 171us/step - loss: 0.4663 - binary_accuracy: 0.7561 - val_loss: 0.4810 - val_binary_accuracy: 0.7619\n",
      "Epoch 479/1000\n",
      "537/537 [==============================] - 0s 180us/step - loss: 0.4451 - binary_accuracy: 0.7616 - val_loss: 0.4832 - val_binary_accuracy: 0.7619\n",
      "Epoch 480/1000\n",
      "537/537 [==============================] - 0s 182us/step - loss: 0.4650 - binary_accuracy: 0.7598 - val_loss: 0.4831 - val_binary_accuracy: 0.7619\n",
      "Epoch 481/1000\n",
      "537/537 [==============================] - 0s 180us/step - loss: 0.4501 - binary_accuracy: 0.7616 - val_loss: 0.4830 - val_binary_accuracy: 0.7619\n",
      "Epoch 482/1000\n",
      "537/537 [==============================] - 0s 193us/step - loss: 0.4579 - binary_accuracy: 0.7579 - val_loss: 0.4840 - val_binary_accuracy: 0.7619\n",
      "Epoch 483/1000\n",
      "537/537 [==============================] - 0s 171us/step - loss: 0.4646 - binary_accuracy: 0.7598 - val_loss: 0.4840 - val_binary_accuracy: 0.7619\n",
      "Epoch 484/1000\n",
      "537/537 [==============================] - 0s 178us/step - loss: 0.4794 - binary_accuracy: 0.7467 - val_loss: 0.4828 - val_binary_accuracy: 0.7619\n",
      "Epoch 485/1000\n",
      "537/537 [==============================] - 0s 197us/step - loss: 0.4566 - binary_accuracy: 0.7691 - val_loss: 0.4826 - val_binary_accuracy: 0.7619\n",
      "Epoch 486/1000\n",
      "537/537 [==============================] - 0s 188us/step - loss: 0.4732 - binary_accuracy: 0.7412 - val_loss: 0.4838 - val_binary_accuracy: 0.7619\n",
      "Epoch 487/1000\n",
      "537/537 [==============================] - 0s 195us/step - loss: 0.4810 - binary_accuracy: 0.7486 - val_loss: 0.4831 - val_binary_accuracy: 0.7619\n",
      "Epoch 488/1000\n",
      "537/537 [==============================] - 0s 182us/step - loss: 0.4704 - binary_accuracy: 0.7449 - val_loss: 0.4834 - val_binary_accuracy: 0.7619\n",
      "Epoch 489/1000\n",
      "537/537 [==============================] - 0s 188us/step - loss: 0.4569 - binary_accuracy: 0.7561 - val_loss: 0.4827 - val_binary_accuracy: 0.7619\n",
      "Epoch 490/1000\n",
      "537/537 [==============================] - 0s 188us/step - loss: 0.4711 - binary_accuracy: 0.7579 - val_loss: 0.4819 - val_binary_accuracy: 0.7619\n",
      "Epoch 491/1000\n",
      "537/537 [==============================] - 0s 195us/step - loss: 0.4638 - binary_accuracy: 0.7505 - val_loss: 0.4816 - val_binary_accuracy: 0.7619\n",
      "Epoch 492/1000\n",
      "537/537 [==============================] - 0s 191us/step - loss: 0.4704 - binary_accuracy: 0.7393 - val_loss: 0.4826 - val_binary_accuracy: 0.7619\n",
      "Epoch 493/1000\n",
      "537/537 [==============================] - 0s 191us/step - loss: 0.4703 - binary_accuracy: 0.7486 - val_loss: 0.4824 - val_binary_accuracy: 0.7619\n",
      "Epoch 494/1000\n",
      "537/537 [==============================] - 0s 199us/step - loss: 0.4728 - binary_accuracy: 0.7765 - val_loss: 0.4830 - val_binary_accuracy: 0.7619\n",
      "Epoch 495/1000\n",
      "537/537 [==============================] - 0s 186us/step - loss: 0.4622 - binary_accuracy: 0.7579 - val_loss: 0.4824 - val_binary_accuracy: 0.7619\n",
      "Epoch 496/1000\n",
      "537/537 [==============================] - 0s 197us/step - loss: 0.4637 - binary_accuracy: 0.7709 - val_loss: 0.4816 - val_binary_accuracy: 0.7619\n",
      "Epoch 497/1000\n",
      "537/537 [==============================] - 0s 186us/step - loss: 0.4834 - binary_accuracy: 0.7579 - val_loss: 0.4819 - val_binary_accuracy: 0.7619\n",
      "Epoch 498/1000\n",
      "537/537 [==============================] - 0s 186us/step - loss: 0.4526 - binary_accuracy: 0.7635 - val_loss: 0.4813 - val_binary_accuracy: 0.7576\n",
      "Epoch 499/1000\n",
      "537/537 [==============================] - 0s 199us/step - loss: 0.4525 - binary_accuracy: 0.7598 - val_loss: 0.4826 - val_binary_accuracy: 0.7619\n",
      "Epoch 500/1000\n",
      "537/537 [==============================] - 0s 189us/step - loss: 0.4632 - binary_accuracy: 0.7616 - val_loss: 0.4823 - val_binary_accuracy: 0.7619\n",
      "Epoch 501/1000\n",
      "537/537 [==============================] - 0s 199us/step - loss: 0.4646 - binary_accuracy: 0.7635 - val_loss: 0.4817 - val_binary_accuracy: 0.7619\n",
      "Epoch 502/1000\n",
      "537/537 [==============================] - 0s 189us/step - loss: 0.4521 - binary_accuracy: 0.7691 - val_loss: 0.4824 - val_binary_accuracy: 0.7576\n",
      "Epoch 503/1000\n",
      "537/537 [==============================] - 0s 188us/step - loss: 0.4826 - binary_accuracy: 0.7430 - val_loss: 0.4810 - val_binary_accuracy: 0.7576\n",
      "Epoch 504/1000\n",
      "537/537 [==============================] - 0s 189us/step - loss: 0.4593 - binary_accuracy: 0.7337 - val_loss: 0.4825 - val_binary_accuracy: 0.7576\n",
      "Epoch 505/1000\n",
      "537/537 [==============================] - 0s 191us/step - loss: 0.4504 - binary_accuracy: 0.7728 - val_loss: 0.4831 - val_binary_accuracy: 0.7619\n",
      "Epoch 506/1000\n",
      "537/537 [==============================] - 0s 189us/step - loss: 0.4468 - binary_accuracy: 0.7561 - val_loss: 0.4830 - val_binary_accuracy: 0.7619\n"
     ]
    },
    {
     "name": "stdout",
     "output_type": "stream",
     "text": [
      "Epoch 507/1000\n",
      "537/537 [==============================] - 0s 182us/step - loss: 0.4571 - binary_accuracy: 0.7598 - val_loss: 0.4825 - val_binary_accuracy: 0.7576\n",
      "Epoch 508/1000\n",
      "537/537 [==============================] - 0s 184us/step - loss: 0.4465 - binary_accuracy: 0.7486 - val_loss: 0.4827 - val_binary_accuracy: 0.7576\n",
      "Epoch 509/1000\n",
      "537/537 [==============================] - 0s 176us/step - loss: 0.4702 - binary_accuracy: 0.7486 - val_loss: 0.4831 - val_binary_accuracy: 0.7576\n",
      "Epoch 510/1000\n",
      "537/537 [==============================] - 0s 184us/step - loss: 0.4648 - binary_accuracy: 0.7691 - val_loss: 0.4828 - val_binary_accuracy: 0.7619\n",
      "Epoch 511/1000\n",
      "537/537 [==============================] - 0s 184us/step - loss: 0.4546 - binary_accuracy: 0.7523 - val_loss: 0.4843 - val_binary_accuracy: 0.7576\n",
      "Epoch 512/1000\n",
      "537/537 [==============================] - 0s 171us/step - loss: 0.4517 - binary_accuracy: 0.7430 - val_loss: 0.4858 - val_binary_accuracy: 0.7576\n",
      "Epoch 513/1000\n",
      "537/537 [==============================] - 0s 169us/step - loss: 0.4692 - binary_accuracy: 0.7542 - val_loss: 0.4851 - val_binary_accuracy: 0.7576\n",
      "Epoch 514/1000\n",
      "537/537 [==============================] - 0s 171us/step - loss: 0.4481 - binary_accuracy: 0.7523 - val_loss: 0.4839 - val_binary_accuracy: 0.7576\n",
      "Epoch 515/1000\n",
      "537/537 [==============================] - 0s 171us/step - loss: 0.4510 - binary_accuracy: 0.7709 - val_loss: 0.4852 - val_binary_accuracy: 0.7576\n",
      "Epoch 516/1000\n",
      "537/537 [==============================] - 0s 171us/step - loss: 0.4706 - binary_accuracy: 0.7598 - val_loss: 0.4825 - val_binary_accuracy: 0.7576\n",
      "Epoch 517/1000\n",
      "537/537 [==============================] - 0s 180us/step - loss: 0.4711 - binary_accuracy: 0.7467 - val_loss: 0.4818 - val_binary_accuracy: 0.7576\n",
      "Epoch 518/1000\n",
      "537/537 [==============================] - 0s 191us/step - loss: 0.4623 - binary_accuracy: 0.7579 - val_loss: 0.4838 - val_binary_accuracy: 0.7576\n",
      "Epoch 519/1000\n",
      "537/537 [==============================] - 0s 188us/step - loss: 0.4479 - binary_accuracy: 0.7505 - val_loss: 0.4846 - val_binary_accuracy: 0.7576\n",
      "Epoch 520/1000\n",
      "537/537 [==============================] - 0s 195us/step - loss: 0.4674 - binary_accuracy: 0.7486 - val_loss: 0.4841 - val_binary_accuracy: 0.7576\n",
      "Epoch 521/1000\n",
      "537/537 [==============================] - 0s 201us/step - loss: 0.4706 - binary_accuracy: 0.7523 - val_loss: 0.4842 - val_binary_accuracy: 0.7576\n",
      "Epoch 522/1000\n",
      "537/537 [==============================] - 0s 169us/step - loss: 0.4581 - binary_accuracy: 0.7598 - val_loss: 0.4848 - val_binary_accuracy: 0.7576\n",
      "Epoch 523/1000\n",
      "537/537 [==============================] - 0s 162us/step - loss: 0.4655 - binary_accuracy: 0.7561 - val_loss: 0.4854 - val_binary_accuracy: 0.7576\n",
      "Epoch 524/1000\n",
      "537/537 [==============================] - 0s 171us/step - loss: 0.4601 - binary_accuracy: 0.7598 - val_loss: 0.4844 - val_binary_accuracy: 0.7576\n",
      "Epoch 525/1000\n",
      "537/537 [==============================] - 0s 165us/step - loss: 0.4623 - binary_accuracy: 0.7598 - val_loss: 0.4843 - val_binary_accuracy: 0.7576\n",
      "Epoch 526/1000\n",
      "537/537 [==============================] - 0s 178us/step - loss: 0.4612 - binary_accuracy: 0.7523 - val_loss: 0.4832 - val_binary_accuracy: 0.7576\n",
      "Epoch 527/1000\n",
      "537/537 [==============================] - 0s 171us/step - loss: 0.4501 - binary_accuracy: 0.7505 - val_loss: 0.4847 - val_binary_accuracy: 0.7576\n",
      "Epoch 528/1000\n",
      "537/537 [==============================] - 0s 167us/step - loss: 0.4663 - binary_accuracy: 0.7430 - val_loss: 0.4847 - val_binary_accuracy: 0.7576\n",
      "Epoch 529/1000\n",
      "537/537 [==============================] - 0s 169us/step - loss: 0.4800 - binary_accuracy: 0.7523 - val_loss: 0.4839 - val_binary_accuracy: 0.7619\n",
      "Epoch 530/1000\n",
      "537/537 [==============================] - 0s 173us/step - loss: 0.4661 - binary_accuracy: 0.7747 - val_loss: 0.4834 - val_binary_accuracy: 0.7619\n",
      "Epoch 531/1000\n",
      "537/537 [==============================] - 0s 169us/step - loss: 0.4655 - binary_accuracy: 0.7486 - val_loss: 0.4840 - val_binary_accuracy: 0.7532\n",
      "Epoch 532/1000\n",
      "537/537 [==============================] - 0s 175us/step - loss: 0.4547 - binary_accuracy: 0.7635 - val_loss: 0.4832 - val_binary_accuracy: 0.7576\n",
      "Epoch 533/1000\n",
      "537/537 [==============================] - 0s 173us/step - loss: 0.4771 - binary_accuracy: 0.7523 - val_loss: 0.4830 - val_binary_accuracy: 0.7619\n",
      "Epoch 534/1000\n",
      "537/537 [==============================] - 0s 171us/step - loss: 0.4743 - binary_accuracy: 0.7598 - val_loss: 0.4820 - val_binary_accuracy: 0.7619\n",
      "Epoch 535/1000\n",
      "537/537 [==============================] - 0s 169us/step - loss: 0.4495 - binary_accuracy: 0.7561 - val_loss: 0.4819 - val_binary_accuracy: 0.7619\n",
      "Epoch 536/1000\n",
      "537/537 [==============================] - 0s 173us/step - loss: 0.4835 - binary_accuracy: 0.7300 - val_loss: 0.4843 - val_binary_accuracy: 0.7576\n",
      "Epoch 537/1000\n",
      "537/537 [==============================] - 0s 176us/step - loss: 0.4602 - binary_accuracy: 0.7486 - val_loss: 0.4849 - val_binary_accuracy: 0.7532\n",
      "Epoch 538/1000\n",
      "537/537 [==============================] - 0s 167us/step - loss: 0.4588 - binary_accuracy: 0.7430 - val_loss: 0.4857 - val_binary_accuracy: 0.7576\n",
      "Epoch 539/1000\n",
      "537/537 [==============================] - 0s 171us/step - loss: 0.4662 - binary_accuracy: 0.7803 - val_loss: 0.4833 - val_binary_accuracy: 0.7576\n",
      "Epoch 540/1000\n",
      "537/537 [==============================] - 0s 173us/step - loss: 0.4547 - binary_accuracy: 0.7561 - val_loss: 0.4840 - val_binary_accuracy: 0.7576\n",
      "Epoch 541/1000\n",
      "537/537 [==============================] - 0s 169us/step - loss: 0.4646 - binary_accuracy: 0.7654 - val_loss: 0.4844 - val_binary_accuracy: 0.7576\n",
      "Epoch 542/1000\n",
      "537/537 [==============================] - 0s 188us/step - loss: 0.4299 - binary_accuracy: 0.7747 - val_loss: 0.4843 - val_binary_accuracy: 0.7576\n",
      "Epoch 543/1000\n",
      "537/537 [==============================] - 0s 165us/step - loss: 0.4469 - binary_accuracy: 0.7635 - val_loss: 0.4834 - val_binary_accuracy: 0.7619\n",
      "Epoch 544/1000\n",
      "537/537 [==============================] - 0s 173us/step - loss: 0.4624 - binary_accuracy: 0.7654 - val_loss: 0.4848 - val_binary_accuracy: 0.7532\n",
      "Epoch 545/1000\n",
      "537/537 [==============================] - 0s 167us/step - loss: 0.4685 - binary_accuracy: 0.7598 - val_loss: 0.4846 - val_binary_accuracy: 0.7532\n",
      "Epoch 546/1000\n",
      "537/537 [==============================] - 0s 169us/step - loss: 0.4588 - binary_accuracy: 0.7561 - val_loss: 0.4843 - val_binary_accuracy: 0.7576\n",
      "Epoch 547/1000\n",
      "537/537 [==============================] - 0s 180us/step - loss: 0.4599 - binary_accuracy: 0.7412 - val_loss: 0.4858 - val_binary_accuracy: 0.7532\n",
      "Epoch 548/1000\n",
      "537/537 [==============================] - 0s 199us/step - loss: 0.4642 - binary_accuracy: 0.7598 - val_loss: 0.4849 - val_binary_accuracy: 0.7619\n",
      "Epoch 549/1000\n",
      "537/537 [==============================] - 0s 167us/step - loss: 0.4641 - binary_accuracy: 0.7467 - val_loss: 0.4855 - val_binary_accuracy: 0.7532\n",
      "Epoch 550/1000\n",
      "537/537 [==============================] - 0s 178us/step - loss: 0.4549 - binary_accuracy: 0.7709 - val_loss: 0.4854 - val_binary_accuracy: 0.7619\n",
      "Epoch 551/1000\n",
      "537/537 [==============================] - 0s 178us/step - loss: 0.4475 - binary_accuracy: 0.7542 - val_loss: 0.4846 - val_binary_accuracy: 0.7532\n",
      "Epoch 552/1000\n",
      "537/537 [==============================] - 0s 279us/step - loss: 0.4678 - binary_accuracy: 0.7467 - val_loss: 0.4850 - val_binary_accuracy: 0.7532\n",
      "Epoch 553/1000\n",
      "537/537 [==============================] - 0s 236us/step - loss: 0.4443 - binary_accuracy: 0.7598 - val_loss: 0.4854 - val_binary_accuracy: 0.7489\n",
      "Epoch 554/1000\n",
      "537/537 [==============================] - 0s 210us/step - loss: 0.4575 - binary_accuracy: 0.7561 - val_loss: 0.4853 - val_binary_accuracy: 0.7489\n",
      "Epoch 555/1000\n",
      "537/537 [==============================] - 0s 186us/step - loss: 0.4631 - binary_accuracy: 0.7430 - val_loss: 0.4843 - val_binary_accuracy: 0.7532\n",
      "Epoch 556/1000\n",
      "537/537 [==============================] - 0s 188us/step - loss: 0.4378 - binary_accuracy: 0.7691 - val_loss: 0.4832 - val_binary_accuracy: 0.7576\n",
      "Epoch 557/1000\n"
     ]
    },
    {
     "name": "stdout",
     "output_type": "stream",
     "text": [
      "537/537 [==============================] - 0s 199us/step - loss: 0.4539 - binary_accuracy: 0.7672 - val_loss: 0.4838 - val_binary_accuracy: 0.7576\n",
      "Epoch 558/1000\n",
      "537/537 [==============================] - 0s 169us/step - loss: 0.4714 - binary_accuracy: 0.7486 - val_loss: 0.4835 - val_binary_accuracy: 0.7532\n",
      "Epoch 559/1000\n",
      "537/537 [==============================] - 0s 178us/step - loss: 0.4673 - binary_accuracy: 0.7486 - val_loss: 0.4848 - val_binary_accuracy: 0.7576\n",
      "Epoch 560/1000\n",
      "537/537 [==============================] - 0s 201us/step - loss: 0.4545 - binary_accuracy: 0.7635 - val_loss: 0.4855 - val_binary_accuracy: 0.7576\n",
      "Epoch 561/1000\n",
      "537/537 [==============================] - 0s 212us/step - loss: 0.4541 - binary_accuracy: 0.7672 - val_loss: 0.4849 - val_binary_accuracy: 0.7619\n",
      "Epoch 562/1000\n",
      "537/537 [==============================] - 0s 178us/step - loss: 0.4598 - binary_accuracy: 0.7486 - val_loss: 0.4852 - val_binary_accuracy: 0.7532\n",
      "Epoch 563/1000\n",
      "537/537 [==============================] - 0s 169us/step - loss: 0.4483 - binary_accuracy: 0.7542 - val_loss: 0.4864 - val_binary_accuracy: 0.7532\n",
      "Epoch 564/1000\n",
      "537/537 [==============================] - 0s 188us/step - loss: 0.4578 - binary_accuracy: 0.7486 - val_loss: 0.4862 - val_binary_accuracy: 0.7532\n",
      "Epoch 565/1000\n",
      "537/537 [==============================] - 0s 201us/step - loss: 0.4536 - binary_accuracy: 0.7672 - val_loss: 0.4855 - val_binary_accuracy: 0.7532\n",
      "Epoch 566/1000\n",
      "537/537 [==============================] - 0s 210us/step - loss: 0.4488 - binary_accuracy: 0.7672 - val_loss: 0.4841 - val_binary_accuracy: 0.7619\n",
      "Epoch 567/1000\n",
      "537/537 [==============================] - 0s 180us/step - loss: 0.4592 - binary_accuracy: 0.7523 - val_loss: 0.4842 - val_binary_accuracy: 0.7619\n",
      "Epoch 568/1000\n",
      "537/537 [==============================] - 0s 184us/step - loss: 0.4554 - binary_accuracy: 0.7598 - val_loss: 0.4832 - val_binary_accuracy: 0.7576\n",
      "Epoch 569/1000\n",
      "537/537 [==============================] - 0s 188us/step - loss: 0.4709 - binary_accuracy: 0.7542 - val_loss: 0.4820 - val_binary_accuracy: 0.7576\n",
      "Epoch 570/1000\n",
      "537/537 [==============================] - 0s 171us/step - loss: 0.4309 - binary_accuracy: 0.7896 - val_loss: 0.4849 - val_binary_accuracy: 0.7619\n",
      "Epoch 571/1000\n",
      "537/537 [==============================] - 0s 195us/step - loss: 0.4618 - binary_accuracy: 0.7598 - val_loss: 0.4852 - val_binary_accuracy: 0.7662\n",
      "Epoch 572/1000\n",
      "537/537 [==============================] - 0s 197us/step - loss: 0.4571 - binary_accuracy: 0.7616 - val_loss: 0.4843 - val_binary_accuracy: 0.7576\n",
      "Epoch 573/1000\n",
      "537/537 [==============================] - 0s 204us/step - loss: 0.4686 - binary_accuracy: 0.7598 - val_loss: 0.4844 - val_binary_accuracy: 0.7576\n",
      "Epoch 574/1000\n",
      "537/537 [==============================] - 0s 189us/step - loss: 0.4675 - binary_accuracy: 0.7374 - val_loss: 0.4836 - val_binary_accuracy: 0.7576\n",
      "Epoch 575/1000\n",
      "537/537 [==============================] - 0s 199us/step - loss: 0.4403 - binary_accuracy: 0.7709 - val_loss: 0.4837 - val_binary_accuracy: 0.7576\n",
      "Epoch 576/1000\n",
      "537/537 [==============================] - 0s 182us/step - loss: 0.4482 - binary_accuracy: 0.7765 - val_loss: 0.4860 - val_binary_accuracy: 0.7619\n",
      "Epoch 577/1000\n",
      "537/537 [==============================] - 0s 180us/step - loss: 0.4630 - binary_accuracy: 0.7579 - val_loss: 0.4876 - val_binary_accuracy: 0.7619\n",
      "Epoch 578/1000\n",
      "537/537 [==============================] - 0s 182us/step - loss: 0.4882 - binary_accuracy: 0.7393 - val_loss: 0.4855 - val_binary_accuracy: 0.7576\n",
      "Epoch 579/1000\n",
      "537/537 [==============================] - 0s 182us/step - loss: 0.4546 - binary_accuracy: 0.7579 - val_loss: 0.4838 - val_binary_accuracy: 0.7532\n",
      "Epoch 580/1000\n",
      "537/537 [==============================] - 0s 199us/step - loss: 0.4520 - binary_accuracy: 0.7635 - val_loss: 0.4848 - val_binary_accuracy: 0.7619\n",
      "Epoch 581/1000\n",
      "537/537 [==============================] - 0s 193us/step - loss: 0.4756 - binary_accuracy: 0.7467 - val_loss: 0.4843 - val_binary_accuracy: 0.7576\n",
      "Epoch 582/1000\n",
      "537/537 [==============================] - 0s 173us/step - loss: 0.4558 - binary_accuracy: 0.7598 - val_loss: 0.4837 - val_binary_accuracy: 0.7619\n",
      "Epoch 583/1000\n",
      "537/537 [==============================] - 0s 188us/step - loss: 0.4543 - binary_accuracy: 0.7654 - val_loss: 0.4845 - val_binary_accuracy: 0.7576\n",
      "Epoch 584/1000\n",
      "537/537 [==============================] - 0s 214us/step - loss: 0.4537 - binary_accuracy: 0.7635 - val_loss: 0.4866 - val_binary_accuracy: 0.7532\n",
      "Epoch 585/1000\n",
      "537/537 [==============================] - 0s 212us/step - loss: 0.4694 - binary_accuracy: 0.7486 - val_loss: 0.4854 - val_binary_accuracy: 0.7619\n",
      "Epoch 586/1000\n",
      "537/537 [==============================] - 0s 202us/step - loss: 0.4603 - binary_accuracy: 0.7523 - val_loss: 0.4860 - val_binary_accuracy: 0.7576\n",
      "Epoch 587/1000\n",
      "537/537 [==============================] - 0s 189us/step - loss: 0.4605 - binary_accuracy: 0.7654 - val_loss: 0.4844 - val_binary_accuracy: 0.7532\n",
      "Epoch 588/1000\n",
      "537/537 [==============================] - 0s 188us/step - loss: 0.4591 - binary_accuracy: 0.7635 - val_loss: 0.4852 - val_binary_accuracy: 0.7532\n",
      "Epoch 589/1000\n",
      "537/537 [==============================] - 0s 195us/step - loss: 0.4579 - binary_accuracy: 0.7523 - val_loss: 0.4852 - val_binary_accuracy: 0.7619\n",
      "Epoch 590/1000\n",
      "537/537 [==============================] - 0s 195us/step - loss: 0.4717 - binary_accuracy: 0.7467 - val_loss: 0.4851 - val_binary_accuracy: 0.7576\n",
      "Epoch 591/1000\n",
      "537/537 [==============================] - 0s 219us/step - loss: 0.4600 - binary_accuracy: 0.7579 - val_loss: 0.4856 - val_binary_accuracy: 0.7532\n",
      "Epoch 592/1000\n",
      "537/537 [==============================] - 0s 223us/step - loss: 0.4507 - binary_accuracy: 0.7672 - val_loss: 0.4845 - val_binary_accuracy: 0.7576\n",
      "Epoch 593/1000\n",
      "537/537 [==============================] - 0s 210us/step - loss: 0.4677 - binary_accuracy: 0.7449 - val_loss: 0.4852 - val_binary_accuracy: 0.7576\n",
      "Epoch 594/1000\n",
      "537/537 [==============================] - 0s 204us/step - loss: 0.4649 - binary_accuracy: 0.7709 - val_loss: 0.4854 - val_binary_accuracy: 0.7619\n",
      "Epoch 595/1000\n",
      "537/537 [==============================] - 0s 214us/step - loss: 0.4525 - binary_accuracy: 0.7635 - val_loss: 0.4862 - val_binary_accuracy: 0.7576\n",
      "Epoch 596/1000\n",
      "537/537 [==============================] - 0s 206us/step - loss: 0.4526 - binary_accuracy: 0.7765 - val_loss: 0.4882 - val_binary_accuracy: 0.7619\n",
      "Epoch 597/1000\n",
      "537/537 [==============================] - 0s 204us/step - loss: 0.4722 - binary_accuracy: 0.7486 - val_loss: 0.4879 - val_binary_accuracy: 0.7532\n",
      "Epoch 598/1000\n",
      "537/537 [==============================] - 0s 188us/step - loss: 0.4618 - binary_accuracy: 0.7486 - val_loss: 0.4848 - val_binary_accuracy: 0.7576\n",
      "Epoch 599/1000\n",
      "537/537 [==============================] - 0s 217us/step - loss: 0.4427 - binary_accuracy: 0.7635 - val_loss: 0.4852 - val_binary_accuracy: 0.7576\n",
      "Epoch 600/1000\n",
      "537/537 [==============================] - 0s 227us/step - loss: 0.4527 - binary_accuracy: 0.7598 - val_loss: 0.4855 - val_binary_accuracy: 0.7576\n",
      "Epoch 601/1000\n",
      "537/537 [==============================] - 0s 214us/step - loss: 0.4666 - binary_accuracy: 0.7561 - val_loss: 0.4862 - val_binary_accuracy: 0.7619\n",
      "Epoch 602/1000\n",
      "537/537 [==============================] - 0s 214us/step - loss: 0.4589 - binary_accuracy: 0.7523 - val_loss: 0.4861 - val_binary_accuracy: 0.7576\n",
      "Epoch 603/1000\n",
      "537/537 [==============================] - 0s 208us/step - loss: 0.4405 - binary_accuracy: 0.7542 - val_loss: 0.4858 - val_binary_accuracy: 0.7619\n",
      "Epoch 604/1000\n",
      "537/537 [==============================] - 0s 186us/step - loss: 0.4716 - binary_accuracy: 0.7542 - val_loss: 0.4862 - val_binary_accuracy: 0.7619\n",
      "Epoch 605/1000\n",
      "537/537 [==============================] - 0s 201us/step - loss: 0.4651 - binary_accuracy: 0.7523 - val_loss: 0.4849 - val_binary_accuracy: 0.7576\n",
      "Epoch 606/1000\n",
      "537/537 [==============================] - 0s 195us/step - loss: 0.4571 - binary_accuracy: 0.7467 - val_loss: 0.4868 - val_binary_accuracy: 0.7576\n",
      "Epoch 607/1000\n",
      "537/537 [==============================] - 0s 221us/step - loss: 0.4474 - binary_accuracy: 0.7579 - val_loss: 0.4874 - val_binary_accuracy: 0.7576\n"
     ]
    },
    {
     "name": "stdout",
     "output_type": "stream",
     "text": [
      "Epoch 608/1000\n",
      "537/537 [==============================] - 0s 201us/step - loss: 0.4532 - binary_accuracy: 0.7616 - val_loss: 0.4859 - val_binary_accuracy: 0.7576\n",
      "Epoch 609/1000\n",
      "537/537 [==============================] - 0s 176us/step - loss: 0.4558 - binary_accuracy: 0.7635 - val_loss: 0.4847 - val_binary_accuracy: 0.7576\n",
      "Epoch 610/1000\n",
      "537/537 [==============================] - 0s 173us/step - loss: 0.4548 - binary_accuracy: 0.7579 - val_loss: 0.4854 - val_binary_accuracy: 0.7532\n",
      "Epoch 611/1000\n",
      "537/537 [==============================] - 0s 173us/step - loss: 0.4526 - binary_accuracy: 0.7672 - val_loss: 0.4866 - val_binary_accuracy: 0.7576\n",
      "Epoch 612/1000\n",
      "537/537 [==============================] - 0s 178us/step - loss: 0.4445 - binary_accuracy: 0.7542 - val_loss: 0.4865 - val_binary_accuracy: 0.7576\n",
      "Epoch 613/1000\n",
      "537/537 [==============================] - 0s 176us/step - loss: 0.4664 - binary_accuracy: 0.7467 - val_loss: 0.4849 - val_binary_accuracy: 0.7576\n",
      "Epoch 614/1000\n",
      "537/537 [==============================] - 0s 175us/step - loss: 0.4601 - binary_accuracy: 0.7542 - val_loss: 0.4856 - val_binary_accuracy: 0.7532\n",
      "Epoch 615/1000\n",
      "537/537 [==============================] - 0s 167us/step - loss: 0.4575 - binary_accuracy: 0.7616 - val_loss: 0.4855 - val_binary_accuracy: 0.7576\n",
      "Epoch 616/1000\n",
      "537/537 [==============================] - 0s 197us/step - loss: 0.4767 - binary_accuracy: 0.7561 - val_loss: 0.4859 - val_binary_accuracy: 0.7576\n",
      "Epoch 617/1000\n",
      "537/537 [==============================] - 0s 202us/step - loss: 0.4501 - binary_accuracy: 0.7672 - val_loss: 0.4875 - val_binary_accuracy: 0.7619\n",
      "Epoch 618/1000\n",
      "537/537 [==============================] - 0s 184us/step - loss: 0.4443 - binary_accuracy: 0.7542 - val_loss: 0.4885 - val_binary_accuracy: 0.7532\n",
      "Epoch 619/1000\n",
      "537/537 [==============================] - 0s 163us/step - loss: 0.4545 - binary_accuracy: 0.7803 - val_loss: 0.4882 - val_binary_accuracy: 0.7532\n",
      "Epoch 620/1000\n",
      "537/537 [==============================] - 0s 165us/step - loss: 0.4564 - binary_accuracy: 0.7616 - val_loss: 0.4865 - val_binary_accuracy: 0.7532\n",
      "Epoch 621/1000\n",
      "537/537 [==============================] - 0s 169us/step - loss: 0.4615 - binary_accuracy: 0.7561 - val_loss: 0.4849 - val_binary_accuracy: 0.7576\n",
      "Epoch 622/1000\n",
      "537/537 [==============================] - 0s 178us/step - loss: 0.4486 - binary_accuracy: 0.7728 - val_loss: 0.4862 - val_binary_accuracy: 0.7576\n",
      "Epoch 623/1000\n",
      "537/537 [==============================] - 0s 167us/step - loss: 0.4952 - binary_accuracy: 0.7449 - val_loss: 0.4857 - val_binary_accuracy: 0.7576\n",
      "Epoch 624/1000\n",
      "537/537 [==============================] - 0s 169us/step - loss: 0.4525 - binary_accuracy: 0.7579 - val_loss: 0.4854 - val_binary_accuracy: 0.7619\n",
      "Epoch 625/1000\n",
      "537/537 [==============================] - 0s 173us/step - loss: 0.4384 - binary_accuracy: 0.7672 - val_loss: 0.4852 - val_binary_accuracy: 0.7576\n",
      "Epoch 626/1000\n",
      "537/537 [==============================] - 0s 165us/step - loss: 0.4654 - binary_accuracy: 0.7561 - val_loss: 0.4863 - val_binary_accuracy: 0.7706\n",
      "Epoch 627/1000\n",
      "537/537 [==============================] - 0s 175us/step - loss: 0.4713 - binary_accuracy: 0.7430 - val_loss: 0.4853 - val_binary_accuracy: 0.7662\n",
      "Epoch 628/1000\n",
      "537/537 [==============================] - 0s 178us/step - loss: 0.4465 - binary_accuracy: 0.7672 - val_loss: 0.4843 - val_binary_accuracy: 0.7619\n",
      "Epoch 629/1000\n",
      "537/537 [==============================] - 0s 171us/step - loss: 0.4672 - binary_accuracy: 0.7486 - val_loss: 0.4861 - val_binary_accuracy: 0.7662\n",
      "Epoch 630/1000\n",
      "537/537 [==============================] - 0s 171us/step - loss: 0.4565 - binary_accuracy: 0.7616 - val_loss: 0.4855 - val_binary_accuracy: 0.7576\n",
      "Epoch 631/1000\n",
      "537/537 [==============================] - 0s 169us/step - loss: 0.4578 - binary_accuracy: 0.7486 - val_loss: 0.4859 - val_binary_accuracy: 0.7619\n",
      "Epoch 632/1000\n",
      "537/537 [==============================] - 0s 178us/step - loss: 0.4552 - binary_accuracy: 0.7449 - val_loss: 0.4861 - val_binary_accuracy: 0.7576\n",
      "Epoch 633/1000\n",
      "537/537 [==============================] - 0s 175us/step - loss: 0.4679 - binary_accuracy: 0.7616 - val_loss: 0.4854 - val_binary_accuracy: 0.7619\n",
      "Epoch 634/1000\n",
      "537/537 [==============================] - 0s 167us/step - loss: 0.4714 - binary_accuracy: 0.7616 - val_loss: 0.4845 - val_binary_accuracy: 0.7576\n",
      "Epoch 635/1000\n",
      "537/537 [==============================] - 0s 176us/step - loss: 0.4618 - binary_accuracy: 0.7542 - val_loss: 0.4846 - val_binary_accuracy: 0.7532\n",
      "Epoch 636/1000\n",
      "537/537 [==============================] - 0s 188us/step - loss: 0.4729 - binary_accuracy: 0.7486 - val_loss: 0.4851 - val_binary_accuracy: 0.7619\n",
      "Epoch 637/1000\n",
      "537/537 [==============================] - 0s 199us/step - loss: 0.4525 - binary_accuracy: 0.7579 - val_loss: 0.4863 - val_binary_accuracy: 0.7662\n",
      "Epoch 638/1000\n",
      "537/537 [==============================] - 0s 195us/step - loss: 0.4640 - binary_accuracy: 0.7579 - val_loss: 0.4860 - val_binary_accuracy: 0.7619\n",
      "Epoch 639/1000\n",
      "537/537 [==============================] - 0s 201us/step - loss: 0.4715 - binary_accuracy: 0.7523 - val_loss: 0.4851 - val_binary_accuracy: 0.7619\n",
      "Epoch 640/1000\n",
      "537/537 [==============================] - 0s 175us/step - loss: 0.4529 - binary_accuracy: 0.7598 - val_loss: 0.4853 - val_binary_accuracy: 0.7619\n",
      "Epoch 641/1000\n",
      "537/537 [==============================] - 0s 180us/step - loss: 0.4715 - binary_accuracy: 0.7467 - val_loss: 0.4867 - val_binary_accuracy: 0.7619\n",
      "Epoch 642/1000\n",
      "537/537 [==============================] - 0s 191us/step - loss: 0.4398 - binary_accuracy: 0.7635 - val_loss: 0.4868 - val_binary_accuracy: 0.7619\n",
      "Epoch 643/1000\n",
      "537/537 [==============================] - 0s 178us/step - loss: 0.4425 - binary_accuracy: 0.7486 - val_loss: 0.4867 - val_binary_accuracy: 0.7662\n",
      "Epoch 644/1000\n",
      "537/537 [==============================] - 0s 184us/step - loss: 0.4660 - binary_accuracy: 0.7430 - val_loss: 0.4856 - val_binary_accuracy: 0.7662\n",
      "Epoch 645/1000\n",
      "537/537 [==============================] - 0s 178us/step - loss: 0.4513 - binary_accuracy: 0.7467 - val_loss: 0.4868 - val_binary_accuracy: 0.7619\n",
      "Epoch 646/1000\n",
      "537/537 [==============================] - 0s 173us/step - loss: 0.4602 - binary_accuracy: 0.7579 - val_loss: 0.4860 - val_binary_accuracy: 0.7619\n",
      "Epoch 647/1000\n",
      "537/537 [==============================] - 0s 169us/step - loss: 0.4562 - binary_accuracy: 0.7616 - val_loss: 0.4861 - val_binary_accuracy: 0.7706\n",
      "Epoch 648/1000\n",
      "537/537 [==============================] - 0s 184us/step - loss: 0.4531 - binary_accuracy: 0.7635 - val_loss: 0.4852 - val_binary_accuracy: 0.7619\n",
      "Epoch 649/1000\n",
      "537/537 [==============================] - 0s 169us/step - loss: 0.4378 - binary_accuracy: 0.7747 - val_loss: 0.4873 - val_binary_accuracy: 0.7619\n",
      "Epoch 650/1000\n",
      "537/537 [==============================] - 0s 180us/step - loss: 0.4795 - binary_accuracy: 0.7579 - val_loss: 0.4858 - val_binary_accuracy: 0.7576\n",
      "Epoch 651/1000\n",
      "537/537 [==============================] - 0s 175us/step - loss: 0.4495 - binary_accuracy: 0.7579 - val_loss: 0.4849 - val_binary_accuracy: 0.7619\n",
      "Epoch 652/1000\n",
      "537/537 [==============================] - 0s 173us/step - loss: 0.4708 - binary_accuracy: 0.7374 - val_loss: 0.4860 - val_binary_accuracy: 0.7619\n",
      "Epoch 653/1000\n",
      "537/537 [==============================] - 0s 171us/step - loss: 0.4680 - binary_accuracy: 0.7561 - val_loss: 0.4866 - val_binary_accuracy: 0.7619\n",
      "Epoch 654/1000\n",
      "537/537 [==============================] - 0s 175us/step - loss: 0.4753 - binary_accuracy: 0.7449 - val_loss: 0.4850 - val_binary_accuracy: 0.7662\n",
      "Epoch 655/1000\n",
      "537/537 [==============================] - 0s 175us/step - loss: 0.4457 - binary_accuracy: 0.7505 - val_loss: 0.4858 - val_binary_accuracy: 0.7619\n",
      "Epoch 656/1000\n",
      "537/537 [==============================] - 0s 167us/step - loss: 0.4613 - binary_accuracy: 0.7579 - val_loss: 0.4850 - val_binary_accuracy: 0.7576\n",
      "Epoch 657/1000\n",
      "537/537 [==============================] - 0s 176us/step - loss: 0.4588 - binary_accuracy: 0.7467 - val_loss: 0.4861 - val_binary_accuracy: 0.7619\n",
      "Epoch 658/1000\n"
     ]
    },
    {
     "name": "stdout",
     "output_type": "stream",
     "text": [
      "537/537 [==============================] - 0s 262us/step - loss: 0.4615 - binary_accuracy: 0.7635 - val_loss: 0.4875 - val_binary_accuracy: 0.7662\n",
      "Epoch 659/1000\n",
      "537/537 [==============================] - 0s 195us/step - loss: 0.4526 - binary_accuracy: 0.7691 - val_loss: 0.4877 - val_binary_accuracy: 0.7619\n",
      "Epoch 660/1000\n",
      "537/537 [==============================] - 0s 195us/step - loss: 0.4783 - binary_accuracy: 0.7561 - val_loss: 0.4847 - val_binary_accuracy: 0.7619\n",
      "Epoch 661/1000\n",
      "537/537 [==============================] - 0s 186us/step - loss: 0.4431 - binary_accuracy: 0.7523 - val_loss: 0.4857 - val_binary_accuracy: 0.7619\n",
      "Epoch 662/1000\n",
      "537/537 [==============================] - 0s 184us/step - loss: 0.4577 - binary_accuracy: 0.7709 - val_loss: 0.4861 - val_binary_accuracy: 0.7662\n",
      "Epoch 663/1000\n",
      "537/537 [==============================] - 0s 178us/step - loss: 0.4636 - binary_accuracy: 0.7523 - val_loss: 0.4850 - val_binary_accuracy: 0.7619\n",
      "Epoch 664/1000\n",
      "537/537 [==============================] - 0s 173us/step - loss: 0.4671 - binary_accuracy: 0.7486 - val_loss: 0.4840 - val_binary_accuracy: 0.7619\n",
      "Epoch 665/1000\n",
      "537/537 [==============================] - 0s 178us/step - loss: 0.4530 - binary_accuracy: 0.7523 - val_loss: 0.4848 - val_binary_accuracy: 0.7619\n",
      "Epoch 666/1000\n",
      "537/537 [==============================] - 0s 169us/step - loss: 0.4466 - binary_accuracy: 0.7803 - val_loss: 0.4862 - val_binary_accuracy: 0.7619\n",
      "Epoch 667/1000\n",
      "537/537 [==============================] - 0s 186us/step - loss: 0.4668 - binary_accuracy: 0.7598 - val_loss: 0.4863 - val_binary_accuracy: 0.7576\n",
      "Epoch 668/1000\n",
      "537/537 [==============================] - 0s 184us/step - loss: 0.4618 - binary_accuracy: 0.7449 - val_loss: 0.4865 - val_binary_accuracy: 0.7619\n",
      "Epoch 669/1000\n",
      "537/537 [==============================] - 0s 176us/step - loss: 0.4617 - binary_accuracy: 0.7542 - val_loss: 0.4873 - val_binary_accuracy: 0.7662\n",
      "Epoch 670/1000\n",
      "537/537 [==============================] - 0s 182us/step - loss: 0.4488 - binary_accuracy: 0.7635 - val_loss: 0.4870 - val_binary_accuracy: 0.7662\n",
      "Epoch 671/1000\n",
      "537/537 [==============================] - 0s 175us/step - loss: 0.4396 - binary_accuracy: 0.7654 - val_loss: 0.4874 - val_binary_accuracy: 0.7662\n",
      "Epoch 672/1000\n",
      "537/537 [==============================] - 0s 175us/step - loss: 0.4722 - binary_accuracy: 0.7449 - val_loss: 0.4849 - val_binary_accuracy: 0.7576\n",
      "Epoch 673/1000\n",
      "537/537 [==============================] - 0s 171us/step - loss: 0.4714 - binary_accuracy: 0.7505 - val_loss: 0.4852 - val_binary_accuracy: 0.7619\n",
      "Epoch 674/1000\n",
      "537/537 [==============================] - 0s 176us/step - loss: 0.4770 - binary_accuracy: 0.7449 - val_loss: 0.4864 - val_binary_accuracy: 0.7619\n",
      "Epoch 675/1000\n",
      "537/537 [==============================] - 0s 199us/step - loss: 0.4521 - binary_accuracy: 0.7616 - val_loss: 0.4862 - val_binary_accuracy: 0.7619\n",
      "Epoch 676/1000\n",
      "537/537 [==============================] - 0s 184us/step - loss: 0.4520 - binary_accuracy: 0.7467 - val_loss: 0.4878 - val_binary_accuracy: 0.7576\n",
      "Epoch 677/1000\n",
      "537/537 [==============================] - 0s 189us/step - loss: 0.4595 - binary_accuracy: 0.7654 - val_loss: 0.4878 - val_binary_accuracy: 0.7619\n",
      "Epoch 678/1000\n",
      "537/537 [==============================] - 0s 191us/step - loss: 0.4742 - binary_accuracy: 0.7356 - val_loss: 0.4871 - val_binary_accuracy: 0.7619\n",
      "Epoch 679/1000\n",
      "537/537 [==============================] - 0s 175us/step - loss: 0.4539 - binary_accuracy: 0.7709 - val_loss: 0.4872 - val_binary_accuracy: 0.7662\n",
      "Epoch 680/1000\n",
      "537/537 [==============================] - 0s 182us/step - loss: 0.4646 - binary_accuracy: 0.7449 - val_loss: 0.4871 - val_binary_accuracy: 0.7662\n",
      "Epoch 681/1000\n",
      "537/537 [==============================] - 0s 180us/step - loss: 0.4573 - binary_accuracy: 0.7542 - val_loss: 0.4878 - val_binary_accuracy: 0.7619\n",
      "Epoch 682/1000\n",
      "537/537 [==============================] - 0s 189us/step - loss: 0.4616 - binary_accuracy: 0.7542 - val_loss: 0.4870 - val_binary_accuracy: 0.7619\n",
      "Epoch 683/1000\n",
      "537/537 [==============================] - 0s 173us/step - loss: 0.4819 - binary_accuracy: 0.7430 - val_loss: 0.4855 - val_binary_accuracy: 0.7619\n",
      "Epoch 684/1000\n",
      "537/537 [==============================] - 0s 184us/step - loss: 0.4528 - binary_accuracy: 0.7616 - val_loss: 0.4857 - val_binary_accuracy: 0.7619\n",
      "Epoch 685/1000\n",
      "537/537 [==============================] - 0s 204us/step - loss: 0.4496 - binary_accuracy: 0.7635 - val_loss: 0.4862 - val_binary_accuracy: 0.7619\n",
      "Epoch 686/1000\n",
      "537/537 [==============================] - 0s 208us/step - loss: 0.4584 - binary_accuracy: 0.7561 - val_loss: 0.4871 - val_binary_accuracy: 0.7662\n",
      "Epoch 687/1000\n",
      "537/537 [==============================] - 0s 238us/step - loss: 0.4623 - binary_accuracy: 0.7542 - val_loss: 0.4859 - val_binary_accuracy: 0.7576\n",
      "Epoch 688/1000\n",
      "537/537 [==============================] - 0s 206us/step - loss: 0.4427 - binary_accuracy: 0.7523 - val_loss: 0.4864 - val_binary_accuracy: 0.7619\n",
      "Epoch 689/1000\n",
      "537/537 [==============================] - 0s 204us/step - loss: 0.4664 - binary_accuracy: 0.7542 - val_loss: 0.4866 - val_binary_accuracy: 0.7619\n",
      "Epoch 690/1000\n",
      "537/537 [==============================] - 0s 193us/step - loss: 0.4589 - binary_accuracy: 0.7747 - val_loss: 0.4868 - val_binary_accuracy: 0.7619\n",
      "Epoch 691/1000\n",
      "537/537 [==============================] - 0s 193us/step - loss: 0.4656 - binary_accuracy: 0.7542 - val_loss: 0.4869 - val_binary_accuracy: 0.7619\n",
      "Epoch 692/1000\n",
      "537/537 [==============================] - 0s 206us/step - loss: 0.4520 - binary_accuracy: 0.7579 - val_loss: 0.4867 - val_binary_accuracy: 0.7619\n",
      "Epoch 693/1000\n",
      "537/537 [==============================] - 0s 180us/step - loss: 0.4616 - binary_accuracy: 0.7579 - val_loss: 0.4864 - val_binary_accuracy: 0.7576\n",
      "Epoch 694/1000\n",
      "537/537 [==============================] - 0s 197us/step - loss: 0.4606 - binary_accuracy: 0.7635 - val_loss: 0.4875 - val_binary_accuracy: 0.7662\n",
      "Epoch 695/1000\n",
      "537/537 [==============================] - 0s 201us/step - loss: 0.4522 - binary_accuracy: 0.7635 - val_loss: 0.4881 - val_binary_accuracy: 0.7662\n",
      "Epoch 696/1000\n",
      "537/537 [==============================] - 0s 223us/step - loss: 0.4562 - binary_accuracy: 0.7579 - val_loss: 0.4861 - val_binary_accuracy: 0.7576\n",
      "Epoch 697/1000\n",
      "537/537 [==============================] - 0s 197us/step - loss: 0.4618 - binary_accuracy: 0.7616 - val_loss: 0.4869 - val_binary_accuracy: 0.7619\n",
      "Epoch 698/1000\n",
      "537/537 [==============================] - 0s 264us/step - loss: 0.4643 - binary_accuracy: 0.7467 - val_loss: 0.4875 - val_binary_accuracy: 0.7619\n",
      "Epoch 699/1000\n",
      "537/537 [==============================] - 0s 210us/step - loss: 0.4445 - binary_accuracy: 0.7709 - val_loss: 0.4877 - val_binary_accuracy: 0.7619\n",
      "Epoch 700/1000\n",
      "537/537 [==============================] - 0s 197us/step - loss: 0.4425 - binary_accuracy: 0.7505 - val_loss: 0.4894 - val_binary_accuracy: 0.7532\n",
      "Epoch 701/1000\n",
      "537/537 [==============================] - 0s 201us/step - loss: 0.4386 - binary_accuracy: 0.7505 - val_loss: 0.4914 - val_binary_accuracy: 0.7576\n",
      "Epoch 702/1000\n",
      "537/537 [==============================] - 0s 221us/step - loss: 0.4610 - binary_accuracy: 0.7412 - val_loss: 0.4876 - val_binary_accuracy: 0.7619\n",
      "Epoch 703/1000\n",
      "537/537 [==============================] - 0s 238us/step - loss: 0.4677 - binary_accuracy: 0.7654 - val_loss: 0.4852 - val_binary_accuracy: 0.7619\n",
      "Epoch 704/1000\n",
      "537/537 [==============================] - 0s 230us/step - loss: 0.4524 - binary_accuracy: 0.7709 - val_loss: 0.4873 - val_binary_accuracy: 0.7662\n",
      "Epoch 705/1000\n",
      "537/537 [==============================] - 0s 191us/step - loss: 0.4518 - binary_accuracy: 0.7654 - val_loss: 0.4877 - val_binary_accuracy: 0.7619\n",
      "Epoch 706/1000\n",
      "537/537 [==============================] - 0s 199us/step - loss: 0.4566 - binary_accuracy: 0.7505 - val_loss: 0.4897 - val_binary_accuracy: 0.7662\n",
      "Epoch 707/1000\n",
      "537/537 [==============================] - 0s 197us/step - loss: 0.4565 - binary_accuracy: 0.7728 - val_loss: 0.4897 - val_binary_accuracy: 0.7662\n",
      "Epoch 708/1000\n",
      "537/537 [==============================] - 0s 221us/step - loss: 0.4636 - binary_accuracy: 0.7616 - val_loss: 0.4892 - val_binary_accuracy: 0.7662\n"
     ]
    },
    {
     "name": "stdout",
     "output_type": "stream",
     "text": [
      "Epoch 709/1000\n",
      "537/537 [==============================] - 0s 219us/step - loss: 0.4628 - binary_accuracy: 0.7523 - val_loss: 0.4882 - val_binary_accuracy: 0.7619\n",
      "Epoch 710/1000\n",
      "537/537 [==============================] - 0s 189us/step - loss: 0.4546 - binary_accuracy: 0.7449 - val_loss: 0.4886 - val_binary_accuracy: 0.7619\n",
      "Epoch 711/1000\n",
      "537/537 [==============================] - 0s 188us/step - loss: 0.4647 - binary_accuracy: 0.7467 - val_loss: 0.4886 - val_binary_accuracy: 0.7619\n",
      "Epoch 712/1000\n",
      "537/537 [==============================] - 0s 191us/step - loss: 0.4545 - binary_accuracy: 0.7616 - val_loss: 0.4885 - val_binary_accuracy: 0.7619\n",
      "Epoch 713/1000\n",
      "537/537 [==============================] - 0s 180us/step - loss: 0.4437 - binary_accuracy: 0.7803 - val_loss: 0.4892 - val_binary_accuracy: 0.7706\n",
      "Epoch 714/1000\n",
      "537/537 [==============================] - 0s 214us/step - loss: 0.4455 - binary_accuracy: 0.7598 - val_loss: 0.4884 - val_binary_accuracy: 0.7662\n",
      "Epoch 715/1000\n",
      "537/537 [==============================] - 0s 210us/step - loss: 0.4483 - binary_accuracy: 0.7635 - val_loss: 0.4899 - val_binary_accuracy: 0.7662\n",
      "Epoch 716/1000\n",
      "537/537 [==============================] - 0s 182us/step - loss: 0.4522 - binary_accuracy: 0.7635 - val_loss: 0.4878 - val_binary_accuracy: 0.7619\n",
      "Epoch 717/1000\n",
      "537/537 [==============================] - 0s 176us/step - loss: 0.4687 - binary_accuracy: 0.7337 - val_loss: 0.4874 - val_binary_accuracy: 0.7619\n",
      "Epoch 718/1000\n",
      "537/537 [==============================] - 0s 182us/step - loss: 0.4403 - binary_accuracy: 0.7635 - val_loss: 0.4873 - val_binary_accuracy: 0.7619\n",
      "Epoch 719/1000\n",
      "537/537 [==============================] - 0s 189us/step - loss: 0.4464 - binary_accuracy: 0.7691 - val_loss: 0.4876 - val_binary_accuracy: 0.7576\n",
      "Epoch 720/1000\n",
      "537/537 [==============================] - 0s 176us/step - loss: 0.4399 - binary_accuracy: 0.7616 - val_loss: 0.4883 - val_binary_accuracy: 0.7662\n",
      "Epoch 721/1000\n",
      "537/537 [==============================] - 0s 182us/step - loss: 0.4569 - binary_accuracy: 0.7598 - val_loss: 0.4915 - val_binary_accuracy: 0.7576\n",
      "Epoch 722/1000\n",
      "537/537 [==============================] - 0s 184us/step - loss: 0.4510 - binary_accuracy: 0.7635 - val_loss: 0.4901 - val_binary_accuracy: 0.7662\n",
      "Epoch 723/1000\n",
      "537/537 [==============================] - 0s 180us/step - loss: 0.4493 - binary_accuracy: 0.7672 - val_loss: 0.4899 - val_binary_accuracy: 0.7706\n",
      "Epoch 724/1000\n",
      "537/537 [==============================] - 0s 191us/step - loss: 0.4489 - binary_accuracy: 0.7747 - val_loss: 0.4891 - val_binary_accuracy: 0.7576\n",
      "Epoch 725/1000\n",
      "537/537 [==============================] - 0s 178us/step - loss: 0.4635 - binary_accuracy: 0.7728 - val_loss: 0.4882 - val_binary_accuracy: 0.7619\n",
      "Epoch 726/1000\n",
      "537/537 [==============================] - 0s 169us/step - loss: 0.4600 - binary_accuracy: 0.7709 - val_loss: 0.4888 - val_binary_accuracy: 0.7662\n",
      "Epoch 727/1000\n",
      "537/537 [==============================] - 0s 178us/step - loss: 0.4527 - binary_accuracy: 0.7747 - val_loss: 0.4889 - val_binary_accuracy: 0.7662\n",
      "Epoch 728/1000\n",
      "537/537 [==============================] - 0s 182us/step - loss: 0.4515 - binary_accuracy: 0.7747 - val_loss: 0.4894 - val_binary_accuracy: 0.7662\n",
      "Epoch 729/1000\n",
      "537/537 [==============================] - 0s 176us/step - loss: 0.4649 - binary_accuracy: 0.7449 - val_loss: 0.4889 - val_binary_accuracy: 0.7662\n",
      "Epoch 730/1000\n",
      "537/537 [==============================] - 0s 178us/step - loss: 0.4420 - binary_accuracy: 0.7616 - val_loss: 0.4897 - val_binary_accuracy: 0.7662\n",
      "Epoch 731/1000\n",
      "537/537 [==============================] - 0s 178us/step - loss: 0.4456 - binary_accuracy: 0.7523 - val_loss: 0.4896 - val_binary_accuracy: 0.7619\n",
      "Epoch 732/1000\n",
      "537/537 [==============================] - 0s 169us/step - loss: 0.4427 - binary_accuracy: 0.7654 - val_loss: 0.4894 - val_binary_accuracy: 0.7662\n",
      "Epoch 733/1000\n",
      "537/537 [==============================] - 0s 186us/step - loss: 0.4535 - binary_accuracy: 0.7691 - val_loss: 0.4881 - val_binary_accuracy: 0.7619\n",
      "Epoch 734/1000\n",
      "537/537 [==============================] - 0s 171us/step - loss: 0.4547 - binary_accuracy: 0.7598 - val_loss: 0.4881 - val_binary_accuracy: 0.7619\n",
      "Epoch 735/1000\n",
      "537/537 [==============================] - 0s 176us/step - loss: 0.4573 - binary_accuracy: 0.7709 - val_loss: 0.4885 - val_binary_accuracy: 0.7662\n",
      "Epoch 736/1000\n",
      "537/537 [==============================] - 0s 176us/step - loss: 0.4533 - binary_accuracy: 0.7598 - val_loss: 0.4898 - val_binary_accuracy: 0.7619\n",
      "Epoch 737/1000\n",
      "537/537 [==============================] - 0s 191us/step - loss: 0.4509 - binary_accuracy: 0.7691 - val_loss: 0.4916 - val_binary_accuracy: 0.7576\n",
      "Epoch 738/1000\n",
      "537/537 [==============================] - 0s 215us/step - loss: 0.4380 - binary_accuracy: 0.7523 - val_loss: 0.4907 - val_binary_accuracy: 0.7662\n",
      "Epoch 739/1000\n",
      "537/537 [==============================] - 0s 173us/step - loss: 0.4650 - binary_accuracy: 0.7654 - val_loss: 0.4888 - val_binary_accuracy: 0.7662\n",
      "Epoch 740/1000\n",
      "537/537 [==============================] - 0s 195us/step - loss: 0.4771 - binary_accuracy: 0.7467 - val_loss: 0.4868 - val_binary_accuracy: 0.7576\n",
      "Epoch 741/1000\n",
      "537/537 [==============================] - 0s 199us/step - loss: 0.4545 - binary_accuracy: 0.7523 - val_loss: 0.4882 - val_binary_accuracy: 0.7576\n",
      "Epoch 742/1000\n",
      "537/537 [==============================] - 0s 202us/step - loss: 0.4679 - binary_accuracy: 0.7598 - val_loss: 0.4892 - val_binary_accuracy: 0.7619\n",
      "Epoch 743/1000\n",
      "537/537 [==============================] - 0s 208us/step - loss: 0.4721 - binary_accuracy: 0.7486 - val_loss: 0.4894 - val_binary_accuracy: 0.7619\n",
      "Epoch 744/1000\n",
      "537/537 [==============================] - 0s 186us/step - loss: 0.4589 - binary_accuracy: 0.7430 - val_loss: 0.4881 - val_binary_accuracy: 0.7619\n",
      "Epoch 745/1000\n",
      "537/537 [==============================] - 0s 221us/step - loss: 0.4383 - binary_accuracy: 0.7635 - val_loss: 0.4878 - val_binary_accuracy: 0.7662\n",
      "Epoch 746/1000\n",
      "537/537 [==============================] - 0s 214us/step - loss: 0.4599 - binary_accuracy: 0.7579 - val_loss: 0.4879 - val_binary_accuracy: 0.7619\n",
      "Epoch 747/1000\n",
      "537/537 [==============================] - 0s 214us/step - loss: 0.4439 - binary_accuracy: 0.7654 - val_loss: 0.4896 - val_binary_accuracy: 0.7662\n",
      "Epoch 748/1000\n",
      "537/537 [==============================] - 0s 193us/step - loss: 0.4563 - binary_accuracy: 0.7486 - val_loss: 0.4889 - val_binary_accuracy: 0.7662\n",
      "Epoch 749/1000\n",
      "537/537 [==============================] - 0s 195us/step - loss: 0.4522 - binary_accuracy: 0.7691 - val_loss: 0.4885 - val_binary_accuracy: 0.7662\n",
      "Epoch 750/1000\n",
      "537/537 [==============================] - 0s 212us/step - loss: 0.4450 - binary_accuracy: 0.7635 - val_loss: 0.4882 - val_binary_accuracy: 0.7619\n",
      "Epoch 751/1000\n",
      "537/537 [==============================] - 0s 193us/step - loss: 0.4626 - binary_accuracy: 0.7505 - val_loss: 0.4888 - val_binary_accuracy: 0.7662\n",
      "Epoch 752/1000\n",
      "537/537 [==============================] - 0s 215us/step - loss: 0.4734 - binary_accuracy: 0.7654 - val_loss: 0.4893 - val_binary_accuracy: 0.7662\n",
      "Epoch 753/1000\n",
      "537/537 [==============================] - 0s 204us/step - loss: 0.4707 - binary_accuracy: 0.7523 - val_loss: 0.4883 - val_binary_accuracy: 0.7662\n",
      "Epoch 754/1000\n",
      "537/537 [==============================] - 0s 228us/step - loss: 0.4454 - binary_accuracy: 0.7635 - val_loss: 0.4891 - val_binary_accuracy: 0.7662\n",
      "Epoch 755/1000\n",
      "537/537 [==============================] - 0s 214us/step - loss: 0.4486 - binary_accuracy: 0.7654 - val_loss: 0.4904 - val_binary_accuracy: 0.7706\n",
      "Epoch 756/1000\n",
      "537/537 [==============================] - 0s 202us/step - loss: 0.4654 - binary_accuracy: 0.7467 - val_loss: 0.4904 - val_binary_accuracy: 0.7662\n",
      "Epoch 757/1000\n",
      "537/537 [==============================] - 0s 202us/step - loss: 0.4851 - binary_accuracy: 0.7523 - val_loss: 0.4877 - val_binary_accuracy: 0.7619\n",
      "Epoch 758/1000\n",
      "537/537 [==============================] - 0s 236us/step - loss: 0.4864 - binary_accuracy: 0.7412 - val_loss: 0.4883 - val_binary_accuracy: 0.7619\n",
      "Epoch 759/1000\n"
     ]
    },
    {
     "name": "stdout",
     "output_type": "stream",
     "text": [
      "537/537 [==============================] - 0s 238us/step - loss: 0.4591 - binary_accuracy: 0.7561 - val_loss: 0.4885 - val_binary_accuracy: 0.7619\n",
      "Epoch 760/1000\n",
      "537/537 [==============================] - 0s 201us/step - loss: 0.4592 - binary_accuracy: 0.7616 - val_loss: 0.4898 - val_binary_accuracy: 0.7706\n",
      "Epoch 761/1000\n",
      "537/537 [==============================] - 0s 186us/step - loss: 0.4638 - binary_accuracy: 0.7523 - val_loss: 0.4901 - val_binary_accuracy: 0.7706\n",
      "Epoch 762/1000\n",
      "537/537 [==============================] - 0s 186us/step - loss: 0.4640 - binary_accuracy: 0.7691 - val_loss: 0.4887 - val_binary_accuracy: 0.7619\n",
      "Epoch 763/1000\n",
      "537/537 [==============================] - 0s 173us/step - loss: 0.4620 - binary_accuracy: 0.7467 - val_loss: 0.4885 - val_binary_accuracy: 0.7576\n",
      "Epoch 764/1000\n",
      "537/537 [==============================] - 0s 171us/step - loss: 0.4715 - binary_accuracy: 0.7505 - val_loss: 0.4899 - val_binary_accuracy: 0.7576\n",
      "Epoch 765/1000\n",
      "537/537 [==============================] - 0s 182us/step - loss: 0.4408 - binary_accuracy: 0.7709 - val_loss: 0.4895 - val_binary_accuracy: 0.7619\n",
      "Epoch 766/1000\n",
      "537/537 [==============================] - 0s 175us/step - loss: 0.4534 - binary_accuracy: 0.7561 - val_loss: 0.4916 - val_binary_accuracy: 0.7662\n",
      "Epoch 767/1000\n",
      "537/537 [==============================] - 0s 167us/step - loss: 0.4575 - binary_accuracy: 0.7598 - val_loss: 0.4901 - val_binary_accuracy: 0.7706\n",
      "Epoch 768/1000\n",
      "537/537 [==============================] - 0s 167us/step - loss: 0.4481 - binary_accuracy: 0.7635 - val_loss: 0.4896 - val_binary_accuracy: 0.7619\n",
      "Epoch 769/1000\n",
      "537/537 [==============================] - 0s 188us/step - loss: 0.4599 - binary_accuracy: 0.7635 - val_loss: 0.4903 - val_binary_accuracy: 0.7619\n",
      "Epoch 770/1000\n",
      "537/537 [==============================] - 0s 186us/step - loss: 0.4516 - binary_accuracy: 0.7691 - val_loss: 0.4922 - val_binary_accuracy: 0.7576\n",
      "Epoch 771/1000\n",
      "537/537 [==============================] - 0s 182us/step - loss: 0.4614 - binary_accuracy: 0.7579 - val_loss: 0.4900 - val_binary_accuracy: 0.7619\n",
      "Epoch 772/1000\n",
      "537/537 [==============================] - 0s 188us/step - loss: 0.4592 - binary_accuracy: 0.7579 - val_loss: 0.4889 - val_binary_accuracy: 0.7662\n",
      "Epoch 773/1000\n",
      "537/537 [==============================] - 0s 191us/step - loss: 0.4539 - binary_accuracy: 0.7765 - val_loss: 0.4894 - val_binary_accuracy: 0.7619\n",
      "Epoch 774/1000\n",
      "537/537 [==============================] - 0s 182us/step - loss: 0.4517 - binary_accuracy: 0.7672 - val_loss: 0.4904 - val_binary_accuracy: 0.7619\n",
      "Epoch 775/1000\n",
      "537/537 [==============================] - 0s 180us/step - loss: 0.4606 - binary_accuracy: 0.7523 - val_loss: 0.4925 - val_binary_accuracy: 0.7619\n",
      "Epoch 776/1000\n",
      "537/537 [==============================] - 0s 180us/step - loss: 0.4590 - binary_accuracy: 0.7691 - val_loss: 0.4910 - val_binary_accuracy: 0.7662\n",
      "Epoch 777/1000\n",
      "537/537 [==============================] - 0s 182us/step - loss: 0.4669 - binary_accuracy: 0.7523 - val_loss: 0.4905 - val_binary_accuracy: 0.7619\n",
      "Epoch 778/1000\n",
      "537/537 [==============================] - 0s 178us/step - loss: 0.4569 - binary_accuracy: 0.7542 - val_loss: 0.4901 - val_binary_accuracy: 0.7619\n",
      "Epoch 779/1000\n",
      "537/537 [==============================] - 0s 176us/step - loss: 0.4440 - binary_accuracy: 0.7579 - val_loss: 0.4908 - val_binary_accuracy: 0.7619\n",
      "Epoch 780/1000\n",
      "537/537 [==============================] - 0s 204us/step - loss: 0.4547 - binary_accuracy: 0.7654 - val_loss: 0.4909 - val_binary_accuracy: 0.7619\n",
      "Epoch 781/1000\n",
      "537/537 [==============================] - 0s 186us/step - loss: 0.4677 - binary_accuracy: 0.7635 - val_loss: 0.4907 - val_binary_accuracy: 0.7576\n",
      "Epoch 782/1000\n",
      "537/537 [==============================] - 0s 184us/step - loss: 0.4563 - binary_accuracy: 0.7449 - val_loss: 0.4908 - val_binary_accuracy: 0.7619\n",
      "Epoch 783/1000\n",
      "537/537 [==============================] - 0s 167us/step - loss: 0.4578 - binary_accuracy: 0.7467 - val_loss: 0.4909 - val_binary_accuracy: 0.7576\n",
      "Epoch 784/1000\n",
      "537/537 [==============================] - 0s 173us/step - loss: 0.4535 - binary_accuracy: 0.7672 - val_loss: 0.4913 - val_binary_accuracy: 0.7662\n",
      "Epoch 785/1000\n",
      "537/537 [==============================] - 0s 189us/step - loss: 0.4801 - binary_accuracy: 0.7542 - val_loss: 0.4900 - val_binary_accuracy: 0.7662\n",
      "Epoch 786/1000\n",
      "537/537 [==============================] - 0s 208us/step - loss: 0.4694 - binary_accuracy: 0.7467 - val_loss: 0.4891 - val_binary_accuracy: 0.7619\n",
      "Epoch 787/1000\n",
      "537/537 [==============================] - 0s 193us/step - loss: 0.4602 - binary_accuracy: 0.7672 - val_loss: 0.4901 - val_binary_accuracy: 0.7619\n",
      "Epoch 788/1000\n",
      "537/537 [==============================] - 0s 197us/step - loss: 0.4710 - binary_accuracy: 0.7374 - val_loss: 0.4906 - val_binary_accuracy: 0.7619\n",
      "Epoch 789/1000\n",
      "537/537 [==============================] - 0s 178us/step - loss: 0.4618 - binary_accuracy: 0.7449 - val_loss: 0.4910 - val_binary_accuracy: 0.7619\n",
      "Epoch 790/1000\n",
      "537/537 [==============================] - 0s 195us/step - loss: 0.4569 - binary_accuracy: 0.7598 - val_loss: 0.4899 - val_binary_accuracy: 0.7576\n",
      "Epoch 791/1000\n",
      "537/537 [==============================] - 0s 197us/step - loss: 0.4500 - binary_accuracy: 0.7523 - val_loss: 0.4915 - val_binary_accuracy: 0.7619\n",
      "Epoch 792/1000\n",
      "537/537 [==============================] - 0s 197us/step - loss: 0.4482 - binary_accuracy: 0.7486 - val_loss: 0.4911 - val_binary_accuracy: 0.7619\n",
      "Epoch 793/1000\n",
      "537/537 [==============================] - 0s 186us/step - loss: 0.4537 - binary_accuracy: 0.7579 - val_loss: 0.4917 - val_binary_accuracy: 0.7576\n",
      "Epoch 794/1000\n",
      "537/537 [==============================] - 0s 193us/step - loss: 0.4506 - binary_accuracy: 0.7598 - val_loss: 0.4916 - val_binary_accuracy: 0.7619\n",
      "Epoch 795/1000\n",
      "537/537 [==============================] - 0s 182us/step - loss: 0.4610 - binary_accuracy: 0.7579 - val_loss: 0.4918 - val_binary_accuracy: 0.7576\n",
      "Epoch 796/1000\n",
      "537/537 [==============================] - 0s 197us/step - loss: 0.4778 - binary_accuracy: 0.7356 - val_loss: 0.4918 - val_binary_accuracy: 0.7576\n",
      "Epoch 797/1000\n",
      "537/537 [==============================] - 0s 202us/step - loss: 0.4472 - binary_accuracy: 0.7505 - val_loss: 0.4921 - val_binary_accuracy: 0.7576\n",
      "Epoch 798/1000\n",
      "537/537 [==============================] - 0s 195us/step - loss: 0.4491 - binary_accuracy: 0.7542 - val_loss: 0.4921 - val_binary_accuracy: 0.7619\n",
      "Epoch 799/1000\n",
      "537/537 [==============================] - 0s 202us/step - loss: 0.4523 - binary_accuracy: 0.7579 - val_loss: 0.4921 - val_binary_accuracy: 0.7662\n",
      "Epoch 800/1000\n",
      "537/537 [==============================] - 0s 201us/step - loss: 0.4646 - binary_accuracy: 0.7635 - val_loss: 0.4912 - val_binary_accuracy: 0.7576\n",
      "Epoch 801/1000\n",
      "537/537 [==============================] - 0s 195us/step - loss: 0.4587 - binary_accuracy: 0.7598 - val_loss: 0.4921 - val_binary_accuracy: 0.7576\n",
      "Epoch 802/1000\n",
      "537/537 [==============================] - 0s 199us/step - loss: 0.4585 - binary_accuracy: 0.7505 - val_loss: 0.4922 - val_binary_accuracy: 0.7576\n",
      "Epoch 803/1000\n",
      "537/537 [==============================] - 0s 180us/step - loss: 0.4681 - binary_accuracy: 0.7486 - val_loss: 0.4926 - val_binary_accuracy: 0.7532\n",
      "Epoch 804/1000\n",
      "537/537 [==============================] - 0s 188us/step - loss: 0.4697 - binary_accuracy: 0.7542 - val_loss: 0.4932 - val_binary_accuracy: 0.7576\n",
      "Epoch 805/1000\n",
      "537/537 [==============================] - 0s 193us/step - loss: 0.4528 - binary_accuracy: 0.7598 - val_loss: 0.4923 - val_binary_accuracy: 0.7619\n",
      "Epoch 806/1000\n",
      "537/537 [==============================] - 0s 202us/step - loss: 0.4455 - binary_accuracy: 0.7561 - val_loss: 0.4933 - val_binary_accuracy: 0.7662\n",
      "Epoch 807/1000\n",
      "537/537 [==============================] - 0s 178us/step - loss: 0.4437 - binary_accuracy: 0.7598 - val_loss: 0.4947 - val_binary_accuracy: 0.7619\n",
      "Epoch 808/1000\n",
      "537/537 [==============================] - 0s 186us/step - loss: 0.4526 - binary_accuracy: 0.7561 - val_loss: 0.4955 - val_binary_accuracy: 0.7619\n",
      "Epoch 809/1000\n",
      "537/537 [==============================] - 0s 214us/step - loss: 0.4573 - binary_accuracy: 0.7542 - val_loss: 0.4940 - val_binary_accuracy: 0.7662\n"
     ]
    },
    {
     "name": "stdout",
     "output_type": "stream",
     "text": [
      "Epoch 810/1000\n",
      "537/537 [==============================] - 0s 206us/step - loss: 0.4520 - binary_accuracy: 0.7449 - val_loss: 0.4916 - val_binary_accuracy: 0.7619\n",
      "Epoch 811/1000\n",
      "537/537 [==============================] - 0s 171us/step - loss: 0.4559 - binary_accuracy: 0.7672 - val_loss: 0.4921 - val_binary_accuracy: 0.7619\n",
      "Epoch 812/1000\n",
      "537/537 [==============================] - 0s 169us/step - loss: 0.4651 - binary_accuracy: 0.7412 - val_loss: 0.4915 - val_binary_accuracy: 0.7662\n",
      "Epoch 813/1000\n",
      "537/537 [==============================] - 0s 180us/step - loss: 0.4593 - binary_accuracy: 0.7598 - val_loss: 0.4908 - val_binary_accuracy: 0.7576\n",
      "Epoch 814/1000\n",
      "537/537 [==============================] - 0s 189us/step - loss: 0.4473 - binary_accuracy: 0.7709 - val_loss: 0.4932 - val_binary_accuracy: 0.7619\n",
      "Epoch 815/1000\n",
      "537/537 [==============================] - 0s 186us/step - loss: 0.4566 - binary_accuracy: 0.7430 - val_loss: 0.4940 - val_binary_accuracy: 0.7662\n",
      "Epoch 816/1000\n",
      "537/537 [==============================] - 0s 178us/step - loss: 0.4600 - binary_accuracy: 0.7523 - val_loss: 0.4919 - val_binary_accuracy: 0.7619\n",
      "Epoch 817/1000\n",
      "537/537 [==============================] - 0s 167us/step - loss: 0.4510 - binary_accuracy: 0.7579 - val_loss: 0.4909 - val_binary_accuracy: 0.7662\n",
      "Epoch 818/1000\n",
      "537/537 [==============================] - 0s 193us/step - loss: 0.4563 - binary_accuracy: 0.7579 - val_loss: 0.4914 - val_binary_accuracy: 0.7662\n",
      "Epoch 819/1000\n",
      "537/537 [==============================] - 0s 186us/step - loss: 0.4399 - binary_accuracy: 0.7728 - val_loss: 0.4932 - val_binary_accuracy: 0.7706\n",
      "Epoch 820/1000\n",
      "537/537 [==============================] - 0s 182us/step - loss: 0.4628 - binary_accuracy: 0.7523 - val_loss: 0.4913 - val_binary_accuracy: 0.7576\n",
      "Epoch 821/1000\n",
      "537/537 [==============================] - 0s 169us/step - loss: 0.4552 - binary_accuracy: 0.7635 - val_loss: 0.4923 - val_binary_accuracy: 0.7619\n",
      "Epoch 822/1000\n",
      "537/537 [==============================] - 0s 182us/step - loss: 0.4539 - binary_accuracy: 0.7784 - val_loss: 0.4928 - val_binary_accuracy: 0.7619\n",
      "Epoch 823/1000\n",
      "537/537 [==============================] - 0s 197us/step - loss: 0.4666 - binary_accuracy: 0.7654 - val_loss: 0.4930 - val_binary_accuracy: 0.7619\n",
      "Epoch 824/1000\n",
      "537/537 [==============================] - 0s 184us/step - loss: 0.4565 - binary_accuracy: 0.7449 - val_loss: 0.4934 - val_binary_accuracy: 0.7532\n",
      "Epoch 825/1000\n",
      "537/537 [==============================] - 0s 180us/step - loss: 0.4435 - binary_accuracy: 0.7654 - val_loss: 0.4941 - val_binary_accuracy: 0.7619\n",
      "Epoch 826/1000\n",
      "537/537 [==============================] - 0s 165us/step - loss: 0.4653 - binary_accuracy: 0.7598 - val_loss: 0.4930 - val_binary_accuracy: 0.7619\n",
      "Epoch 827/1000\n",
      "537/537 [==============================] - 0s 178us/step - loss: 0.4634 - binary_accuracy: 0.7579 - val_loss: 0.4918 - val_binary_accuracy: 0.7619\n",
      "Epoch 828/1000\n",
      "537/537 [==============================] - 0s 210us/step - loss: 0.4638 - binary_accuracy: 0.7579 - val_loss: 0.4912 - val_binary_accuracy: 0.7619\n",
      "Epoch 829/1000\n",
      "537/537 [==============================] - 0s 188us/step - loss: 0.4420 - binary_accuracy: 0.7709 - val_loss: 0.4911 - val_binary_accuracy: 0.7576\n",
      "Epoch 830/1000\n",
      "537/537 [==============================] - 0s 182us/step - loss: 0.4493 - binary_accuracy: 0.7654 - val_loss: 0.4934 - val_binary_accuracy: 0.7706\n",
      "Epoch 831/1000\n",
      "537/537 [==============================] - 0s 178us/step - loss: 0.4602 - binary_accuracy: 0.7709 - val_loss: 0.4935 - val_binary_accuracy: 0.7706\n",
      "Epoch 832/1000\n",
      "537/537 [==============================] - 0s 182us/step - loss: 0.4672 - binary_accuracy: 0.7616 - val_loss: 0.4923 - val_binary_accuracy: 0.7619\n",
      "Epoch 833/1000\n",
      "537/537 [==============================] - 0s 202us/step - loss: 0.4668 - binary_accuracy: 0.7542 - val_loss: 0.4914 - val_binary_accuracy: 0.7576\n",
      "Epoch 834/1000\n",
      "537/537 [==============================] - 0s 186us/step - loss: 0.4481 - binary_accuracy: 0.7691 - val_loss: 0.4920 - val_binary_accuracy: 0.7619\n",
      "Epoch 835/1000\n",
      "537/537 [==============================] - 0s 182us/step - loss: 0.4712 - binary_accuracy: 0.7486 - val_loss: 0.4907 - val_binary_accuracy: 0.7619\n",
      "Epoch 836/1000\n",
      "537/537 [==============================] - 0s 214us/step - loss: 0.4570 - binary_accuracy: 0.7393 - val_loss: 0.4918 - val_binary_accuracy: 0.7619\n",
      "Epoch 837/1000\n",
      "537/537 [==============================] - 0s 206us/step - loss: 0.4516 - binary_accuracy: 0.7523 - val_loss: 0.4944 - val_binary_accuracy: 0.7576\n",
      "Epoch 838/1000\n",
      "537/537 [==============================] - 0s 219us/step - loss: 0.4649 - binary_accuracy: 0.7393 - val_loss: 0.4933 - val_binary_accuracy: 0.7619\n",
      "Epoch 839/1000\n",
      "537/537 [==============================] - 0s 201us/step - loss: 0.4755 - binary_accuracy: 0.7561 - val_loss: 0.4912 - val_binary_accuracy: 0.7619\n",
      "Epoch 840/1000\n",
      "537/537 [==============================] - 0s 180us/step - loss: 0.4508 - binary_accuracy: 0.7635 - val_loss: 0.4910 - val_binary_accuracy: 0.7662\n",
      "Epoch 841/1000\n",
      "537/537 [==============================] - 0s 184us/step - loss: 0.4474 - binary_accuracy: 0.7561 - val_loss: 0.4928 - val_binary_accuracy: 0.7619\n",
      "Epoch 842/1000\n",
      "537/537 [==============================] - 0s 204us/step - loss: 0.4302 - binary_accuracy: 0.7709 - val_loss: 0.4945 - val_binary_accuracy: 0.7662\n",
      "Epoch 843/1000\n",
      "537/537 [==============================] - 0s 189us/step - loss: 0.4587 - binary_accuracy: 0.7579 - val_loss: 0.4944 - val_binary_accuracy: 0.7706\n",
      "Epoch 844/1000\n",
      "537/537 [==============================] - 0s 188us/step - loss: 0.4729 - binary_accuracy: 0.7430 - val_loss: 0.4908 - val_binary_accuracy: 0.7619\n",
      "Epoch 845/1000\n",
      "537/537 [==============================] - 0s 193us/step - loss: 0.4548 - binary_accuracy: 0.7542 - val_loss: 0.4914 - val_binary_accuracy: 0.7662\n",
      "Epoch 846/1000\n",
      "537/537 [==============================] - 0s 210us/step - loss: 0.4616 - binary_accuracy: 0.7561 - val_loss: 0.4911 - val_binary_accuracy: 0.7619\n",
      "Epoch 847/1000\n",
      "537/537 [==============================] - 0s 182us/step - loss: 0.4423 - binary_accuracy: 0.7579 - val_loss: 0.4940 - val_binary_accuracy: 0.7619\n",
      "Epoch 848/1000\n",
      "537/537 [==============================] - 0s 175us/step - loss: 0.4763 - binary_accuracy: 0.7523 - val_loss: 0.4936 - val_binary_accuracy: 0.7576\n",
      "Epoch 849/1000\n",
      "537/537 [==============================] - 0s 193us/step - loss: 0.4670 - binary_accuracy: 0.7635 - val_loss: 0.4904 - val_binary_accuracy: 0.7619\n",
      "Epoch 850/1000\n",
      "537/537 [==============================] - 0s 199us/step - loss: 0.4477 - binary_accuracy: 0.7728 - val_loss: 0.4914 - val_binary_accuracy: 0.7662\n",
      "Epoch 851/1000\n",
      "537/537 [==============================] - 0s 245us/step - loss: 0.4642 - binary_accuracy: 0.7616 - val_loss: 0.4920 - val_binary_accuracy: 0.7619\n",
      "Epoch 852/1000\n",
      "537/537 [==============================] - 0s 210us/step - loss: 0.4573 - binary_accuracy: 0.7337 - val_loss: 0.4922 - val_binary_accuracy: 0.7662\n",
      "Epoch 853/1000\n",
      "537/537 [==============================] - 0s 195us/step - loss: 0.4446 - binary_accuracy: 0.7616 - val_loss: 0.4935 - val_binary_accuracy: 0.7662\n",
      "Epoch 854/1000\n",
      "537/537 [==============================] - 0s 195us/step - loss: 0.4607 - binary_accuracy: 0.7449 - val_loss: 0.4925 - val_binary_accuracy: 0.7662\n",
      "Epoch 855/1000\n",
      "537/537 [==============================] - 0s 219us/step - loss: 0.4419 - binary_accuracy: 0.7542 - val_loss: 0.4930 - val_binary_accuracy: 0.7619\n",
      "Epoch 856/1000\n",
      "537/537 [==============================] - 0s 215us/step - loss: 0.4735 - binary_accuracy: 0.7561 - val_loss: 0.4925 - val_binary_accuracy: 0.7662\n",
      "Epoch 857/1000\n",
      "537/537 [==============================] - 0s 214us/step - loss: 0.4705 - binary_accuracy: 0.7505 - val_loss: 0.4918 - val_binary_accuracy: 0.7662\n",
      "Epoch 858/1000\n",
      "537/537 [==============================] - 0s 210us/step - loss: 0.4544 - binary_accuracy: 0.7728 - val_loss: 0.4911 - val_binary_accuracy: 0.7619\n",
      "Epoch 859/1000\n",
      "537/537 [==============================] - 0s 199us/step - loss: 0.4961 - binary_accuracy: 0.7449 - val_loss: 0.4907 - val_binary_accuracy: 0.7619\n",
      "Epoch 860/1000\n"
     ]
    },
    {
     "name": "stdout",
     "output_type": "stream",
     "text": [
      "537/537 [==============================] - 0s 204us/step - loss: 0.4696 - binary_accuracy: 0.7467 - val_loss: 0.4909 - val_binary_accuracy: 0.7619\n",
      "Epoch 861/1000\n",
      "537/537 [==============================] - 0s 182us/step - loss: 0.4458 - binary_accuracy: 0.7616 - val_loss: 0.4929 - val_binary_accuracy: 0.7576\n",
      "Epoch 862/1000\n",
      "537/537 [==============================] - 0s 175us/step - loss: 0.4588 - binary_accuracy: 0.7616 - val_loss: 0.4931 - val_binary_accuracy: 0.7706\n",
      "Epoch 863/1000\n",
      "537/537 [==============================] - 0s 176us/step - loss: 0.4722 - binary_accuracy: 0.7542 - val_loss: 0.4909 - val_binary_accuracy: 0.7576\n",
      "Epoch 864/1000\n",
      "537/537 [==============================] - 0s 189us/step - loss: 0.4618 - binary_accuracy: 0.7654 - val_loss: 0.4906 - val_binary_accuracy: 0.7619\n",
      "Epoch 865/1000\n",
      "537/537 [==============================] - 0s 201us/step - loss: 0.4635 - binary_accuracy: 0.7691 - val_loss: 0.4921 - val_binary_accuracy: 0.7662\n",
      "Epoch 866/1000\n",
      "537/537 [==============================] - 0s 182us/step - loss: 0.4684 - binary_accuracy: 0.7561 - val_loss: 0.4926 - val_binary_accuracy: 0.7706\n",
      "Epoch 867/1000\n",
      "537/537 [==============================] - 0s 165us/step - loss: 0.4712 - binary_accuracy: 0.7430 - val_loss: 0.4906 - val_binary_accuracy: 0.7576\n",
      "Epoch 868/1000\n",
      "537/537 [==============================] - 0s 178us/step - loss: 0.4493 - binary_accuracy: 0.7709 - val_loss: 0.4912 - val_binary_accuracy: 0.7576\n",
      "Epoch 869/1000\n",
      "537/537 [==============================] - 0s 206us/step - loss: 0.4621 - binary_accuracy: 0.7672 - val_loss: 0.4905 - val_binary_accuracy: 0.7662\n",
      "Epoch 870/1000\n",
      "537/537 [==============================] - 0s 201us/step - loss: 0.4734 - binary_accuracy: 0.7505 - val_loss: 0.4900 - val_binary_accuracy: 0.7619\n",
      "Epoch 871/1000\n",
      "537/537 [==============================] - 0s 176us/step - loss: 0.4605 - binary_accuracy: 0.7672 - val_loss: 0.4903 - val_binary_accuracy: 0.7662\n",
      "Epoch 872/1000\n",
      "537/537 [==============================] - 0s 169us/step - loss: 0.4793 - binary_accuracy: 0.7412 - val_loss: 0.4911 - val_binary_accuracy: 0.7662\n",
      "Epoch 873/1000\n",
      "537/537 [==============================] - 0s 178us/step - loss: 0.4599 - binary_accuracy: 0.7709 - val_loss: 0.4913 - val_binary_accuracy: 0.7619\n",
      "Epoch 874/1000\n",
      "537/537 [==============================] - 0s 186us/step - loss: 0.4326 - binary_accuracy: 0.7784 - val_loss: 0.4929 - val_binary_accuracy: 0.7619\n",
      "Epoch 875/1000\n",
      "537/537 [==============================] - 0s 201us/step - loss: 0.4621 - binary_accuracy: 0.7486 - val_loss: 0.4913 - val_binary_accuracy: 0.7619\n",
      "Epoch 876/1000\n",
      "537/537 [==============================] - 0s 186us/step - loss: 0.4524 - binary_accuracy: 0.7654 - val_loss: 0.4903 - val_binary_accuracy: 0.7662\n",
      "Epoch 877/1000\n",
      "537/537 [==============================] - 0s 182us/step - loss: 0.4558 - binary_accuracy: 0.7672 - val_loss: 0.4917 - val_binary_accuracy: 0.7662\n",
      "Epoch 878/1000\n",
      "537/537 [==============================] - 0s 169us/step - loss: 0.4680 - binary_accuracy: 0.7561 - val_loss: 0.4914 - val_binary_accuracy: 0.7619\n",
      "Epoch 879/1000\n",
      "537/537 [==============================] - 0s 175us/step - loss: 0.4469 - binary_accuracy: 0.7505 - val_loss: 0.4911 - val_binary_accuracy: 0.7662\n",
      "Epoch 880/1000\n",
      "537/537 [==============================] - 0s 204us/step - loss: 0.4635 - binary_accuracy: 0.7579 - val_loss: 0.4920 - val_binary_accuracy: 0.7662\n",
      "Epoch 881/1000\n",
      "537/537 [==============================] - 0s 188us/step - loss: 0.4851 - binary_accuracy: 0.7598 - val_loss: 0.4933 - val_binary_accuracy: 0.7619\n",
      "Epoch 882/1000\n",
      "537/537 [==============================] - 0s 184us/step - loss: 0.4563 - binary_accuracy: 0.7598 - val_loss: 0.4929 - val_binary_accuracy: 0.7619\n",
      "Epoch 883/1000\n",
      "537/537 [==============================] - 0s 173us/step - loss: 0.4616 - binary_accuracy: 0.7728 - val_loss: 0.4920 - val_binary_accuracy: 0.7662\n",
      "Epoch 884/1000\n",
      "537/537 [==============================] - 0s 188us/step - loss: 0.4675 - binary_accuracy: 0.7598 - val_loss: 0.4911 - val_binary_accuracy: 0.7619\n",
      "Epoch 885/1000\n",
      "537/537 [==============================] - 0s 206us/step - loss: 0.4720 - binary_accuracy: 0.7412 - val_loss: 0.4916 - val_binary_accuracy: 0.7619\n",
      "Epoch 886/1000\n",
      "537/537 [==============================] - 0s 189us/step - loss: 0.4552 - binary_accuracy: 0.7654 - val_loss: 0.4911 - val_binary_accuracy: 0.7619\n",
      "Epoch 887/1000\n",
      "537/537 [==============================] - 0s 199us/step - loss: 0.4549 - binary_accuracy: 0.7561 - val_loss: 0.4923 - val_binary_accuracy: 0.7619\n",
      "Epoch 888/1000\n",
      "537/537 [==============================] - 0s 197us/step - loss: 0.4600 - binary_accuracy: 0.7654 - val_loss: 0.4922 - val_binary_accuracy: 0.7706\n",
      "Epoch 889/1000\n",
      "537/537 [==============================] - 0s 201us/step - loss: 0.4247 - binary_accuracy: 0.7654 - val_loss: 0.4935 - val_binary_accuracy: 0.7662\n",
      "Epoch 890/1000\n",
      "537/537 [==============================] - 0s 208us/step - loss: 0.4475 - binary_accuracy: 0.7523 - val_loss: 0.4923 - val_binary_accuracy: 0.7662\n",
      "Epoch 891/1000\n",
      "537/537 [==============================] - 0s 197us/step - loss: 0.4574 - binary_accuracy: 0.7598 - val_loss: 0.4937 - val_binary_accuracy: 0.7662\n",
      "Epoch 892/1000\n",
      "537/537 [==============================] - 0s 182us/step - loss: 0.4710 - binary_accuracy: 0.7561 - val_loss: 0.4908 - val_binary_accuracy: 0.7576\n",
      "Epoch 893/1000\n",
      "537/537 [==============================] - 0s 201us/step - loss: 0.4632 - binary_accuracy: 0.7598 - val_loss: 0.4914 - val_binary_accuracy: 0.7662\n",
      "Epoch 894/1000\n",
      "537/537 [==============================] - 0s 217us/step - loss: 0.4449 - binary_accuracy: 0.7561 - val_loss: 0.4929 - val_binary_accuracy: 0.7662\n",
      "Epoch 895/1000\n",
      "537/537 [==============================] - 0s 188us/step - loss: 0.4580 - binary_accuracy: 0.7747 - val_loss: 0.4935 - val_binary_accuracy: 0.7662\n",
      "Epoch 896/1000\n",
      "537/537 [==============================] - 0s 180us/step - loss: 0.4518 - binary_accuracy: 0.7616 - val_loss: 0.4928 - val_binary_accuracy: 0.7662\n",
      "Epoch 897/1000\n",
      "537/537 [==============================] - 0s 188us/step - loss: 0.4599 - binary_accuracy: 0.7505 - val_loss: 0.4925 - val_binary_accuracy: 0.7706\n",
      "Epoch 898/1000\n",
      "537/537 [==============================] - 0s 215us/step - loss: 0.4448 - binary_accuracy: 0.7616 - val_loss: 0.4925 - val_binary_accuracy: 0.7619\n",
      "Epoch 899/1000\n",
      "537/537 [==============================] - 0s 212us/step - loss: 0.4570 - binary_accuracy: 0.7635 - val_loss: 0.4940 - val_binary_accuracy: 0.7619\n",
      "Epoch 900/1000\n",
      "537/537 [==============================] - 0s 193us/step - loss: 0.4620 - binary_accuracy: 0.7486 - val_loss: 0.4941 - val_binary_accuracy: 0.7706\n",
      "Epoch 901/1000\n",
      "537/537 [==============================] - 0s 180us/step - loss: 0.4652 - binary_accuracy: 0.7654 - val_loss: 0.4926 - val_binary_accuracy: 0.7662\n",
      "Epoch 902/1000\n",
      "537/537 [==============================] - 0s 199us/step - loss: 0.4724 - binary_accuracy: 0.7598 - val_loss: 0.4926 - val_binary_accuracy: 0.7706\n",
      "Epoch 903/1000\n",
      "537/537 [==============================] - 0s 217us/step - loss: 0.4274 - binary_accuracy: 0.7709 - val_loss: 0.4962 - val_binary_accuracy: 0.7662\n",
      "Epoch 904/1000\n",
      "537/537 [==============================] - 0s 202us/step - loss: 0.4555 - binary_accuracy: 0.7654 - val_loss: 0.4931 - val_binary_accuracy: 0.7662\n",
      "Epoch 905/1000\n",
      "537/537 [==============================] - 0s 195us/step - loss: 0.4574 - binary_accuracy: 0.7579 - val_loss: 0.4937 - val_binary_accuracy: 0.7662\n",
      "Epoch 906/1000\n",
      "537/537 [==============================] - 0s 212us/step - loss: 0.4419 - binary_accuracy: 0.7672 - val_loss: 0.4948 - val_binary_accuracy: 0.7706\n",
      "Epoch 907/1000\n",
      "537/537 [==============================] - 0s 210us/step - loss: 0.4607 - binary_accuracy: 0.7579 - val_loss: 0.4945 - val_binary_accuracy: 0.7619\n",
      "Epoch 908/1000\n",
      "537/537 [==============================] - 0s 202us/step - loss: 0.4747 - binary_accuracy: 0.7579 - val_loss: 0.4932 - val_binary_accuracy: 0.7619\n",
      "Epoch 909/1000\n",
      "537/537 [==============================] - 0s 189us/step - loss: 0.4623 - binary_accuracy: 0.7542 - val_loss: 0.4947 - val_binary_accuracy: 0.7576\n",
      "Epoch 910/1000\n",
      "537/537 [==============================] - 0s 212us/step - loss: 0.4587 - binary_accuracy: 0.7598 - val_loss: 0.4951 - val_binary_accuracy: 0.7619\n"
     ]
    },
    {
     "name": "stdout",
     "output_type": "stream",
     "text": [
      "Epoch 911/1000\n",
      "537/537 [==============================] - 0s 201us/step - loss: 0.4587 - binary_accuracy: 0.7672 - val_loss: 0.4938 - val_binary_accuracy: 0.7662\n",
      "Epoch 912/1000\n",
      "537/537 [==============================] - 0s 175us/step - loss: 0.4565 - binary_accuracy: 0.7654 - val_loss: 0.4952 - val_binary_accuracy: 0.7706\n",
      "Epoch 913/1000\n",
      "537/537 [==============================] - 0s 167us/step - loss: 0.4488 - binary_accuracy: 0.7635 - val_loss: 0.4934 - val_binary_accuracy: 0.7619\n",
      "Epoch 914/1000\n",
      "537/537 [==============================] - 0s 188us/step - loss: 0.4468 - binary_accuracy: 0.7728 - val_loss: 0.4951 - val_binary_accuracy: 0.7619\n",
      "Epoch 915/1000\n",
      "537/537 [==============================] - 0s 188us/step - loss: 0.4559 - binary_accuracy: 0.7709 - val_loss: 0.4963 - val_binary_accuracy: 0.7706\n",
      "Epoch 916/1000\n",
      "537/537 [==============================] - 0s 175us/step - loss: 0.4501 - binary_accuracy: 0.7784 - val_loss: 0.4936 - val_binary_accuracy: 0.7662\n",
      "Epoch 917/1000\n",
      "537/537 [==============================] - 0s 173us/step - loss: 0.4506 - binary_accuracy: 0.7505 - val_loss: 0.4941 - val_binary_accuracy: 0.7706\n",
      "Epoch 918/1000\n",
      "537/537 [==============================] - 0s 175us/step - loss: 0.4445 - binary_accuracy: 0.7672 - val_loss: 0.4931 - val_binary_accuracy: 0.7662\n",
      "Epoch 919/1000\n",
      "537/537 [==============================] - 0s 186us/step - loss: 0.4571 - binary_accuracy: 0.7691 - val_loss: 0.4933 - val_binary_accuracy: 0.7706\n",
      "Epoch 920/1000\n",
      "537/537 [==============================] - 0s 189us/step - loss: 0.4621 - binary_accuracy: 0.7449 - val_loss: 0.4929 - val_binary_accuracy: 0.7662\n",
      "Epoch 921/1000\n",
      "537/537 [==============================] - 0s 184us/step - loss: 0.4556 - binary_accuracy: 0.7672 - val_loss: 0.4930 - val_binary_accuracy: 0.7662\n",
      "Epoch 922/1000\n",
      "537/537 [==============================] - 0s 178us/step - loss: 0.4485 - binary_accuracy: 0.7616 - val_loss: 0.4937 - val_binary_accuracy: 0.7662\n",
      "Epoch 923/1000\n",
      "537/537 [==============================] - 0s 171us/step - loss: 0.4440 - binary_accuracy: 0.7709 - val_loss: 0.4943 - val_binary_accuracy: 0.7662\n",
      "Epoch 924/1000\n",
      "537/537 [==============================] - 0s 191us/step - loss: 0.4588 - binary_accuracy: 0.7542 - val_loss: 0.4943 - val_binary_accuracy: 0.7706\n",
      "Epoch 925/1000\n",
      "537/537 [==============================] - 0s 180us/step - loss: 0.4487 - binary_accuracy: 0.7561 - val_loss: 0.4938 - val_binary_accuracy: 0.7706\n",
      "Epoch 926/1000\n",
      "537/537 [==============================] - 0s 176us/step - loss: 0.4485 - binary_accuracy: 0.7467 - val_loss: 0.4945 - val_binary_accuracy: 0.7662\n",
      "Epoch 927/1000\n",
      "537/537 [==============================] - 0s 178us/step - loss: 0.4283 - binary_accuracy: 0.7598 - val_loss: 0.4945 - val_binary_accuracy: 0.7662\n",
      "Epoch 928/1000\n",
      "537/537 [==============================] - 0s 176us/step - loss: 0.4480 - binary_accuracy: 0.7635 - val_loss: 0.4959 - val_binary_accuracy: 0.7662\n",
      "Epoch 929/1000\n",
      "537/537 [==============================] - 0s 197us/step - loss: 0.4528 - binary_accuracy: 0.7728 - val_loss: 0.4968 - val_binary_accuracy: 0.7662\n",
      "Epoch 930/1000\n",
      "537/537 [==============================] - 0s 182us/step - loss: 0.4668 - binary_accuracy: 0.7542 - val_loss: 0.4934 - val_binary_accuracy: 0.7662\n",
      "Epoch 931/1000\n",
      "537/537 [==============================] - 0s 182us/step - loss: 0.4612 - binary_accuracy: 0.7542 - val_loss: 0.4950 - val_binary_accuracy: 0.7662\n",
      "Epoch 932/1000\n",
      "537/537 [==============================] - 0s 178us/step - loss: 0.4475 - binary_accuracy: 0.7616 - val_loss: 0.4944 - val_binary_accuracy: 0.7619\n",
      "Epoch 933/1000\n",
      "537/537 [==============================] - 0s 191us/step - loss: 0.4683 - binary_accuracy: 0.7430 - val_loss: 0.4949 - val_binary_accuracy: 0.7619\n",
      "Epoch 934/1000\n",
      "537/537 [==============================] - 0s 184us/step - loss: 0.4458 - binary_accuracy: 0.7914 - val_loss: 0.4933 - val_binary_accuracy: 0.7706\n",
      "Epoch 935/1000\n",
      "537/537 [==============================] - 0s 204us/step - loss: 0.4627 - binary_accuracy: 0.7467 - val_loss: 0.4940 - val_binary_accuracy: 0.7662\n",
      "Epoch 936/1000\n",
      "537/537 [==============================] - 0s 202us/step - loss: 0.4599 - binary_accuracy: 0.7449 - val_loss: 0.4945 - val_binary_accuracy: 0.7619\n",
      "Epoch 937/1000\n",
      "537/537 [==============================] - 0s 186us/step - loss: 0.4414 - binary_accuracy: 0.7598 - val_loss: 0.4962 - val_binary_accuracy: 0.7619\n",
      "Epoch 938/1000\n",
      "537/537 [==============================] - 0s 184us/step - loss: 0.4584 - binary_accuracy: 0.7449 - val_loss: 0.4953 - val_binary_accuracy: 0.7576\n",
      "Epoch 939/1000\n",
      "537/537 [==============================] - 0s 178us/step - loss: 0.4484 - binary_accuracy: 0.7691 - val_loss: 0.4963 - val_binary_accuracy: 0.7619\n",
      "Epoch 940/1000\n",
      "537/537 [==============================] - 0s 182us/step - loss: 0.4638 - binary_accuracy: 0.7467 - val_loss: 0.4951 - val_binary_accuracy: 0.7619\n",
      "Epoch 941/1000\n",
      "537/537 [==============================] - 0s 180us/step - loss: 0.4569 - binary_accuracy: 0.7635 - val_loss: 0.4939 - val_binary_accuracy: 0.7619\n",
      "Epoch 942/1000\n",
      "537/537 [==============================] - 0s 191us/step - loss: 0.4450 - binary_accuracy: 0.7709 - val_loss: 0.4931 - val_binary_accuracy: 0.7662\n",
      "Epoch 943/1000\n",
      "537/537 [==============================] - 0s 178us/step - loss: 0.4515 - binary_accuracy: 0.7598 - val_loss: 0.4951 - val_binary_accuracy: 0.7662\n",
      "Epoch 944/1000\n",
      "537/537 [==============================] - 0s 180us/step - loss: 0.4577 - binary_accuracy: 0.7542 - val_loss: 0.4969 - val_binary_accuracy: 0.7662\n",
      "Epoch 945/1000\n",
      "537/537 [==============================] - 0s 184us/step - loss: 0.4585 - binary_accuracy: 0.7318 - val_loss: 0.4957 - val_binary_accuracy: 0.7619\n",
      "Epoch 946/1000\n",
      "537/537 [==============================] - 0s 186us/step - loss: 0.4491 - binary_accuracy: 0.7561 - val_loss: 0.4943 - val_binary_accuracy: 0.7619\n",
      "Epoch 947/1000\n",
      "537/537 [==============================] - 0s 178us/step - loss: 0.4784 - binary_accuracy: 0.7486 - val_loss: 0.4923 - val_binary_accuracy: 0.7576\n",
      "Epoch 948/1000\n",
      "537/537 [==============================] - 0s 182us/step - loss: 0.4606 - binary_accuracy: 0.7635 - val_loss: 0.4932 - val_binary_accuracy: 0.7619\n",
      "Epoch 949/1000\n",
      "537/537 [==============================] - 0s 184us/step - loss: 0.4641 - binary_accuracy: 0.7654 - val_loss: 0.4940 - val_binary_accuracy: 0.7576\n",
      "Epoch 950/1000\n",
      "537/537 [==============================] - 0s 186us/step - loss: 0.4600 - binary_accuracy: 0.7523 - val_loss: 0.4941 - val_binary_accuracy: 0.7619\n",
      "Epoch 951/1000\n",
      "537/537 [==============================] - 0s 189us/step - loss: 0.4440 - binary_accuracy: 0.7672 - val_loss: 0.4938 - val_binary_accuracy: 0.7619\n",
      "Epoch 952/1000\n",
      "537/537 [==============================] - 0s 201us/step - loss: 0.4543 - binary_accuracy: 0.7765 - val_loss: 0.4934 - val_binary_accuracy: 0.7706\n",
      "Epoch 953/1000\n",
      "537/537 [==============================] - 0s 178us/step - loss: 0.4568 - binary_accuracy: 0.7412 - val_loss: 0.4942 - val_binary_accuracy: 0.7706\n",
      "Epoch 954/1000\n",
      "537/537 [==============================] - 0s 178us/step - loss: 0.4430 - binary_accuracy: 0.7579 - val_loss: 0.4941 - val_binary_accuracy: 0.7662\n",
      "Epoch 955/1000\n",
      "537/537 [==============================] - 0s 184us/step - loss: 0.4635 - binary_accuracy: 0.7598 - val_loss: 0.4948 - val_binary_accuracy: 0.7619\n",
      "Epoch 956/1000\n",
      "537/537 [==============================] - 0s 184us/step - loss: 0.4500 - binary_accuracy: 0.7579 - val_loss: 0.4949 - val_binary_accuracy: 0.7619\n",
      "Epoch 957/1000\n",
      "537/537 [==============================] - 0s 180us/step - loss: 0.4568 - binary_accuracy: 0.7542 - val_loss: 0.4942 - val_binary_accuracy: 0.7619\n",
      "Epoch 958/1000\n",
      "537/537 [==============================] - 0s 182us/step - loss: 0.4585 - binary_accuracy: 0.7393 - val_loss: 0.4958 - val_binary_accuracy: 0.7619\n",
      "Epoch 959/1000\n",
      "537/537 [==============================] - 0s 180us/step - loss: 0.4595 - binary_accuracy: 0.7542 - val_loss: 0.4943 - val_binary_accuracy: 0.7619\n",
      "Epoch 960/1000\n",
      "537/537 [==============================] - 0s 182us/step - loss: 0.4557 - binary_accuracy: 0.7523 - val_loss: 0.4958 - val_binary_accuracy: 0.7619\n",
      "Epoch 961/1000\n"
     ]
    },
    {
     "name": "stdout",
     "output_type": "stream",
     "text": [
      "537/537 [==============================] - 0s 184us/step - loss: 0.4479 - binary_accuracy: 0.7561 - val_loss: 0.4958 - val_binary_accuracy: 0.7662\n",
      "Epoch 962/1000\n",
      "537/537 [==============================] - 0s 178us/step - loss: 0.4377 - binary_accuracy: 0.7542 - val_loss: 0.4948 - val_binary_accuracy: 0.7619\n",
      "Epoch 963/1000\n",
      "537/537 [==============================] - 0s 163us/step - loss: 0.4582 - binary_accuracy: 0.7523 - val_loss: 0.4960 - val_binary_accuracy: 0.7619\n",
      "Epoch 964/1000\n",
      "537/537 [==============================] - 0s 176us/step - loss: 0.4643 - binary_accuracy: 0.7542 - val_loss: 0.4959 - val_binary_accuracy: 0.7662\n",
      "Epoch 965/1000\n",
      "537/537 [==============================] - 0s 175us/step - loss: 0.4576 - binary_accuracy: 0.7393 - val_loss: 0.4942 - val_binary_accuracy: 0.7662\n",
      "Epoch 966/1000\n",
      "537/537 [==============================] - 0s 169us/step - loss: 0.4676 - binary_accuracy: 0.7672 - val_loss: 0.4943 - val_binary_accuracy: 0.7576\n",
      "Epoch 967/1000\n",
      "537/537 [==============================] - 0s 165us/step - loss: 0.4662 - binary_accuracy: 0.7579 - val_loss: 0.4937 - val_binary_accuracy: 0.7662\n",
      "Epoch 968/1000\n",
      "537/537 [==============================] - 0s 173us/step - loss: 0.4696 - binary_accuracy: 0.7579 - val_loss: 0.4956 - val_binary_accuracy: 0.7619\n",
      "Epoch 969/1000\n",
      "537/537 [==============================] - 0s 167us/step - loss: 0.4669 - binary_accuracy: 0.7561 - val_loss: 0.4952 - val_binary_accuracy: 0.7619\n",
      "Epoch 970/1000\n",
      "537/537 [==============================] - 0s 171us/step - loss: 0.4621 - binary_accuracy: 0.7579 - val_loss: 0.4939 - val_binary_accuracy: 0.7576\n",
      "Epoch 971/1000\n",
      "537/537 [==============================] - 0s 165us/step - loss: 0.4611 - binary_accuracy: 0.7523 - val_loss: 0.4940 - val_binary_accuracy: 0.7619\n",
      "Epoch 972/1000\n",
      "537/537 [==============================] - 0s 180us/step - loss: 0.4438 - binary_accuracy: 0.7579 - val_loss: 0.4947 - val_binary_accuracy: 0.7619\n",
      "Epoch 973/1000\n",
      "537/537 [==============================] - 0s 173us/step - loss: 0.4440 - binary_accuracy: 0.7691 - val_loss: 0.4961 - val_binary_accuracy: 0.7706\n",
      "Epoch 974/1000\n",
      "537/537 [==============================] - 0s 171us/step - loss: 0.4647 - binary_accuracy: 0.7561 - val_loss: 0.4958 - val_binary_accuracy: 0.7662\n",
      "Epoch 975/1000\n",
      "537/537 [==============================] - 0s 167us/step - loss: 0.4537 - binary_accuracy: 0.7561 - val_loss: 0.4940 - val_binary_accuracy: 0.7662\n",
      "Epoch 976/1000\n",
      "537/537 [==============================] - 0s 175us/step - loss: 0.4406 - binary_accuracy: 0.7709 - val_loss: 0.4954 - val_binary_accuracy: 0.7576\n",
      "Epoch 977/1000\n",
      "537/537 [==============================] - 0s 171us/step - loss: 0.4750 - binary_accuracy: 0.7542 - val_loss: 0.4961 - val_binary_accuracy: 0.7576\n",
      "Epoch 978/1000\n",
      "537/537 [==============================] - 0s 178us/step - loss: 0.4602 - binary_accuracy: 0.7505 - val_loss: 0.4948 - val_binary_accuracy: 0.7619\n",
      "Epoch 979/1000\n",
      "537/537 [==============================] - 0s 169us/step - loss: 0.4532 - binary_accuracy: 0.7691 - val_loss: 0.4952 - val_binary_accuracy: 0.7619\n",
      "Epoch 980/1000\n",
      "537/537 [==============================] - 0s 173us/step - loss: 0.4680 - binary_accuracy: 0.7561 - val_loss: 0.4940 - val_binary_accuracy: 0.7619\n",
      "Epoch 981/1000\n",
      "537/537 [==============================] - 0s 167us/step - loss: 0.4621 - binary_accuracy: 0.7542 - val_loss: 0.4950 - val_binary_accuracy: 0.7619\n",
      "Epoch 982/1000\n",
      "537/537 [==============================] - 0s 176us/step - loss: 0.4673 - binary_accuracy: 0.7598 - val_loss: 0.4948 - val_binary_accuracy: 0.7619\n",
      "Epoch 983/1000\n",
      "537/537 [==============================] - 0s 197us/step - loss: 0.4300 - binary_accuracy: 0.7803 - val_loss: 0.4951 - val_binary_accuracy: 0.7619\n",
      "Epoch 984/1000\n",
      "537/537 [==============================] - 0s 173us/step - loss: 0.4644 - binary_accuracy: 0.7281 - val_loss: 0.4976 - val_binary_accuracy: 0.7576\n",
      "Epoch 985/1000\n",
      "537/537 [==============================] - 0s 167us/step - loss: 0.4421 - binary_accuracy: 0.7542 - val_loss: 0.4958 - val_binary_accuracy: 0.7532\n",
      "Epoch 986/1000\n",
      "537/537 [==============================] - 0s 173us/step - loss: 0.4680 - binary_accuracy: 0.7672 - val_loss: 0.4953 - val_binary_accuracy: 0.7662\n",
      "Epoch 987/1000\n",
      "537/537 [==============================] - 0s 180us/step - loss: 0.4462 - binary_accuracy: 0.7542 - val_loss: 0.4951 - val_binary_accuracy: 0.7749\n",
      "Epoch 988/1000\n",
      "537/537 [==============================] - 0s 178us/step - loss: 0.4695 - binary_accuracy: 0.7579 - val_loss: 0.4943 - val_binary_accuracy: 0.7619\n",
      "Epoch 989/1000\n",
      "537/537 [==============================] - 0s 169us/step - loss: 0.4609 - binary_accuracy: 0.7579 - val_loss: 0.4958 - val_binary_accuracy: 0.7576\n",
      "Epoch 990/1000\n",
      "537/537 [==============================] - 0s 169us/step - loss: 0.4334 - binary_accuracy: 0.7728 - val_loss: 0.4956 - val_binary_accuracy: 0.7662\n",
      "Epoch 991/1000\n",
      "537/537 [==============================] - 0s 171us/step - loss: 0.4360 - binary_accuracy: 0.7709 - val_loss: 0.4953 - val_binary_accuracy: 0.7662\n",
      "Epoch 992/1000\n",
      "537/537 [==============================] - 0s 169us/step - loss: 0.4400 - binary_accuracy: 0.7654 - val_loss: 0.4960 - val_binary_accuracy: 0.7706\n",
      "Epoch 993/1000\n",
      "537/537 [==============================] - 0s 175us/step - loss: 0.4531 - binary_accuracy: 0.7709 - val_loss: 0.4950 - val_binary_accuracy: 0.7662\n",
      "Epoch 994/1000\n",
      "537/537 [==============================] - 0s 175us/step - loss: 0.4627 - binary_accuracy: 0.7542 - val_loss: 0.4959 - val_binary_accuracy: 0.7662\n",
      "Epoch 995/1000\n",
      "537/537 [==============================] - 0s 176us/step - loss: 0.4519 - binary_accuracy: 0.7393 - val_loss: 0.4966 - val_binary_accuracy: 0.7619\n",
      "Epoch 996/1000\n",
      "537/537 [==============================] - 0s 165us/step - loss: 0.4480 - binary_accuracy: 0.7598 - val_loss: 0.4954 - val_binary_accuracy: 0.7662\n",
      "Epoch 997/1000\n",
      "537/537 [==============================] - 0s 173us/step - loss: 0.4412 - binary_accuracy: 0.7654 - val_loss: 0.4977 - val_binary_accuracy: 0.7706\n",
      "Epoch 998/1000\n",
      "537/537 [==============================] - 0s 180us/step - loss: 0.4410 - binary_accuracy: 0.7598 - val_loss: 0.4981 - val_binary_accuracy: 0.7706\n",
      "Epoch 999/1000\n",
      "537/537 [==============================] - 0s 175us/step - loss: 0.4443 - binary_accuracy: 0.7672 - val_loss: 0.4948 - val_binary_accuracy: 0.7706\n",
      "Epoch 1000/1000\n",
      "537/537 [==============================] - 0s 167us/step - loss: 0.4645 - binary_accuracy: 0.7672 - val_loss: 0.4946 - val_binary_accuracy: 0.7662\n"
     ]
    }
   ],
   "source": [
    "# Treinar Modelo\n",
    "x_teste3 = normalizador.transform(x_teste) #NAO USA O FIT_TRANSFORM POIS QUERO USAR A MESMA NORMALIZAÇÃO\n",
    "historico3 = modelo3.fit(x_treino3, \n",
    "                       y_treino3, \n",
    "                       epochs = 1000, \n",
    "                       validation_data = (x_teste3, y_teste3))"
   ]
  },
  {
   "cell_type": "code",
   "execution_count": 257,
   "metadata": {
    "ExecuteTime": {
     "end_time": "2020-05-22T06:59:18.462791Z",
     "start_time": "2020-05-22T06:59:18.290253Z"
    },
    "hidden": true
   },
   "outputs": [
    {
     "data": {
      "text/plain": [
       "[<matplotlib.lines.Line2D at 0x257a18bbe08>]"
      ]
     },
     "execution_count": 257,
     "metadata": {},
     "output_type": "execute_result"
    },
    {
     "data": {
      "image/png": "[encoded data removed]",
      "text/plain": [
       "<Figure size 576x396 with 1 Axes>"
      ]
     },
     "metadata": {},
     "output_type": "display_data"
    }
   ],
   "source": [
    "historico3.history.keys()\n",
    "plt.plot(historico3.history['val_loss'])\n",
    "plt.plot(historico3.history['val_binary_accuracy'])"
   ]
  },
  {
   "cell_type": "markdown",
   "metadata": {
    "hidden": true
   },
   "source": [
    "### 5.2.1 - Previsão"
   ]
  },
  {
   "cell_type": "code",
   "execution_count": 249,
   "metadata": {
    "ExecuteTime": {
     "end_time": "2020-05-22T06:54:27.713273Z",
     "start_time": "2020-05-22T06:54:27.320386Z"
    },
    "hidden": true
   },
   "outputs": [],
   "source": [
    "# Verificando nos dados de teste\n",
    "previsao3 = modelo3.predict(x_teste3)\n",
    "previsao3 = (previsao3 > 0.5)"
   ]
  },
  {
   "cell_type": "code",
   "execution_count": 250,
   "metadata": {
    "ExecuteTime": {
     "end_time": "2020-05-22T06:54:29.366700Z",
     "start_time": "2020-05-22T06:54:29.360683Z"
    },
    "hidden": true,
    "scrolled": true
   },
   "outputs": [
    {
     "data": {
      "text/plain": [
       "array([[ True],\n",
       "       [False],\n",
       "       [False],\n",
       "       [False],\n",
       "       [False],\n",
       "       [False],\n",
       "       [ True],\n",
       "       [ True],\n",
       "       [False],\n",
       "       [False],\n",
       "       [ True],\n",
       "       [ True],\n",
       "       [False],\n",
       "       [False],\n",
       "       [False],\n",
       "       [False],\n",
       "       [ True],\n",
       "       [False],\n",
       "       [False],\n",
       "       [False],\n",
       "       [ True],\n",
       "       [False],\n",
       "       [False],\n",
       "       [False],\n",
       "       [False],\n",
       "       [False],\n",
       "       [False],\n",
       "       [ True],\n",
       "       [False],\n",
       "       [False],\n",
       "       [False],\n",
       "       [False],\n",
       "       [False],\n",
       "       [False],\n",
       "       [False],\n",
       "       [ True],\n",
       "       [False],\n",
       "       [False],\n",
       "       [False],\n",
       "       [ True],\n",
       "       [False],\n",
       "       [False],\n",
       "       [False],\n",
       "       [ True],\n",
       "       [ True],\n",
       "       [False],\n",
       "       [False],\n",
       "       [False],\n",
       "       [False],\n",
       "       [False],\n",
       "       [False],\n",
       "       [False],\n",
       "       [ True],\n",
       "       [False],\n",
       "       [False],\n",
       "       [False],\n",
       "       [False],\n",
       "       [False],\n",
       "       [False],\n",
       "       [False],\n",
       "       [ True],\n",
       "       [False],\n",
       "       [False],\n",
       "       [ True],\n",
       "       [ True],\n",
       "       [ True],\n",
       "       [ True],\n",
       "       [False],\n",
       "       [False],\n",
       "       [False],\n",
       "       [False],\n",
       "       [False],\n",
       "       [False],\n",
       "       [ True],\n",
       "       [ True],\n",
       "       [False],\n",
       "       [False],\n",
       "       [False],\n",
       "       [False],\n",
       "       [False],\n",
       "       [False],\n",
       "       [False],\n",
       "       [False],\n",
       "       [False],\n",
       "       [False],\n",
       "       [False],\n",
       "       [False],\n",
       "       [False],\n",
       "       [ True],\n",
       "       [False],\n",
       "       [False],\n",
       "       [False],\n",
       "       [False],\n",
       "       [False],\n",
       "       [ True],\n",
       "       [False],\n",
       "       [False],\n",
       "       [False],\n",
       "       [False],\n",
       "       [False],\n",
       "       [False],\n",
       "       [False],\n",
       "       [False],\n",
       "       [False],\n",
       "       [ True],\n",
       "       [False],\n",
       "       [False],\n",
       "       [False],\n",
       "       [False],\n",
       "       [ True],\n",
       "       [False],\n",
       "       [False],\n",
       "       [ True],\n",
       "       [False],\n",
       "       [False],\n",
       "       [ True],\n",
       "       [False],\n",
       "       [ True],\n",
       "       [False],\n",
       "       [ True],\n",
       "       [False],\n",
       "       [False],\n",
       "       [False],\n",
       "       [False],\n",
       "       [False],\n",
       "       [False],\n",
       "       [False],\n",
       "       [False],\n",
       "       [False],\n",
       "       [False],\n",
       "       [False],\n",
       "       [False],\n",
       "       [False],\n",
       "       [ True],\n",
       "       [False],\n",
       "       [False],\n",
       "       [False],\n",
       "       [False],\n",
       "       [False],\n",
       "       [False],\n",
       "       [False],\n",
       "       [ True],\n",
       "       [False],\n",
       "       [False],\n",
       "       [False],\n",
       "       [False],\n",
       "       [False],\n",
       "       [False],\n",
       "       [False],\n",
       "       [False],\n",
       "       [False],\n",
       "       [ True],\n",
       "       [False],\n",
       "       [False],\n",
       "       [ True],\n",
       "       [False],\n",
       "       [False],\n",
       "       [False],\n",
       "       [False],\n",
       "       [ True],\n",
       "       [ True],\n",
       "       [ True],\n",
       "       [False],\n",
       "       [False],\n",
       "       [ True],\n",
       "       [False],\n",
       "       [False],\n",
       "       [False],\n",
       "       [False],\n",
       "       [False],\n",
       "       [False],\n",
       "       [False],\n",
       "       [False],\n",
       "       [False],\n",
       "       [False],\n",
       "       [False],\n",
       "       [False],\n",
       "       [False],\n",
       "       [False],\n",
       "       [False],\n",
       "       [False],\n",
       "       [ True],\n",
       "       [False],\n",
       "       [ True],\n",
       "       [ True],\n",
       "       [False],\n",
       "       [False],\n",
       "       [False],\n",
       "       [False],\n",
       "       [False],\n",
       "       [False],\n",
       "       [False],\n",
       "       [False],\n",
       "       [False],\n",
       "       [False],\n",
       "       [False],\n",
       "       [ True],\n",
       "       [ True],\n",
       "       [False],\n",
       "       [False],\n",
       "       [False],\n",
       "       [False],\n",
       "       [False],\n",
       "       [False],\n",
       "       [False],\n",
       "       [False],\n",
       "       [False],\n",
       "       [False],\n",
       "       [False],\n",
       "       [False],\n",
       "       [False],\n",
       "       [False],\n",
       "       [False],\n",
       "       [False],\n",
       "       [False],\n",
       "       [False],\n",
       "       [False],\n",
       "       [False],\n",
       "       [ True],\n",
       "       [False],\n",
       "       [False],\n",
       "       [False],\n",
       "       [False],\n",
       "       [False],\n",
       "       [ True],\n",
       "       [ True],\n",
       "       [False],\n",
       "       [False],\n",
       "       [False],\n",
       "       [False],\n",
       "       [False]])"
      ]
     },
     "execution_count": 250,
     "metadata": {},
     "output_type": "execute_result"
    }
   ],
   "source": [
    "previsao3"
   ]
  },
  {
   "cell_type": "markdown",
   "metadata": {
    "ExecuteTime": {
     "end_time": "2020-05-22T06:04:40.021797Z",
     "start_time": "2020-05-22T06:04:40.016813Z"
    },
    "hidden": true
   },
   "source": [
    "### 5.2.2 - Métricas"
   ]
  },
  {
   "cell_type": "code",
   "execution_count": 251,
   "metadata": {
    "ExecuteTime": {
     "end_time": "2020-05-22T06:54:34.665488Z",
     "start_time": "2020-05-22T06:54:34.603653Z"
    },
    "hidden": true
   },
   "outputs": [
    {
     "name": "stdout",
     "output_type": "stream",
     "text": [
      "Taxa de Acerto (Accuracy): 76.623377%\n"
     ]
    }
   ],
   "source": [
    "print(\"Taxa de Acerto (Accuracy): {0:.6f}%\".format(accuracy_score(y_teste3, previsao3)*100))"
   ]
  },
  {
   "cell_type": "code",
   "execution_count": 252,
   "metadata": {
    "ExecuteTime": {
     "end_time": "2020-05-22T06:54:58.508670Z",
     "start_time": "2020-05-22T06:54:58.498662Z"
    },
    "hidden": true
   },
   "outputs": [
    {
     "name": "stdout",
     "output_type": "stream",
     "text": [
      "Classification Report\n",
      "              precision    recall  f1-score   support\n",
      "\n",
      "           1       0.73      0.43      0.54        74\n",
      "           0       0.78      0.92      0.84       157\n",
      "\n",
      "    accuracy                           0.77       231\n",
      "   macro avg       0.75      0.68      0.69       231\n",
      "weighted avg       0.76      0.77      0.75       231\n",
      "\n"
     ]
    }
   ],
   "source": [
    "print(\"Classification Report\")\n",
    "print(metrics.classification_report(y_teste3, previsao3, labels = [1, 0]));"
   ]
  },
  {
   "cell_type": "code",
   "execution_count": 253,
   "metadata": {
    "ExecuteTime": {
     "end_time": "2020-05-22T06:55:11.755331Z",
     "start_time": "2020-05-22T06:55:11.745362Z"
    },
    "hidden": true
   },
   "outputs": [
    {
     "name": "stdout",
     "output_type": "stream",
     "text": [
      "Confusion Matrix\n"
     ]
    },
    {
     "data": {
      "text/plain": [
       "array([[145,  12],\n",
       "       [ 42,  32]], dtype=int64)"
      ]
     },
     "execution_count": 253,
     "metadata": {},
     "output_type": "execute_result"
    }
   ],
   "source": [
    "# Criando uma Confusion Matrix\n",
    "print(\"Confusion Matrix\")\n",
    "confusao3 = confusion_matrix(y_teste3, previsao3)\n",
    "confusao3"
   ]
  },
  {
   "cell_type": "markdown",
   "metadata": {
    "ExecuteTime": {
     "end_time": "2020-05-22T06:06:09.793061Z",
     "start_time": "2020-05-22T06:06:09.789075Z"
    },
    "hidden": true
   },
   "source": [
    "### 5.2.3 - Avaliação"
   ]
  },
  {
   "cell_type": "markdown",
   "metadata": {
    "hidden": true
   },
   "source": [
    "Problemas para classificar a classe igual a Positiva(1). Provavelmente por ter muito menos resultados positivos"
   ]
  },
  {
   "cell_type": "markdown",
   "metadata": {
    "heading_collapsed": true
   },
   "source": [
    "## 5.4 Avaliação Geral"
   ]
  },
  {
   "cell_type": "markdown",
   "metadata": {
    "ExecuteTime": {
     "end_time": "2020-05-22T07:02:03.498494Z",
     "start_time": "2020-05-22T07:02:03.492511Z"
    },
    "hidden": true
   },
   "source": [
    "Os três modelos tiveram dificuldades para prever a classe Positiva (1).\n",
    "\n",
    "Podemos melhorar os modelos mudando seus parametros de configuração ou fazendo a manipulação dos dados para que não tenhamos a classe rara, com isso pode-se eliminar um viés."
   ]
  },
  {
   "cell_type": "code",
   "execution_count": 263,
   "metadata": {
    "ExecuteTime": {
     "end_time": "2020-05-22T07:05:58.862685Z",
     "start_time": "2020-05-22T07:05:58.853709Z"
    },
    "hidden": true
   },
   "outputs": [
    {
     "name": "stdout",
     "output_type": "stream",
     "text": [
      "Precisão Modelo 1 - Regressão Logística:  76.19047619047619\n",
      "Precisão Modelo 2 - Random Forest:  75.32467532467533\n",
      "Precisão Modelo 3 - RNA:  76.62337662337663\n"
     ]
    }
   ],
   "source": [
    "print('Precisão Modelo 1 - Regressão Logística: ',accuracy_score(y_teste1, previsao1)*100)\n",
    "print('Precisão Modelo 2 - Random Forest: ',accuracy_score(y_teste2, previsao2)*100)\n",
    "print('Precisão Modelo 3 - RNA: ',accuracy_score(y_teste3, previsao3)*100)"
   ]
  },
  {
   "cell_type": "markdown",
   "metadata": {
    "hidden": true
   },
   "source": [
    "Temos que a princípio a Rede Neural tem uma precisão maior equivalente a 76.62%"
   ]
  },
  {
   "cell_type": "markdown",
   "metadata": {},
   "source": [
    "# Fim"
   ]
  },
  {
   "cell_type": "markdown",
   "metadata": {},
   "source": [
    "### Obrigado - Marcus Rosa Godoi - <a href=\"https://www.linkedin.com/in/marcus-godoi/\">linkedin.com/in/marcus-godoi</a>"
   ]
  }
 ],
 "metadata": {
  "kernelspec": {
   "display_name": "Python 3",
   "language": "python",
   "name": "python3"
  },
  "language_info": {
   "codemirror_mode": {
    "name": "ipython",
    "version": 3
   },
   "file_extension": ".py",
   "mimetype": "text/x-python",
   "name": "python",
   "nbconvert_exporter": "python",
   "pygments_lexer": "ipython3",
   "version": "3.7.4"
  }
 },
 "nbformat": 4,
 "nbformat_minor": 2
}
