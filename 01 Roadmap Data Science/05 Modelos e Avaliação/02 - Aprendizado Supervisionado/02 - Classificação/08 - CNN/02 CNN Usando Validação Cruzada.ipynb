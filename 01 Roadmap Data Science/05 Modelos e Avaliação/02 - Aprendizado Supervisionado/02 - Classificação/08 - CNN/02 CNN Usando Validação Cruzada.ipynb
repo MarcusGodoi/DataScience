{
 "cells": [
  {
   "cell_type": "markdown",
   "metadata": {},
   "source": [
    "# <font color='red'>Algoritimo CNN Usando Validação Cruzada</font>\n",
    "\n",
    "###### Por: Marcus Rosa Godoi"
   ]
  },
  {
   "cell_type": "markdown",
   "metadata": {},
   "source": [
    "![cnn.png](cnn.png)\n",
    "Fonte: <a href=\"https://www.infoq.com/br/articles/redes-neurais-convolucionais/\">imagem</a>"
   ]
  },
  {
   "cell_type": "markdown",
   "metadata": {},
   "source": [
    "# 1 - Keras - Sequential Model\n",
    "<a href=\"https://keras.io/guides/sequential_model/\">keras/</a>"
   ]
  },
  {
   "cell_type": "code",
   "execution_count": null,
   "metadata": {},
   "outputs": [],
   "source": [
    "#Import\n",
    "from keras.models import Sequential\n",
    "from keras.layers import Dense, Flatten, Dropout, Conv2D, MaxPooling2D\n",
    "from keras.utils import np_utils\n",
    "from keras.utils.vis_utils import plot_model\n",
    "\n",
    "from sklearn.metrics import confusion_matrix, accuracy_score, classification_report          \n",
    "from yellowbrick.classifier import ConfusionMatrix   \n",
    "\n",
    "from keras.wrappers.scikit_learn import KerasClassifier\n",
    "from sklearn.model_selection import cross_val_score"
   ]
  },
  {
   "cell_type": "markdown",
   "metadata": {},
   "source": [
    "## 1.1 - Criar Modelo Sequencial"
   ]
  },
  {
   "cell_type": "markdown",
   "metadata": {},
   "source": [
    "Verificar Parametros no Notebook \"01 Algoritimo de Rede Neural Convolucional\""
   ]
  },
  {
   "cell_type": "code",
   "execution_count": null,
   "metadata": {},
   "outputs": [],
   "source": [
    "def criarRede():\n",
    "    \n",
    "    modelo = Sequential()\n",
    "\n",
    "    #PRIMEIRA CAMADA DE CONVLUÇÃO\n",
    "    modelo.add(Conv2D(32, (3,3), input_shape=(28, 28, 1), activation = 'relu')) #32 ->  Nº DE KERNELS \n",
    "    #64 É MAIS RECONMENDAVEL E POTENCIAS DE 2: 128 256 512 1024\n",
    "    #(3,3) pois a imagem é pequena \n",
    "    modelo.add(BatchNormalization()) #NORMALIAÇÃO NOS MAPAS DE CONVLOLUÇÃO\n",
    "    modelo.add(MaxPooling2D(pool_size = (2,2)))#POOLING\n",
    "    \n",
    "    #SEGUNDA CAMADA DE CONVLUÇÃO\n",
    "    modelo.add(Conv2D(32, (3,3), activation = 'relu')) #não possui input shape\n",
    "    modelo.add(BatchNormalization()) # normalização na camada de convolução\n",
    "    modelo.add(MaxPooling2D(pool_size = (2,2)))\n",
    "    \n",
    "    #Flatten\n",
    "    modelo.add(Flatten()) #usa somente no final de todas convoluções\n",
    "    \n",
    "    #CAMADA DENSA\n",
    "    modelo.add(Dense(units = 128, activation = 'relu')) #13x13 na entrada(169) camada oculta 128. Valor multiplo de 2\n",
    "    modelo.add(Dropout(0.2))\n",
    "    modelo.add(Dense(units = 128, activation = 'relu'))\n",
    "    modelo.add(Dropout(0.2))\n",
    "    modelo.add(Dense(units = 10, activation = 'softmax'))\n",
    "    \n",
    "    #Otimizador\n",
    "    modelo.compile(optimizer = 'adam',\n",
    "                   loss = 'categorical_crossentropy',\n",
    "                   metrics = ['accuracy'])\n",
    "    \n",
    "    \n",
    "    return modelo"
   ]
  },
  {
   "cell_type": "code",
   "execution_count": null,
   "metadata": {},
   "outputs": [],
   "source": [
    "#Classificação\n",
    "modelo = KerasClassifier(build_fn = criarRede, \n",
    "                         epochs = 50, \n",
    "                         batch_size = 10)"
   ]
  },
  {
   "cell_type": "code",
   "execution_count": null,
   "metadata": {},
   "outputs": [],
   "source": [
    "# Ver Modelo\n",
    "modelo.summary()"
   ]
  },
  {
   "cell_type": "markdown",
   "metadata": {
    "ExecuteTime": {
     "end_time": "2020-05-25T04:02:22.657742Z",
     "start_time": "2020-05-25T04:02:22.653752Z"
    }
   },
   "source": [
    "## 1.2 - Treino"
   ]
  },
  {
   "cell_type": "raw",
   "metadata": {},
   "source": [
    "#Parametros cross_val_score\n",
    "sklearn.model_selection.cross_val_score(estimator, \n",
    "                                        X, \n",
    "                                        y=None, \n",
    "                                        *, \n",
    "                                        groups=None, \n",
    "                                        scoring=None, \n",
    "                                        cv=None, \n",
    "                                        n_jobs=None, \n",
    "                                        verbose=0, \n",
    "                                        fit_params=None, \n",
    "                                        pre_dispatch='2*n_jobs',\n",
    "                                        error_score=nan)"
   ]
  },
  {
   "cell_type": "markdown",
   "metadata": {},
   "source": [
    "<a href=\"https://scikit-learn.org/stable/modules/generated/sklearn.model_selection.cross_val_score.html\">cross_val_score/</a>"
   ]
  },
  {
   "cell_type": "code",
   "execution_count": null,
   "metadata": {},
   "outputs": [],
   "source": [
    "# Treinando o modelo\n",
    "resultados = cross_val_score(estimator = modelo, \n",
    "                             X = previsores, \n",
    "                             y = classe, \n",
    "                             cv = 10, \n",
    "                             n_jobs= -1,\n",
    "                             scoring = 'accuracy')\n",
    "#n_jobs=-1 #utilizar todas CPU's\n",
    "#validation_split=0.2"
   ]
  },
  {
   "cell_type": "markdown",
   "metadata": {},
   "source": [
    "## 1.3 Verificando a exatidão no modelo nos dados de teste"
   ]
  },
  {
   "cell_type": "code",
   "execution_count": null,
   "metadata": {},
   "outputs": [],
   "source": [
    "media = resultados.mean()\n",
    "desvio = resultados.std()\n",
    "print(media)\n",
    "print(desvio)"
   ]
  },
  {
   "cell_type": "code",
   "execution_count": null,
   "metadata": {},
   "outputs": [],
   "source": [
    "previsao = modelo.predict(x_teste)\n",
    "previsao = (previsao > 0.5)\n",
    "previsao"
   ]
  },
  {
   "cell_type": "code",
   "execution_count": null,
   "metadata": {},
   "outputs": [],
   "source": [
    "print(\"Taxa de Acerto (Accuracy): {0:.6f}%\".format(accuracy_score(y_teste, previsao)*100))"
   ]
  },
  {
   "cell_type": "code",
   "execution_count": null,
   "metadata": {},
   "outputs": [],
   "source": [
    "print(\"Classification Report\")\n",
    "print(metrics.classification_report(y_teste, previsao, labels = [1, 0]));"
   ]
  },
  {
   "cell_type": "code",
   "execution_count": null,
   "metadata": {},
   "outputs": [],
   "source": [
    "resultado = classificador.evaluate(previsores_teste, classe_teste)#usando ferramentas do keras\n",
    "resultado"
   ]
  },
  {
   "cell_type": "code",
   "execution_count": null,
   "metadata": {},
   "outputs": [],
   "source": [
    "# Criando uma Confusion Matrix\n",
    "#Matriz de Confusão MULTICLASSE ... Executar essa parte 1º\n",
    "#y_teste_matrix = [np.argmax(t) for t in y_teste]              #RETORNA O INDICE QUE ESTA TRUE (DA RESPOSTA CERTA)\n",
    "#y_previsao_matrix = [np.argmax(t) for t in previsoes]         #RETORNA O INDICE QUE ESTA TRUE (DA RESPOSTA CERTA)\n",
    "\n",
    "print(\"Confusion Matrix\")\n",
    "confusao = confusion_matrix(y_teste, previsao)\n",
    "confusao"
   ]
  },
  {
   "cell_type": "markdown",
   "metadata": {},
   "source": [
    "# Fim"
   ]
  },
  {
   "cell_type": "markdown",
   "metadata": {},
   "source": [
    "### Obrigado - Marcus Rosa Godoi "
   ]
  }
 ],
 "metadata": {
  "kernelspec": {
   "display_name": "Python 3",
   "language": "python",
   "name": "python3"
  },
  "language_info": {
   "codemirror_mode": {
    "name": "ipython",
    "version": 3
   },
   "file_extension": ".py",
   "mimetype": "text/x-python",
   "name": "python",
   "nbconvert_exporter": "python",
   "pygments_lexer": "ipython3",
   "version": "3.7.4"
  }
 },
 "nbformat": 4,
 "nbformat_minor": 2
}
