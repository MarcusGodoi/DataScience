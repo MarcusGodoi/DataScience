{
 "cells": [
  {
   "cell_type": "markdown",
   "metadata": {},
   "source": [
    "# <font color='red'>Algoritmo Regressão Logística</font>\n",
    "\n",
    "###### Por: Marcus Rosa Godoi"
   ]
  },
  {
   "cell_type": "markdown",
   "metadata": {},
   "source": [
    "A regressão logística, apesar de seu nome, é um modelo linear para classificação, em vez de regressão. A regressão logística também é conhecida na literatura como regressão logit, classificação de entropia máxima (MaxEnt) ou classificador log-linear. Nesse modelo, as probabilidades que descrevem os possíveis resultados de um único estudo são modeladas usando uma função logística.\n",
    "\n",
    "A regressão logística é implementada em LogisticRegression. Essa implementação pode ajustar a regressão logística binária, One-vs-Rest ou multinomial com opções opcionais.\n",
    "\n",
    "Fonte:<a href=\"https://scikit-learn.org/stable/modules/linear_model.html#logistic-regression\">scikit-learn.org/</a>"
   ]
  },
  {
   "cell_type": "markdown",
   "metadata": {},
   "source": [
    "# 1 - Scikit-learn\n",
    "<a href=\"https://scikit-learn.org/stable/modules/generated/sklearn.linear_model.LogisticRegression.html\">scikit-learn.org/</a>"
   ]
  },
  {
   "cell_type": "code",
   "execution_count": null,
   "metadata": {},
   "outputs": [],
   "source": [
    "#Import\n",
    "from sklearn.linear_model import LogisticRegression"
   ]
  },
  {
   "cell_type": "code",
   "execution_count": null,
   "metadata": {},
   "outputs": [],
   "source": [
    "#Parametros\n",
    "LogisticRegression(penalty='l2',         \n",
    "                   dual=False,           \n",
    "                   tol=0.0001,           \n",
    "                   C=1.0,                \n",
    "                   fit_intercept=True,    \n",
    "                   intercept_scaling=1,    \n",
    "                   class_weight=None,    \n",
    "                   random_state=None,    \n",
    "                   solver='lbfgs',    \n",
    "                   max_iter=100, \n",
    "                   multi_class='auto',    \n",
    "                   verbose=0,    \n",
    "                   warm_start=False,    \n",
    "                   n_jobs=None,    \n",
    "                   l1_ratio=None)   "
   ]
  },
  {
   "cell_type": "code",
   "execution_count": null,
   "metadata": {},
   "outputs": [],
   "source": [
    "# Criando o modelo preditivo usando SCIKIT-LEARN\n",
    "modelo = LogisticRegression(C = 0.7, \n",
    "                            n_jobs=-1,\n",
    "                            penalty='l2')"
   ]
  },
  {
   "cell_type": "code",
   "execution_count": null,
   "metadata": {},
   "outputs": [],
   "source": [
    "# Treinando o modelo\n",
    "modelo.fit(x_treino, y_treino)"
   ]
  },
  {
   "cell_type": "markdown",
   "metadata": {},
   "source": [
    "## 1.1 Seleção de Atributos\n",
    "Usando abordagem estatística univariada."
   ]
  },
  {
   "cell_type": "code",
   "execution_count": null,
   "metadata": {},
   "outputs": [],
   "source": [
    "resultados = cross_val_score(modelo, \n",
    "                         x_treino, \n",
    "                         y_treino, \n",
    "                         cv=10,\n",
    "                         n_jobs= -1,\n",
    "                         scoring = 'mean_squared_error')"
   ]
  },
  {
   "cell_type": "code",
   "execution_count": null,
   "metadata": {},
   "outputs": [],
   "source": [
    "media = resultados.mean()\n",
    "std = resultados.std()\n",
    "print('Média: ', media)\n",
    "print('Std: ', std)"
   ]
  },
  {
   "cell_type": "code",
   "execution_count": null,
   "metadata": {},
   "outputs": [],
   "source": [
    "melhor_resultado = media"
   ]
  },
  {
   "cell_type": "markdown",
   "metadata": {},
   "source": [
    "### Obter pontuação usando modelos com seleção de recursos"
   ]
  },
  {
   "cell_type": "code",
   "execution_count": null,
   "metadata": {},
   "outputs": [],
   "source": [
    "for i in range(1, x_treino_poly.shape[1]+1, 1):\n",
    "    # Select i atributos\n",
    "    select = SelectKBest(score_func=chi2, k=i) #chi2 = qui-quadrado\n",
    "    select.fit(x_treino_poly, y_treino)\n",
    "    x_treino_poly_selected = select.transform(x_treino_poly)\n",
    "\n",
    "    # Modelo com i atributos selecionados\n",
    "    modelo.fit(x_treino_poly_selected, y_treino)\n",
    "    resultados = cross_val_score(modelo, x_treino_poly_selected, y_treino, cv=10)\n",
    "    media = resultados.mean()\n",
    "    std = resultados.std()\n",
    "    print('Média: ', media)\n",
    "    print('Std: ', desvio)\n",
    "    print('CV acuracia: ', media, '+/- ', std)\n",
    "    \n",
    "    # Salvar resultados se melhorar a pontuação\n",
    "    if np.mean(resultados) > melhor_resultado:\n",
    "        melhor_resultado = media\n",
    "        melhor_std = std\n",
    "        k_atributos_melhor_resultado = i\n",
    "    elif media == melhor_resultado:\n",
    "        if std <  melhor_std:\n",
    "            melhor_resultado = media\n",
    "            melhor_std = std\n",
    "            k_atributos_melhor_resultado = i"
   ]
  },
  {
   "cell_type": "code",
   "execution_count": null,
   "metadata": {},
   "outputs": [],
   "source": [
    "print('Número de atributos com melhor pontuação: ', k_atributos_melhor_resultado)"
   ]
  },
  {
   "cell_type": "markdown",
   "metadata": {},
   "source": [
    "### Selecionar Atributos"
   ]
  },
  {
   "cell_type": "code",
   "execution_count": null,
   "metadata": {},
   "outputs": [],
   "source": [
    "select = SelectKBest(score_func = chi2, k = k_atributos_melhor_resultado)\n",
    "select.fit(x_treino_poly, y_treino)\n",
    "x_treino_poly_selected = select.transform(x_treino_poly)"
   ]
  },
  {
   "cell_type": "markdown",
   "metadata": {},
   "source": [
    "### Treinar Modelo"
   ]
  },
  {
   "cell_type": "code",
   "execution_count": null,
   "metadata": {},
   "outputs": [],
   "source": [
    "modelo = LinearRegression(C=1,\n",
    "                          _jobs = -1)\n",
    "\n",
    "modelo.fit(x_treino_poly_selected, y_treino)"
   ]
  },
  {
   "cell_type": "markdown",
   "metadata": {},
   "source": [
    "### Resultados\n"
   ]
  },
  {
   "cell_type": "code",
   "execution_count": null,
   "metadata": {},
   "outputs": [],
   "source": [
    "resultados = cross_val_score(modelo, \n",
    "                         x_treino_poly_selected, \n",
    "                         y_treino, \n",
    "                         cv=10,\n",
    "                         n_jobs= -1,\n",
    "                         scoring = 'mean_squared_error')"
   ]
  },
  {
   "cell_type": "markdown",
   "metadata": {},
   "source": [
    "### Curva de Aprendizado"
   ]
  },
  {
   "cell_type": "code",
   "execution_count": null,
   "metadata": {},
   "outputs": [],
   "source": [
    "title = \"Curva de Aprendizado (Logistic Regression)\"\n",
    "cv = 10\n",
    "plot_learning_curve(modelo, \n",
    "                    title, \n",
    "                    x_treino_poly_selected,\n",
    "                    y_treino, \n",
    "                    ylim = (0.7, 1.01), \n",
    "                    cv = cv, \n",
    "                    n_jobs = -1);"
   ]
  },
  {
   "cell_type": "markdown",
   "metadata": {},
   "source": [
    "### Curva de Validação"
   ]
  },
  {
   "cell_type": "code",
   "execution_count": null,
   "metadata": {},
   "outputs": [],
   "source": [
    "title = 'Curva de Validação (Logistic Regression)'\n",
    "param_name = 'C'\n",
    "param_range = [0.001, 0.01, 0.1, 1.0, 10.0, 100.0] \n",
    "cv = 10\n",
    "plot_validation_curve(estimator=modelo, \n",
    "                      title = title, \n",
    "                      X = x_treino_poly_selected, \n",
    "                      y = y_treino, \n",
    "                      param_name = param_name, \n",
    "                      ylim = (0.5, 1.01), \n",
    "                      param_range = param_range);"
   ]
  },
  {
   "cell_type": "markdown",
   "metadata": {},
   "source": [
    "### Fazer a mesma transformação com os dados de teste."
   ]
  },
  {
   "cell_type": "code",
   "execution_count": null,
   "metadata": {},
   "outputs": [],
   "source": []
  },
  {
   "cell_type": "markdown",
   "metadata": {},
   "source": [
    "## 1.2 - Verificando a exatidão no modelo nos dados de teste"
   ]
  },
  {
   "cell_type": "code",
   "execution_count": null,
   "metadata": {},
   "outputs": [],
   "source": [
    "previsao1 = modelo.predict(x_teste)\n",
    "previsao2 = resultado.predict(x_teste)"
   ]
  },
  {
   "cell_type": "code",
   "execution_count": null,
   "metadata": {},
   "outputs": [],
   "source": [
    "print(\"Taxa de Acerto (Accuracy): {0:.6f}%\".format(accuracy_score(y_teste, previsao1)*100))"
   ]
  },
  {
   "cell_type": "code",
   "execution_count": null,
   "metadata": {},
   "outputs": [],
   "source": [
    "print(\"Taxa de Acerto (Accuracy): {0:.6f}%\".format(accuracy_score(y_teste, previsao2)*100))"
   ]
  },
  {
   "cell_type": "code",
   "execution_count": null,
   "metadata": {},
   "outputs": [],
   "source": [
    "print(\"Classification Report\")\n",
    "print(metrics.classification_report(y_teste, previsao1, labels = [1, 0]));"
   ]
  },
  {
   "cell_type": "code",
   "execution_count": null,
   "metadata": {},
   "outputs": [],
   "source": [
    "print(\"Classification Report\")\n",
    "print(metrics.classification_report(y_teste, previsao2, labels = [1, 0]));"
   ]
  },
  {
   "cell_type": "code",
   "execution_count": null,
   "metadata": {},
   "outputs": [],
   "source": [
    "# Criando uma Confusion Matrix\n",
    "\n",
    "print(\"Confusion Matrix\")\n",
    "confusao1 = confusion_matrix(y_teste, previsao1)\n",
    "confusao1"
   ]
  },
  {
   "cell_type": "code",
   "execution_count": null,
   "metadata": {},
   "outputs": [],
   "source": [
    "# Criando uma Confusion Matrix\n",
    "\n",
    "print(\"Confusion Matrix\")\n",
    "confusao2 = confusion_matrix(y_teste, previsao2)\n",
    "confusao2"
   ]
  },
  {
   "cell_type": "markdown",
   "metadata": {},
   "source": [
    "## 1.3 - Tuning"
   ]
  },
  {
   "cell_type": "code",
   "execution_count": null,
   "metadata": {},
   "outputs": [],
   "source": []
  },
  {
   "cell_type": "markdown",
   "metadata": {},
   "source": [
    "# Fim"
   ]
  },
  {
   "cell_type": "markdown",
   "metadata": {},
   "source": [
    "### Obrigado - Marcus Rosa Godoi "
   ]
  }
 ],
 "metadata": {
  "kernelspec": {
   "display_name": "Python 3",
   "language": "python",
   "name": "python3"
  },
  "language_info": {
   "codemirror_mode": {
    "name": "ipython",
    "version": 3
   },
   "file_extension": ".py",
   "mimetype": "text/x-python",
   "name": "python",
   "nbconvert_exporter": "python",
   "pygments_lexer": "ipython3",
   "version": "3.7.4"
  }
 },
 "nbformat": 4,
 "nbformat_minor": 2
}
