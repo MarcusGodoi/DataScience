{
 "cells": [
  {
   "cell_type": "markdown",
   "metadata": {},
   "source": [
    "# <font color='red'>Algoritimo de Rede Neural Recorrente</font>\n",
    "\n",
    "###### Por: Marcus Rosa Godoi"
   ]
  },
  {
   "cell_type": "markdown",
   "metadata": {},
   "source": [
    "![rnn.png](rnn.png)\n",
    "Fonte: <a href=\"https://www.researchgate.net/figure/The-standard-RNN-and-unfolded-RNN_fig1_318332317\">imagem</a>"
   ]
  },
  {
   "cell_type": "markdown",
   "metadata": {},
   "source": [
    "# 1 - Keras - Sequential Model\n",
    "<a href=\"https://keras.io/guides/sequential_model/\">keras/</a>"
   ]
  },
  {
   "cell_type": "code",
   "execution_count": null,
   "metadata": {},
   "outputs": [],
   "source": [
    "#Import\n",
    "from keras.models import Sequential\n",
    "from keras.layers import Dense,Dropout, LSTM \n",
    "\n",
    "from keras.utils import np_utils\n",
    "from keras.utils.vis_utils import plot_model\n",
    "\n",
    "from sklearn.metrics import confusion_matrix, accuracy_score, classification_report          \n",
    "from yellowbrick.classifier import ConfusionMatrix   \n"
   ]
  },
  {
   "cell_type": "markdown",
   "metadata": {},
   "source": [
    "## 1.1 - Criar Modelo Sequencial"
   ]
  },
  {
   "cell_type": "markdown",
   "metadata": {},
   "source": [
    "Funções de ativação:\n",
    "\n",
    "1. relu function\n",
    "2. sigmoid function     # Classificação Binária\n",
    "3. softmax function     # Classificação Categórica\n",
    "4. tanh function\n",
    "5. softplus function    #softplus(x) = log(exp(x) + 1).\n",
    "6. softsign function    #softsign(x) = x / (abs(x) + 1).\n",
    "7. selu function\n",
    "8. elu function\n",
    "9. exponential function"
   ]
  },
  {
   "cell_type": "code",
   "execution_count": null,
   "metadata": {},
   "outputs": [],
   "source": [
    "#MODELO REGRESSOR LSTM\n",
    "\n",
    "regressor = Sequential()\n",
    "\n",
    "#1ª CAMADA\n",
    "regressor.add(LSTM(units = 100, return_sequences = True, input_shape = (previsores.shape[1], 1)))\n",
    "regressor.add(Dropout(0.3))\n",
    "#units =  quantidadese de memorias\n",
    "#return_sequences = True -> vai passar a informação para frente\n",
    "#adicionar muitas camadas "
   ]
  },
  {
   "cell_type": "code",
   "execution_count": null,
   "metadata": {},
   "outputs": [],
   "source": [
    "#2ª CAMADA\n",
    "regressor.add(LSTM(units = 50, return_sequences = True))\n",
    "regressor.add(Dropout(0.3))\n",
    "#diminuir os units por camada"
   ]
  },
  {
   "cell_type": "code",
   "execution_count": null,
   "metadata": {},
   "outputs": [],
   "source": [
    "#3ª CAMADA\n",
    "regressor.add(LSTM(units = 50, return_sequences = True))\n",
    "regressor.add(Dropout(0.3))"
   ]
  },
  {
   "cell_type": "code",
   "execution_count": null,
   "metadata": {},
   "outputs": [],
   "source": [
    "#4ª CAMADA\n",
    "regressor.add(LSTM(units = 50))\n",
    "regressor.add(Dropout(0.3))\n",
    "#NAO POSSUI O  return_sequences"
   ]
  },
  {
   "cell_type": "code",
   "execution_count": null,
   "metadata": {},
   "outputs": [],
   "source": [
    "#CAMADA DE SAIDA É UMA CAMADA DENSA\n",
    "regressor.add(Dense(units = 1, activation = 'linear'))"
   ]
  },
  {
   "cell_type": "code",
   "execution_count": null,
   "metadata": {},
   "outputs": [],
   "source": [
    "# Ver Modelo\n",
    "modelo.summary()"
   ]
  },
  {
   "cell_type": "markdown",
   "metadata": {},
   "source": [
    "## 1.2 - Otimizador"
   ]
  },
  {
   "cell_type": "markdown",
   "metadata": {
    "ExecuteTime": {
     "end_time": "2020-05-25T03:37:42.052916Z",
     "start_time": "2020-05-25T03:37:41.996275Z"
    }
   },
   "source": [
    "#### Otimizadores disponíveis:                                 \n",
    "1. SGD                              \n",
    "2. RMSprop                          \n",
    "3. Adam                             \n",
    "4. Adadelta                       \n",
    "5. Adagrad                          \n",
    "6. Adamax                            \n",
    "7. Nadam                             \n",
    "8. Ftrl      \n",
    "\n",
    "<a href=\"https://keras.io/api/optimizers/\">optimezers/</a>"
   ]
  },
  {
   "cell_type": "markdown",
   "metadata": {},
   "source": [
    "#### Metrics -> exibição do resultdado. Pode der uma função mais simples:\n",
    "Accuracy metrics\n",
    "1. accuracy\n",
    "2. binary_accuracy\n",
    "3. categorical_accuracy\n",
    "4. top_k_categorical_accurac\n",
    "5. sparse_top_k_categorical_accuracy\n",
    "\n",
    "<a href=\"https://keras.io/api/metrics/\">metrics/</a>"
   ]
  },
  {
   "cell_type": "markdown",
   "metadata": {},
   "source": [
    "#### Loss = Erro para o treinamento.\n",
    "Probabilistic losses\n",
    "\n",
    "    BinaryCrossentropy class\n",
    "    CategoricalCrossentropy class\n",
    "    SparseCategoricalCrossentropy class\n",
    "    Poisson class\n",
    "    binary_crossentropy function\n",
    "    categorical_crossentropy function\n",
    "    sparse_categorical_crossentropy function\n",
    "    poisson function\n",
    "    KLDivergence class\n",
    "    kl_divergence function\n",
    "\n",
    "Regression losses\n",
    "\n",
    "    MeanSquaredError class\n",
    "    MeanAbsoluteError class\n",
    "    MeanAbsolutePercentageError class\n",
    "    MeanSquaredLogarithmicError class\n",
    "    CosineSimilarity class\n",
    "    mean_squared_error function\n",
    "    mean_absolute_error function\n",
    "    mean_absolute_percentage_error function\n",
    "    mean_squared_logarithmic_error function\n",
    "    cosine_similarity function\n",
    "    Huber class\n",
    "    huber function\n",
    "    LogCosh class\n",
    "    log_cosh function\n",
    "\n",
    "Hinge losses for \"maximum-margin\" classification\n",
    "\n",
    "    Hinge class\n",
    "    SquaredHinge class\n",
    "    CategoricalHinge class\n",
    "    hinge function\n",
    "    squared_hinge function\n",
    "    categorical_hinge function\n",
    "\n",
    "<a href=\"https://keras.io/api/losses/\">losses/</a>"
   ]
  },
  {
   "cell_type": "code",
   "execution_count": null,
   "metadata": {
    "ExecuteTime": {
     "end_time": "2020-05-25T23:18:18.484723Z",
     "start_time": "2020-05-25T23:18:18.234040Z"
    }
   },
   "outputs": [],
   "source": [
    "regressor.compile(optimizer = 'rmsprop', \n",
    "                  loss = 'mean_squared_error',\n",
    "                  metrics = ['mean_absolute_error'])\n",
    "#ADAM TB FUNCIONA\n",
    "#METRICAS PODE SER O mean_absolute_error PQ É SO PARA VIZUALIZAÇÃO"
   ]
  },
  {
   "cell_type": "markdown",
   "metadata": {
    "ExecuteTime": {
     "end_time": "2020-05-25T04:02:22.657742Z",
     "start_time": "2020-05-25T04:02:22.653752Z"
    }
   },
   "source": [
    "## 1.3 - Treino"
   ]
  },
  {
   "cell_type": "code",
   "execution_count": null,
   "metadata": {},
   "outputs": [],
   "source": [
    "# Treinando o modelo\n",
    "historico = regressor.fit(previsores, \n",
    "                          preco_real, \n",
    "                          epochs = 100, \n",
    "                          batch_size = 32)"
   ]
  },
  {
   "cell_type": "markdown",
   "metadata": {
    "ExecuteTime": {
     "end_time": "2020-05-25T04:11:21.145474Z",
     "start_time": "2020-05-25T04:11:21.141488Z"
    }
   },
   "source": [
    "## 1.4 - Imagem do Treino"
   ]
  },
  {
   "cell_type": "code",
   "execution_count": null,
   "metadata": {},
   "outputs": [],
   "source": []
  },
  {
   "cell_type": "markdown",
   "metadata": {},
   "source": [
    "## 1.5 Verificando a exatidão no modelo nos dados de teste"
   ]
  },
  {
   "cell_type": "code",
   "execution_count": null,
   "metadata": {},
   "outputs": [],
   "source": []
  },
  {
   "cell_type": "markdown",
   "metadata": {},
   "source": [
    "# Fim"
   ]
  },
  {
   "cell_type": "markdown",
   "metadata": {},
   "source": [
    "### Obrigado - Marcus Rosa Godoi "
   ]
  }
 ],
 "metadata": {
  "kernelspec": {
   "display_name": "Python 3",
   "language": "python",
   "name": "python3"
  },
  "language_info": {
   "codemirror_mode": {
    "name": "ipython",
    "version": 3
   },
   "file_extension": ".py",
   "mimetype": "text/x-python",
   "name": "python",
   "nbconvert_exporter": "python",
   "pygments_lexer": "ipython3",
   "version": "3.7.4"
  }
 },
 "nbformat": 4,
 "nbformat_minor": 2
}
