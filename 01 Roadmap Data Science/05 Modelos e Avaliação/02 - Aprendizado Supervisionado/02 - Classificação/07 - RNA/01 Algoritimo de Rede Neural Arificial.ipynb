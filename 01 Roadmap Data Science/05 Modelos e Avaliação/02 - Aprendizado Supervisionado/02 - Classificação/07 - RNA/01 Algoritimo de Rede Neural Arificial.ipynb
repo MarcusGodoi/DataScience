{
 "cells": [
  {
   "cell_type": "markdown",
   "metadata": {},
   "source": [
    "# <font color='red'>Algoritimo de Rede Neural Arificial</font>\n",
    "\n",
    "###### Por: Marcus Rosa Godoi"
   ]
  },
  {
   "cell_type": "markdown",
   "metadata": {},
   "source": [
    "![rna.png](rna.png)\n",
    "\n",
    "Fonte:<a href=\"https://medium.com/brasil-ai/entendendo-o-funcionamento-de-uma-rede-neural-artificial-4463fcf44dd0\">medium.com/</a>"
   ]
  },
  {
   "cell_type": "markdown",
   "metadata": {},
   "source": [
    "# 1 - Keras - Sequential Model\n",
    "<a href=\"https://keras.io/guides/sequential_model/\">keras/</a>"
   ]
  },
  {
   "cell_type": "code",
   "execution_count": null,
   "metadata": {},
   "outputs": [],
   "source": [
    "#Import\n",
    "from keras.models import Sequential\n",
    "from keras.layers import Dense, Flatten, Dropout, Conv2D, MaxPooling2D\n",
    "from keras.utils import np_utils\n",
    "from keras.utils.vis_utils import plot_model\n",
    "\n",
    "from sklearn.metrics import confusion_matrix, accuracy_score, classification_report          \n",
    "from yellowbrick.classifier import ConfusionMatrix   "
   ]
  },
  {
   "cell_type": "markdown",
   "metadata": {},
   "source": [
    "## 1.1 - Criar Modelo Sequencial"
   ]
  },
  {
   "cell_type": "markdown",
   "metadata": {},
   "source": [
    "Funções de ativação:\n",
    "\n",
    "1. relu function\n",
    "2. sigmoid function     # Classificação Binária\n",
    "3. softmax function     # Classificação Categórica\n",
    "4. tanh function\n",
    "5. softplus function    #softplus(x) = log(exp(x) + 1).\n",
    "6. softsign function    #softsign(x) = x / (abs(x) + 1).\n",
    "7. selu function\n",
    "8. elu function\n",
    "9. exponential function"
   ]
  },
  {
   "cell_type": "code",
   "execution_count": null,
   "metadata": {},
   "outputs": [],
   "source": [
    "# Criando o modelo preditivo usando KERAS\n",
    "\n",
    "modelo = Sequential()  #uma camada apos a outra\n",
    "\n",
    "modelo.add(Dense(units = 5, activation = 'relu', input_dim = 4))#camadas oculta1 (5 neurônios)+ camda de entrada(4)\n",
    "modelo.add(Dropout(0.2))\n",
    "\n",
    "modelo.add(Dense(units = 4,  activation = 'relu'))# camada de oculta 2 (4)\n",
    "modelo.add(Dropout(0.2))\n",
    "\n",
    "modelo.add(Dense(units = 3, activation = 'softmax')) #camada de saida (3 saídas)"
   ]
  },
  {
   "cell_type": "code",
   "execution_count": null,
   "metadata": {},
   "outputs": [],
   "source": [
    "# Ver Modelo\n",
    "modelo.summary()"
   ]
  },
  {
   "cell_type": "markdown",
   "metadata": {},
   "source": [
    "## 1.2 - Otimizador"
   ]
  },
  {
   "cell_type": "markdown",
   "metadata": {
    "ExecuteTime": {
     "end_time": "2020-05-25T03:37:42.052916Z",
     "start_time": "2020-05-25T03:37:41.996275Z"
    }
   },
   "source": [
    "#### Otimizadores disponíveis:                                 \n",
    "1. SGD                              \n",
    "2. RMSprop                          \n",
    "3. Adam                             \n",
    "4. Adadelta                       \n",
    "5. Adagrad                          \n",
    "6. Adamax                            \n",
    "7. Nadam                             \n",
    "8. Ftrl      \n",
    "\n",
    "<a href=\"https://keras.io/api/optimizers/\">optimezers/</a>"
   ]
  },
  {
   "cell_type": "markdown",
   "metadata": {},
   "source": [
    "#### Metrics -> exibição do resultdado. Pode der uma função mais simples:\n",
    "Accuracy metrics\n",
    "1. accuracy\n",
    "2. binary_accuracy\n",
    "3. categorical_accuracy\n",
    "4. top_k_categorical_accurac\n",
    "5. sparse_top_k_categorical_accuracy\n",
    "\n",
    "<a href=\"https://keras.io/api/metrics/\">metrics/</a>"
   ]
  },
  {
   "cell_type": "markdown",
   "metadata": {},
   "source": [
    "#### Loss = Erro para o treinamento.\n",
    "Probabilistic losses\n",
    "\n",
    "    BinaryCrossentropy class\n",
    "    CategoricalCrossentropy class\n",
    "    SparseCategoricalCrossentropy class\n",
    "    Poisson class\n",
    "    binary_crossentropy function\n",
    "    categorical_crossentropy function\n",
    "    sparse_categorical_crossentropy function\n",
    "    poisson function\n",
    "    KLDivergence class\n",
    "    kl_divergence function\n",
    "\n",
    "Regression losses\n",
    "\n",
    "    MeanSquaredError class\n",
    "    MeanAbsoluteError class\n",
    "    MeanAbsolutePercentageError class\n",
    "    MeanSquaredLogarithmicError class\n",
    "    CosineSimilarity class\n",
    "    mean_squared_error function\n",
    "    mean_absolute_error function\n",
    "    mean_absolute_percentage_error function\n",
    "    mean_squared_logarithmic_error function\n",
    "    cosine_similarity function\n",
    "    Huber class\n",
    "    huber function\n",
    "    LogCosh class\n",
    "    log_cosh function\n",
    "\n",
    "Hinge losses for \"maximum-margin\" classification\n",
    "\n",
    "    Hinge class\n",
    "    SquaredHinge class\n",
    "    CategoricalHinge class\n",
    "    hinge function\n",
    "    squared_hinge function\n",
    "    categorical_hinge function\n",
    "https://keras.io/api/losses/\n",
    "<a href=\"https://keras.io/api/losses/\">losses/</a>"
   ]
  },
  {
   "cell_type": "code",
   "execution_count": null,
   "metadata": {},
   "outputs": [],
   "source": [
    "#Classificação Binária\n",
    "classificador.compile(optimizer = 'adam', \n",
    "                      loss = 'binary_crossentropy',\n",
    "                      metrics = ['binary_accuracy'])"
   ]
  },
  {
   "cell_type": "markdown",
   "metadata": {
    "ExecuteTime": {
     "end_time": "2020-05-25T04:02:22.657742Z",
     "start_time": "2020-05-25T04:02:22.653752Z"
    }
   },
   "source": [
    "## 1.3 - Treino"
   ]
  },
  {
   "cell_type": "code",
   "execution_count": null,
   "metadata": {},
   "outputs": [],
   "source": [
    "# Treinando o modelo\n",
    "historico = modelo.fit(X_treinamento, \n",
    "                       y_treinamento, \n",
    "                       epochs = 1000, \n",
    "                       validation_data = (X_teste, y_teste))\n",
    "#batch_size=64\n",
    "#validation_split=0.2"
   ]
  },
  {
   "cell_type": "markdown",
   "metadata": {
    "ExecuteTime": {
     "end_time": "2020-05-25T04:11:21.145474Z",
     "start_time": "2020-05-25T04:11:21.141488Z"
    }
   },
   "source": [
    "## 1.4 - Imagem do Treino"
   ]
  },
  {
   "cell_type": "code",
   "execution_count": null,
   "metadata": {},
   "outputs": [],
   "source": [
    "historico.history.keys()\n",
    "plt.plot(historico.history['val_loss'])\n",
    "plt.plot(historico.history['val_accuracy'])"
   ]
  },
  {
   "cell_type": "markdown",
   "metadata": {},
   "source": [
    "## 1.5 Verificando a exatidão no modelo nos dados de teste"
   ]
  },
  {
   "cell_type": "code",
   "execution_count": null,
   "metadata": {},
   "outputs": [],
   "source": [
    "previsao = modelo.predict(x_teste)\n",
    "previsao = (previsao > 0.5)\n",
    "previsao"
   ]
  },
  {
   "cell_type": "code",
   "execution_count": null,
   "metadata": {},
   "outputs": [],
   "source": [
    "print(\"Taxa de Acerto (Accuracy): {0:.6f}%\".format(accuracy_score(y_teste, previsao)*100))"
   ]
  },
  {
   "cell_type": "code",
   "execution_count": null,
   "metadata": {},
   "outputs": [],
   "source": [
    "print(\"Classification Report\")\n",
    "print(metrics.classification_report(y_teste, previsao, labels = [1, 0]));"
   ]
  },
  {
   "cell_type": "code",
   "execution_count": null,
   "metadata": {},
   "outputs": [],
   "source": [
    "resultado = modelo.evaluate(x_teste, x_teste)#usando ferramentas do keras\n",
    "resultado"
   ]
  },
  {
   "cell_type": "code",
   "execution_count": null,
   "metadata": {},
   "outputs": [],
   "source": [
    "# Criando uma Confusion Matrix\n",
    "#Matriz de Confusão MULTICLASSE ... Executar essa parte 1º\n",
    "#y_teste_matrix = [np.argmax(t) for t in y_teste]              #RETORNA O INDICE QUE ESTA TRUE (DA RESPOSTA CERTA)\n",
    "#y_previsao_matrix = [np.argmax(t) for t in previsoes]         #RETORNA O INDICE QUE ESTA TRUE (DA RESPOSTA CERTA)\n",
    "\n",
    "print(\"Confusion Matrix\")\n",
    "confusao = confusion_matrix(y_teste, previsao)\n",
    "confusao"
   ]
  },
  {
   "cell_type": "markdown",
   "metadata": {},
   "source": [
    "# Fim"
   ]
  },
  {
   "cell_type": "markdown",
   "metadata": {},
   "source": [
    "### Obrigado - Marcus Rosa Godoi "
   ]
  }
 ],
 "metadata": {
  "kernelspec": {
   "display_name": "Python 3",
   "language": "python",
   "name": "python3"
  },
  "language_info": {
   "codemirror_mode": {
    "name": "ipython",
    "version": 3
   },
   "file_extension": ".py",
   "mimetype": "text/x-python",
   "name": "python",
   "nbconvert_exporter": "python",
   "pygments_lexer": "ipython3",
   "version": "3.7.4"
  }
 },
 "nbformat": 4,
 "nbformat_minor": 2
}
