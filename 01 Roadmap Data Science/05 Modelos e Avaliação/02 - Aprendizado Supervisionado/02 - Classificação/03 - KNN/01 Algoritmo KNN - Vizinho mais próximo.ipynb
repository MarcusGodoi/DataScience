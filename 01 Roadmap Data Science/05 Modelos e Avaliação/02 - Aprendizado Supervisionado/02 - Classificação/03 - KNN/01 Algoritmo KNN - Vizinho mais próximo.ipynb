{
 "cells": [
  {
   "cell_type": "markdown",
   "metadata": {},
   "source": [
    "# <font color='red'>Algoritmo KNN (Vizinho mais próximo)</font>\n",
    "\n",
    "###### Por: Marcus Rosa Godoi"
   ]
  },
  {
   "cell_type": "markdown",
   "metadata": {},
   "source": [
    "A classificação baseada em vizinhos é um tipo de aprendizado baseado em instância ou aprendizado não generalizado: ele não tenta construir um modelo interno geral, mas simplesmente armazena instâncias dos dados de treinamento. A classificação é calculada a partir de um voto majoritário simples dos vizinhos mais próximos de cada ponto: um ponto de consulta recebe a classe de dados que tem mais representantes nos vizinhos mais próximos do ponto.\n",
    "\n",
    "\n",
    "Fonte:<a href=\"https://scikit-learn.org/stable/modules/neighbors.html#classification\">scikit-learn.org/</a>"
   ]
  },
  {
   "cell_type": "markdown",
   "metadata": {},
   "source": [
    "# 1 - Scikit-learn\n",
    "<a href=\"https://scikit-learn.org/stable/modules/generated/sklearn.neighbors.KNeighborsClassifier.html\">scikit-learn.org/</a>\n"
   ]
  },
  {
   "cell_type": "code",
   "execution_count": null,
   "metadata": {},
   "outputs": [],
   "source": [
    "#Import\n",
    "from sklearn.neighbors import KNeighborsClassifier"
   ]
  },
  {
   "cell_type": "markdown",
   "metadata": {},
   "source": [
    "#Parametros\n",
    "\n",
    "KNeighborsClassifier(n_neighbors=5, \n",
    "                     \n",
    "                     weights='uniform', \n",
    "                     \n",
    "                     algorithm='auto', \n",
    "                     \n",
    "                     leaf_size=30, \n",
    "                                          \n",
    "                     p=2, \n",
    "                     \n",
    "                     metric='minkowski', \n",
    "                     \n",
    "                     metric_params=None, \n",
    "                     \n",
    "                     n_jobs=None, \n",
    "                     \n",
    "                     **kwargs)"
   ]
  },
  {
   "cell_type": "code",
   "execution_count": null,
   "metadata": {},
   "outputs": [],
   "source": [
    "# Criando o modelo preditivo usando SCIKIT-LEARN\n",
    "modelo = KNeighborsClassifier(n_neighbors = 3,\n",
    "                              _jobs = -1)"
   ]
  },
  {
   "cell_type": "code",
   "execution_count": null,
   "metadata": {},
   "outputs": [],
   "source": [
    "# Treinando o modelo\n",
    "modelo.fit(x_treino, y_treino)"
   ]
  },
  {
   "cell_type": "markdown",
   "metadata": {},
   "source": [
    "## 1.1 Seleção de Atributos\n",
    "Usando abordagem estatística univariada."
   ]
  },
  {
   "cell_type": "code",
   "execution_count": null,
   "metadata": {},
   "outputs": [],
   "source": [
    "resultados = cross_val_score(modelo, \n",
    "                         x_treino, \n",
    "                         y_treino, \n",
    "                         cv=10,\n",
    "                         n_jobs= -1,\n",
    "                         scoring = 'mean_squared_error')"
   ]
  },
  {
   "cell_type": "code",
   "execution_count": null,
   "metadata": {},
   "outputs": [],
   "source": [
    "media = resultados.mean()\n",
    "std = resultados.std()\n",
    "print('Média: ', media)\n",
    "print('Std: ', std)"
   ]
  },
  {
   "cell_type": "code",
   "execution_count": null,
   "metadata": {},
   "outputs": [],
   "source": [
    "melhor_resultado = media"
   ]
  },
  {
   "cell_type": "markdown",
   "metadata": {},
   "source": [
    "### Obter pontuação usando modelos com seleção de recursos"
   ]
  },
  {
   "cell_type": "code",
   "execution_count": null,
   "metadata": {},
   "outputs": [],
   "source": [
    "for i in range(1, x_treino_poly.shape[1]+1, 1):\n",
    "    # Select i atributos\n",
    "    select = SelectKBest(score_func=chi2, k=i) #chi2 = qui-quadrado\n",
    "    select.fit(x_treino_poly, y_treino)\n",
    "    x_treino_poly_selected = select.transform(x_treino_poly)\n",
    "\n",
    "    # Modelo com i atributos selecionados\n",
    "    modelo.fit(x_treino_poly_selected, y_treino)\n",
    "    resultados = cross_val_score(modelo, x_treino_poly_selected, y_treino, cv=10)\n",
    "    media = resultados.mean()\n",
    "    std = resultados.std()\n",
    "    print('Média: ', media)\n",
    "    print('Std: ', desvio)\n",
    "    print('CV acuracia: ', media, '+/- ', std)\n",
    "    \n",
    "    # Salvar resultados se melhorar a pontuação\n",
    "    if np.mean(resultados) > melhor_resultado:\n",
    "        melhor_resultado = media\n",
    "        melhor_std = std\n",
    "        k_atributos_melhor_resultado = i\n",
    "    elif media == melhor_resultado:\n",
    "        if std <  melhor_std:\n",
    "            melhor_resultado = media\n",
    "            melhor_std = std\n",
    "            k_atributos_melhor_resultado = i"
   ]
  },
  {
   "cell_type": "code",
   "execution_count": null,
   "metadata": {},
   "outputs": [],
   "source": [
    "print('Número de atributos com melhor pontuação: ', k_atributos_melhor_resultado)"
   ]
  },
  {
   "cell_type": "markdown",
   "metadata": {},
   "source": [
    "### Selecionar Atributos"
   ]
  },
  {
   "cell_type": "code",
   "execution_count": null,
   "metadata": {},
   "outputs": [],
   "source": [
    "select = SelectKBest(score_func = chi2, k = k_atributos_melhor_resultado)\n",
    "select.fit(x_treino_poly, y_treino)\n",
    "x_treino_poly_selected = select.transform(x_treino_poly)"
   ]
  },
  {
   "cell_type": "markdown",
   "metadata": {},
   "source": [
    "### Treinar Modelo"
   ]
  },
  {
   "cell_type": "code",
   "execution_count": null,
   "metadata": {},
   "outputs": [],
   "source": [
    "modelo = KNeighborsClassifier(n_neighbors = 3,\n",
    "                              _jobs = -1)\n",
    "\n",
    "modelo.fit(x_treino_poly_selected, y_treino)"
   ]
  },
  {
   "cell_type": "markdown",
   "metadata": {},
   "source": [
    "### Resultados\n"
   ]
  },
  {
   "cell_type": "code",
   "execution_count": null,
   "metadata": {},
   "outputs": [],
   "source": [
    "resultados = cross_val_score(modelo, \n",
    "                         x_treino_poly_selected, \n",
    "                         y_treino, \n",
    "                         cv=10,\n",
    "                         n_jobs= -1,\n",
    "                         scoring = 'mean_squared_error')"
   ]
  },
  {
   "cell_type": "markdown",
   "metadata": {},
   "source": [
    "### Curva de Aprendizado"
   ]
  },
  {
   "cell_type": "code",
   "execution_count": null,
   "metadata": {},
   "outputs": [],
   "source": [
    "title = \"Curva de Aprendizado (KNN)\"\n",
    "cv = 10\n",
    "plot_learning_curve(modelo, \n",
    "                    title, \n",
    "                    x_treino_poly_selected,\n",
    "                    y_treino, \n",
    "                    ylim = (0.7, 1.01), \n",
    "                    cv = cv, \n",
    "                    n_jobs = -1);"
   ]
  },
  {
   "cell_type": "markdown",
   "metadata": {},
   "source": [
    "### Curva de Validação"
   ]
  },
  {
   "cell_type": "code",
   "execution_count": null,
   "metadata": {},
   "outputs": [],
   "source": [
    "title = 'Curva de Validação (KNN)'\n",
    "param_name = 'leaf_size'\n",
    "param_range = list(range(1,50)) \n",
    "cv = 10\n",
    "plot_validation_curve(estimator=modelo, \n",
    "                      title = title, \n",
    "                      X = x_treino_poly_selected, \n",
    "                      y = y_treino, \n",
    "                      param_name = param_name, \n",
    "                      ylim = (0.5, 1.01), \n",
    "                      param_range = param_range);"
   ]
  },
  {
   "cell_type": "markdown",
   "metadata": {},
   "source": [
    "### Fazer a mesma transformação com os dados de teste."
   ]
  },
  {
   "cell_type": "code",
   "execution_count": null,
   "metadata": {},
   "outputs": [],
   "source": []
  },
  {
   "cell_type": "markdown",
   "metadata": {},
   "source": [
    "## 1.2 - Verificando a exatidão no modelo nos dados de teste"
   ]
  },
  {
   "cell_type": "code",
   "execution_count": null,
   "metadata": {},
   "outputs": [],
   "source": [
    "previsao1 = modelo.predict(x_teste)\n",
    "previsao2 = resultado.predict(x_teste)"
   ]
  },
  {
   "cell_type": "code",
   "execution_count": null,
   "metadata": {},
   "outputs": [],
   "source": [
    "print(\"Taxa de Acerto (Accuracy): {0:.6f}%\".format(accuracy_score(y_teste, previsao1)*100))"
   ]
  },
  {
   "cell_type": "code",
   "execution_count": null,
   "metadata": {},
   "outputs": [],
   "source": [
    "print(\"Taxa de Acerto (Accuracy): {0:.6f}%\".format(accuracy_score(y_teste, previsao2)*100))"
   ]
  },
  {
   "cell_type": "code",
   "execution_count": null,
   "metadata": {},
   "outputs": [],
   "source": [
    "print(\"Classification Report\")\n",
    "print(metrics.classification_report(y_teste, previsao1, labels = [1, 0]));"
   ]
  },
  {
   "cell_type": "code",
   "execution_count": null,
   "metadata": {},
   "outputs": [],
   "source": [
    "print(\"Classification Report\")\n",
    "print(metrics.classification_report(y_teste, previsao2, labels = [1, 0]));"
   ]
  },
  {
   "cell_type": "code",
   "execution_count": null,
   "metadata": {},
   "outputs": [],
   "source": [
    "# Criando uma Confusion Matrix\n",
    "\n",
    "print(\"Confusion Matrix\")\n",
    "confusao1 = confusion_matrix(y_teste, previsao1)\n",
    "confusao1"
   ]
  },
  {
   "cell_type": "code",
   "execution_count": null,
   "metadata": {},
   "outputs": [],
   "source": [
    "# Criando uma Confusion Matrix\n",
    "\n",
    "print(\"Confusion Matrix\")\n",
    "confusao2 = confusion_matrix(y_teste, previsao2)\n",
    "confusao2"
   ]
  },
  {
   "cell_type": "markdown",
   "metadata": {},
   "source": [
    "## 1.3 - Tuning"
   ]
  },
  {
   "cell_type": "markdown",
   "metadata": {},
   "source": [
    "leaf_size = list(range(1,50))\n",
    "\n",
    "n_neighbors = list(range(1,30))\n",
    "\n",
    "p=[1,2]"
   ]
  },
  {
   "cell_type": "code",
   "execution_count": null,
   "metadata": {},
   "outputs": [],
   "source": []
  },
  {
   "cell_type": "markdown",
   "metadata": {},
   "source": [
    "# Fim"
   ]
  },
  {
   "cell_type": "markdown",
   "metadata": {},
   "source": [
    "### Obrigado - Marcus Rosa Godoi "
   ]
  }
 ],
 "metadata": {
  "kernelspec": {
   "display_name": "Python 3",
   "language": "python",
   "name": "python3"
  },
  "language_info": {
   "codemirror_mode": {
    "name": "ipython",
    "version": 3
   },
   "file_extension": ".py",
   "mimetype": "text/x-python",
   "name": "python",
   "nbconvert_exporter": "python",
   "pygments_lexer": "ipython3",
   "version": "3.7.4"
  }
 },
 "nbformat": 4,
 "nbformat_minor": 2
}
