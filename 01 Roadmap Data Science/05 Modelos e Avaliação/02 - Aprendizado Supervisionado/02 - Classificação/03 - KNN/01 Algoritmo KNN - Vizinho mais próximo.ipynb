{
 "cells": [
  {
   "cell_type": "markdown",
   "metadata": {},
   "source": [
    "# <font color='red'>Algoritmo KNN (Vizinho mais próximo)</font>\n",
    "\n",
    "###### Por: Marcus Rosa Godoi"
   ]
  },
  {
   "cell_type": "markdown",
   "metadata": {},
   "source": [
    "A classificação baseada em vizinhos é um tipo de aprendizado baseado em instância ou aprendizado não generalizado: ele não tenta construir um modelo interno geral, mas simplesmente armazena instâncias dos dados de treinamento. A classificação é calculada a partir de um voto majoritário simples dos vizinhos mais próximos de cada ponto: um ponto de consulta recebe a classe de dados que tem mais representantes nos vizinhos mais próximos do ponto.\n",
    "\n",
    "\n",
    "Fonte:<a href=\"https://scikit-learn.org/stable/modules/neighbors.html#classification\">scikit-learn.org/</a>"
   ]
  },
  {
   "cell_type": "markdown",
   "metadata": {},
   "source": [
    "# 1 - Scikit-learn\n",
    "<a href=\"https://scikit-learn.org/stable/modules/generated/sklearn.neighbors.KNeighborsClassifier.html\">scikit-learn.org/</a>\n"
   ]
  },
  {
   "cell_type": "code",
   "execution_count": null,
   "metadata": {},
   "outputs": [],
   "source": [
    "#Import\n",
    "from sklearn.neighbors import KNeighborsClassifier"
   ]
  },
  {
   "cell_type": "code",
   "execution_count": null,
   "metadata": {},
   "outputs": [],
   "source": [
    "#Parametros\n",
    "KNeighborsClassifier(n_neighbors=5, \n",
    "                     weights='uniform', \n",
    "                     algorithm='auto', \n",
    "                     leaf_size=30, \n",
    "                     p=2, \n",
    "                     metric='minkowski', \n",
    "                     metric_params=None, \n",
    "                     n_jobs=None, \n",
    "                     **kwargs)"
   ]
  },
  {
   "cell_type": "code",
   "execution_count": null,
   "metadata": {},
   "outputs": [],
   "source": [
    "# Criando o modelo preditivo usando SCIKIT-LEARN\n",
    "modelo_knn1 = KNeighborsClassifier(n_neighbors = 3)"
   ]
  },
  {
   "cell_type": "code",
   "execution_count": null,
   "metadata": {},
   "outputs": [],
   "source": [
    "# Treinando o modelo\n",
    "modelo.fit(x_treino, y_treino)"
   ]
  },
  {
   "cell_type": "markdown",
   "metadata": {},
   "source": [
    "##### Verificando a exatidão no modelo nos dados de teste"
   ]
  },
  {
   "cell_type": "code",
   "execution_count": null,
   "metadata": {},
   "outputs": [],
   "source": [
    "from sklearn.metrics import confusion_matrix, accuracy_score, classification_report          \n",
    "from yellowbrick.classifier import ConfusionMatrix    "
   ]
  },
  {
   "cell_type": "code",
   "execution_count": null,
   "metadata": {},
   "outputs": [],
   "source": [
    "previsao = modelo.predict(x_teste)"
   ]
  },
  {
   "cell_type": "code",
   "execution_count": null,
   "metadata": {},
   "outputs": [],
   "source": [
    "print(\"Taxa de Acerto (Accuracy): {0:.6f}%\".format(accuracy_score(y_teste, previsao)*100))"
   ]
  },
  {
   "cell_type": "code",
   "execution_count": null,
   "metadata": {},
   "outputs": [],
   "source": [
    "print(\"Classification Report\")\n",
    "print(metrics.classification_report(y_teste, previsao, labels = [1, 0]));"
   ]
  },
  {
   "cell_type": "code",
   "execution_count": null,
   "metadata": {},
   "outputs": [],
   "source": [
    "# Criando uma Confusion Matrix\n",
    "\n",
    "print(\"Confusion Matrix\")\n",
    "confusao = confusion_matrix(y_teste, previsao)\n",
    "confusao"
   ]
  },
  {
   "cell_type": "markdown",
   "metadata": {},
   "source": [
    "# Fim"
   ]
  },
  {
   "cell_type": "markdown",
   "metadata": {},
   "source": [
    "### Obrigado - Marcus Rosa Godoi "
   ]
  }
 ],
 "metadata": {
  "kernelspec": {
   "display_name": "Python 3",
   "language": "python",
   "name": "python3"
  },
  "language_info": {
   "codemirror_mode": {
    "name": "ipython",
    "version": 3
   },
   "file_extension": ".py",
   "mimetype": "text/x-python",
   "name": "python",
   "nbconvert_exporter": "python",
   "pygments_lexer": "ipython3",
   "version": "3.7.4"
  }
 },
 "nbformat": 4,
 "nbformat_minor": 2
}
