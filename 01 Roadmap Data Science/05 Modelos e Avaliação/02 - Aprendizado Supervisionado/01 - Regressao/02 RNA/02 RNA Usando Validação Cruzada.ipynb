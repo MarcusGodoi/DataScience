{
 "cells": [
  {
   "cell_type": "markdown",
   "metadata": {},
   "source": [
    "# <font color='red'>Algoritimo RNA Usando Validação Cruzada</font>\n",
    "\n",
    "###### Por: Marcus Rosa Godoi"
   ]
  },
  {
   "cell_type": "markdown",
   "metadata": {},
   "source": [
    "![rna.png](rna.png)\n",
    "\n",
    "Fonte:<a href=\"https://medium.com/brasil-ai/entendendo-o-funcionamento-de-uma-rede-neural-artificial-4463fcf44dd0\">medium.com/</a>"
   ]
  },
  {
   "cell_type": "markdown",
   "metadata": {},
   "source": [
    "# 1 - Keras - Sequential Model\n",
    "<a href=\"https://keras.io/guides/sequential_model/\">keras/</a>"
   ]
  },
  {
   "cell_type": "code",
   "execution_count": null,
   "metadata": {},
   "outputs": [],
   "source": [
    "#Import\n",
    "from keras.models import Sequential\n",
    "from keras.layers import Dense, Flatten, Dropout\n",
    "from keras.utils import np_utils\n",
    "from keras.utils.vis_utils import plot_model\n",
    "\n",
    "from sklearn.metrics import mean_squared_error, mean_absolute_error,confusion_matrix          \n",
    "from yellowbrick.classifier import ConfusionMatrix   \n",
    "\n",
    "from keras.wrappers.scikit_learn import KerasRegressor\n",
    "from sklearn.model_selection import cross_val_score"
   ]
  },
  {
   "cell_type": "markdown",
   "metadata": {},
   "source": [
    "## 1.1 - Criar Modelo Sequencial"
   ]
  },
  {
   "cell_type": "markdown",
   "metadata": {},
   "source": [
    "Verificar Parametros no Notebook \"01 Algoritimo de Rede Neural Arificial\""
   ]
  },
  {
   "cell_type": "code",
   "execution_count": null,
   "metadata": {},
   "outputs": [],
   "source": [
    "def criarRede():\n",
    "    \n",
    "    modelo = Sequential()  #uma camada apos a outra\n",
    "\n",
    "    modelo.add(Dense(units = 5, activation = 'relu', input_dim = 4))#camadas oculta1 (5 neurônios)+ camda de entrada(4)\n",
    "    modelo.add(Dropout(0.2))\n",
    "\n",
    "    modelo.add(Dense(units = 4,  activation = 'relu'))# camada de oculta 2 (4)\n",
    "    modelo.add(Dropout(0.2))\n",
    "\n",
    "    modelo.add(Dense(units = 1, activation = 'linear')) #camada de saida (1 saídas)\n",
    "    \n",
    "    otimizador = keras.optimizers.Adam(lr = 0.001, decay = 0.0001, clipvalue = 0.5)\n",
    "    \n",
    "    modelo.compile(optimizer = 'adam', \n",
    "                      loss = 'mean_squared_error',\n",
    "                      metrics = ['mean_squared_error'])\n",
    "    \n",
    "    return modelo"
   ]
  },
  {
   "cell_type": "code",
   "execution_count": null,
   "metadata": {},
   "outputs": [],
   "source": [
    "#Regressão\n",
    "modelo = KerasRegressor(build_fn = criarRede, \n",
    "                         epochs = 50, \n",
    "                         batch_size = 10)"
   ]
  },
  {
   "cell_type": "code",
   "execution_count": null,
   "metadata": {},
   "outputs": [],
   "source": [
    "# Ver Modelo\n",
    "modelo.summary()"
   ]
  },
  {
   "cell_type": "markdown",
   "metadata": {
    "ExecuteTime": {
     "end_time": "2020-05-25T04:02:22.657742Z",
     "start_time": "2020-05-25T04:02:22.653752Z"
    }
   },
   "source": [
    "## 1.2 - Treino"
   ]
  },
  {
   "cell_type": "raw",
   "metadata": {},
   "source": [
    "#Parametros cross_val_score\n",
    "sklearn.model_selection.cross_val_score(estimator, \n",
    "                                        X, \n",
    "                                        y=None, \n",
    "                                        *, \n",
    "                                        groups=None, \n",
    "                                        scoring=None, \n",
    "                                        cv=None, \n",
    "                                        n_jobs=None, \n",
    "                                        verbose=0, \n",
    "                                        fit_params=None, \n",
    "                                        pre_dispatch='2*n_jobs',\n",
    "                                        error_score=nan)"
   ]
  },
  {
   "cell_type": "markdown",
   "metadata": {},
   "source": [
    "<a href=\"https://scikit-learn.org/stable/modules/generated/sklearn.model_selection.cross_val_score.html\">cross_val_score/</a>"
   ]
  },
  {
   "cell_type": "code",
   "execution_count": null,
   "metadata": {},
   "outputs": [],
   "source": [
    "# Treinando o modelo\n",
    "resultados = cross_val_score(estimator = modelo, \n",
    "                             X = previsores, \n",
    "                             y = classe, #saída\n",
    "                             cv = 10, \n",
    "                             n_jobs= -1,\n",
    "                             scoring = 'mean_squared_error')\n",
    "#n_jobs=-1 #utilizar todas CPU's\n",
    "#validation_split=0.2"
   ]
  },
  {
   "cell_type": "markdown",
   "metadata": {},
   "source": [
    "## 1.3 Verificando a exatidão no modelo nos dados de teste"
   ]
  },
  {
   "cell_type": "code",
   "execution_count": null,
   "metadata": {},
   "outputs": [],
   "source": [
    "media = resultados.mean()\n",
    "desvio = resultados.std()\n",
    "print(media)\n",
    "print(desvio)"
   ]
  },
  {
   "cell_type": "code",
   "execution_count": null,
   "metadata": {},
   "outputs": [],
   "source": [
    "previsao = resultado.predict(previsores)\n",
    "previsao"
   ]
  },
  {
   "cell_type": "code",
   "execution_count": null,
   "metadata": {},
   "outputs": [],
   "source": [
    "print(preco_real.mean()) #media da saída\n",
    "print(previsoes.mean())  #media das previsões"
   ]
  },
  {
   "cell_type": "code",
   "execution_count": null,
   "metadata": {},
   "outputs": [],
   "source": [
    "print('MAE:', mean_absolute_error(y_teste, previsao).round(10)  )\n",
    "print('MSE:', mean_squared_error(y_tteste, previsao).round(10) )  \n",
    "print('RMSE:', np.sqrt(mean_squared_error(y_teste, previsao)).round(10))"
   ]
  },
  {
   "cell_type": "code",
   "execution_count": null,
   "metadata": {},
   "outputs": [],
   "source": [
    "resultado = modelo.evaluate(x_teste, y_teste)#usando ferramentas do keras\n",
    "resultado"
   ]
  },
  {
   "cell_type": "markdown",
   "metadata": {},
   "source": [
    "# Fim"
   ]
  },
  {
   "cell_type": "markdown",
   "metadata": {},
   "source": [
    "### Obrigado - Marcus Rosa Godoi "
   ]
  },
  {
   "cell_type": "code",
   "execution_count": null,
   "metadata": {},
   "outputs": [],
   "source": []
  }
 ],
 "metadata": {
  "kernelspec": {
   "display_name": "Python 3",
   "language": "python",
   "name": "python3"
  },
  "language_info": {
   "codemirror_mode": {
    "name": "ipython",
    "version": 3
   },
   "file_extension": ".py",
   "mimetype": "text/x-python",
   "name": "python",
   "nbconvert_exporter": "python",
   "pygments_lexer": "ipython3",
   "version": "3.7.4"
  }
 },
 "nbformat": 4,
 "nbformat_minor": 2
}
