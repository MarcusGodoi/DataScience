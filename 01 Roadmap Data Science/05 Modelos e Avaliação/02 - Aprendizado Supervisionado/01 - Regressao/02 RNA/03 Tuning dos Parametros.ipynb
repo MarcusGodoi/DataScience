{
 "cells": [
  {
   "cell_type": "markdown",
   "metadata": {},
   "source": [
    "# <font color='red'>Algoritimo CNN Tuning</font>\n",
    "\n",
    "###### Por: Marcus Rosa Godoi"
   ]
  },
  {
   "cell_type": "markdown",
   "metadata": {},
   "source": [
    "![rna.png](rna.png)\n",
    "\n",
    "Fonte:<a href=\"https://medium.com/brasil-ai/entendendo-o-funcionamento-de-uma-rede-neural-artificial-4463fcf44dd0\">medium.com/</a>"
   ]
  },
  {
   "cell_type": "markdown",
   "metadata": {},
   "source": [
    "# 1 - Keras - Sequential Model\n",
    "<a href=\"https://keras.io/guides/sequential_model/\">keras/</a>"
   ]
  },
  {
   "cell_type": "code",
   "execution_count": null,
   "metadata": {},
   "outputs": [],
   "source": [
    "#Import\n",
    "from keras.models import Sequential\n",
    "from keras.layers import Dense, Flatten, Dropout\n",
    "from keras.utils import np_utils\n",
    "from keras.utils.vis_utils import plot_model\n",
    "\n",
    "from sklearn.metrics import mean_squared_error, mean_absolute_error,confusion_matrix        \n",
    "from yellowbrick.classifier import ConfusionMatrix   \n",
    "\n",
    "from keras.wrappers.scikit_learn import KerasRegressor\n",
    "from sklearn.model_selection import cross_val_score\n",
    "from sklearn.model_selection import GridSearchCV"
   ]
  },
  {
   "cell_type": "markdown",
   "metadata": {},
   "source": [
    "## 1.1 - Criar Modelo Sequencial"
   ]
  },
  {
   "cell_type": "markdown",
   "metadata": {},
   "source": [
    "Verificar Parametros no Notebook \"01 Algoritimo de Rede Neural Arificial\""
   ]
  },
  {
   "cell_type": "code",
   "execution_count": null,
   "metadata": {},
   "outputs": [],
   "source": [
    "def criarRede(activation, neurons, optimizer, ):\n",
    "    \n",
    "    modelo = Sequential()  #uma camada após a outra\n",
    "\n",
    "    modelo.add(Dense(units = neurons, activation = ativacao, input_dim = 4))#camadas oculta1 (5 neurônios)+ camda de entrada(4)\n",
    "    modelo.add(Dropout(0.2))\n",
    "\n",
    "    modelo.add(Dense(units = neurons,  activation = ativacao))# camada de oculta 2 (4)\n",
    "    modelo.add(Dropout(0.2))\n",
    "\n",
    "    modelo.add(Dense(units = 1, activation = 'linear')) #camada de saida (1 saídas)\n",
    "    \n",
    "    otimizador = keras.optimizers.Adam(lr = 0.001, decay = 0.0001, clipvalue = 0.5)\n",
    "    \n",
    "    modelo.compile(optimizer = optimizer, \n",
    "                      loss = loos,\n",
    "                      metrics = ['mean_squared_error'])\n",
    "    \n",
    "    return modelo"
   ]
  },
  {
   "cell_type": "code",
   "execution_count": null,
   "metadata": {},
   "outputs": [],
   "source": [
    "#Regressão\n",
    "modelo = KerasRegressor(build_fn = criarRede)"
   ]
  },
  {
   "cell_type": "code",
   "execution_count": null,
   "metadata": {},
   "outputs": [],
   "source": [
    "#parametros de teste:\n",
    "parametros = {'batch_size': [10, 30],\n",
    "              'epochs': [50, 100],\n",
    "              'optimizer': ['adam', 'sgd','RMSprop'],\n",
    "              'loos': ['mean_squared_error', 'mean_squared_logarithmic_error'],\n",
    "              'activation': ['relu', 'tanh'],\n",
    "              'neurons': [16, 8]}"
   ]
  },
  {
   "cell_type": "code",
   "execution_count": null,
   "metadata": {},
   "outputs": [],
   "source": [
    "grid_search = GridSearchCV(estimator = modelo,\n",
    "                           param_grid = parametros,\n",
    "                           scoring = 'mean_squared_error',\n",
    "                           cv = 10)"
   ]
  },
  {
   "cell_type": "markdown",
   "metadata": {
    "ExecuteTime": {
     "end_time": "2020-05-25T04:02:22.657742Z",
     "start_time": "2020-05-25T04:02:22.653752Z"
    }
   },
   "source": [
    "## 1.2 - Treino"
   ]
  },
  {
   "cell_type": "code",
   "execution_count": null,
   "metadata": {},
   "outputs": [],
   "source": [
    "grid_search = grid_search.fit(previsores, classe) #classe -> saída"
   ]
  },
  {
   "cell_type": "markdown",
   "metadata": {
    "ExecuteTime": {
     "end_time": "2020-05-25T04:02:22.657742Z",
     "start_time": "2020-05-25T04:02:22.653752Z"
    }
   },
   "source": [
    "## 1.3 - Melhores Parâmetros"
   ]
  },
  {
   "cell_type": "code",
   "execution_count": null,
   "metadata": {},
   "outputs": [],
   "source": [
    "melhores_parametros = grid_search.best_params_\n",
    "melhor_precisao = grid_search.best_score_\n",
    "print(melhores_parametros)\n",
    "print(melhor_precisao)"
   ]
  },
  {
   "cell_type": "markdown",
   "metadata": {},
   "source": [
    "# Fim"
   ]
  },
  {
   "cell_type": "markdown",
   "metadata": {},
   "source": [
    "### Obrigado - Marcus Rosa Godoi "
   ]
  }
 ],
 "metadata": {
  "kernelspec": {
   "display_name": "Python 3",
   "language": "python",
   "name": "python3"
  },
  "language_info": {
   "codemirror_mode": {
    "name": "ipython",
    "version": 3
   },
   "file_extension": ".py",
   "mimetype": "text/x-python",
   "name": "python",
   "nbconvert_exporter": "python",
   "pygments_lexer": "ipython3",
   "version": "3.7.4"
  }
 },
 "nbformat": 4,
 "nbformat_minor": 2
}
