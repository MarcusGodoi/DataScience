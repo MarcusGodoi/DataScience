{
 "cells": [
  {
   "cell_type": "markdown",
   "metadata": {
    "slideshow": {
     "slide_type": "-"
    }
   },
   "source": [
    "# 1.0 - IMPORTS"
   ]
  },
  {
   "cell_type": "markdown",
   "metadata": {},
   "source": [
    " "
   ]
  },
  {
   "cell_type": "code",
   "execution_count": 27,
   "metadata": {},
   "outputs": [],
   "source": [
    "import pandas as pd\n",
    "import numpy as np\n",
    "import matplotlib.pylab as plt\n",
    "import pickle #salvar modelo\n",
    "import graphviz\n",
    "import skfuzzy\n",
    "import seaborn as sns\n",
    "import colorsys\n",
    "from pylab import pcolor, colorbar, plot\n",
    "\n",
    "from sklearn.preprocessing import Imputer                            #tratar valores missing\n",
    "from sklearn.model_selection import train_test_split                 #MANIPULAÇÃO DOS DADOS\n",
    "from sklearn.preprocessing import LabelEncoder, OneHotEncoder        #MANIPULAÇÃO DOS DADOS\n",
    "\n",
    "from sklearn.naive_bayes import GaussianNB                           #MODELOS\n",
    "from sklearn.ensemble import RandomForestClassifier                  #MODELOS\n",
    "from sklearn.linear_model import LogisticRegression                  #MODELOS\n",
    "from sklearn.neighbors import KNeighborsClassifier                   #MODELOS\n",
    "from sklearn.tree import DecisionTreeClassifier                      #MODELOS\n",
    "from sklearn.tree import export_graphviz                             #MODELOS\n",
    "from sklearn.svm import SVC                                          #MODELOS\n",
    "from sklearn.cluster import KMeans                                   #MODELOS\n",
    "from pyclustering.cluster.kmedoids import kmedoids                   #MODELOS\n",
    "from pyclustering.cluster import cluster_visualizer                  #MODELOS\n",
    "from apyori import apriori                                           #MODELOS\n",
    "from minisom import MiniSom                                          #MODELOS\n",
    "\n",
    "from sklearn.metrics import confusion_matrix, accuracy_score         #AVALIAÇÃO\n",
    "from yellowbrick.classifier import ConfusionMatrix                   #AVALIAÇÃO\n",
    "from sklearn import metrics                                          #AVALIAÇÃO"
   ]
  },
  {
   "cell_type": "code",
   "execution_count": 11,
   "metadata": {},
   "outputs": [
    {
     "name": "stdout",
     "output_type": "stream",
     "text": [
      "2.2.4-tf\n"
     ]
    },
    {
     "name": "stderr",
     "output_type": "stream",
     "text": [
      "Using TensorFlow backend.\n"
     ]
    }
   ],
   "source": [
    "import tensorflow as tf\n",
    "#print(tf.VERSION)\n",
    "print(tf.keras.__version__)\n",
    "\n",
    "from keras.models import Sequential\n",
    "from keras.layers import Dense, Flatten, Dropout, Conv2D, MaxPooling2D\n",
    "from keras.utils import np_utils\n",
    "from keras.utils.vis_utils import plot_model\n",
    "from keras.layers import LSTM   #RNN\n",
    "\n",
    "from keras.wrappers.scikit_learn import KerasClassifier\n",
    "from sklearn.model_selection import cross_val_score\n",
    "from sklearn.model_selection import GridSearchCV\n",
    "from keras.wrappers.scikit_learn import KerasRegressor\n",
    "\n",
    "from keras.layers.normalization import BatchNormalization               #NORMALIZAÇÃO das concoluções\n",
    "from sklearn.preprocessing import MinMaxScaler                          #NORMALIZAÇÃO de dados\n",
    "\n",
    "from sklearn.model_selection import StratifiedKFold #validação cruzada"
   ]
  },
  {
   "cell_type": "markdown",
   "metadata": {},
   "source": [
    " "
   ]
  },
  {
   "cell_type": "markdown",
   "metadata": {},
   "source": [
    " \n",
    " "
   ]
  },
  {
   "cell_type": "markdown",
   "metadata": {},
   "source": [
    "# 2.0  - COLETAS DE DADOS"
   ]
  },
  {
   "cell_type": "markdown",
   "metadata": {},
   "source": [
    " "
   ]
  },
  {
   "cell_type": "markdown",
   "metadata": {
    "heading_collapsed": true
   },
   "source": [
    "## 2.1 - Ler Arquivos CSV"
   ]
  },
  {
   "cell_type": "markdown",
   "metadata": {
    "hidden": true
   },
   "source": [
    " "
   ]
  },
  {
   "cell_type": "code",
   "execution_count": 42,
   "metadata": {
    "hidden": true
   },
   "outputs": [],
   "source": [
    "base1 = pd.read_csv('Dados/iris.csv')\n",
    "base2 = pd.read_csv('Dados/Eleicao.csv', sep=';')\n",
    "base3 = pd.read_csv('Dados/AirPassengers.csv')\n",
    "base4 = pd.read_csv(\"Dados/Dados-Pesquisa.csv\", sep = ',', low_memory=False)\n",
    "base5 = pd.read_csv(\"Dados/pima-data.csv\")\n",
    "base6 = pd.read_csv(\"Dados/Credit.csv\")\n",
    "base7 = pd.read_csv(\"Dados/trees.csv\")\n",
    "base8 = pd.read_csv('Dados/petr4-treinamento.csv')"
   ]
  },
  {
   "cell_type": "markdown",
   "metadata": {
    "hidden": true
   },
   "source": [
    " "
   ]
  },
  {
   "cell_type": "markdown",
   "metadata": {
    "heading_collapsed": true
   },
   "source": [
    "## 2.2 - Ler Arquivos TXT"
   ]
  },
  {
   "cell_type": "code",
   "execution_count": null,
   "metadata": {
    "hidden": true
   },
   "outputs": [],
   "source": [
    "base20 = pd.read_csv('Dados/transacoes.txt', header = None)\n"
   ]
  },
  {
   "cell_type": "markdown",
   "metadata": {
    "hidden": true
   },
   "source": [
    " "
   ]
  },
  {
   "cell_type": "markdown",
   "metadata": {
    "heading_collapsed": true
   },
   "source": [
    "## 2.3 - Ler Dados pelo Banco de Dados"
   ]
  },
  {
   "cell_type": "code",
   "execution_count": null,
   "metadata": {
    "hidden": true
   },
   "outputs": [],
   "source": [
    "import psycopg2 #postgre\n",
    "from pymongo import MongoClient"
   ]
  },
  {
   "cell_type": "markdown",
   "metadata": {
    "hidden": true
   },
   "source": [
    " "
   ]
  },
  {
   "cell_type": "markdown",
   "metadata": {
    "heading_collapsed": true,
    "hidden": true
   },
   "source": [
    "### POSTGRE"
   ]
  },
  {
   "cell_type": "markdown",
   "metadata": {
    "hidden": true
   },
   "source": [
    " "
   ]
  },
  {
   "cell_type": "code",
   "execution_count": 2,
   "metadata": {
    "hidden": true
   },
   "outputs": [
    {
     "data": {
      "text/plain": [
       "<connection object at 0x000001944C0F5048; dsn: 'user=postgres password=xxx dbname=CD host=localhost port=5432', closed: 0>"
      ]
     },
     "execution_count": 2,
     "metadata": {},
     "output_type": "execute_result"
    }
   ],
   "source": [
    "conexao = psycopg2.connect(host=\"localhost\",database=\"CD\", user=\"postgres\", password=\"p6nglwc10\", port=5432)\n",
    "conexao"
   ]
  },
  {
   "cell_type": "code",
   "execution_count": 3,
   "metadata": {
    "hidden": true
   },
   "outputs": [
    {
     "data": {
      "text/plain": [
       "<cursor object at 0x000001944E6CDC88; closed: 0>"
      ]
     },
     "execution_count": 3,
     "metadata": {},
     "output_type": "execute_result"
    }
   ],
   "source": [
    "cursor = conexao.cursor()\n",
    "cursor"
   ]
  },
  {
   "cell_type": "code",
   "execution_count": 5,
   "metadata": {
    "hidden": true
   },
   "outputs": [
    {
     "data": {
      "text/plain": [
       "'select * from clientes'"
      ]
     },
     "execution_count": 5,
     "metadata": {},
     "output_type": "execute_result"
    }
   ],
   "source": [
    "consulta = \"select * from clientes\"\n",
    "consulta"
   ]
  },
  {
   "cell_type": "code",
   "execution_count": 6,
   "metadata": {
    "hidden": true
   },
   "outputs": [],
   "source": [
    "cursor.execute(consulta)"
   ]
  },
  {
   "cell_type": "code",
   "execution_count": 7,
   "metadata": {
    "hidden": true,
    "scrolled": true
   },
   "outputs": [
    {
     "data": {
      "text/plain": [
       "[(1, 'Adelina Buenaventura', 'RJ', 'M', 'Silver'),\n",
       " (2, 'Adelino Gago', 'RJ', 'M', 'Silver'),\n",
       " (3, 'Adélio Lisboa', 'SE', 'M', 'Silver'),\n",
       " (4, 'Adérito Bahía', 'MA', 'M', 'Silver'),\n",
       " (5, 'Adolfo Patrício', 'PE', 'M', 'Silver'),\n",
       " (6, 'Adriana Guedelha', 'RO', 'F', 'Platinum'),\n",
       " (7, 'Aida Dorneles', 'RN', 'F', 'Silver'),\n",
       " (8, 'Alarico Quinterno', 'AC', 'M', 'Silver'),\n",
       " (9, 'Alberto Cezimbra', 'AM', 'M', 'Silver'),\n",
       " (10, 'Alberto Monsanto', 'RN', 'M', 'Gold'),\n",
       " (11, 'Albino Canela', 'AC', 'M', 'Silver'),\n",
       " (12, 'Alceste Varanda', 'RR', 'F', 'Silver'),\n",
       " (13, 'Alcides Carvalhais', 'RO', 'M', 'Silver'),\n",
       " (14, 'Aldo Martins', 'GO', 'M', 'Silver'),\n",
       " (15, 'Alexandra Tabares', 'MG', 'F', 'Silver'),\n",
       " (16, 'Alfredo Cotrim', 'SC', 'M', 'Silver'),\n",
       " (17, 'Almeno Figueira', 'SC', 'M', 'Silver'),\n",
       " (18, 'Alvito Peralta', 'AM', 'M', 'Silver'),\n",
       " (19, 'Amadeu Martinho', 'RN', 'M', 'Silver'),\n",
       " (20, 'Amélia Estévez', 'PE', 'F', 'Silver'),\n",
       " (21, 'Ana Homem', 'RN', 'F', 'Silver'),\n",
       " (22, 'Ana Peseiro', 'PA', 'F', 'Silver'),\n",
       " (23, 'Anacleto Garrau', 'TO', 'M', 'Silver'),\n",
       " (24, 'Anacleto Guterres', 'PI', 'M', 'Silver'),\n",
       " (25, 'Andreia Carvalhal', 'SP', 'F', 'Silver'),\n",
       " (26, 'Aníbal Bastos', 'CE', 'M', 'Silver'),\n",
       " (27, 'Anita Beserra', 'PE', 'F', 'Silver'),\n",
       " (28, 'Anna Beça', 'AP', 'F', 'Silver'),\n",
       " (29, 'Anna Carvajal', 'RS', 'F', 'Gold'),\n",
       " (30, 'Anselmo Dinis', 'PA', 'M', 'Silver'),\n",
       " (31, 'Antão Corte-Real', 'ES', 'M', 'Silver'),\n",
       " (32, 'Antero Milheiro', 'AP', 'M', 'Silver'),\n",
       " (33, 'Antónia Canhão', 'SC', 'F', 'Silver'),\n",
       " (34, 'Antônio Leiria', 'AL', 'M', 'Silver'),\n",
       " (35, 'António Lousado', 'RS', 'M', 'Silver'),\n",
       " (36, 'Antônio Sobral', 'AC', 'M', 'Silver'),\n",
       " (37, 'Apuã Ourique', 'AL', 'M', 'Silver'),\n",
       " (38, 'Arachane Matos', 'MA', 'F', 'Silver'),\n",
       " (39, 'Arcidres Murici', 'TO', 'M', 'Silver'),\n",
       " (40, 'Armindo Castilhos', 'RR', 'M', 'Silver'),\n",
       " (41, 'Armindo Moreira', 'ES', 'M', 'Silver'),\n",
       " (42, 'Artur Macedo', 'SE', 'M', 'Silver'),\n",
       " (43, 'Artur Peña', 'RJ', 'M', 'Silver'),\n",
       " (44, 'Aurélio Barrios', 'PI', 'M', 'Silver'),\n",
       " (45, 'Bárbara Magalhães', 'MG', 'F', 'Silver'),\n",
       " (46, 'Bartolomeu Vila-Chã', 'TO', 'M', 'Silver'),\n",
       " (47, 'Basilio Soares', 'AC', 'M', 'Silver'),\n",
       " (48, 'Belmira Colaço', 'RJ', 'F', 'Silver'),\n",
       " (49, 'Belmiro Marroquim', 'SC', 'M', 'Silver'),\n",
       " (50, 'Bento Quintão', 'SP', 'M', 'Gold'),\n",
       " (51, 'Berengária Iglesias', 'BA', 'F', 'Silver'),\n",
       " (52, 'Bernardete Águeda', 'TO', 'F', 'Silver'),\n",
       " (53, 'Bernardete Querino', 'PI', 'F', 'Silver'),\n",
       " (54, 'Bernardete Tavera', 'ES', 'F', 'Silver'),\n",
       " (55, 'Bráulio Junquera', 'PB', 'M', 'Silver'),\n",
       " (56, 'Brenda Serralheiro', 'PA', 'F', 'Silver'),\n",
       " (57, 'Brígida Gusmão', 'DF', 'F', 'Silver'),\n",
       " (58, 'Brites Morales', 'SC', 'F', 'Silver'),\n",
       " (59, 'Bruno Perdigão', 'MS', 'M', 'Silver'),\n",
       " (60, 'Bukake Núñez', 'SC', 'F', 'Silver'),\n",
       " (61, 'Caím Queiroga', 'PA', 'M', 'Silver'),\n",
       " (62, 'Calisto Britto', 'RN', 'M', 'Silver'),\n",
       " (63, 'Cândida Silvestre', 'MG', 'F', 'Silver'),\n",
       " (64, 'Cândido Sousa do Prado', 'PR', 'M', 'Silver'),\n",
       " (65, 'Capitolina Ruela', 'PI', 'F', 'Silver'),\n",
       " (66, 'Capitolina Valadares', 'GO', 'F', 'Silver'),\n",
       " (67, 'Carla Briones', 'AC', 'F', 'Silver'),\n",
       " (68, 'Carlos Murici', 'MG', 'M', 'Silver'),\n",
       " (69, 'Carmem Reino', 'CE', 'F', 'Silver'),\n",
       " (70, 'Carminda Alcaide', 'RO', 'F', 'Silver'),\n",
       " (71, 'Carminda Dias', 'AM', 'F', 'Gold'),\n",
       " (72, 'Cássia Guerra', 'MG', 'F', 'Silver'),\n",
       " (73, 'Cássia Queiroz', 'AM', 'F', 'Silver'),\n",
       " (74, 'Cássio Bettencourt', 'BA', 'M', 'Silver'),\n",
       " (75, 'Catarina Bairros', 'PA', 'F', 'Silver'),\n",
       " (76, 'Catarina Montero', 'PI', 'F', 'Silver'),\n",
       " (77, 'Cauê Cotrim', 'PE', 'M', 'Silver'),\n",
       " (78, 'Cauê Parahyba', 'PA', 'M', 'Silver'),\n",
       " (79, 'Cecília Carlos', 'AP', 'F', 'Silver'),\n",
       " (80, 'Celestino Pereira', 'RS', 'M', 'Silver'),\n",
       " (81, 'Célia Meireles', 'CE', 'F', 'Silver'),\n",
       " (82, 'Celina Vale', 'AL', 'F', 'Silver'),\n",
       " (83, 'Cesário Raminhos', 'RR', 'M', 'Silver'),\n",
       " (84, 'Cid Pardo', 'AL', 'M', 'Silver'),\n",
       " (85, 'Cidália Miera', 'SE', 'F', 'Silver'),\n",
       " (86, 'Cidália Ornelas', 'RS', 'F', 'Silver'),\n",
       " (87, 'Cláudio Cotegipe', 'MT', 'M', 'Silver'),\n",
       " (88, 'Cláudio Jorge', 'TO', 'M', 'Gold'),\n",
       " (89, 'Cláudio Lopes', 'BA', 'M', 'Silver'),\n",
       " (90, 'Clotilde Carvalhoso', 'BA', 'F', 'Silver'),\n",
       " (91, 'Clóvis Pamplona', 'PB', 'M', 'Silver'),\n",
       " (92, 'Constança Alcaide', 'GO', 'M', 'Silver'),\n",
       " (93, 'Constantino Pedroso', 'AC', 'M', 'Silver'),\n",
       " (94, 'Corina Dâmaso', 'CE', 'F', 'Silver'),\n",
       " (95, 'Cosme Ipanema', 'PI', 'M', 'Silver'),\n",
       " (96, 'Cosme Lira', 'PR', 'M', 'Silver'),\n",
       " (97, 'Cosme Zambujal', 'BA', 'M', 'Silver'),\n",
       " (98, 'Crispim Cordero', 'SC', 'M', 'Silver'),\n",
       " (99, 'Crispim Macena', 'AP', 'M', 'Silver'),\n",
       " (100, 'Cristiana Campello', 'RN', 'F', 'Silver'),\n",
       " (101, 'Custódio Gonçalves', 'DF', 'M', 'Silver'),\n",
       " (102, 'Custódio Rolim', 'ES', 'M', 'Silver'),\n",
       " (103, 'David Brás', 'RJ', 'M', 'Silver'),\n",
       " (104, 'David Carvalhais', 'RJ', 'M', 'Silver'),\n",
       " (105, 'Davide Alcántara', 'MA', 'M', 'Silver'),\n",
       " (106, 'Davide Fraga', 'SC', 'M', 'Silver'),\n",
       " (107, 'Deise Farias', 'AM', 'F', 'Silver'),\n",
       " (108, 'Deise Laureano', 'PI', 'F', 'Silver'),\n",
       " (109, 'Deise Meneses', 'DF', 'F', 'Silver'),\n",
       " (110, 'Délia Chousa', 'PB', 'F', 'Silver'),\n",
       " (111, 'Délio Paranhos', 'BA', 'M', 'Silver'),\n",
       " (112, 'Deolinda Castelbranco', 'RO', 'F', 'Silver'),\n",
       " (113, 'Deolinda Castella', 'RJ', 'F', 'Silver'),\n",
       " (114, 'Derli Lozada', 'RJ', 'F', 'Silver'),\n",
       " (115, 'Diana Baptista', 'AM', 'F', 'Silver'),\n",
       " (116, 'Dinarte Mangueira', 'DF', 'F', 'Silver'),\n",
       " (117, 'Dinarte Marino', 'MS', 'F', 'Silver'),\n",
       " (118, 'Dinarte Tabalipa', 'RS', 'F', 'Silver'),\n",
       " (119, 'Dinarte Tabares', 'RR', 'F', 'Silver'),\n",
       " (120, 'Diodete Carijó', 'PB', 'F', 'Silver'),\n",
       " (121, 'Diodete Queiroga', 'GO', 'F', 'Silver'),\n",
       " (122, 'Diogo Simón', 'BA', 'M', 'Silver'),\n",
       " (123, 'Dionísio Saltão', 'PR', 'M', 'Gold'),\n",
       " (124, 'Dora Galvão', 'MT', 'F', 'Silver'),\n",
       " (125, 'Dora Rocha', 'DF', 'F', 'Silver'),\n",
       " (126, 'Doroteia Quintanilla', 'RR', 'F', 'Silver'),\n",
       " (127, 'Duarte Sampaio', 'RJ', 'M', 'Silver'),\n",
       " (128, 'Dulce Prado', 'AC', 'F', 'Silver'),\n",
       " (129, 'Dulce Tomé', 'CE', 'F', 'Silver'),\n",
       " (130, 'Eduarda Borba', 'MA', 'F', 'Silver'),\n",
       " (131, 'Eduarda Madureira', 'DF', 'F', 'Silver'),\n",
       " (132, 'Eládio Froes', 'AM', 'M', 'Silver'),\n",
       " (133, 'Eloi Meneses', 'CE', 'M', 'Silver'),\n",
       " (134, 'Eloi Pereira', 'PA', 'M', 'Silver'),\n",
       " (135, 'Eloi Vasques', 'RN', 'M', 'Silver'),\n",
       " (136, 'Elsa Alencar', 'RJ', 'F', 'Silver'),\n",
       " (137, 'Elsa Barreto', 'MA', 'F', 'Silver'),\n",
       " (138, 'Elvira Açores', 'SC', 'F', 'Silver'),\n",
       " (139, 'Ema Nieves', 'GO', 'F', 'Silver'),\n",
       " (140, 'Emiliana Villalobos', 'RO', 'F', 'Silver'),\n",
       " (141, 'Epaminondas Sousa de Arronches', 'MS', 'M', 'Silver'),\n",
       " (142, 'Ermelinda Casquero', 'AM', 'F', 'Silver'),\n",
       " (143, 'Estefânia Cyrne', 'RO', 'F', 'Silver'),\n",
       " (144, 'Estela Mattos', 'PI', 'F', 'Silver'),\n",
       " (145, 'Ester Castanho', 'AC', 'F', 'Silver'),\n",
       " (146, 'Ester Dantas', 'SP', 'F', 'Silver'),\n",
       " (147, 'Estêvão Simão', 'DF', 'M', 'Silver'),\n",
       " (148, 'Eusébio Bairros', 'SP', 'M', 'Silver'),\n",
       " (149, 'Eusébio Mata', 'PI', 'M', 'Silver'),\n",
       " (150, 'Eusébio Pacheco', 'TO', 'M', 'Silver'),\n",
       " (151, 'Eusébio Salomão', 'AC', 'M', 'Silver'),\n",
       " (152, 'Evaristo Bahía', 'AC', 'M', 'Silver'),\n",
       " (153, 'Fabiano Bethancout', 'PB', 'M', 'Silver'),\n",
       " (154, 'Fabrício Varella', 'AM', 'M', 'Silver'),\n",
       " (155, 'Fabrício Vidal', 'AL', 'M', 'Silver'),\n",
       " (156, 'Faustino Maranhão', 'PI', 'M', 'Silver'),\n",
       " (157, 'Fausto Miranda', 'AP', 'M', 'Silver'),\n",
       " (158, 'Fausto Montenegro', 'SE', 'M', 'Silver'),\n",
       " (159, 'Feliciana Silvera', 'AC', 'F', 'Silver'),\n",
       " (160, 'Feliciano Franca', 'PA', 'M', 'Silver'),\n",
       " (161, 'Felicidade Aldea', 'SE', 'F', 'Silver'),\n",
       " (162, 'Filipa Mattozo', 'MA', 'F', 'Silver'),\n",
       " (163, 'Filipe Lamego', 'AL', 'M', 'Silver'),\n",
       " (164, 'Firmina Carrasco', 'TO', 'F', 'Silver'),\n",
       " (165, 'Firmino Galván', 'MA', 'M', 'Silver'),\n",
       " (166, 'Firmino Meireles', 'AM', 'M', 'Gold'),\n",
       " (167, 'Firmino Puentes', 'PB', 'M', 'Silver'),\n",
       " (168, 'Flamínia Miera', 'MT', 'F', 'Silver'),\n",
       " (169, 'Flávia Camacho', 'BA', 'F', 'Silver'),\n",
       " (170, 'Flávia Campos', 'RR', 'F', 'Silver'),\n",
       " (171, 'Flor Ginjeira', 'ES', 'M', 'Silver'),\n",
       " (172, 'Flor Vilanova', 'CE', 'M', 'Platinum'),\n",
       " (173, 'Florêncio Lameiras', 'PR', 'M', 'Silver'),\n",
       " (174, 'Florêncio Vieira', 'PA', 'M', 'Silver'),\n",
       " (175, 'Floriano Orriça', 'AP', 'M', 'Silver'),\n",
       " (176, 'Floriano Siebra', 'MS', 'M', 'Silver'),\n",
       " (177, 'Florinda Assunção', 'PI', 'F', 'Silver'),\n",
       " (178, 'Francisca Ramallo', 'RJ', 'F', 'Silver'),\n",
       " (179, 'Francisca Teodoro', 'SE', 'F', 'Silver'),\n",
       " (180, 'Francisco Medina', 'PA', 'M', 'Silver'),\n",
       " (181, 'Galindo Bettencourt', 'RN', 'M', 'Silver'),\n",
       " (182, 'Garibaldo Oleiro', 'RO', 'M', 'Silver'),\n",
       " (183, 'Gaudêncio Ipiranga', 'RR', 'M', 'Silver'),\n",
       " (184, 'Germana Conde', 'AM', 'F', 'Silver'),\n",
       " (185, 'Gertrudes Hidalgo', 'PA', 'F', 'Silver'),\n",
       " (186, 'Gertrudes Infante', 'RS', 'F', 'Silver'),\n",
       " (187, 'Gertrudes Rabello', 'SC', 'F', 'Silver'),\n",
       " (188, 'Gilberto Moutinho', 'PB', 'M', 'Silver'),\n",
       " (189, 'Gilda Parente', 'RR', 'F', 'Silver'),\n",
       " (190, 'Ginéculo Luz', 'RJ', 'M', 'Silver'),\n",
       " (191, 'Gisela Bahia', 'SP', 'F', 'Silver'),\n",
       " (192, 'Gisela Candeias', 'SC', 'F', 'Silver'),\n",
       " (193, 'Gláuber Guedella', 'RS', 'M', 'Silver'),\n",
       " (194, 'Gláucia Canela', 'RO', 'F', 'Silver'),\n",
       " (195, 'Godinho ou Godim Fogaça', 'RN', 'M', 'Silver'),\n",
       " (196, 'Godinho ou Godim Jácome', 'RN', 'M', 'Silver'),\n",
       " (197, 'Godofredo Mascareñas', 'SP', 'M', 'Silver'),\n",
       " (198, 'Godofredo Quiroga', 'BA', 'M', 'Silver'),\n",
       " (199, 'Gomes Hurtado', 'AC', 'M', 'Silver'),\n",
       " (200, 'Gonçalo Figueiró', 'PI', 'M', 'Silver'),\n",
       " (201, 'Graça Tabosa', 'RN', 'F', 'Silver'),\n",
       " (202, 'Greice Lameirinhas', 'PI', 'F', 'Silver'),\n",
       " (203, 'Guadalupe Rodrigues', 'SC', 'F', 'Silver'),\n",
       " (204, 'Guadalupe Telinhos', 'AL', 'F', 'Silver'),\n",
       " (205, 'Guaraci Imbassaí', 'PB', 'F', 'Silver'),\n",
       " (206, 'Gueda Cartaxo', 'MS', 'F', 'Silver'),\n",
       " (207, 'Gueda Laureano', 'BA', 'F', 'Silver'),\n",
       " (208, 'Guida Beiriz', 'AP', 'F', 'Silver'),\n",
       " (209, 'Guilhermina Hurtado', 'PA', 'F', 'Silver'),\n",
       " (210, 'Guilhermina Vilaça', 'BA', 'F', 'Silver'),\n",
       " (211, 'Hedviges Lessa', 'MG', 'F', 'Silver'),\n",
       " (212, 'Hélder Brión', 'PB', 'M', 'Silver'),\n",
       " (213, 'Hélder Valentín', 'AL', 'M', 'Silver'),\n",
       " (214, 'Heloísa Cayubi', 'MS', 'F', 'Silver'),\n",
       " (215, 'Herberto Castro', 'MA', 'M', 'Silver'),\n",
       " (216, 'Herberto Pari', 'BA', 'M', 'Silver'),\n",
       " (217, 'Herculano Viveiros', 'RN', 'M', 'Silver'),\n",
       " (218, 'Hermano Diegues', 'ES', 'M', 'Silver'),\n",
       " (219, 'Hermígio Cezar', 'SP', 'M', 'Silver'),\n",
       " (220, 'Hermígio Villaverde', 'MA', 'M', 'Silver'),\n",
       " (221, 'Honorina Camarinho', 'PR', 'F', 'Silver'),\n",
       " (222, 'Honorina Villaverde', 'PE', 'F', 'Gold'),\n",
       " (223, 'Honório Mafra', 'RR', 'M', 'Silver'),\n",
       " (224, 'Horácio Pires', 'MG', 'M', 'Silver'),\n",
       " (225, 'Hugo Covilhã', 'CE', 'M', 'Silver'),\n",
       " (226, 'Humberto Almeida', 'AC', 'M', 'Silver'),\n",
       " (227, 'Humberto Lemes', 'BA', 'M', 'Silver'),\n",
       " (228, 'Humberto Morgado', 'SP', 'M', 'Silver'),\n",
       " (229, 'Humberto Vergueiro', 'MG', 'M', 'Silver'),\n",
       " (230, 'Ibijara Botelho', 'RR', 'F', 'Platinum'),\n",
       " (231, 'Ifigénia Lustosa', 'PE', 'F', 'Silver'),\n",
       " (232, 'Ifigénia Pires', 'PA', 'F', 'Silver'),\n",
       " (233, 'Ilduara Chávez', 'MT', 'F', 'Silver'),\n",
       " (234, 'Inês Neres', 'CE', 'F', 'Silver'),\n",
       " (235, 'Ingrit Mayor', 'SC', 'M', 'Silver'),\n",
       " (236, 'Iolanda Rabello', 'PB', 'F', 'Silver'),\n",
       " (237, 'Iracema Rodríguez', 'BA', 'F', 'Gold'),\n",
       " (238, 'Iraci Alcoforado', 'MS', 'F', 'Silver'),\n",
       " (239, 'Irani Jaguariúna', 'AM', 'F', 'Silver'),\n",
       " (240, 'Irene Meireles', 'MS', 'F', 'Silver'),\n",
       " (241, 'Irene Villanueva', 'AC', 'F', 'Silver'),\n",
       " (242, 'Isabel Meirelles', 'RO', 'F', 'Silver'),\n",
       " (243, 'Israel Canela', 'RN', 'M', 'Silver'),\n",
       " (244, 'Iuri Guterres', 'GO', 'M', 'Silver'),\n",
       " (245, 'Jacinto Dorneles', 'MG', 'M', 'Silver'),\n",
       " (246, 'Jandaíra Albuquerque', 'SP', 'F', 'Silver'),\n",
       " (247, 'Joana Ataí', 'GO', 'F', 'Platinum'),\n",
       " (248, 'Joaquim Hurtado', 'AP', 'M', 'Silver'),\n",
       " (249, 'Joaquim Mieiro', 'TO', 'M', 'Silver'),\n",
       " (250, 'Joaquina Vasconcelos', 'SC', 'F', 'Silver')]"
      ]
     },
     "execution_count": 7,
     "metadata": {},
     "output_type": "execute_result"
    }
   ],
   "source": [
    "registros = cursor.fetchall() \n",
    "registros"
   ]
  },
  {
   "cell_type": "code",
   "execution_count": 8,
   "metadata": {
    "hidden": true,
    "scrolled": true
   },
   "outputs": [
    {
     "name": "stdout",
     "output_type": "stream",
     "text": [
      "Nome =  Adelina Buenaventura\n",
      "Estado =  RJ\n",
      "Status  =  Silver \n",
      "\n",
      "Nome =  Adelino Gago\n",
      "Estado =  RJ\n",
      "Status  =  Silver \n",
      "\n",
      "Nome =  Adélio Lisboa\n",
      "Estado =  SE\n",
      "Status  =  Silver \n",
      "\n",
      "Nome =  Adérito Bahía\n",
      "Estado =  MA\n",
      "Status  =  Silver \n",
      "\n",
      "Nome =  Adolfo Patrício\n",
      "Estado =  PE\n",
      "Status  =  Silver \n",
      "\n",
      "Nome =  Adriana Guedelha\n",
      "Estado =  RO\n",
      "Status  =  Platinum \n",
      "\n",
      "Nome =  Aida Dorneles\n",
      "Estado =  RN\n",
      "Status  =  Silver \n",
      "\n",
      "Nome =  Alarico Quinterno\n",
      "Estado =  AC\n",
      "Status  =  Silver \n",
      "\n",
      "Nome =  Alberto Cezimbra\n",
      "Estado =  AM\n",
      "Status  =  Silver \n",
      "\n",
      "Nome =  Alberto Monsanto\n",
      "Estado =  RN\n",
      "Status  =  Gold \n",
      "\n",
      "Nome =  Albino Canela\n",
      "Estado =  AC\n",
      "Status  =  Silver \n",
      "\n",
      "Nome =  Alceste Varanda\n",
      "Estado =  RR\n",
      "Status  =  Silver \n",
      "\n",
      "Nome =  Alcides Carvalhais\n",
      "Estado =  RO\n",
      "Status  =  Silver \n",
      "\n",
      "Nome =  Aldo Martins\n",
      "Estado =  GO\n",
      "Status  =  Silver \n",
      "\n",
      "Nome =  Alexandra Tabares\n",
      "Estado =  MG\n",
      "Status  =  Silver \n",
      "\n",
      "Nome =  Alfredo Cotrim\n",
      "Estado =  SC\n",
      "Status  =  Silver \n",
      "\n",
      "Nome =  Almeno Figueira\n",
      "Estado =  SC\n",
      "Status  =  Silver \n",
      "\n",
      "Nome =  Alvito Peralta\n",
      "Estado =  AM\n",
      "Status  =  Silver \n",
      "\n",
      "Nome =  Amadeu Martinho\n",
      "Estado =  RN\n",
      "Status  =  Silver \n",
      "\n",
      "Nome =  Amélia Estévez\n",
      "Estado =  PE\n",
      "Status  =  Silver \n",
      "\n",
      "Nome =  Ana Homem\n",
      "Estado =  RN\n",
      "Status  =  Silver \n",
      "\n",
      "Nome =  Ana Peseiro\n",
      "Estado =  PA\n",
      "Status  =  Silver \n",
      "\n",
      "Nome =  Anacleto Garrau\n",
      "Estado =  TO\n",
      "Status  =  Silver \n",
      "\n",
      "Nome =  Anacleto Guterres\n",
      "Estado =  PI\n",
      "Status  =  Silver \n",
      "\n",
      "Nome =  Andreia Carvalhal\n",
      "Estado =  SP\n",
      "Status  =  Silver \n",
      "\n",
      "Nome =  Aníbal Bastos\n",
      "Estado =  CE\n",
      "Status  =  Silver \n",
      "\n",
      "Nome =  Anita Beserra\n",
      "Estado =  PE\n",
      "Status  =  Silver \n",
      "\n",
      "Nome =  Anna Beça\n",
      "Estado =  AP\n",
      "Status  =  Silver \n",
      "\n",
      "Nome =  Anna Carvajal\n",
      "Estado =  RS\n",
      "Status  =  Gold \n",
      "\n",
      "Nome =  Anselmo Dinis\n",
      "Estado =  PA\n",
      "Status  =  Silver \n",
      "\n",
      "Nome =  Antão Corte-Real\n",
      "Estado =  ES\n",
      "Status  =  Silver \n",
      "\n",
      "Nome =  Antero Milheiro\n",
      "Estado =  AP\n",
      "Status  =  Silver \n",
      "\n",
      "Nome =  Antónia Canhão\n",
      "Estado =  SC\n",
      "Status  =  Silver \n",
      "\n",
      "Nome =  Antônio Leiria\n",
      "Estado =  AL\n",
      "Status  =  Silver \n",
      "\n",
      "Nome =  António Lousado\n",
      "Estado =  RS\n",
      "Status  =  Silver \n",
      "\n",
      "Nome =  Antônio Sobral\n",
      "Estado =  AC\n",
      "Status  =  Silver \n",
      "\n",
      "Nome =  Apuã Ourique\n",
      "Estado =  AL\n",
      "Status  =  Silver \n",
      "\n",
      "Nome =  Arachane Matos\n",
      "Estado =  MA\n",
      "Status  =  Silver \n",
      "\n",
      "Nome =  Arcidres Murici\n",
      "Estado =  TO\n",
      "Status  =  Silver \n",
      "\n",
      "Nome =  Armindo Castilhos\n",
      "Estado =  RR\n",
      "Status  =  Silver \n",
      "\n",
      "Nome =  Armindo Moreira\n",
      "Estado =  ES\n",
      "Status  =  Silver \n",
      "\n",
      "Nome =  Artur Macedo\n",
      "Estado =  SE\n",
      "Status  =  Silver \n",
      "\n",
      "Nome =  Artur Peña\n",
      "Estado =  RJ\n",
      "Status  =  Silver \n",
      "\n",
      "Nome =  Aurélio Barrios\n",
      "Estado =  PI\n",
      "Status  =  Silver \n",
      "\n",
      "Nome =  Bárbara Magalhães\n",
      "Estado =  MG\n",
      "Status  =  Silver \n",
      "\n",
      "Nome =  Bartolomeu Vila-Chã\n",
      "Estado =  TO\n",
      "Status  =  Silver \n",
      "\n",
      "Nome =  Basilio Soares\n",
      "Estado =  AC\n",
      "Status  =  Silver \n",
      "\n",
      "Nome =  Belmira Colaço\n",
      "Estado =  RJ\n",
      "Status  =  Silver \n",
      "\n",
      "Nome =  Belmiro Marroquim\n",
      "Estado =  SC\n",
      "Status  =  Silver \n",
      "\n",
      "Nome =  Bento Quintão\n",
      "Estado =  SP\n",
      "Status  =  Gold \n",
      "\n",
      "Nome =  Berengária Iglesias\n",
      "Estado =  BA\n",
      "Status  =  Silver \n",
      "\n",
      "Nome =  Bernardete Águeda\n",
      "Estado =  TO\n",
      "Status  =  Silver \n",
      "\n",
      "Nome =  Bernardete Querino\n",
      "Estado =  PI\n",
      "Status  =  Silver \n",
      "\n",
      "Nome =  Bernardete Tavera\n",
      "Estado =  ES\n",
      "Status  =  Silver \n",
      "\n",
      "Nome =  Bráulio Junquera\n",
      "Estado =  PB\n",
      "Status  =  Silver \n",
      "\n",
      "Nome =  Brenda Serralheiro\n",
      "Estado =  PA\n",
      "Status  =  Silver \n",
      "\n",
      "Nome =  Brígida Gusmão\n",
      "Estado =  DF\n",
      "Status  =  Silver \n",
      "\n",
      "Nome =  Brites Morales\n",
      "Estado =  SC\n",
      "Status  =  Silver \n",
      "\n",
      "Nome =  Bruno Perdigão\n",
      "Estado =  MS\n",
      "Status  =  Silver \n",
      "\n",
      "Nome =  Bukake Núñez\n",
      "Estado =  SC\n",
      "Status  =  Silver \n",
      "\n",
      "Nome =  Caím Queiroga\n",
      "Estado =  PA\n",
      "Status  =  Silver \n",
      "\n",
      "Nome =  Calisto Britto\n",
      "Estado =  RN\n",
      "Status  =  Silver \n",
      "\n",
      "Nome =  Cândida Silvestre\n",
      "Estado =  MG\n",
      "Status  =  Silver \n",
      "\n",
      "Nome =  Cândido Sousa do Prado\n",
      "Estado =  PR\n",
      "Status  =  Silver \n",
      "\n",
      "Nome =  Capitolina Ruela\n",
      "Estado =  PI\n",
      "Status  =  Silver \n",
      "\n",
      "Nome =  Capitolina Valadares\n",
      "Estado =  GO\n",
      "Status  =  Silver \n",
      "\n",
      "Nome =  Carla Briones\n",
      "Estado =  AC\n",
      "Status  =  Silver \n",
      "\n",
      "Nome =  Carlos Murici\n",
      "Estado =  MG\n",
      "Status  =  Silver \n",
      "\n",
      "Nome =  Carmem Reino\n",
      "Estado =  CE\n",
      "Status  =  Silver \n",
      "\n",
      "Nome =  Carminda Alcaide\n",
      "Estado =  RO\n",
      "Status  =  Silver \n",
      "\n",
      "Nome =  Carminda Dias\n",
      "Estado =  AM\n",
      "Status  =  Gold \n",
      "\n",
      "Nome =  Cássia Guerra\n",
      "Estado =  MG\n",
      "Status  =  Silver \n",
      "\n",
      "Nome =  Cássia Queiroz\n",
      "Estado =  AM\n",
      "Status  =  Silver \n",
      "\n",
      "Nome =  Cássio Bettencourt\n",
      "Estado =  BA\n",
      "Status  =  Silver \n",
      "\n",
      "Nome =  Catarina Bairros\n",
      "Estado =  PA\n",
      "Status  =  Silver \n",
      "\n",
      "Nome =  Catarina Montero\n",
      "Estado =  PI\n",
      "Status  =  Silver \n",
      "\n",
      "Nome =  Cauê Cotrim\n",
      "Estado =  PE\n",
      "Status  =  Silver \n",
      "\n",
      "Nome =  Cauê Parahyba\n",
      "Estado =  PA\n",
      "Status  =  Silver \n",
      "\n",
      "Nome =  Cecília Carlos\n",
      "Estado =  AP\n",
      "Status  =  Silver \n",
      "\n",
      "Nome =  Celestino Pereira\n",
      "Estado =  RS\n",
      "Status  =  Silver \n",
      "\n",
      "Nome =  Célia Meireles\n",
      "Estado =  CE\n",
      "Status  =  Silver \n",
      "\n",
      "Nome =  Celina Vale\n",
      "Estado =  AL\n",
      "Status  =  Silver \n",
      "\n",
      "Nome =  Cesário Raminhos\n",
      "Estado =  RR\n",
      "Status  =  Silver \n",
      "\n",
      "Nome =  Cid Pardo\n",
      "Estado =  AL\n",
      "Status  =  Silver \n",
      "\n",
      "Nome =  Cidália Miera\n",
      "Estado =  SE\n",
      "Status  =  Silver \n",
      "\n",
      "Nome =  Cidália Ornelas\n",
      "Estado =  RS\n",
      "Status  =  Silver \n",
      "\n",
      "Nome =  Cláudio Cotegipe\n",
      "Estado =  MT\n",
      "Status  =  Silver \n",
      "\n",
      "Nome =  Cláudio Jorge\n",
      "Estado =  TO\n",
      "Status  =  Gold \n",
      "\n",
      "Nome =  Cláudio Lopes\n",
      "Estado =  BA\n",
      "Status  =  Silver \n",
      "\n",
      "Nome =  Clotilde Carvalhoso\n",
      "Estado =  BA\n",
      "Status  =  Silver \n",
      "\n",
      "Nome =  Clóvis Pamplona\n",
      "Estado =  PB\n",
      "Status  =  Silver \n",
      "\n",
      "Nome =  Constança Alcaide\n",
      "Estado =  GO\n",
      "Status  =  Silver \n",
      "\n",
      "Nome =  Constantino Pedroso\n",
      "Estado =  AC\n",
      "Status  =  Silver \n",
      "\n",
      "Nome =  Corina Dâmaso\n",
      "Estado =  CE\n",
      "Status  =  Silver \n",
      "\n",
      "Nome =  Cosme Ipanema\n",
      "Estado =  PI\n",
      "Status  =  Silver \n",
      "\n",
      "Nome =  Cosme Lira\n",
      "Estado =  PR\n",
      "Status  =  Silver \n",
      "\n",
      "Nome =  Cosme Zambujal\n",
      "Estado =  BA\n",
      "Status  =  Silver \n",
      "\n",
      "Nome =  Crispim Cordero\n",
      "Estado =  SC\n",
      "Status  =  Silver \n",
      "\n",
      "Nome =  Crispim Macena\n",
      "Estado =  AP\n",
      "Status  =  Silver \n",
      "\n",
      "Nome =  Cristiana Campello\n",
      "Estado =  RN\n",
      "Status  =  Silver \n",
      "\n",
      "Nome =  Custódio Gonçalves\n",
      "Estado =  DF\n",
      "Status  =  Silver \n",
      "\n",
      "Nome =  Custódio Rolim\n",
      "Estado =  ES\n",
      "Status  =  Silver \n",
      "\n",
      "Nome =  David Brás\n",
      "Estado =  RJ\n",
      "Status  =  Silver \n",
      "\n",
      "Nome =  David Carvalhais\n",
      "Estado =  RJ\n",
      "Status  =  Silver \n",
      "\n",
      "Nome =  Davide Alcántara\n",
      "Estado =  MA\n",
      "Status  =  Silver \n",
      "\n",
      "Nome =  Davide Fraga\n",
      "Estado =  SC\n",
      "Status  =  Silver \n",
      "\n",
      "Nome =  Deise Farias\n",
      "Estado =  AM\n",
      "Status  =  Silver \n",
      "\n",
      "Nome =  Deise Laureano\n",
      "Estado =  PI\n",
      "Status  =  Silver \n",
      "\n",
      "Nome =  Deise Meneses\n",
      "Estado =  DF\n",
      "Status  =  Silver \n",
      "\n",
      "Nome =  Délia Chousa\n",
      "Estado =  PB\n",
      "Status  =  Silver \n",
      "\n",
      "Nome =  Délio Paranhos\n",
      "Estado =  BA\n",
      "Status  =  Silver \n",
      "\n",
      "Nome =  Deolinda Castelbranco\n",
      "Estado =  RO\n",
      "Status  =  Silver \n",
      "\n",
      "Nome =  Deolinda Castella\n",
      "Estado =  RJ\n",
      "Status  =  Silver \n",
      "\n",
      "Nome =  Derli Lozada\n",
      "Estado =  RJ\n",
      "Status  =  Silver \n",
      "\n",
      "Nome =  Diana Baptista\n",
      "Estado =  AM\n",
      "Status  =  Silver \n",
      "\n",
      "Nome =  Dinarte Mangueira\n",
      "Estado =  DF\n",
      "Status  =  Silver \n",
      "\n",
      "Nome =  Dinarte Marino\n",
      "Estado =  MS\n",
      "Status  =  Silver \n",
      "\n",
      "Nome =  Dinarte Tabalipa\n",
      "Estado =  RS\n",
      "Status  =  Silver \n",
      "\n",
      "Nome =  Dinarte Tabares\n",
      "Estado =  RR\n",
      "Status  =  Silver \n",
      "\n",
      "Nome =  Diodete Carijó\n",
      "Estado =  PB\n",
      "Status  =  Silver \n",
      "\n",
      "Nome =  Diodete Queiroga\n",
      "Estado =  GO\n",
      "Status  =  Silver \n",
      "\n",
      "Nome =  Diogo Simón\n",
      "Estado =  BA\n",
      "Status  =  Silver \n",
      "\n",
      "Nome =  Dionísio Saltão\n",
      "Estado =  PR\n",
      "Status  =  Gold \n",
      "\n",
      "Nome =  Dora Galvão\n",
      "Estado =  MT\n",
      "Status  =  Silver \n",
      "\n",
      "Nome =  Dora Rocha\n",
      "Estado =  DF\n",
      "Status  =  Silver \n",
      "\n",
      "Nome =  Doroteia Quintanilla\n",
      "Estado =  RR\n",
      "Status  =  Silver \n",
      "\n",
      "Nome =  Duarte Sampaio\n",
      "Estado =  RJ\n",
      "Status  =  Silver \n",
      "\n",
      "Nome =  Dulce Prado\n",
      "Estado =  AC\n",
      "Status  =  Silver \n",
      "\n",
      "Nome =  Dulce Tomé\n",
      "Estado =  CE\n",
      "Status  =  Silver \n",
      "\n",
      "Nome =  Eduarda Borba\n",
      "Estado =  MA\n",
      "Status  =  Silver \n",
      "\n",
      "Nome =  Eduarda Madureira\n",
      "Estado =  DF\n",
      "Status  =  Silver \n",
      "\n",
      "Nome =  Eládio Froes\n",
      "Estado =  AM\n",
      "Status  =  Silver \n",
      "\n",
      "Nome =  Eloi Meneses\n",
      "Estado =  CE\n",
      "Status  =  Silver \n",
      "\n",
      "Nome =  Eloi Pereira\n",
      "Estado =  PA\n",
      "Status  =  Silver \n",
      "\n",
      "Nome =  Eloi Vasques\n",
      "Estado =  RN\n",
      "Status  =  Silver \n",
      "\n",
      "Nome =  Elsa Alencar\n",
      "Estado =  RJ\n",
      "Status  =  Silver \n",
      "\n",
      "Nome =  Elsa Barreto\n",
      "Estado =  MA\n",
      "Status  =  Silver \n",
      "\n",
      "Nome =  Elvira Açores\n",
      "Estado =  SC\n",
      "Status  =  Silver \n",
      "\n",
      "Nome =  Ema Nieves\n",
      "Estado =  GO\n",
      "Status  =  Silver \n",
      "\n",
      "Nome =  Emiliana Villalobos\n",
      "Estado =  RO\n",
      "Status  =  Silver \n",
      "\n",
      "Nome =  Epaminondas Sousa de Arronches\n",
      "Estado =  MS\n",
      "Status  =  Silver \n",
      "\n",
      "Nome =  Ermelinda Casquero\n",
      "Estado =  AM\n",
      "Status  =  Silver \n",
      "\n",
      "Nome =  Estefânia Cyrne\n",
      "Estado =  RO\n",
      "Status  =  Silver \n",
      "\n",
      "Nome =  Estela Mattos\n",
      "Estado =  PI\n",
      "Status  =  Silver \n",
      "\n",
      "Nome =  Ester Castanho\n",
      "Estado =  AC\n",
      "Status  =  Silver \n",
      "\n",
      "Nome =  Ester Dantas\n",
      "Estado =  SP\n",
      "Status  =  Silver \n",
      "\n",
      "Nome =  Estêvão Simão\n",
      "Estado =  DF\n",
      "Status  =  Silver \n",
      "\n",
      "Nome =  Eusébio Bairros\n",
      "Estado =  SP\n",
      "Status  =  Silver \n",
      "\n",
      "Nome =  Eusébio Mata\n",
      "Estado =  PI\n",
      "Status  =  Silver \n",
      "\n",
      "Nome =  Eusébio Pacheco\n",
      "Estado =  TO\n",
      "Status  =  Silver \n",
      "\n",
      "Nome =  Eusébio Salomão\n",
      "Estado =  AC\n",
      "Status  =  Silver \n",
      "\n",
      "Nome =  Evaristo Bahía\n",
      "Estado =  AC\n",
      "Status  =  Silver \n",
      "\n",
      "Nome =  Fabiano Bethancout\n",
      "Estado =  PB\n",
      "Status  =  Silver \n",
      "\n",
      "Nome =  Fabrício Varella\n",
      "Estado =  AM\n",
      "Status  =  Silver \n",
      "\n",
      "Nome =  Fabrício Vidal\n",
      "Estado =  AL\n",
      "Status  =  Silver \n",
      "\n",
      "Nome =  Faustino Maranhão\n",
      "Estado =  PI\n",
      "Status  =  Silver \n",
      "\n",
      "Nome =  Fausto Miranda\n",
      "Estado =  AP\n",
      "Status  =  Silver \n",
      "\n",
      "Nome =  Fausto Montenegro\n",
      "Estado =  SE\n",
      "Status  =  Silver \n",
      "\n",
      "Nome =  Feliciana Silvera\n",
      "Estado =  AC\n",
      "Status  =  Silver \n",
      "\n",
      "Nome =  Feliciano Franca\n",
      "Estado =  PA\n",
      "Status  =  Silver \n",
      "\n",
      "Nome =  Felicidade Aldea\n",
      "Estado =  SE\n",
      "Status  =  Silver \n",
      "\n",
      "Nome =  Filipa Mattozo\n",
      "Estado =  MA\n",
      "Status  =  Silver \n",
      "\n",
      "Nome =  Filipe Lamego\n",
      "Estado =  AL\n",
      "Status  =  Silver \n",
      "\n",
      "Nome =  Firmina Carrasco\n",
      "Estado =  TO\n",
      "Status  =  Silver \n",
      "\n",
      "Nome =  Firmino Galván\n",
      "Estado =  MA\n",
      "Status  =  Silver \n",
      "\n",
      "Nome =  Firmino Meireles\n",
      "Estado =  AM\n",
      "Status  =  Gold \n",
      "\n",
      "Nome =  Firmino Puentes\n",
      "Estado =  PB\n",
      "Status  =  Silver \n",
      "\n",
      "Nome =  Flamínia Miera\n",
      "Estado =  MT\n",
      "Status  =  Silver \n",
      "\n",
      "Nome =  Flávia Camacho\n",
      "Estado =  BA\n",
      "Status  =  Silver \n",
      "\n",
      "Nome =  Flávia Campos\n",
      "Estado =  RR\n",
      "Status  =  Silver \n",
      "\n",
      "Nome =  Flor Ginjeira\n",
      "Estado =  ES\n",
      "Status  =  Silver \n",
      "\n",
      "Nome =  Flor Vilanova\n",
      "Estado =  CE\n",
      "Status  =  Platinum \n",
      "\n",
      "Nome =  Florêncio Lameiras\n",
      "Estado =  PR\n",
      "Status  =  Silver \n",
      "\n",
      "Nome =  Florêncio Vieira\n",
      "Estado =  PA\n",
      "Status  =  Silver \n",
      "\n",
      "Nome =  Floriano Orriça\n",
      "Estado =  AP\n",
      "Status  =  Silver \n",
      "\n",
      "Nome =  Floriano Siebra\n",
      "Estado =  MS\n",
      "Status  =  Silver \n",
      "\n",
      "Nome =  Florinda Assunção\n",
      "Estado =  PI\n",
      "Status  =  Silver \n",
      "\n",
      "Nome =  Francisca Ramallo\n",
      "Estado =  RJ\n",
      "Status  =  Silver \n",
      "\n",
      "Nome =  Francisca Teodoro\n",
      "Estado =  SE\n",
      "Status  =  Silver \n",
      "\n",
      "Nome =  Francisco Medina\n",
      "Estado =  PA\n",
      "Status  =  Silver \n",
      "\n",
      "Nome =  Galindo Bettencourt\n",
      "Estado =  RN\n",
      "Status  =  Silver \n",
      "\n",
      "Nome =  Garibaldo Oleiro\n",
      "Estado =  RO\n",
      "Status  =  Silver \n",
      "\n",
      "Nome =  Gaudêncio Ipiranga\n",
      "Estado =  RR\n",
      "Status  =  Silver \n",
      "\n",
      "Nome =  Germana Conde\n",
      "Estado =  AM\n",
      "Status  =  Silver \n",
      "\n",
      "Nome =  Gertrudes Hidalgo\n",
      "Estado =  PA\n",
      "Status  =  Silver \n",
      "\n",
      "Nome =  Gertrudes Infante\n",
      "Estado =  RS\n",
      "Status  =  Silver \n",
      "\n",
      "Nome =  Gertrudes Rabello\n",
      "Estado =  SC\n",
      "Status  =  Silver \n",
      "\n",
      "Nome =  Gilberto Moutinho\n",
      "Estado =  PB\n",
      "Status  =  Silver \n",
      "\n",
      "Nome =  Gilda Parente\n",
      "Estado =  RR\n",
      "Status  =  Silver \n",
      "\n",
      "Nome =  Ginéculo Luz\n",
      "Estado =  RJ\n",
      "Status  =  Silver \n",
      "\n",
      "Nome =  Gisela Bahia\n",
      "Estado =  SP\n",
      "Status  =  Silver \n",
      "\n",
      "Nome =  Gisela Candeias\n",
      "Estado =  SC\n",
      "Status  =  Silver \n",
      "\n",
      "Nome =  Gláuber Guedella\n",
      "Estado =  RS\n",
      "Status  =  Silver \n",
      "\n",
      "Nome =  Gláucia Canela\n",
      "Estado =  RO\n",
      "Status  =  Silver \n",
      "\n",
      "Nome =  Godinho ou Godim Fogaça\n",
      "Estado =  RN\n",
      "Status  =  Silver \n",
      "\n",
      "Nome =  Godinho ou Godim Jácome\n",
      "Estado =  RN\n",
      "Status  =  Silver \n",
      "\n",
      "Nome =  Godofredo Mascareñas\n",
      "Estado =  SP\n",
      "Status  =  Silver \n",
      "\n",
      "Nome =  Godofredo Quiroga\n",
      "Estado =  BA\n",
      "Status  =  Silver \n",
      "\n",
      "Nome =  Gomes Hurtado\n",
      "Estado =  AC\n",
      "Status  =  Silver \n",
      "\n",
      "Nome =  Gonçalo Figueiró\n",
      "Estado =  PI\n",
      "Status  =  Silver \n",
      "\n",
      "Nome =  Graça Tabosa\n",
      "Estado =  RN\n",
      "Status  =  Silver \n",
      "\n",
      "Nome =  Greice Lameirinhas\n",
      "Estado =  PI\n",
      "Status  =  Silver \n",
      "\n",
      "Nome =  Guadalupe Rodrigues\n",
      "Estado =  SC\n",
      "Status  =  Silver \n",
      "\n",
      "Nome =  Guadalupe Telinhos\n",
      "Estado =  AL\n",
      "Status  =  Silver \n",
      "\n",
      "Nome =  Guaraci Imbassaí\n",
      "Estado =  PB\n",
      "Status  =  Silver \n",
      "\n",
      "Nome =  Gueda Cartaxo\n",
      "Estado =  MS\n",
      "Status  =  Silver \n",
      "\n",
      "Nome =  Gueda Laureano\n",
      "Estado =  BA\n",
      "Status  =  Silver \n",
      "\n",
      "Nome =  Guida Beiriz\n",
      "Estado =  AP\n",
      "Status  =  Silver \n",
      "\n",
      "Nome =  Guilhermina Hurtado\n",
      "Estado =  PA\n",
      "Status  =  Silver \n",
      "\n",
      "Nome =  Guilhermina Vilaça\n",
      "Estado =  BA\n",
      "Status  =  Silver \n",
      "\n",
      "Nome =  Hedviges Lessa\n",
      "Estado =  MG\n",
      "Status  =  Silver \n",
      "\n",
      "Nome =  Hélder Brión\n",
      "Estado =  PB\n",
      "Status  =  Silver \n",
      "\n",
      "Nome =  Hélder Valentín\n",
      "Estado =  AL\n",
      "Status  =  Silver \n",
      "\n",
      "Nome =  Heloísa Cayubi\n",
      "Estado =  MS\n",
      "Status  =  Silver \n",
      "\n",
      "Nome =  Herberto Castro\n",
      "Estado =  MA\n",
      "Status  =  Silver \n",
      "\n",
      "Nome =  Herberto Pari\n",
      "Estado =  BA\n",
      "Status  =  Silver \n",
      "\n",
      "Nome =  Herculano Viveiros\n",
      "Estado =  RN\n",
      "Status  =  Silver \n",
      "\n",
      "Nome =  Hermano Diegues\n",
      "Estado =  ES\n",
      "Status  =  Silver \n",
      "\n",
      "Nome =  Hermígio Cezar\n",
      "Estado =  SP\n",
      "Status  =  Silver \n",
      "\n",
      "Nome =  Hermígio Villaverde\n",
      "Estado =  MA\n",
      "Status  =  Silver \n",
      "\n",
      "Nome =  Honorina Camarinho\n",
      "Estado =  PR\n",
      "Status  =  Silver \n",
      "\n",
      "Nome =  Honorina Villaverde\n",
      "Estado =  PE\n",
      "Status  =  Gold \n",
      "\n",
      "Nome =  Honório Mafra\n",
      "Estado =  RR\n",
      "Status  =  Silver \n",
      "\n",
      "Nome =  Horácio Pires\n",
      "Estado =  MG\n",
      "Status  =  Silver \n",
      "\n",
      "Nome =  Hugo Covilhã\n",
      "Estado =  CE\n",
      "Status  =  Silver \n",
      "\n",
      "Nome =  Humberto Almeida\n",
      "Estado =  AC\n",
      "Status  =  Silver \n",
      "\n",
      "Nome =  Humberto Lemes\n",
      "Estado =  BA\n",
      "Status  =  Silver \n",
      "\n",
      "Nome =  Humberto Morgado\n",
      "Estado =  SP\n",
      "Status  =  Silver \n",
      "\n",
      "Nome =  Humberto Vergueiro\n",
      "Estado =  MG\n",
      "Status  =  Silver \n",
      "\n",
      "Nome =  Ibijara Botelho\n",
      "Estado =  RR\n",
      "Status  =  Platinum \n",
      "\n",
      "Nome =  Ifigénia Lustosa\n",
      "Estado =  PE\n",
      "Status  =  Silver \n",
      "\n",
      "Nome =  Ifigénia Pires\n",
      "Estado =  PA\n",
      "Status  =  Silver \n",
      "\n",
      "Nome =  Ilduara Chávez\n",
      "Estado =  MT\n",
      "Status  =  Silver \n",
      "\n",
      "Nome =  Inês Neres\n",
      "Estado =  CE\n",
      "Status  =  Silver \n",
      "\n",
      "Nome =  Ingrit Mayor\n",
      "Estado =  SC\n",
      "Status  =  Silver \n",
      "\n",
      "Nome =  Iolanda Rabello\n",
      "Estado =  PB\n",
      "Status  =  Silver \n",
      "\n",
      "Nome =  Iracema Rodríguez\n",
      "Estado =  BA\n",
      "Status  =  Gold \n",
      "\n",
      "Nome =  Iraci Alcoforado\n",
      "Estado =  MS\n",
      "Status  =  Silver \n",
      "\n",
      "Nome =  Irani Jaguariúna\n",
      "Estado =  AM\n",
      "Status  =  Silver \n",
      "\n",
      "Nome =  Irene Meireles\n",
      "Estado =  MS\n",
      "Status  =  Silver \n",
      "\n",
      "Nome =  Irene Villanueva\n",
      "Estado =  AC\n",
      "Status  =  Silver \n",
      "\n",
      "Nome =  Isabel Meirelles\n",
      "Estado =  RO\n",
      "Status  =  Silver \n",
      "\n",
      "Nome =  Israel Canela\n",
      "Estado =  RN\n",
      "Status  =  Silver \n",
      "\n",
      "Nome =  Iuri Guterres\n",
      "Estado =  GO\n",
      "Status  =  Silver \n",
      "\n",
      "Nome =  Jacinto Dorneles\n",
      "Estado =  MG\n",
      "Status  =  Silver \n",
      "\n",
      "Nome =  Jandaíra Albuquerque\n",
      "Estado =  SP\n",
      "Status  =  Silver \n",
      "\n",
      "Nome =  Joana Ataí\n",
      "Estado =  GO\n",
      "Status  =  Platinum \n",
      "\n",
      "Nome =  Joaquim Hurtado\n",
      "Estado =  AP\n",
      "Status  =  Silver \n",
      "\n",
      "Nome =  Joaquim Mieiro\n",
      "Estado =  TO\n",
      "Status  =  Silver \n",
      "\n",
      "Nome =  Joaquina Vasconcelos\n",
      "Estado =  SC\n",
      "Status  =  Silver \n",
      "\n"
     ]
    }
   ],
   "source": [
    "for row in registros:\n",
    "    print(\"Nome = \", row[1], )\n",
    "    print(\"Estado = \", row[2])\n",
    "    print(\"Status  = \", row[4], \"\\n\")\n",
    "        #linha zero é o indificador, a 3ª coluna é o sexo"
   ]
  },
  {
   "cell_type": "code",
   "execution_count": 9,
   "metadata": {
    "hidden": true
   },
   "outputs": [],
   "source": [
    "cursor.close()\n",
    "conexao.close()"
   ]
  },
  {
   "cell_type": "markdown",
   "metadata": {
    "hidden": true
   },
   "source": [
    " "
   ]
  },
  {
   "cell_type": "markdown",
   "metadata": {
    "hidden": true
   },
   "source": [
    "### MONGO DB"
   ]
  },
  {
   "cell_type": "markdown",
   "metadata": {
    "hidden": true
   },
   "source": [
    " "
   ]
  },
  {
   "cell_type": "code",
   "execution_count": 19,
   "metadata": {
    "hidden": true
   },
   "outputs": [],
   "source": [
    "cliente = MongoClient('mongodb://localhost:27017/')"
   ]
  },
  {
   "cell_type": "code",
   "execution_count": 20,
   "metadata": {
    "hidden": true
   },
   "outputs": [],
   "source": [
    "db = cliente.dbmidias\n",
    "conexao = db.posts"
   ]
  },
  {
   "cell_type": "code",
   "execution_count": 15,
   "metadata": {
    "hidden": true
   },
   "outputs": [
    {
     "name": "stdout",
     "output_type": "stream",
     "text": [
      "{'_id': ObjectId('5e325d0c7b7461801bc7be73'), 'nome': 'José', 'postagem': 'Bons Produtos!', 'data': '31-06-2019'}\n"
     ]
    }
   ],
   "source": [
    "print(conexao.find_one())"
   ]
  },
  {
   "cell_type": "code",
   "execution_count": 16,
   "metadata": {
    "hidden": true
   },
   "outputs": [
    {
     "name": "stdout",
     "output_type": "stream",
     "text": [
      "{'_id': ObjectId('5e325d0c7b7461801bc7be73'), 'nome': 'José', 'postagem': 'Bons Produtos!', 'data': '31-06-2019'}\n"
     ]
    }
   ],
   "source": [
    "print(conexao.find_one({\"nome\":\"José\"}))"
   ]
  },
  {
   "cell_type": "code",
   "execution_count": 22,
   "metadata": {
    "hidden": true
   },
   "outputs": [
    {
     "name": "stdout",
     "output_type": "stream",
     "text": [
      "{'_id': ObjectId('5e325d0c7b7461801bc7be73'), 'nome': 'José', 'postagem': 'Bons Produtos!', 'data': '31-06-2019'}\n",
      "{'_id': ObjectId('5e325f237b7461801bc7be74'), 'nome': 'Antonio', 'postagem': 'Minha bike quebrou', 'data': '26-05-2019'}\n",
      "{'_id': ObjectId('5e325f237b7461801bc7be75'), 'nome': 'Maria Silva', 'postagem': 'Encontrei tudo que procurava', 'data': '14-06-2019'}\n",
      "{'_id': ObjectId('5e325f237b7461801bc7be76'), 'nome': 'Lucas Andrade', 'postagem': 'Otimo atendimento', 'data': '12-04-2019'}\n"
     ]
    }
   ],
   "source": [
    "for conexao in conexao.find():\n",
    "    print(conexao)"
   ]
  },
  {
   "cell_type": "code",
   "execution_count": null,
   "metadata": {
    "hidden": true
   },
   "outputs": [],
   "source": []
  },
  {
   "cell_type": "code",
   "execution_count": null,
   "metadata": {
    "hidden": true
   },
   "outputs": [],
   "source": []
  },
  {
   "cell_type": "markdown",
   "metadata": {
    "hidden": true
   },
   "source": [
    " "
   ]
  },
  {
   "cell_type": "markdown",
   "metadata": {
    "heading_collapsed": true
   },
   "source": [
    "## 2.4 - Ler Datasets"
   ]
  },
  {
   "cell_type": "markdown",
   "metadata": {
    "hidden": true
   },
   "source": [
    " "
   ]
  },
  {
   "cell_type": "code",
   "execution_count": 13,
   "metadata": {
    "hidden": true
   },
   "outputs": [],
   "source": [
    "from sklearn import datasets\n",
    "from keras.datasets import mnist"
   ]
  },
  {
   "cell_type": "code",
   "execution_count": null,
   "metadata": {
    "hidden": true
   },
   "outputs": [],
   "source": [
    "iris = datasets.load_iris()\n",
    "iris\n",
    "previsores = iris.data\n",
    "classe = iris.target\n",
    "x_treinamento, x_teste, y_treinamento, y_teste = train_test_split(previsores,\n",
    "                                                                  classe,\n",
    "                                                                  test_size = 0.3,\n",
    "                                                                  random_state = 0) #MANIPULAÇÃO DE DADOS\n",
    "#y sao as saidas\n",
    "#x sao as entradas\n"
   ]
  },
  {
   "cell_type": "code",
   "execution_count": null,
   "metadata": {
    "hidden": true
   },
   "outputs": [],
   "source": [
    "(X_treinamento, y_treinamento), (X_teste, y_teste) = mnist.load_data()\n",
    "print('x_train shape:', X_treinamento.shape)"
   ]
  },
  {
   "cell_type": "markdown",
   "metadata": {
    "hidden": true
   },
   "source": [
    " "
   ]
  },
  {
   "cell_type": "markdown",
   "metadata": {
    "heading_collapsed": true
   },
   "source": [
    "## 2.5 - Verificação da Base de Dados"
   ]
  },
  {
   "cell_type": "markdown",
   "metadata": {
    "hidden": true
   },
   "source": [
    " "
   ]
  },
  {
   "cell_type": "code",
   "execution_count": 45,
   "metadata": {
    "hidden": true
   },
   "outputs": [
    {
     "data": {
      "text/plain": [
       "(150, 5)"
      ]
     },
     "execution_count": 45,
     "metadata": {},
     "output_type": "execute_result"
    }
   ],
   "source": [
    "# Verificando o formato dos dados\n",
    "base1.shape"
   ]
  },
  {
   "cell_type": "code",
   "execution_count": 46,
   "metadata": {
    "hidden": true
   },
   "outputs": [
    {
     "data": {
      "text/html": [
       "<div>\n",
       "<style scoped>\n",
       "    .dataframe tbody tr th:only-of-type {\n",
       "        vertical-align: middle;\n",
       "    }\n",
       "\n",
       "    .dataframe tbody tr th {\n",
       "        vertical-align: top;\n",
       "    }\n",
       "\n",
       "    .dataframe thead th {\n",
       "        text-align: right;\n",
       "    }\n",
       "</style>\n",
       "<table border=\"1\" class=\"dataframe\">\n",
       "  <thead>\n",
       "    <tr style=\"text-align: right;\">\n",
       "      <th></th>\n",
       "      <th>sepal length</th>\n",
       "      <th>sepal width</th>\n",
       "      <th>petal length</th>\n",
       "      <th>petal width</th>\n",
       "      <th>class</th>\n",
       "    </tr>\n",
       "  </thead>\n",
       "  <tbody>\n",
       "    <tr>\n",
       "      <td>0</td>\n",
       "      <td>5.1</td>\n",
       "      <td>3.5</td>\n",
       "      <td>1.4</td>\n",
       "      <td>0.2</td>\n",
       "      <td>Iris-setosa</td>\n",
       "    </tr>\n",
       "    <tr>\n",
       "      <td>1</td>\n",
       "      <td>4.9</td>\n",
       "      <td>3.0</td>\n",
       "      <td>1.4</td>\n",
       "      <td>0.2</td>\n",
       "      <td>Iris-setosa</td>\n",
       "    </tr>\n",
       "    <tr>\n",
       "      <td>2</td>\n",
       "      <td>4.7</td>\n",
       "      <td>3.2</td>\n",
       "      <td>1.3</td>\n",
       "      <td>0.2</td>\n",
       "      <td>Iris-setosa</td>\n",
       "    </tr>\n",
       "    <tr>\n",
       "      <td>3</td>\n",
       "      <td>4.6</td>\n",
       "      <td>3.1</td>\n",
       "      <td>1.5</td>\n",
       "      <td>0.2</td>\n",
       "      <td>Iris-setosa</td>\n",
       "    </tr>\n",
       "    <tr>\n",
       "      <td>4</td>\n",
       "      <td>5.0</td>\n",
       "      <td>3.6</td>\n",
       "      <td>1.4</td>\n",
       "      <td>0.2</td>\n",
       "      <td>Iris-setosa</td>\n",
       "    </tr>\n",
       "  </tbody>\n",
       "</table>\n",
       "</div>"
      ],
      "text/plain": [
       "   sepal length  sepal width  petal length  petal width        class\n",
       "0           5.1          3.5           1.4          0.2  Iris-setosa\n",
       "1           4.9          3.0           1.4          0.2  Iris-setosa\n",
       "2           4.7          3.2           1.3          0.2  Iris-setosa\n",
       "3           4.6          3.1           1.5          0.2  Iris-setosa\n",
       "4           5.0          3.6           1.4          0.2  Iris-setosa"
      ]
     },
     "execution_count": 46,
     "metadata": {},
     "output_type": "execute_result"
    }
   ],
   "source": [
    "# Verificando as primeiras linhas do dataset\n",
    "base1.head(5)"
   ]
  },
  {
   "cell_type": "code",
   "execution_count": 47,
   "metadata": {
    "hidden": true
   },
   "outputs": [
    {
     "data": {
      "text/html": [
       "<div>\n",
       "<style scoped>\n",
       "    .dataframe tbody tr th:only-of-type {\n",
       "        vertical-align: middle;\n",
       "    }\n",
       "\n",
       "    .dataframe tbody tr th {\n",
       "        vertical-align: top;\n",
       "    }\n",
       "\n",
       "    .dataframe thead th {\n",
       "        text-align: right;\n",
       "    }\n",
       "</style>\n",
       "<table border=\"1\" class=\"dataframe\">\n",
       "  <thead>\n",
       "    <tr style=\"text-align: right;\">\n",
       "      <th></th>\n",
       "      <th>sepal length</th>\n",
       "      <th>sepal width</th>\n",
       "      <th>petal length</th>\n",
       "      <th>petal width</th>\n",
       "      <th>class</th>\n",
       "    </tr>\n",
       "  </thead>\n",
       "  <tbody>\n",
       "    <tr>\n",
       "      <td>145</td>\n",
       "      <td>6.7</td>\n",
       "      <td>3.0</td>\n",
       "      <td>5.2</td>\n",
       "      <td>2.3</td>\n",
       "      <td>Iris-virginica</td>\n",
       "    </tr>\n",
       "    <tr>\n",
       "      <td>146</td>\n",
       "      <td>6.3</td>\n",
       "      <td>2.5</td>\n",
       "      <td>5.0</td>\n",
       "      <td>1.9</td>\n",
       "      <td>Iris-virginica</td>\n",
       "    </tr>\n",
       "    <tr>\n",
       "      <td>147</td>\n",
       "      <td>6.5</td>\n",
       "      <td>3.0</td>\n",
       "      <td>5.2</td>\n",
       "      <td>2.0</td>\n",
       "      <td>Iris-virginica</td>\n",
       "    </tr>\n",
       "    <tr>\n",
       "      <td>148</td>\n",
       "      <td>6.2</td>\n",
       "      <td>3.4</td>\n",
       "      <td>5.4</td>\n",
       "      <td>2.3</td>\n",
       "      <td>Iris-virginica</td>\n",
       "    </tr>\n",
       "    <tr>\n",
       "      <td>149</td>\n",
       "      <td>5.9</td>\n",
       "      <td>3.0</td>\n",
       "      <td>5.1</td>\n",
       "      <td>1.8</td>\n",
       "      <td>Iris-virginica</td>\n",
       "    </tr>\n",
       "  </tbody>\n",
       "</table>\n",
       "</div>"
      ],
      "text/plain": [
       "     sepal length  sepal width  petal length  petal width           class\n",
       "145           6.7          3.0           5.2          2.3  Iris-virginica\n",
       "146           6.3          2.5           5.0          1.9  Iris-virginica\n",
       "147           6.5          3.0           5.2          2.0  Iris-virginica\n",
       "148           6.2          3.4           5.4          2.3  Iris-virginica\n",
       "149           5.9          3.0           5.1          1.8  Iris-virginica"
      ]
     },
     "execution_count": 47,
     "metadata": {},
     "output_type": "execute_result"
    }
   ],
   "source": [
    "# Verificando as últimas linhas do dataset\n",
    "base1.tail(5)"
   ]
  },
  {
   "cell_type": "markdown",
   "metadata": {
    "hidden": true
   },
   "source": [
    " "
   ]
  },
  {
   "cell_type": "markdown",
   "metadata": {
    "hidden": true
   },
   "source": [
    " "
   ]
  },
  {
   "cell_type": "markdown",
   "metadata": {
    "heading_collapsed": true
   },
   "source": [
    "# 3.0 - LIMPEZA DOS DADOS"
   ]
  },
  {
   "cell_type": "markdown",
   "metadata": {
    "hidden": true
   },
   "source": [
    " "
   ]
  },
  {
   "cell_type": "markdown",
   "metadata": {
    "hidden": true
   },
   "source": [
    "## 3.1 - Valores Missing"
   ]
  },
  {
   "cell_type": "markdown",
   "metadata": {
    "hidden": true
   },
   "source": [
    " "
   ]
  },
  {
   "cell_type": "code",
   "execution_count": 49,
   "metadata": {
    "hidden": true
   },
   "outputs": [
    {
     "data": {
      "text/plain": [
       "False"
      ]
     },
     "execution_count": 49,
     "metadata": {},
     "output_type": "execute_result"
    }
   ],
   "source": [
    "# Verificando se existem valores nulos na base de dados\n",
    "base1.isnull().values.any()"
   ]
  },
  {
   "cell_type": "code",
   "execution_count": null,
   "metadata": {
    "hidden": true
   },
   "outputs": [],
   "source": [
    "#Locanizar dados nulos pela coluna\n",
    "base.loc[pd.isnull(base['vehicleType'])]   #localizar valores Nan por coluna"
   ]
  },
  {
   "cell_type": "markdown",
   "metadata": {
    "hidden": true
   },
   "source": [
    " "
   ]
  },
  {
   "cell_type": "markdown",
   "metadata": {
    "hidden": true
   },
   "source": [
    "## 3.2 - Valores Missing Ocultos"
   ]
  },
  {
   "cell_type": "markdown",
   "metadata": {
    "hidden": true
   },
   "source": [
    " "
   ]
  },
  {
   "cell_type": "code",
   "execution_count": 38,
   "metadata": {
    "hidden": true
   },
   "outputs": [
    {
     "name": "stdout",
     "output_type": "stream",
     "text": [
      "# Linhas no dataframe 768\n",
      "# Linhas missing glucose_conc: 5\n",
      "# Linhas missing diastolic_bp: 35\n",
      "# Linhas missing thickness: 227\n",
      "# Linhas missing insulin: 374\n",
      "# Linhas missing bmi: 11\n",
      "# Linhas missing age: 0\n"
     ]
    }
   ],
   "source": [
    "# NESTE CASO VALORE IGUAIS A ZERO PARA OS PREVISORES FORAM CONSIFDERADOS MISSING\n",
    "print(\"# Linhas no dataframe {0}\".format(len(base5)))\n",
    "print(\"# Linhas missing glucose_conc: {0}\".format(len(base5.loc[base5['glucose_conc'] == 0])))\n",
    "print(\"# Linhas missing diastolic_bp: {0}\".format(len(base5.loc[base5['diastolic_bp'] == 0])))\n",
    "print(\"# Linhas missing thickness: {0}\".format(len(base5.loc[base5['thickness'] == 0])))\n",
    "print(\"# Linhas missing insulin: {0}\".format(len(base5.loc[base5['insulin'] == 0])))\n",
    "print(\"# Linhas missing bmi: {0}\".format(len(base5.loc[base5['bmi'] == 0])))\n",
    "print(\"# Linhas missing age: {0}\".format(len(base5.loc[base5['age'] == 0])))"
   ]
  },
  {
   "cell_type": "markdown",
   "metadata": {
    "hidden": true
   },
   "source": [
    " "
   ]
  },
  {
   "cell_type": "markdown",
   "metadata": {
    "hidden": true
   },
   "source": [
    "## 3.3 - Tratando Dados Missing"
   ]
  },
  {
   "cell_type": "markdown",
   "metadata": {
    "hidden": true
   },
   "source": [
    " "
   ]
  },
  {
   "cell_type": "markdown",
   "metadata": {
    "hidden": true
   },
   "source": [
    "#### Substituindo os valores iguais a zero, pela média dos dados"
   ]
  },
  {
   "cell_type": "markdown",
   "metadata": {
    "hidden": true
   },
   "source": [
    " "
   ]
  },
  {
   "cell_type": "code",
   "execution_count": 41,
   "metadata": {
    "hidden": true
   },
   "outputs": [
    {
     "name": "stderr",
     "output_type": "stream",
     "text": [
      "C:\\Users\\marcu\\Anaconda3\\lib\\site-packages\\sklearn\\utils\\deprecation.py:66: DeprecationWarning: Class Imputer is deprecated; Imputer was deprecated in version 0.20 and will be removed in 0.22. Import impute.SimpleImputer from sklearn instead.\n",
      "  warnings.warn(msg, category=DeprecationWarning)\n"
     ]
    }
   ],
   "source": [
    "# Criando objeto\n",
    "preenche_0 = Imputer(missing_values = 0, strategy = \"mean\", axis = 0)\n",
    "\n",
    "# Substituindo os valores iguais a zero, pela média dos dados\n",
    "base5 = preenche_0.fit_transform(base5)"
   ]
  },
  {
   "cell_type": "code",
   "execution_count": 44,
   "metadata": {
    "hidden": true
   },
   "outputs": [
    {
     "data": {
      "text/plain": [
       "array([[  6.        , 148.        ,  72.        , ...,  50.        ,\n",
       "          1.379     ,   1.        ],\n",
       "       [  1.        ,  85.        ,  66.        , ...,  31.        ,\n",
       "          1.1426    ,   1.        ],\n",
       "       [  8.        , 183.        ,  64.        , ...,  32.        ,\n",
       "          1.14864473,   1.        ],\n",
       "       ...,\n",
       "       [  5.        , 121.        ,  72.        , ...,  30.        ,\n",
       "          0.9062    ,   1.        ],\n",
       "       [  1.        , 126.        ,  60.        , ...,  47.        ,\n",
       "          1.14864473,   1.        ],\n",
       "       [  1.        ,  93.        ,  70.        , ...,  23.        ,\n",
       "          1.2214    ,   1.        ]])"
      ]
     },
     "execution_count": 44,
     "metadata": {},
     "output_type": "execute_result"
    }
   ],
   "source": [
    "base5"
   ]
  },
  {
   "cell_type": "markdown",
   "metadata": {
    "hidden": true
   },
   "source": [
    " "
   ]
  },
  {
   "cell_type": "markdown",
   "metadata": {
    "hidden": true
   },
   "source": [
    "#### APAGANDO DADOS DE MISSING"
   ]
  },
  {
   "cell_type": "markdown",
   "metadata": {
    "hidden": true
   },
   "source": [
    " "
   ]
  },
  {
   "cell_type": "code",
   "execution_count": null,
   "metadata": {
    "hidden": true
   },
   "outputs": [],
   "source": [
    "base = base.dropna('Other_Sales', axis = 0)  #AXIS = 0 APAGA A LINHA\n",
    "#Neste caso apaga todaas as linhas com valores nulos(missing)"
   ]
  },
  {
   "cell_type": "markdown",
   "metadata": {
    "hidden": true
   },
   "source": [
    " "
   ]
  },
  {
   "cell_type": "markdown",
   "metadata": {
    "hidden": true
   },
   "source": [
    "#### APAGANDO DADOS DE MISSING OCULTOS"
   ]
  },
  {
   "cell_type": "markdown",
   "metadata": {
    "hidden": true
   },
   "source": [
    " "
   ]
  },
  {
   "cell_type": "code",
   "execution_count": null,
   "metadata": {
    "hidden": true
   },
   "outputs": [],
   "source": [
    "base.price.mean() #para crrigir valores pode-se usar a media(neste caso serão apagados)\n",
    "\n",
    "i1 = base.loc[base.price <= 10] #loc -> localizar (i1 - inconsistentes 1)\n",
    "base = base[base.price > 10] #A BASE DE DADOS AGORA SO POSSUIRÁ OS DADOS ONDE O PREÇO É MAIOR QUE 10 \n",
    "                             #(PREÇOS DE CARROS por exemplo)\n",
    "\n",
    "i2 = base.loc[base.price > 350000] #loc -> localizar\n",
    "base = base.loc[base.price < 350000]#A BASE DE DADOS AGORA SO POSSUIRÁ OS DADOS ONDE O PREÇO É MENOR QUE 350000"
   ]
  },
  {
   "cell_type": "code",
   "execution_count": null,
   "metadata": {
    "hidden": true
   },
   "outputs": [],
   "source": []
  },
  {
   "cell_type": "markdown",
   "metadata": {
    "hidden": true
   },
   "source": [
    " "
   ]
  },
  {
   "cell_type": "markdown",
   "metadata": {
    "hidden": true
   },
   "source": [
    "#### ALTERANDO  DADOS MISSING CATEGORICOS"
   ]
  },
  {
   "cell_type": "markdown",
   "metadata": {
    "hidden": true
   },
   "source": [
    " "
   ]
  },
  {
   "cell_type": "code",
   "execution_count": null,
   "metadata": {
    "hidden": true
   },
   "outputs": [],
   "source": [
    "# Varialvel categorica, caso não for apaga-la\n",
    "\n",
    "base['vehicleType'].value_counts() # verificar qual item mais se repete para poder tratar depois ->limousine\n",
    "#Fazer para todas as colunas que tiverem valores categóricos nulos \n",
    "\n",
    "valores = {'vehicleType': 'limousine', \n",
    "           'gearbox': 'manuell',\n",
    "           'model': 'golf', \n",
    "           'fuelType': 'benzin',\n",
    "           'notRepairedDamage': 'nein'}\n",
    "\n",
    "#NOME DA COLUNA : VALOR QUE MAIS SE REPETE NESSA COLUNA"
   ]
  },
  {
   "cell_type": "code",
   "execution_count": null,
   "metadata": {
    "hidden": true
   },
   "outputs": [],
   "source": [
    "base = base.fillna(value = valores)\n",
    "#tocamos os valorers nulos pelos valores que mais se repetiram"
   ]
  },
  {
   "cell_type": "markdown",
   "metadata": {
    "hidden": true
   },
   "source": [
    " "
   ]
  },
  {
   "cell_type": "markdown",
   "metadata": {
    "hidden": true
   },
   "source": [
    "## 3.4 - Outliers"
   ]
  },
  {
   "cell_type": "markdown",
   "metadata": {
    "hidden": true
   },
   "source": [
    " "
   ]
  },
  {
   "cell_type": "code",
   "execution_count": 70,
   "metadata": {
    "hidden": true
   },
   "outputs": [
    {
     "data": {
      "text/plain": [
       "<matplotlib.axes._subplots.AxesSubplot at 0x2363a192e08>"
      ]
     },
     "execution_count": 70,
     "metadata": {},
     "output_type": "execute_result"
    },
    {
     "data": {
      "image/png": "[encoded data removed]",
      "text/plain": [
       "<Figure size 576x396 with 1 Axes>"
      ]
     },
     "metadata": {},
     "output_type": "display_data"
    }
   ],
   "source": [
    "sns.boxplot(data = base1)"
   ]
  },
  {
   "cell_type": "code",
   "execution_count": 71,
   "metadata": {
    "hidden": true
   },
   "outputs": [
    {
     "data": {
      "text/plain": [
       "<matplotlib.axes._subplots.AxesSubplot at 0x2363a275708>"
      ]
     },
     "execution_count": 71,
     "metadata": {},
     "output_type": "execute_result"
    },
    {
     "data": {
      "image/png": "[encoded data removed]",
      "text/plain": [
       "<Figure size 576x396 with 1 Axes>"
      ]
     },
     "metadata": {},
     "output_type": "display_data"
    }
   ],
   "source": [
    "sns.boxplot(data = base1[\"sepal width\"])"
   ]
  },
  {
   "cell_type": "markdown",
   "metadata": {
    "hidden": true
   },
   "source": [
    " "
   ]
  },
  {
   "cell_type": "markdown",
   "metadata": {
    "hidden": true
   },
   "source": [
    "## 3.5 - Tratamento de Outliers"
   ]
  },
  {
   "cell_type": "markdown",
   "metadata": {
    "hidden": true
   },
   "source": [
    " "
   ]
  },
  {
   "cell_type": "code",
   "execution_count": null,
   "metadata": {
    "hidden": true
   },
   "outputs": [],
   "source": []
  },
  {
   "cell_type": "code",
   "execution_count": null,
   "metadata": {
    "hidden": true
   },
   "outputs": [],
   "source": []
  },
  {
   "cell_type": "code",
   "execution_count": null,
   "metadata": {
    "hidden": true
   },
   "outputs": [],
   "source": []
  },
  {
   "cell_type": "markdown",
   "metadata": {
    "hidden": true
   },
   "source": [
    " "
   ]
  },
  {
   "cell_type": "markdown",
   "metadata": {
    "hidden": true
   },
   "source": [
    "## 3.6 - Apagar Colunas"
   ]
  },
  {
   "cell_type": "markdown",
   "metadata": {
    "hidden": true
   },
   "source": [
    " "
   ]
  },
  {
   "cell_type": "code",
   "execution_count": null,
   "metadata": {
    "hidden": true
   },
   "outputs": [],
   "source": [
    "# Lista todas as colunas\n",
    "list(base1)"
   ]
  },
  {
   "cell_type": "code",
   "execution_count": null,
   "metadata": {
    "hidden": true
   },
   "outputs": [],
   "source": [
    "nome_coluna = base.NomeDaColuna  #salvar essa coluna caso seja necessário\n",
    "base = base.drop('NomeDaColuna', axis = 1)     #AXIS = 1 APAGA A COLUNA"
   ]
  },
  {
   "cell_type": "markdown",
   "metadata": {
    "hidden": true
   },
   "source": [
    " "
   ]
  },
  {
   "cell_type": "markdown",
   "metadata": {
    "hidden": true
   },
   "source": [
    " "
   ]
  },
  {
   "cell_type": "markdown",
   "metadata": {
    "hidden": true
   },
   "source": [
    " "
   ]
  },
  {
   "cell_type": "markdown",
   "metadata": {
    "heading_collapsed": true
   },
   "source": [
    "# 4.0  - EXPLORAÇÃO DOS DADOS"
   ]
  },
  {
   "cell_type": "markdown",
   "metadata": {
    "hidden": true
   },
   "source": [
    " "
   ]
  },
  {
   "cell_type": "markdown",
   "metadata": {
    "hidden": true
   },
   "source": [
    "## 4.1 - Visualização de Estatísticas Básicas"
   ]
  },
  {
   "cell_type": "markdown",
   "metadata": {
    "hidden": true
   },
   "source": [
    " "
   ]
  },
  {
   "cell_type": "code",
   "execution_count": 17,
   "metadata": {
    "hidden": true
   },
   "outputs": [
    {
     "data": {
      "text/html": [
       "<div>\n",
       "<style scoped>\n",
       "    .dataframe tbody tr th:only-of-type {\n",
       "        vertical-align: middle;\n",
       "    }\n",
       "\n",
       "    .dataframe tbody tr th {\n",
       "        vertical-align: top;\n",
       "    }\n",
       "\n",
       "    .dataframe thead th {\n",
       "        text-align: right;\n",
       "    }\n",
       "</style>\n",
       "<table border=\"1\" class=\"dataframe\">\n",
       "  <thead>\n",
       "    <tr style=\"text-align: right;\">\n",
       "      <th></th>\n",
       "      <th>sepal length</th>\n",
       "      <th>sepal width</th>\n",
       "      <th>petal length</th>\n",
       "      <th>petal width</th>\n",
       "    </tr>\n",
       "  </thead>\n",
       "  <tbody>\n",
       "    <tr>\n",
       "      <td>count</td>\n",
       "      <td>150.000000</td>\n",
       "      <td>150.000000</td>\n",
       "      <td>150.000000</td>\n",
       "      <td>150.000000</td>\n",
       "    </tr>\n",
       "    <tr>\n",
       "      <td>mean</td>\n",
       "      <td>5.843333</td>\n",
       "      <td>3.054000</td>\n",
       "      <td>3.758667</td>\n",
       "      <td>1.198667</td>\n",
       "    </tr>\n",
       "    <tr>\n",
       "      <td>std</td>\n",
       "      <td>0.828066</td>\n",
       "      <td>0.433594</td>\n",
       "      <td>1.764420</td>\n",
       "      <td>0.763161</td>\n",
       "    </tr>\n",
       "    <tr>\n",
       "      <td>min</td>\n",
       "      <td>4.300000</td>\n",
       "      <td>2.000000</td>\n",
       "      <td>1.000000</td>\n",
       "      <td>0.100000</td>\n",
       "    </tr>\n",
       "    <tr>\n",
       "      <td>25%</td>\n",
       "      <td>5.100000</td>\n",
       "      <td>2.800000</td>\n",
       "      <td>1.600000</td>\n",
       "      <td>0.300000</td>\n",
       "    </tr>\n",
       "    <tr>\n",
       "      <td>50%</td>\n",
       "      <td>5.800000</td>\n",
       "      <td>3.000000</td>\n",
       "      <td>4.350000</td>\n",
       "      <td>1.300000</td>\n",
       "    </tr>\n",
       "    <tr>\n",
       "      <td>75%</td>\n",
       "      <td>6.400000</td>\n",
       "      <td>3.300000</td>\n",
       "      <td>5.100000</td>\n",
       "      <td>1.800000</td>\n",
       "    </tr>\n",
       "    <tr>\n",
       "      <td>max</td>\n",
       "      <td>7.900000</td>\n",
       "      <td>4.400000</td>\n",
       "      <td>6.900000</td>\n",
       "      <td>2.500000</td>\n",
       "    </tr>\n",
       "  </tbody>\n",
       "</table>\n",
       "</div>"
      ],
      "text/plain": [
       "       sepal length  sepal width  petal length  petal width\n",
       "count    150.000000   150.000000    150.000000   150.000000\n",
       "mean       5.843333     3.054000      3.758667     1.198667\n",
       "std        0.828066     0.433594      1.764420     0.763161\n",
       "min        4.300000     2.000000      1.000000     0.100000\n",
       "25%        5.100000     2.800000      1.600000     0.300000\n",
       "50%        5.800000     3.000000      4.350000     1.300000\n",
       "75%        6.400000     3.300000      5.100000     1.800000\n",
       "max        7.900000     4.400000      6.900000     2.500000"
      ]
     },
     "execution_count": 17,
     "metadata": {},
     "output_type": "execute_result"
    }
   ],
   "source": [
    "base1.describe()"
   ]
  },
  {
   "cell_type": "markdown",
   "metadata": {
    "hidden": true
   },
   "source": [
    " "
   ]
  },
  {
   "cell_type": "markdown",
   "metadata": {
    "hidden": true
   },
   "source": [
    "## 4.2 - Listar Nomes das Colunas (Atributos)"
   ]
  },
  {
   "cell_type": "markdown",
   "metadata": {
    "hidden": true
   },
   "source": [
    " "
   ]
  },
  {
   "cell_type": "code",
   "execution_count": 53,
   "metadata": {
    "hidden": true
   },
   "outputs": [
    {
     "data": {
      "text/plain": [
       "['sepal length', 'sepal width', 'petal length', 'petal width', 'class']"
      ]
     },
     "execution_count": 53,
     "metadata": {},
     "output_type": "execute_result"
    }
   ],
   "source": [
    "# Lista todas as colunas\n",
    "list(base1)"
   ]
  },
  {
   "cell_type": "markdown",
   "metadata": {
    "hidden": true
   },
   "source": [
    " "
   ]
  },
  {
   "cell_type": "markdown",
   "metadata": {
    "hidden": true
   },
   "source": [
    "## 4.3 - Virificar Distribuição da Classe"
   ]
  },
  {
   "cell_type": "markdown",
   "metadata": {
    "hidden": true
   },
   "source": [
    " "
   ]
  },
  {
   "cell_type": "code",
   "execution_count": 55,
   "metadata": {
    "hidden": true
   },
   "outputs": [
    {
     "ename": "AttributeError",
     "evalue": "'numpy.ndarray' object has no attribute 'loc'",
     "output_type": "error",
     "traceback": [
      "\u001b[1;31m---------------------------------------------------------------------------\u001b[0m",
      "\u001b[1;31mAttributeError\u001b[0m                            Traceback (most recent call last)",
      "\u001b[1;32m<ipython-input-55-1d7094a4ac7a>\u001b[0m in \u001b[0;36m<module>\u001b[1;34m\u001b[0m\n\u001b[0;32m      1\u001b[0m \u001b[1;31m# Verificando como os dados estão distribuídos\u001b[0m\u001b[1;33m\u001b[0m\u001b[1;33m\u001b[0m\u001b[1;33m\u001b[0m\u001b[0m\n\u001b[1;32m----> 2\u001b[1;33m \u001b[0mnum_true\u001b[0m \u001b[1;33m=\u001b[0m \u001b[0mlen\u001b[0m\u001b[1;33m(\u001b[0m\u001b[0mbase5\u001b[0m\u001b[1;33m.\u001b[0m\u001b[0mloc\u001b[0m\u001b[1;33m[\u001b[0m\u001b[0mbase5\u001b[0m\u001b[1;33m[\u001b[0m\u001b[1;34m'diabetes'\u001b[0m\u001b[1;33m]\u001b[0m \u001b[1;33m==\u001b[0m \u001b[1;32mTrue\u001b[0m\u001b[1;33m]\u001b[0m\u001b[1;33m)\u001b[0m\u001b[1;33m\u001b[0m\u001b[1;33m\u001b[0m\u001b[0m\n\u001b[0m\u001b[0;32m      3\u001b[0m \u001b[0mnum_false\u001b[0m \u001b[1;33m=\u001b[0m \u001b[0mlen\u001b[0m\u001b[1;33m(\u001b[0m\u001b[0mbase5\u001b[0m\u001b[1;33m.\u001b[0m\u001b[0mloc\u001b[0m\u001b[1;33m[\u001b[0m\u001b[0mbase5\u001b[0m\u001b[1;33m[\u001b[0m\u001b[1;34m'diabetes'\u001b[0m\u001b[1;33m]\u001b[0m \u001b[1;33m==\u001b[0m \u001b[1;32mFalse\u001b[0m\u001b[1;33m]\u001b[0m\u001b[1;33m)\u001b[0m\u001b[1;33m\u001b[0m\u001b[1;33m\u001b[0m\u001b[0m\n\u001b[0;32m      4\u001b[0m \u001b[0mprint\u001b[0m\u001b[1;33m(\u001b[0m\u001b[1;34m\"Número de Casos Verdadeiros: {0} ({1:2.2f}%)\"\u001b[0m\u001b[1;33m.\u001b[0m\u001b[0mformat\u001b[0m\u001b[1;33m(\u001b[0m\u001b[0mnum_true\u001b[0m\u001b[1;33m,\u001b[0m \u001b[1;33m(\u001b[0m\u001b[0mnum_true\u001b[0m\u001b[1;33m/\u001b[0m \u001b[1;33m(\u001b[0m\u001b[0mnum_true\u001b[0m \u001b[1;33m+\u001b[0m \u001b[0mnum_false\u001b[0m\u001b[1;33m)\u001b[0m\u001b[1;33m)\u001b[0m \u001b[1;33m*\u001b[0m \u001b[1;36m100\u001b[0m\u001b[1;33m)\u001b[0m\u001b[1;33m)\u001b[0m\u001b[1;33m\u001b[0m\u001b[1;33m\u001b[0m\u001b[0m\n\u001b[0;32m      5\u001b[0m \u001b[0mprint\u001b[0m\u001b[1;33m(\u001b[0m\u001b[1;34m\"Número de Casos Falsos     : {0} ({1:2.2f}%)\"\u001b[0m\u001b[1;33m.\u001b[0m\u001b[0mformat\u001b[0m\u001b[1;33m(\u001b[0m\u001b[0mnum_false\u001b[0m\u001b[1;33m,\u001b[0m \u001b[1;33m(\u001b[0m\u001b[0mnum_false\u001b[0m\u001b[1;33m/\u001b[0m \u001b[1;33m(\u001b[0m\u001b[0mnum_true\u001b[0m \u001b[1;33m+\u001b[0m \u001b[0mnum_false\u001b[0m\u001b[1;33m)\u001b[0m\u001b[1;33m)\u001b[0m \u001b[1;33m*\u001b[0m \u001b[1;36m100\u001b[0m\u001b[1;33m)\u001b[0m\u001b[1;33m)\u001b[0m\u001b[1;33m\u001b[0m\u001b[1;33m\u001b[0m\u001b[0m\n",
      "\u001b[1;31mAttributeError\u001b[0m: 'numpy.ndarray' object has no attribute 'loc'"
     ]
    }
   ],
   "source": [
    "# Verificando como os dados estão distribuídos\n",
    "num_true = len(base5.loc[base5['diabetes'] == True])\n",
    "num_false = len(base5.loc[base5['diabetes'] == False])\n",
    "print(\"Número de Casos Verdadeiros: {0} ({1:2.2f}%)\".format(num_true, (num_true/ (num_true + num_false)) * 100))\n",
    "print(\"Número de Casos Falsos     : {0} ({1:2.2f}%)\".format(num_false, (num_false/ (num_true + num_false)) * 100))"
   ]
  },
  {
   "cell_type": "markdown",
   "metadata": {
    "hidden": true
   },
   "source": [
    " "
   ]
  },
  {
   "cell_type": "markdown",
   "metadata": {
    "hidden": true
   },
   "source": [
    "## 4.4 - Correlação"
   ]
  },
  {
   "cell_type": "markdown",
   "metadata": {
    "hidden": true
   },
   "source": [
    " "
   ]
  },
  {
   "cell_type": "code",
   "execution_count": 27,
   "metadata": {
    "hidden": true
   },
   "outputs": [],
   "source": [
    "# Identificando a correlação entre as variáveis\n",
    "# Correlação não implica causalidade\n",
    "def plot_corr(base1, size=5):\n",
    "    corr = base1.corr()    \n",
    "    fig, ax = plt.subplots(figsize = (size, size))\n",
    "    ax.matshow(corr)  \n",
    "    plt.xticks(range(len(corr.columns)), corr.columns) \n",
    "    plt.yticks(range(len(corr.columns)), corr.columns)  "
   ]
  },
  {
   "cell_type": "code",
   "execution_count": 28,
   "metadata": {
    "hidden": true
   },
   "outputs": [
    {
     "data": {
      "image/png": "[encoded data removed]",
      "text/plain": [
       "<Figure size 360x360 with 1 Axes>"
      ]
     },
     "metadata": {
      "needs_background": "light"
     },
     "output_type": "display_data"
    }
   ],
   "source": [
    "# Criando o gráfico\n",
    "plot_corr(base1)"
   ]
  },
  {
   "cell_type": "code",
   "execution_count": 30,
   "metadata": {
    "hidden": true
   },
   "outputs": [
    {
     "data": {
      "text/html": [
       "<div>\n",
       "<style scoped>\n",
       "    .dataframe tbody tr th:only-of-type {\n",
       "        vertical-align: middle;\n",
       "    }\n",
       "\n",
       "    .dataframe tbody tr th {\n",
       "        vertical-align: top;\n",
       "    }\n",
       "\n",
       "    .dataframe thead th {\n",
       "        text-align: right;\n",
       "    }\n",
       "</style>\n",
       "<table border=\"1\" class=\"dataframe\">\n",
       "  <thead>\n",
       "    <tr style=\"text-align: right;\">\n",
       "      <th></th>\n",
       "      <th>sepal length</th>\n",
       "      <th>sepal width</th>\n",
       "      <th>petal length</th>\n",
       "      <th>petal width</th>\n",
       "    </tr>\n",
       "  </thead>\n",
       "  <tbody>\n",
       "    <tr>\n",
       "      <td>sepal length</td>\n",
       "      <td>1.000000</td>\n",
       "      <td>-0.109369</td>\n",
       "      <td>0.871754</td>\n",
       "      <td>0.817954</td>\n",
       "    </tr>\n",
       "    <tr>\n",
       "      <td>sepal width</td>\n",
       "      <td>-0.109369</td>\n",
       "      <td>1.000000</td>\n",
       "      <td>-0.420516</td>\n",
       "      <td>-0.356544</td>\n",
       "    </tr>\n",
       "    <tr>\n",
       "      <td>petal length</td>\n",
       "      <td>0.871754</td>\n",
       "      <td>-0.420516</td>\n",
       "      <td>1.000000</td>\n",
       "      <td>0.962757</td>\n",
       "    </tr>\n",
       "    <tr>\n",
       "      <td>petal width</td>\n",
       "      <td>0.817954</td>\n",
       "      <td>-0.356544</td>\n",
       "      <td>0.962757</td>\n",
       "      <td>1.000000</td>\n",
       "    </tr>\n",
       "  </tbody>\n",
       "</table>\n",
       "</div>"
      ],
      "text/plain": [
       "              sepal length  sepal width  petal length  petal width\n",
       "sepal length      1.000000    -0.109369      0.871754     0.817954\n",
       "sepal width      -0.109369     1.000000     -0.420516    -0.356544\n",
       "petal length      0.871754    -0.420516      1.000000     0.962757\n",
       "petal width       0.817954    -0.356544      0.962757     1.000000"
      ]
     },
     "execution_count": 30,
     "metadata": {},
     "output_type": "execute_result"
    }
   ],
   "source": [
    "# Visualizando a correlação em tabela\n",
    "# Coeficiente de correlação: \n",
    "# +1  = forte correlação positiva\n",
    "# 0   = não há correlação\n",
    "# -1  = forte correlação negativa\n",
    "base1.corr()"
   ]
  },
  {
   "cell_type": "markdown",
   "metadata": {
    "hidden": true
   },
   "source": [
    " "
   ]
  },
  {
   "cell_type": "markdown",
   "metadata": {
    "hidden": true
   },
   "source": [
    "## 4.5 - Verificar/ Visualizar a  Distribuição/Relação entre os Atributos"
   ]
  },
  {
   "cell_type": "markdown",
   "metadata": {
    "hidden": true
   },
   "source": [
    " "
   ]
  },
  {
   "cell_type": "code",
   "execution_count": null,
   "metadata": {
    "hidden": true
   },
   "outputs": [],
   "source": [
    "#EXEMPLO UTILIZANDO A BASE 4 - \"DADOS PESQUISA\""
   ]
  },
  {
   "cell_type": "markdown",
   "metadata": {
    "hidden": true
   },
   "source": [
    " "
   ]
  },
  {
   "cell_type": "markdown",
   "metadata": {
    "hidden": true
   },
   "source": [
    "### 4.5.1 - Distribuição da Idade"
   ]
  },
  {
   "cell_type": "markdown",
   "metadata": {
    "hidden": true
   },
   "source": [
    " "
   ]
  },
  {
   "cell_type": "code",
   "execution_count": 22,
   "metadata": {
    "hidden": true
   },
   "outputs": [
    {
     "data": {
      "image/png": "[encoded data removed]",
      "text/plain": [
       "<Figure size 576x396 with 1 Axes>"
      ]
     },
     "metadata": {},
     "output_type": "display_data"
    }
   ],
   "source": [
    "# Qual a distribuição de idade dos participantes da pesquisa?\n",
    "# A maioria dos profissionais que trabalham como programadores de \n",
    "# software estão na faixa de idade entre 20 e 30 anos, sendo 25 anos \n",
    "# a idade mais frequente.\n",
    "\n",
    "# Gerando um histograma\n",
    "base4.Age.hist(bins = 20) #bins = divisão\n",
    "plt.xlabel(\"Idade\")\n",
    "plt.ylabel(\"Número de Profissionais\")\n",
    "plt.title(\"Distribuição de Idade\")\n",
    "plt.show()"
   ]
  },
  {
   "cell_type": "code",
   "execution_count": 25,
   "metadata": {
    "hidden": true
   },
   "outputs": [
    {
     "name": "stderr",
     "output_type": "stream",
     "text": [
      "C:\\Users\\marcu\\Anaconda3\\lib\\site-packages\\numpy\\lib\\histograms.py:824: RuntimeWarning: invalid value encountered in greater_equal\n",
      "  keep = (tmp_a >= first_edge)\n",
      "C:\\Users\\marcu\\Anaconda3\\lib\\site-packages\\numpy\\lib\\histograms.py:825: RuntimeWarning: invalid value encountered in less_equal\n",
      "  keep &= (tmp_a <= last_edge)\n",
      "C:\\Users\\marcu\\Anaconda3\\lib\\site-packages\\statsmodels\\nonparametric\\kde.py:447: RuntimeWarning: invalid value encountered in greater\n",
      "  X = X[np.logical_and(X > clip[0], X < clip[1])] # won't work for two columns.\n",
      "C:\\Users\\marcu\\Anaconda3\\lib\\site-packages\\statsmodels\\nonparametric\\kde.py:447: RuntimeWarning: invalid value encountered in less\n",
      "  X = X[np.logical_and(X > clip[0], X < clip[1])] # won't work for two columns.\n"
     ]
    },
    {
     "data": {
      "text/plain": [
       "<matplotlib.axes._subplots.AxesSubplot at 0x23634ca0f48>"
      ]
     },
     "execution_count": 25,
     "metadata": {},
     "output_type": "execute_result"
    },
    {
     "data": {
      "image/png": "[encoded data removed]",
      "text/plain": [
       "<Figure size 576x396 with 1 Axes>"
      ]
     },
     "metadata": {},
     "output_type": "display_data"
    }
   ],
   "source": [
    "#Densidade\n",
    "\n",
    "sns.distplot(base4.iloc[:,0], hist = True, kde = True,\n",
    "             bins = 20, color = 'blue',\n",
    "             hist_kws={'edgecolor': 'black'})"
   ]
  },
  {
   "cell_type": "markdown",
   "metadata": {
    "hidden": true
   },
   "source": [
    " "
   ]
  },
  {
   "cell_type": "markdown",
   "metadata": {
    "hidden": true
   },
   "source": [
    "### 4.5.2 - Distribuição de Sexo"
   ]
  },
  {
   "cell_type": "markdown",
   "metadata": {
    "hidden": true
   },
   "source": [
    " "
   ]
  },
  {
   "cell_type": "code",
   "execution_count": 28,
   "metadata": {
    "hidden": true
   },
   "outputs": [
    {
     "name": "stderr",
     "output_type": "stream",
     "text": [
      "C:\\Users\\marcu\\Anaconda3\\lib\\site-packages\\ipykernel_launcher.py:14: MatplotlibDeprecationWarning: Adding an axes using the same arguments as a previous axes currently reuses the earlier instance.  In a future version, a new instance will always be created and returned.  Meanwhile, this warning can be suppressed, and the future behavior ensured, by passing a unique label to each axes instance.\n",
      "  \n"
     ]
    },
    {
     "data": {
      "image/png": "[encoded data removed]",
      "text/plain": [
       "<Figure size 576x396 with 1 Axes>"
      ]
     },
     "metadata": {},
     "output_type": "display_data"
    }
   ],
   "source": [
    "# Qual é a distribuição de sexo dos participantes da pesquisa?\n",
    "# A grande maioria dos programadores é do sexo masculino\n",
    "\n",
    "# Definindo a quantidade\n",
    "labels = base4.Gender.value_counts().index\n",
    "num = len(base4.EmploymentField.value_counts().index)\n",
    "\n",
    "# Criando a lista de cores\n",
    "listaHSV = [(x*1.0/num, 0.5, 0.5) for x in range(num)]\n",
    "listaRGB = list(map(lambda x: colorsys.hsv_to_rgb(*x), listaHSV))\n",
    "\n",
    "# Gráfico de Pizza ***************************MUDAR PARA BARRA***************************\n",
    "fatias, texto = plt.pie(base4.Gender.value_counts(), colors = listaRGB, startangle = 90)\n",
    "plt.axes().set_aspect('equal', 'datalim')\n",
    "plt.legend(fatias, labels, bbox_to_anchor = (1.05,1))\n",
    "plt.title(\"Sexo\")\n",
    "plt.show()"
   ]
  },
  {
   "cell_type": "markdown",
   "metadata": {
    "hidden": true
   },
   "source": [
    " "
   ]
  },
  {
   "cell_type": "markdown",
   "metadata": {
    "hidden": true
   },
   "source": [
    " "
   ]
  },
  {
   "cell_type": "markdown",
   "metadata": {
    "hidden": true
   },
   "source": [
    "### 4.5.3 - Distribuição de Interesses"
   ]
  },
  {
   "cell_type": "markdown",
   "metadata": {
    "hidden": true
   },
   "source": [
    " "
   ]
  },
  {
   "cell_type": "markdown",
   "metadata": {
    "hidden": true
   },
   "source": [
    " "
   ]
  },
  {
   "cell_type": "code",
   "execution_count": 29,
   "metadata": {
    "hidden": true
   },
   "outputs": [
    {
     "name": "stderr",
     "output_type": "stream",
     "text": [
      "C:\\Users\\marcu\\Anaconda3\\lib\\site-packages\\ipykernel_launcher.py:16: MatplotlibDeprecationWarning: Adding an axes using the same arguments as a previous axes currently reuses the earlier instance.  In a future version, a new instance will always be created and returned.  Meanwhile, this warning can be suppressed, and the future behavior ensured, by passing a unique label to each axes instance.\n",
      "  app.launch_new_instance()\n"
     ]
    },
    {
     "data": {
      "image/png": "[encoded data removed]",
      "text/plain": [
       "<Figure size 576x396 with 1 Axes>"
      ]
     },
     "metadata": {},
     "output_type": "display_data"
    }
   ],
   "source": [
    "# Quais sãos os principais interesses dos participantes da pesquisa?\n",
    "# O principal interesse profissional dos programadores é o desenvolvimento web (Full-Stack, Front-End e Back-End), \n",
    "# seguido pela área de Data Science.\n",
    "\n",
    "# Definindo a quantidade\n",
    "num = len(base4.JobRoleInterest.value_counts().index)\n",
    "\n",
    "# Criando a lista de cores\n",
    "listaHSV = [(x*1.0/num, 0.5, 0.5) for x in range(num)]\n",
    "listaRGB = list(map(lambda x: colorsys.hsv_to_rgb(*x), listaHSV))\n",
    "labels = base4.JobRoleInterest.value_counts().index\n",
    "colors = ['OliveDrab', 'Orange', 'OrangeRed', 'DarkCyan', 'Salmon', 'Sienna', 'Maroon', 'LightSlateGrey', 'DimGray']\n",
    "\n",
    "# Gráfico de Pizza ***************************MUDAR PARA BARRA***************************\n",
    "fatias, texto = plt.pie(base4.JobRoleInterest.value_counts(), colors = listaRGB, startangle = 90)\n",
    "plt.axes().set_aspect('equal', 'datalim')\n",
    "plt.legend(fatias, labels, bbox_to_anchor = (1.25, 1))\n",
    "plt.title(\"Interesse Profissional\")\n",
    "plt.show()"
   ]
  },
  {
   "cell_type": "markdown",
   "metadata": {
    "hidden": true
   },
   "source": [
    " "
   ]
  },
  {
   "cell_type": "markdown",
   "metadata": {
    "hidden": true
   },
   "source": [
    " "
   ]
  },
  {
   "cell_type": "markdown",
   "metadata": {
    "hidden": true
   },
   "source": [
    "### 4.5.4 - Distribuição de Empregabilidade"
   ]
  },
  {
   "cell_type": "markdown",
   "metadata": {
    "hidden": true
   },
   "source": [
    " "
   ]
  },
  {
   "cell_type": "code",
   "execution_count": 30,
   "metadata": {
    "hidden": true
   },
   "outputs": [
    {
     "name": "stderr",
     "output_type": "stream",
     "text": [
      "C:\\Users\\marcu\\Anaconda3\\lib\\site-packages\\ipykernel_launcher.py:16: MatplotlibDeprecationWarning: Adding an axes using the same arguments as a previous axes currently reuses the earlier instance.  In a future version, a new instance will always be created and returned.  Meanwhile, this warning can be suppressed, and the future behavior ensured, by passing a unique label to each axes instance.\n",
      "  app.launch_new_instance()\n"
     ]
    },
    {
     "data": {
      "image/png": "[encoded data removed]",
      "text/plain": [
       "<Figure size 576x396 with 1 Axes>"
      ]
     },
     "metadata": {},
     "output_type": "display_data"
    }
   ],
   "source": [
    "# Quais as áreas de negócio em que os participantes da pesquisa trabalham?\n",
    "# A maioria dos programadores trabalha na área de desenvolvimento de \n",
    "# softwares e TI, mas outras áreas como finanças e saúde também são \n",
    "# significativas.\n",
    "\n",
    "# Definindo a quantidade\n",
    "num = len(base4.EmploymentField.value_counts().index)\n",
    "\n",
    "# Criando a lista de cores\n",
    "listaHSV = [(x*1.0/num, 0.5, 0.5) for x in range(num)]\n",
    "listaRGB = list(map(lambda x: colorsys.hsv_to_rgb(*x), listaHSV))\n",
    "labels = base4.EmploymentField.value_counts().index\n",
    "\n",
    "# Gráfico de Pizza ***************************MUDAR PARA BARRA***************************\n",
    "fatias, texto = plt.pie(base4.EmploymentField.value_counts(), colors = listaRGB, startangle = 90)\n",
    "plt.axes().set_aspect('equal', 'datalim')\n",
    "plt.legend(fatias, labels, bbox_to_anchor = (1.3, 1))\n",
    "plt.title(\"Área de trabalho Atual\")\n",
    "plt.show()"
   ]
  },
  {
   "cell_type": "markdown",
   "metadata": {
    "hidden": true
   },
   "source": [
    " "
   ]
  },
  {
   "cell_type": "markdown",
   "metadata": {
    "hidden": true
   },
   "source": [
    " "
   ]
  },
  {
   "cell_type": "markdown",
   "metadata": {
    "hidden": true
   },
   "source": [
    "### 4.5.5 - Preferências de Trabalho por Idade"
   ]
  },
  {
   "cell_type": "markdown",
   "metadata": {
    "hidden": true
   },
   "source": [
    " "
   ]
  },
  {
   "cell_type": "code",
   "execution_count": 31,
   "metadata": {
    "hidden": true
   },
   "outputs": [
    {
     "data": {
      "text/plain": [
       "<matplotlib.legend.Legend at 0x23635066048>"
      ]
     },
     "execution_count": 31,
     "metadata": {},
     "output_type": "execute_result"
    },
    {
     "data": {
      "image/png": "[encoded data removed]",
      "text/plain": [
       "<Figure size 576x396 with 1 Axes>"
      ]
     },
     "metadata": {},
     "output_type": "display_data"
    }
   ],
   "source": [
    "# Quais são as preferências de trabalho por idade?\n",
    "# Perceba que à medida que a idade aumenta, o interesse por trabalho \n",
    "# freelance também aumenta, sendo o modelo preferido por profissionais \n",
    "# acima de 60 anos. Profissionais mais jovens preferem trabalhar em \n",
    "# Startups ou no seu próprio negócio. Profissionais entre 20 e 50 anos \n",
    "# preferem trabalhar em empresas de tamanho médio.\n",
    "\n",
    "# Agrupando os dados\n",
    "base4_ageranges = base4.copy()\n",
    "bins=[0, 20, 30, 40, 50, 60, 100]\n",
    "\n",
    "base4_ageranges['AgeRanges'] = pd.cut(base4_ageranges['Age'], \n",
    "                                   bins, \n",
    "                                   labels=[\"< 20\", \"20-30\", \"30-40\", \"40-50\", \"50-60\", \"< 60\"]) \n",
    "\n",
    "base4_2 = pd.crosstab(base4_ageranges.AgeRanges, \n",
    "                  base4_ageranges.JobPref).apply(lambda r: r/r.sum(), axis=1)\n",
    "\n",
    "# Definindo a quantidade\n",
    "num = len(base4_ageranges.AgeRanges.value_counts().index)\n",
    "\n",
    "# Criando a lista de cores\n",
    "listaHSV = [(x*1.0/num, 0.5, 0.5) for x in range(num)]\n",
    "listaRGB = list(map(lambda x: colorsys.hsv_to_rgb(*x), listaHSV))\n",
    "\n",
    "# Gráfico de Barras (Stacked)\n",
    "ax1 = base4_2.plot(kind = \"bar\", stacked = True, color = listaRGB, title = \"Preferência de Trabalho por Idade\")\n",
    "lines, labels = ax1.get_legend_handles_labels()\n",
    "ax1.legend(lines, labels, bbox_to_anchor = (1.51, 1))"
   ]
  },
  {
   "cell_type": "markdown",
   "metadata": {
    "hidden": true
   },
   "source": [
    " "
   ]
  },
  {
   "cell_type": "markdown",
   "metadata": {
    "hidden": true
   },
   "source": [
    "### 4.5.6 - Realocação por Idade"
   ]
  },
  {
   "cell_type": "markdown",
   "metadata": {
    "hidden": true
   },
   "source": [
    " "
   ]
  },
  {
   "cell_type": "code",
   "execution_count": 32,
   "metadata": {
    "hidden": true
   },
   "outputs": [
    {
     "data": {
      "text/plain": [
       "<matplotlib.legend.Legend at 0x23634fd79c8>"
      ]
     },
     "execution_count": 32,
     "metadata": {},
     "output_type": "execute_result"
    },
    {
     "data": {
      "image/png": "[encoded data removed]",
      "text/plain": [
       "<Figure size 576x396 with 1 Axes>"
      ]
     },
     "metadata": {},
     "output_type": "display_data"
    }
   ],
   "source": [
    "# Qual o objetivo de realocação?\n",
    "# A vontade de buscar um novo emprego diminui com a idade. \n",
    "# Quase 80% das pessoas abaixo dos 30 anos estão preparadas para isso.\n",
    "\n",
    "# Agrupando os dados\n",
    "base4_3 = pd.crosstab(base4_ageranges.AgeRanges, \n",
    "                  base4_ageranges.JobRelocateYesNo).apply(lambda r: r/r.sum(), axis = 1)\n",
    "\n",
    "# Definindo a quantidade\n",
    "num = len(base4_ageranges.AgeRanges.value_counts().index)\n",
    "\n",
    "# Criando a lista de cores\n",
    "listaHSV = [(x*1.0/num, 0.5, 0.5) for x in range(num)]\n",
    "listaRGB = list(map(lambda x: colorsys.hsv_to_rgb(*x), listaHSV))\n",
    "\n",
    "# Gráfico de Barras (Stacked)\n",
    "ax1 = base4_3.plot(kind = \"bar\", stacked = True, color = listaRGB, title = \"Realocação por Idade\")\n",
    "lines, labels = ax1.get_legend_handles_labels()\n",
    "ax1.legend(lines,[\"Não\", \"Sim\"], loc = 'best')"
   ]
  },
  {
   "cell_type": "markdown",
   "metadata": {
    "hidden": true
   },
   "source": [
    " "
   ]
  },
  {
   "cell_type": "markdown",
   "metadata": {
    "hidden": true
   },
   "source": [
    "### 4.5.7 - Idade x Horas de Aprendizagem"
   ]
  },
  {
   "cell_type": "markdown",
   "metadata": {
    "hidden": true
   },
   "source": [
    " "
   ]
  },
  {
   "cell_type": "code",
   "execution_count": 33,
   "metadata": {
    "hidden": true
   },
   "outputs": [
    {
     "data": {
      "image/png": "[encoded data removed]",
      "text/plain": [
       "<Figure size 576x396 with 1 Axes>"
      ]
     },
     "metadata": {},
     "output_type": "display_data"
    }
   ],
   "source": [
    "# Qual a relação entre idade e horas de aprendizagem?\n",
    "# A idade dos profissionais não afeta a quantidade de tempo gasto com capacitação e treinamento.\n",
    "\n",
    "import warnings\n",
    "warnings.filterwarnings('ignore')\n",
    "\n",
    "# Criando subset dos dados\n",
    "base4_4 = base4.copy()\n",
    "base4_4 = base4_4.dropna(subset=[\"HoursLearning\"])\n",
    "base4_4 = base4_4[base4['Age'].isin(range(0,70))]\n",
    "\n",
    "# Definindo os valores de x e y\n",
    "x = base4_4.Age\n",
    "y = base4_4.HoursLearning\n",
    "\n",
    "# Computando os valores e gerando o gráfico\n",
    "m, b = np.polyfit(x, y, 1)\n",
    "plt.plot(x, y, '.')\n",
    "plt.plot(x, m*x + b, '-', color = \"red\")\n",
    "plt.xlabel(\"Idade\")\n",
    "plt.ylabel(\"Horas de Treinamento\")\n",
    "plt.title(\"Idade por Horas de Treinamento\")\n",
    "plt.show()"
   ]
  },
  {
   "cell_type": "markdown",
   "metadata": {
    "hidden": true
   },
   "source": [
    " "
   ]
  },
  {
   "cell_type": "markdown",
   "metadata": {
    "hidden": true
   },
   "source": [
    "### 4.5.8 - Investimento em Capacitação x Expectativa Salarial"
   ]
  },
  {
   "cell_type": "markdown",
   "metadata": {
    "hidden": true
   },
   "source": [
    " "
   ]
  },
  {
   "cell_type": "code",
   "execution_count": null,
   "metadata": {
    "hidden": true
   },
   "outputs": [],
   "source": []
  },
  {
   "cell_type": "code",
   "execution_count": 35,
   "metadata": {
    "hidden": true
   },
   "outputs": [
    {
     "data": {
      "image/png": "[encoded data removed]",
      "text/plain": [
       "<Figure size 576x396 with 1 Axes>"
      ]
     },
     "metadata": {},
     "output_type": "display_data"
    }
   ],
   "source": [
    "# Qual a relação entre investimento em capacitação e expectativa salarial?\n",
    "# Os profissionais que investem tempo e dinheiro em capacitação e \n",
    "# treinamento, em geral, conseguem salários mais altos, embora alguns \n",
    "# profisisonais esperem altos salários, investindo 0 em treinamento.\n",
    "\n",
    "import warnings\n",
    "warnings.filterwarnings('ignore')\n",
    "\n",
    "# Criando subset dos dados\n",
    "base4_5 = base4.copy()\n",
    "base4_5 = base4_5.dropna(subset=[\"ExpectedEarning\"])\n",
    "base4_5 = base4_5[base4['MoneyForLearning'].isin(range(0,60000))]\n",
    "\n",
    "# Definindo os valores de x e y\n",
    "x = base4_5.MoneyForLearning\n",
    "y = base4_5.ExpectedEarning\n",
    "\n",
    "# Computando os valores e gerando o gráfico\n",
    "m, b = np.polyfit(x, y, 1)\n",
    "plt.plot(x, y, '.')\n",
    "plt.plot(x, m*x + b, '-', color = \"red\")\n",
    "plt.xlabel(\"Investimento em Treinamento\")\n",
    "plt.ylabel(\"Expectativa Salarial\")\n",
    "plt.title(\"Investimento em Treinamento vs Expectativa Salarial\")\n",
    "plt.show()"
   ]
  },
  {
   "cell_type": "markdown",
   "metadata": {
    "hidden": true
   },
   "source": [
    " "
   ]
  },
  {
   "cell_type": "markdown",
   "metadata": {
    "hidden": true
   },
   "source": [
    "## Disperssão"
   ]
  },
  {
   "cell_type": "markdown",
   "metadata": {
    "hidden": true
   },
   "source": [
    " "
   ]
  },
  {
   "cell_type": "code",
   "execution_count": null,
   "metadata": {
    "hidden": true
   },
   "outputs": [],
   "source": []
  },
  {
   "cell_type": "code",
   "execution_count": 43,
   "metadata": {
    "hidden": true
   },
   "outputs": [
    {
     "data": {
      "text/plain": [
       "Text(0, 0.5, 'Circunferência')"
      ]
     },
     "execution_count": 43,
     "metadata": {},
     "output_type": "execute_result"
    },
    {
     "data": {
      "image/png": "[encoded data removed]",
      "text/plain": [
       "<Figure size 576x396 with 1 Axes>"
      ]
     },
     "metadata": {},
     "output_type": "display_data"
    }
   ],
   "source": [
    "#base7\n",
    "\n",
    "plt.scatter(base7.Girth, base7.Volume, color = 'blue', facecolors = 'none', marker = '*')\n",
    "plt.title('Árvores')\n",
    "plt.xlabel('Volume')\n",
    "plt.ylabel('Circunferência')"
   ]
  },
  {
   "cell_type": "code",
   "execution_count": 45,
   "metadata": {
    "hidden": true
   },
   "outputs": [
    {
     "data": {
      "text/plain": [
       "[<matplotlib.lines.Line2D at 0x2363a1d8cc8>]"
      ]
     },
     "execution_count": 45,
     "metadata": {},
     "output_type": "execute_result"
    },
    {
     "data": {
      "image/png": "[encoded data removed]",
      "text/plain": [
       "<Figure size 576x396 with 1 Axes>"
      ]
     },
     "metadata": {},
     "output_type": "display_data"
    }
   ],
   "source": [
    "plt.plot(base7.Girth, base7.Volume)"
   ]
  },
  {
   "cell_type": "code",
   "execution_count": 62,
   "metadata": {
    "hidden": true
   },
   "outputs": [
    {
     "data": {
      "text/plain": [
       "<matplotlib.legend.Legend at 0x2363a655308>"
      ]
     },
     "execution_count": 62,
     "metadata": {},
     "output_type": "execute_result"
    },
    {
     "data": {
      "image/png": "[encoded data removed]",
      "text/plain": [
       "<Figure size 576x396 with 1 Axes>"
      ]
     },
     "metadata": {},
     "output_type": "display_data"
    }
   ],
   "source": [
    "#CRIANDO NOVA COLUNA PARA EXEMPLO\n",
    "base7.shape\n",
    "tipos = np.random.choice(a=[\"A\",\"B\"],size = 31,replace=True, p = [0.4,0.6])\n",
    "base7_2 =  base7\n",
    "base7_2['tipos'] = tipos\n",
    "\n",
    "#PEGANDO OS TIPOS DE CATEGORIAS\n",
    "unicos = list(set(base7_2.tipos))\n",
    "\n",
    "#GERANDO O GRAFICO\n",
    "for i in range(len(unicos)):\n",
    "    indice = base7_2.tipos == unicos[i]\n",
    "    plt.scatter(base7_2.Height[indice], base7_2.Volume[indice], label = unicos[i])\n",
    "plt.legend(loc = 'lower right')"
   ]
  },
  {
   "cell_type": "code",
   "execution_count": 65,
   "metadata": {
    "hidden": true
   },
   "outputs": [
    {
     "data": {
      "text/plain": [
       "<matplotlib.axes._subplots.AxesSubplot at 0x2363a3cd9c8>"
      ]
     },
     "execution_count": 65,
     "metadata": {},
     "output_type": "execute_result"
    },
    {
     "data": {
      "image/png": "[encoded data removed]",
      "text/plain": [
       "<Figure size 576x396 with 1 Axes>"
      ]
     },
     "metadata": {},
     "output_type": "display_data"
    }
   ],
   "source": [
    "#USANDO SEABORN\n",
    "sns.scatterplot(base7_2.Height, base7_2.Volume, hue = base7_2.tipos)"
   ]
  },
  {
   "cell_type": "markdown",
   "metadata": {
    "hidden": true
   },
   "source": [
    " "
   ]
  },
  {
   "cell_type": "markdown",
   "metadata": {
    "hidden": true
   },
   "source": [
    "## PLOTAR MAIS DE UM GRAFICO JUNTO"
   ]
  },
  {
   "cell_type": "markdown",
   "metadata": {
    "hidden": true
   },
   "source": [
    " "
   ]
  },
  {
   "cell_type": "code",
   "execution_count": 67,
   "metadata": {
    "hidden": true
   },
   "outputs": [
    {
     "data": {
      "image/png": "[encoded data removed]",
      "text/plain": [
       "<Figure size 576x396 with 2 Axes>"
      ]
     },
     "metadata": {},
     "output_type": "display_data"
    }
   ],
   "source": [
    "plt.figure(1)\n",
    "plt.subplot(1,2,1)#linhas, colunas, nºdo grafico\n",
    "sns.scatterplot(base7_2.Height, base7_2.Volume, hue = base7_2.tipos).set_title('gráfico 1')\n",
    "plt.subplot(1,2,2)\n",
    "sns.scatterplot(base7_2.Height, base7_2.Volume, hue = base7_2.tipos).set_title('gráfico 2')\n",
    "plt.tight_layout()"
   ]
  },
  {
   "cell_type": "markdown",
   "metadata": {
    "hidden": true
   },
   "source": [
    " "
   ]
  },
  {
   "cell_type": "markdown",
   "metadata": {
    "heading_collapsed": true
   },
   "source": [
    "# 5.0 - MODELAGEM DOS DADOS"
   ]
  },
  {
   "cell_type": "markdown",
   "metadata": {
    "hidden": true
   },
   "source": [
    " "
   ]
  },
  {
   "cell_type": "code",
   "execution_count": null,
   "metadata": {
    "hidden": true
   },
   "outputs": [],
   "source": [
    "base1['class'].value_counts() #contagem do atributo class"
   ]
  },
  {
   "cell_type": "code",
   "execution_count": null,
   "metadata": {
    "hidden": true
   },
   "outputs": [],
   "source": [
    "#Remover coluna da base de dados\n",
    "base = base.drop('dateCrawled', axis = 1) #axis =1 significa a coluna toda"
   ]
  },
  {
   "cell_type": "code",
   "execution_count": null,
   "metadata": {
    "hidden": true
   },
   "outputs": [],
   "source": [
    "#SEPARA EM ATRIBUTOS E CLASSES\n",
    "previsores = base6.iloc[:,0:20].values   #.values converte para valores numpy\n",
    "classe = base6.iloc[:,20].values         #.values converte para valores numpy\n",
    "\n",
    "#outros exemplos (regressão)\n",
    "previsores = base.iloc[:, [0,1,2,3,7,8,9,10,11]].values\n",
    "venda_na = base.iloc[:, 4].values   #Saídas\n",
    "venda_eu = base.iloc[:, 5].values   #Saídas\n",
    "venda_jp = base.iloc[:, 6].values   #Saídas"
   ]
  },
  {
   "cell_type": "code",
   "execution_count": null,
   "metadata": {
    "hidden": true
   },
   "outputs": [],
   "source": [
    "#transformar atributos categoricos para numericos\n",
    "\n",
    "labelEncoder = LabelEncoder() \n",
    "previsores[:,0] = labelEncoder.fit_transform(previsores[:,0])\n",
    "previsores[:,1] = labelEncoder.fit_transform(previsores[:,1])\n",
    "previsores[:,3] = labelEncoder.fit_transform(previsores[:,3])\n",
    "previsores[:,5] = labelEncoder.fit_transform(previsores[:,5])\n",
    "previsores[:,8] = labelEncoder.fit_transform(previsores[:,8])\n",
    "previsores[:,9] = labelEncoder.fit_transform(previsores[:,9])\n",
    "previsores[:,10] = labelEncoder.fit_transform(previsores[:,10])\n",
    "\n",
    "# 0 0 0 4\n",
    "# 2 0 1 0\n",
    "# 3 0 0 1"
   ]
  },
  {
   "cell_type": "code",
   "execution_count": null,
   "metadata": {
    "hidden": true
   },
   "outputs": [],
   "source": [
    "#Atributos  -- DUMMY\n",
    "\n",
    "onehotencoder = OneHotEncoder(categorical_features = [0,1,3,5,8,9,10])\n",
    "previsores = onehotencoder.fit_transform(previsores).toarray()\n",
    "\n",
    "#Gera varius outros atributos com essas caracteristicas\n",
    "#atr 1  1 0 0\n",
    "#atr 2  0 1 0\n",
    "#atr 3  0 0 1"
   ]
  },
  {
   "cell_type": "code",
   "execution_count": null,
   "metadata": {
    "hidden": true
   },
   "outputs": [],
   "source": [
    "# Definindo as classes BINARIAS ESTANDO CATEGORICA(NESSE CASO BOOL)\n",
    "diabetes_map = {True : 1, False : 0}\n",
    "# Aplicando o mapeamento ao dataset\n",
    "df['diabetes'] = df['diabetes'].map(diabetes_map)\n",
    "# Verificando as primeiras linhas do dataset\n",
    "df.head(5)"
   ]
  },
  {
   "cell_type": "code",
   "execution_count": null,
   "metadata": {
    "hidden": true
   },
   "outputs": [],
   "source": [
    "#CONVERTER  AS SAIDAS CATEGORICAS PARA NUMERICAS - KERAS\n",
    "labelencoder = LabelEncoder()\n",
    "classe = labelencoder.fit_transform(classe) #TANSFORMA EM NUMEROS 1 2 3\n",
    "classe_dummy = np_utils.to_categorical(classe) #TRANSFORMA EM BINARIOS \n",
    "# iris setosa     1 0 0\n",
    "# iris virginica  0 1 0\n",
    "# iris versicolor 0 0 1"
   ]
  },
  {
   "cell_type": "code",
   "execution_count": null,
   "metadata": {
    "hidden": true
   },
   "outputs": [],
   "source": [
    "#NORMALIZADOR DE VARIAVEIS\n",
    "normalizador = MinMaxScaler(feature_range=(0,1)) #NORMALIZAÇÃO DOS VALORES \n",
    "base_treinamento_normalizada = normalizador.fit_transform(base_treinamento) #base_treinamento é a base de dados\n",
    "\n",
    "#USADO PARA FAZER PREVISÃO\n",
    "entradas = normalizador.transform(entradas) #NAO USA O FIT_TRANSFORM POIS QUERO USAR A MESMA NORMALIZAÇÃO\n",
    "#USADO PARA VISUALIZAR OS DADOS SEM A NORMALIZAÇÃO\n",
    "previsoes = normalizador.inverse_transform(previsoes) #REMOBVER A NORMALIZAÇÃO"
   ]
  },
  {
   "cell_type": "code",
   "execution_count": null,
   "metadata": {
    "hidden": true
   },
   "outputs": [],
   "source": [
    "#DIVIDIR DADOS EM TREINAMENTO E TESTE\n",
    "\n",
    "x_treinamento, x_teste, y_treinamento, y_teste = train_test_split(previsores, classe, test_size = 0.3, random_state = 0)\n",
    "\n",
    "#y sao as saidas\n",
    "#x sao as entradas"
   ]
  },
  {
   "cell_type": "markdown",
   "metadata": {
    "hidden": true
   },
   "source": [
    " "
   ]
  },
  {
   "cell_type": "markdown",
   "metadata": {
    "hidden": true
   },
   "source": [
    "### Tratamento para Imagens"
   ]
  },
  {
   "cell_type": "markdown",
   "metadata": {
    "hidden": true
   },
   "source": [
    " "
   ]
  },
  {
   "cell_type": "code",
   "execution_count": null,
   "metadata": {
    "hidden": true
   },
   "outputs": [],
   "source": [
    "#BASE MNIST\n",
    "previsores_treinamento = X_treinamento.reshape(X_treinamento.shape[0],28, 28, 1)        #shape[0] = 60000 ||(60000,28,28)\n",
    "previsores_teste = X_teste.reshape(X_teste.shape[0], 28, 28, 1)                         # 28,28,1 -> 28x28 com 1 canal"
   ]
  },
  {
   "cell_type": "code",
   "execution_count": null,
   "metadata": {
    "hidden": true
   },
   "outputs": [],
   "source": [
    "previsores_treinamento = previsores_treinamento.astype('float32') #mudar para float\n",
    "previsores_teste = previsores_teste.astype('float32') #mudar para float"
   ]
  },
  {
   "cell_type": "code",
   "execution_count": null,
   "metadata": {
    "hidden": true
   },
   "outputs": [],
   "source": [
    "previsores_treinamento /= 255 #normalização entre 0 e 1\n",
    "previsores_teste /= 255"
   ]
  },
  {
   "cell_type": "code",
   "execution_count": null,
   "metadata": {
    "hidden": true
   },
   "outputs": [],
   "source": [
    "classe_treinamento = np_utils.to_categorical(y_treinamento, 10) #dummy\n",
    "classe_teste = np_utils.to_categorical(y_teste, 10) #dummy"
   ]
  },
  {
   "cell_type": "code",
   "execution_count": null,
   "metadata": {
    "hidden": true
   },
   "outputs": [],
   "source": []
  },
  {
   "cell_type": "code",
   "execution_count": null,
   "metadata": {
    "hidden": true
   },
   "outputs": [],
   "source": []
  },
  {
   "cell_type": "code",
   "execution_count": null,
   "metadata": {
    "hidden": true
   },
   "outputs": [],
   "source": []
  },
  {
   "cell_type": "code",
   "execution_count": null,
   "metadata": {
    "hidden": true
   },
   "outputs": [],
   "source": []
  },
  {
   "cell_type": "code",
   "execution_count": null,
   "metadata": {
    "hidden": true
   },
   "outputs": [],
   "source": []
  },
  {
   "cell_type": "code",
   "execution_count": null,
   "metadata": {
    "hidden": true
   },
   "outputs": [],
   "source": [
    "#TRANSFORMAR DATAFRAME EM LISTA DE LISTAS --> REGRAS DE ASSOCIAÇÃO\n",
    "transacao = []\n",
    "for i in range(0,6):\n",
    "    transacao.append([str(dados.values[i,j])for j in range(0,3)]) "
   ]
  },
  {
   "cell_type": "code",
   "execution_count": null,
   "metadata": {
    "hidden": true
   },
   "outputs": [],
   "source": []
  },
  {
   "cell_type": "code",
   "execution_count": null,
   "metadata": {
    "hidden": true
   },
   "outputs": [],
   "source": []
  },
  {
   "cell_type": "markdown",
   "metadata": {
    "hidden": true
   },
   "source": [
    " "
   ]
  },
  {
   "cell_type": "markdown",
   "metadata": {
    "heading_collapsed": true
   },
   "source": [
    "# 6.0 - MODELOS"
   ]
  },
  {
   "cell_type": "markdown",
   "metadata": {
    "hidden": true
   },
   "source": [
    " "
   ]
  },
  {
   "cell_type": "markdown",
   "metadata": {
    "heading_collapsed": true,
    "hidden": true
   },
   "source": [
    "## 6.1 - Apredizagem Supervisionada"
   ]
  },
  {
   "cell_type": "markdown",
   "metadata": {
    "hidden": true
   },
   "source": [
    " "
   ]
  },
  {
   "cell_type": "markdown",
   "metadata": {
    "heading_collapsed": true,
    "hidden": true
   },
   "source": [
    "### Regressão"
   ]
  },
  {
   "cell_type": "markdown",
   "metadata": {
    "hidden": true
   },
   "source": [
    " "
   ]
  },
  {
   "cell_type": "code",
   "execution_count": null,
   "metadata": {
    "hidden": true
   },
   "outputs": [],
   "source": [
    "# Criando o modelo regressor usando KERAS\n",
    "\n",
    "regressor = Sequential()\n",
    "\n",
    "regressor.add(Dense(units = 158, activation = 'relu', input_dim = 316))\n",
    "\n",
    "regressor.add(Dense(units = 158, activation = 'relu'))\n",
    "\n",
    "regressor.add(Dense(units = 1, activation = 'linear'))"
   ]
  },
  {
   "cell_type": "code",
   "execution_count": null,
   "metadata": {
    "hidden": true
   },
   "outputs": [],
   "source": [
    "#Compilar modelo\n",
    "\n",
    "regressor.compile(loss = 'mean_absolute_error', \n",
    "                  optimizer = 'adam',\n",
    "                  metrics = ['mean_absolute_error'])"
   ]
  },
  {
   "cell_type": "code",
   "execution_count": null,
   "metadata": {
    "hidden": true
   },
   "outputs": [],
   "source": [
    "#Treinar modelo\n",
    "\n",
    "regressor.fit(previsores, preco_real, batch_size = 300, epochs = 100) #preco_real é a variavel que queremos prever"
   ]
  },
  {
   "cell_type": "code",
   "execution_count": null,
   "metadata": {
    "hidden": true
   },
   "outputs": [],
   "source": [
    "previsoes = regressor.predict(previsores)\n",
    "print(preco_real.mean())\n",
    "print(previsoes.mean())"
   ]
  },
  {
   "cell_type": "markdown",
   "metadata": {
    "hidden": true
   },
   "source": [
    " "
   ]
  },
  {
   "cell_type": "markdown",
   "metadata": {
    "heading_collapsed": true,
    "hidden": true
   },
   "source": [
    "###### Avaliação "
   ]
  },
  {
   "cell_type": "markdown",
   "metadata": {
    "hidden": true
   },
   "source": [
    " "
   ]
  },
  {
   "cell_type": "code",
   "execution_count": null,
   "metadata": {
    "hidden": true
   },
   "outputs": [],
   "source": []
  },
  {
   "cell_type": "code",
   "execution_count": null,
   "metadata": {
    "hidden": true
   },
   "outputs": [],
   "source": []
  },
  {
   "cell_type": "markdown",
   "metadata": {
    "hidden": true
   },
   "source": [
    " "
   ]
  },
  {
   "cell_type": "markdown",
   "metadata": {
    "heading_collapsed": true,
    "hidden": true
   },
   "source": [
    "###  *** Regressão  COM VALIDAÇÃO CRUZADA"
   ]
  },
  {
   "cell_type": "markdown",
   "metadata": {
    "hidden": true
   },
   "source": [
    " "
   ]
  },
  {
   "cell_type": "code",
   "execution_count": null,
   "metadata": {
    "hidden": true
   },
   "outputs": [],
   "source": [
    "# Criando o modelo regressor usando KERAS\n",
    "\n",
    "def criar_rede():\n",
    "    regressor = Sequential()\n",
    "    regressor.add(Dense(units = 158, activation = 'relu', input_dim = 316))\n",
    "    \n",
    "    regressor.add(Dense(units = 158, activation = 'relu'))\n",
    "    \n",
    "    regressor.add(Dense(units = 1, activation = 'linear'))\n",
    "    \n",
    "    regressor.compile(loss = 'mean_absolute_error', \n",
    "                      optimizer = 'adam',\n",
    "                      metrics = ['mean_absolute_error'])\n",
    "    \n",
    "    return regressor"
   ]
  },
  {
   "cell_type": "code",
   "execution_count": null,
   "metadata": {
    "hidden": true
   },
   "outputs": [],
   "source": [
    "regressor = KerasRegressor(build_fn = criar_rede,\n",
    "                           epochs = 100,\n",
    "                           batch_size = 300)"
   ]
  },
  {
   "cell_type": "code",
   "execution_count": null,
   "metadata": {
    "hidden": true
   },
   "outputs": [],
   "source": [
    "resultados = cross_val_score(estimator = regressor,\n",
    "                             X = previsores, \n",
    "                             y = preco_real,\n",
    "                             cv = 10, \n",
    "                             scoring = 'neg_mean_absolute_error')"
   ]
  },
  {
   "cell_type": "markdown",
   "metadata": {
    "hidden": true
   },
   "source": [
    " "
   ]
  },
  {
   "cell_type": "markdown",
   "metadata": {
    "heading_collapsed": true,
    "hidden": true
   },
   "source": [
    "##### Avaliação "
   ]
  },
  {
   "cell_type": "markdown",
   "metadata": {
    "hidden": true
   },
   "source": [
    " "
   ]
  },
  {
   "cell_type": "code",
   "execution_count": null,
   "metadata": {
    "hidden": true
   },
   "outputs": [],
   "source": [
    "media = resultados.mean()\n",
    "desvio = resultados.std()\n",
    "print(media)\n",
    "print(desvio)"
   ]
  },
  {
   "cell_type": "markdown",
   "metadata": {
    "hidden": true
   },
   "source": [
    " "
   ]
  },
  {
   "cell_type": "markdown",
   "metadata": {
    "heading_collapsed": true,
    "hidden": true
   },
   "source": [
    "#### TUNING DOS PARAMENTROS"
   ]
  },
  {
   "cell_type": "markdown",
   "metadata": {
    "hidden": true
   },
   "source": [
    " "
   ]
  },
  {
   "cell_type": "code",
   "execution_count": null,
   "metadata": {
    "hidden": true
   },
   "outputs": [],
   "source": [
    "def criarRede(optimizer, loos,):\n",
    "    \n",
    "    regressor = Sequential()\n",
    "    \n",
    "    regressor.add(Dense(units = 158, activation = 'relu', input_dim = 316))\n",
    "    regressor.add(Dropout(0.2))\n",
    "    \n",
    "    regressor.add(Dense(units = 158, activation =  'relu'))\n",
    "    regressor.add(Dropout(0.2))\n",
    "    \n",
    "    regressor.add(Dense(units = 1, activation = 'linear'))\n",
    "    \n",
    "    regressor.compile(optimizer = optimizer, \n",
    "                      loss = loos,\n",
    "                      metrics = ['mean_absolute_error'])\n",
    "    return regressor\n",
    "\n",
    "# Não é necessário alterar o parâmetro metrics pois ele é usado somente para \n",
    "# mostrar o resultado e de fato ele não é utilizado no treinamento da rede neural"
   ]
  },
  {
   "cell_type": "code",
   "execution_count": null,
   "metadata": {
    "hidden": true
   },
   "outputs": [],
   "source": [
    "regressor = KerasRegressor(build_fn = criarRede)"
   ]
  },
  {
   "cell_type": "code",
   "execution_count": null,
   "metadata": {
    "hidden": true
   },
   "outputs": [],
   "source": [
    "parametros = {'optimizer': ['adam'],\n",
    "              'loos': ['mean_squared_error' , 'mean_absolute_error' , 'mean_absolute_percentage_error' , 'mean_squared_logarithmic_error'],\n",
    "              }"
   ]
  },
  {
   "cell_type": "code",
   "execution_count": null,
   "metadata": {
    "hidden": true
   },
   "outputs": [],
   "source": [
    "grid_search = GridSearchCV(estimator = regressor,\n",
    "                           param_grid = parametros,\n",
    "                           cv = 2)"
   ]
  },
  {
   "cell_type": "code",
   "execution_count": null,
   "metadata": {
    "hidden": true
   },
   "outputs": [],
   "source": [
    "grid_search = grid_search.fit(previsores, preco_real, epochs = 1000, batch_size = 500)"
   ]
  },
  {
   "cell_type": "code",
   "execution_count": null,
   "metadata": {
    "hidden": true
   },
   "outputs": [],
   "source": [
    "melhores_parametros = grid_search.best_params_\n",
    "melhor_precisao = grid_search.best_score_\n",
    "\n",
    "print(melhores_parametros)\n",
    "print(melhor_precisao)"
   ]
  },
  {
   "cell_type": "markdown",
   "metadata": {
    "hidden": true
   },
   "source": [
    " "
   ]
  },
  {
   "cell_type": "markdown",
   "metadata": {
    "heading_collapsed": true,
    "hidden": true
   },
   "source": [
    "###  *** Regressão  Multiplas saídas"
   ]
  },
  {
   "cell_type": "markdown",
   "metadata": {
    "hidden": true
   },
   "source": [
    " "
   ]
  },
  {
   "cell_type": "code",
   "execution_count": null,
   "metadata": {
    "hidden": true
   },
   "outputs": [],
   "source": [
    "#NOVA FORMA DE CONSTRUIR UMA REDE NEURAL COM KERAS -- SEM USAR O Sequential()\n",
    "camada_entrada = Input(shape=(61,))\n",
    "camada_oculta1 = Dense(units = 32, activation = 'sigmoid')(camada_entrada)\n",
    "camada_oculta2 = Dense(units = 32, activation = 'sigmoid')(camada_oculta1)\n",
    "camada_saida1 = Dense(units = 1, activation = 'linear')(camada_oculta2)\n",
    "camada_saida2 = Dense(units = 1, activation = 'linear')(camada_oculta2)\n",
    "camada_saida3 = Dense(units = 1, activation = 'linear')(camada_oculta2)"
   ]
  },
  {
   "cell_type": "code",
   "execution_count": null,
   "metadata": {
    "hidden": true
   },
   "outputs": [],
   "source": [
    "regressor = Model(inputs = camada_entrada,\n",
    "                  outputs = [camada_saida1, camada_saida2, camada_saida3])"
   ]
  },
  {
   "cell_type": "code",
   "execution_count": null,
   "metadata": {
    "hidden": true
   },
   "outputs": [],
   "source": [
    "regressor.compile(optimizer = 'adam',\n",
    "                  loss = 'mse')"
   ]
  },
  {
   "cell_type": "code",
   "execution_count": null,
   "metadata": {
    "hidden": true
   },
   "outputs": [],
   "source": [
    "regressor.fit(previsores, \n",
    "              [venda_na, venda_eu, venda_jp], #As 3 saídas\n",
    "              epochs = 5000, \n",
    "              batch_size = 100)"
   ]
  },
  {
   "cell_type": "code",
   "execution_count": null,
   "metadata": {
    "hidden": true
   },
   "outputs": [],
   "source": [
    "previsao_na, previsao_eu, previsao_jp = regressor.predict(previsores)\n",
    "print(previsao_na[0])\n",
    "print(previsao_eu[0])\n",
    "print(previsao_jp[0])"
   ]
  },
  {
   "cell_type": "code",
   "execution_count": null,
   "metadata": {
    "hidden": true
   },
   "outputs": [],
   "source": [
    "print(venda_na[0])\n",
    "print(venda_eu[0])\n",
    "print(venda_jp[0])"
   ]
  },
  {
   "cell_type": "markdown",
   "metadata": {
    "hidden": true
   },
   "source": [
    " "
   ]
  },
  {
   "cell_type": "markdown",
   "metadata": {
    "heading_collapsed": true,
    "hidden": true
   },
   "source": [
    "### Classificação"
   ]
  },
  {
   "cell_type": "markdown",
   "metadata": {
    "hidden": true
   },
   "source": [
    " "
   ]
  },
  {
   "cell_type": "markdown",
   "metadata": {
    "heading_collapsed": true,
    "hidden": true
   },
   "source": [
    "#### *** Naive Bayes"
   ]
  },
  {
   "cell_type": "markdown",
   "metadata": {
    "hidden": true
   },
   "source": [
    " "
   ]
  },
  {
   "cell_type": "code",
   "execution_count": null,
   "metadata": {
    "hidden": true
   },
   "outputs": [],
   "source": [
    "# Criando o modelo preditivo usando SCIKIT-LEARN\n",
    "modelo_nb1 = GaussianNB()"
   ]
  },
  {
   "cell_type": "code",
   "execution_count": null,
   "metadata": {
    "hidden": true
   },
   "outputs": [],
   "source": [
    "# Treinando o modelo\n",
    "modelo_nb1.fit(X_treino, Y_treino.ravel())"
   ]
  },
  {
   "cell_type": "markdown",
   "metadata": {
    "hidden": true
   },
   "source": [
    " "
   ]
  },
  {
   "cell_type": "markdown",
   "metadata": {
    "hidden": true
   },
   "source": [
    "##### Verificando a exatidão no modelo nos dados de teste"
   ]
  },
  {
   "cell_type": "markdown",
   "metadata": {
    "hidden": true
   },
   "source": [
    " "
   ]
  },
  {
   "cell_type": "code",
   "execution_count": null,
   "metadata": {
    "hidden": true
   },
   "outputs": [],
   "source": [
    "nb1_predict_train = modelo_nb1.predict(X_teste)"
   ]
  },
  {
   "cell_type": "code",
   "execution_count": null,
   "metadata": {
    "hidden": true
   },
   "outputs": [],
   "source": [
    "print(\"Exatidão (Accuracy): {0:.4f}\".format(metrics.accuracy_score(Y_treino, nb_predict_train)))\n",
    "print()"
   ]
  },
  {
   "cell_type": "markdown",
   "metadata": {
    "hidden": true
   },
   "source": [
    " "
   ]
  },
  {
   "cell_type": "markdown",
   "metadata": {
    "hidden": true
   },
   "source": [
    "##### Matriz de Confusão"
   ]
  },
  {
   "cell_type": "markdown",
   "metadata": {
    "hidden": true
   },
   "source": [
    " "
   ]
  },
  {
   "cell_type": "code",
   "execution_count": null,
   "metadata": {
    "hidden": true
   },
   "outputs": [],
   "source": [
    "# Criando uma Confusion Matrix\n",
    "print(\"Confusion Matrix\")\n",
    "\n",
    "print(\"{0}\".format(metrics.confusion_matrix(Y_teste, nb_predict_test, labels = [1, 0])))\n",
    "print(\"\")\n",
    "\n",
    "print(\"Classification Report\")\n",
    "print(metrics.classification_report(Y_teste, nb_predict_test, labels = [1, 0]))"
   ]
  },
  {
   "cell_type": "markdown",
   "metadata": {
    "hidden": true
   },
   "source": [
    " "
   ]
  },
  {
   "cell_type": "markdown",
   "metadata": {
    "heading_collapsed": true,
    "hidden": true
   },
   "source": [
    "####  *** Random Forest Classifier"
   ]
  },
  {
   "cell_type": "markdown",
   "metadata": {
    "hidden": true
   },
   "source": [
    " "
   ]
  },
  {
   "cell_type": "code",
   "execution_count": null,
   "metadata": {
    "hidden": true
   },
   "outputs": [],
   "source": [
    "# Criando o modelo preditivo usando SCIKIT-LEARN\n",
    "modelo_rfc1 = RandomForestClassifier(random_state = 42)\n",
    "\n",
    "# Treinando o modelo\n",
    "modelo_rfc1.fit(X_treino, Y_treino.ravel())"
   ]
  },
  {
   "cell_type": "markdown",
   "metadata": {
    "hidden": true
   },
   "source": [
    " "
   ]
  },
  {
   "cell_type": "markdown",
   "metadata": {
    "hidden": true
   },
   "source": [
    "##### Verificando a exatidão no modelo nos dados de teste"
   ]
  },
  {
   "cell_type": "markdown",
   "metadata": {
    "hidden": true
   },
   "source": [
    " "
   ]
  },
  {
   "cell_type": "code",
   "execution_count": null,
   "metadata": {
    "hidden": true
   },
   "outputs": [],
   "source": [
    "# Verificando nos dados de teste\n",
    "rfc_predict_test = modelo_rfc1.predict(X_teste)\n",
    "print(\"Exatidão (Accuracy): {0:.4f}\".format(metrics.accuracy_score(Y_teste, rfc_predict_test)))\n",
    "print()"
   ]
  },
  {
   "cell_type": "markdown",
   "metadata": {
    "hidden": true
   },
   "source": [
    " "
   ]
  },
  {
   "cell_type": "markdown",
   "metadata": {
    "hidden": true
   },
   "source": [
    "##### Matriz de Confusão"
   ]
  },
  {
   "cell_type": "markdown",
   "metadata": {
    "hidden": true
   },
   "source": [
    " "
   ]
  },
  {
   "cell_type": "code",
   "execution_count": null,
   "metadata": {
    "hidden": true
   },
   "outputs": [],
   "source": [
    "# Criando uma Confusion Matrix\n",
    "print(\"Confusion Matrix\")\n",
    "\n",
    "print(\"{0}\".format(metrics.confusion_matrix(Y_teste, rfc_predict_test, labels = [1, 0])))\n",
    "print(\"\")\n",
    "\n",
    "print(\"Classification Report\")\n",
    "print(metrics.classification_report(Y_teste, rfc_predict_test, labels = [1, 0]))"
   ]
  },
  {
   "cell_type": "code",
   "execution_count": null,
   "metadata": {
    "hidden": true
   },
   "outputs": [],
   "source": [
    "#Estimadores do Modelo\n",
    "modelo_rfc1.estimators_[1]"
   ]
  },
  {
   "cell_type": "markdown",
   "metadata": {
    "hidden": true
   },
   "source": [
    " "
   ]
  },
  {
   "cell_type": "markdown",
   "metadata": {
    "heading_collapsed": true,
    "hidden": true
   },
   "source": [
    "####  *** Regressão Logística"
   ]
  },
  {
   "cell_type": "markdown",
   "metadata": {
    "hidden": true
   },
   "source": [
    " "
   ]
  },
  {
   "cell_type": "code",
   "execution_count": null,
   "metadata": {
    "hidden": true
   },
   "outputs": [],
   "source": [
    "# Criando o modelo preditivo usando SCIKIT-LEARN\n",
    "modelo_rl1 = LogisticRegression(C = 0.7, random_state = 42)\n",
    "\n",
    "# Treinando o modelo\n",
    "modelo_rl1.fit(X_treino, Y_treino.ravel())"
   ]
  },
  {
   "cell_type": "markdown",
   "metadata": {
    "hidden": true
   },
   "source": [
    " "
   ]
  },
  {
   "cell_type": "markdown",
   "metadata": {
    "hidden": true
   },
   "source": [
    "##### Verificando a exatidão no modelo nos dados de teste"
   ]
  },
  {
   "cell_type": "markdown",
   "metadata": {
    "hidden": true
   },
   "source": [
    " "
   ]
  },
  {
   "cell_type": "code",
   "execution_count": null,
   "metadata": {
    "hidden": true
   },
   "outputs": [],
   "source": [
    "# Verificando nos dados de teste\n",
    "rl1_predict_test = modelo_v3.predict(X_teste)"
   ]
  },
  {
   "cell_type": "code",
   "execution_count": null,
   "metadata": {
    "hidden": true
   },
   "outputs": [],
   "source": [
    "print(\"Exatidão (Accuracy): {0:.4f}\".format(metrics.accuracy_score(Y_teste, rl1_predict_test)))\n",
    "print()"
   ]
  },
  {
   "cell_type": "markdown",
   "metadata": {
    "hidden": true
   },
   "source": [
    " "
   ]
  },
  {
   "cell_type": "markdown",
   "metadata": {
    "hidden": true
   },
   "source": [
    "##### Matriz de Confusão"
   ]
  },
  {
   "cell_type": "markdown",
   "metadata": {
    "hidden": true
   },
   "source": [
    " "
   ]
  },
  {
   "cell_type": "code",
   "execution_count": null,
   "metadata": {
    "hidden": true
   },
   "outputs": [],
   "source": [
    "# Criando uma Confusion Matrix\n",
    "print(\"Confusion Matrix\")\n",
    "\n",
    "print(\"{0}\".format(metrics.confusion_matrix(Y_teste, rl1_predict_test, labels = [1, 0])))\n",
    "print(\"\")\n",
    "\n",
    "print(\"Classification Report\")\n",
    "print(metrics.classification_report(Y_teste, rl1_predict_test, labels = [1, 0]))"
   ]
  },
  {
   "cell_type": "markdown",
   "metadata": {
    "hidden": true
   },
   "source": [
    " "
   ]
  },
  {
   "cell_type": "markdown",
   "metadata": {
    "heading_collapsed": true,
    "hidden": true
   },
   "source": [
    "####  *** Aprendizado por instância (KNN)"
   ]
  },
  {
   "cell_type": "markdown",
   "metadata": {
    "hidden": true
   },
   "source": [
    " "
   ]
  },
  {
   "cell_type": "code",
   "execution_count": null,
   "metadata": {
    "hidden": true
   },
   "outputs": [],
   "source": [
    "# Criando o modelo preditivo usando SCIKIT-LEARN\n",
    "modelo_knn1 = KNeighborsClassifier(n_neighbors = 3)\n",
    "\n",
    "# Treinando o modelo\n",
    "modelo_knn1.fit(x_treinamento, y_treinamento)"
   ]
  },
  {
   "cell_type": "code",
   "execution_count": null,
   "metadata": {
    "hidden": true
   },
   "outputs": [],
   "source": [
    "previsao = modelo_knn1.predict(x_teste)\n",
    "previsao"
   ]
  },
  {
   "cell_type": "markdown",
   "metadata": {
    "hidden": true
   },
   "source": [
    " "
   ]
  },
  {
   "cell_type": "markdown",
   "metadata": {
    "hidden": true
   },
   "source": [
    "##### Verificando a exatidão no modelo nos dados de teste"
   ]
  },
  {
   "cell_type": "markdown",
   "metadata": {
    "hidden": true
   },
   "source": [
    " "
   ]
  },
  {
   "cell_type": "code",
   "execution_count": null,
   "metadata": {
    "hidden": true
   },
   "outputs": [],
   "source": [
    "taxa_acerto = accuracy_score(y_teste, previsao)\n",
    "taxa_erro = 1 - taxa_acerto\n",
    "taxa_acerto"
   ]
  },
  {
   "cell_type": "markdown",
   "metadata": {
    "hidden": true
   },
   "source": [
    " "
   ]
  },
  {
   "cell_type": "markdown",
   "metadata": {
    "hidden": true
   },
   "source": [
    "##### Matriz de Confusão"
   ]
  },
  {
   "cell_type": "markdown",
   "metadata": {
    "hidden": true
   },
   "source": [
    " "
   ]
  },
  {
   "cell_type": "code",
   "execution_count": null,
   "metadata": {
    "hidden": true
   },
   "outputs": [],
   "source": [
    "# Criando uma Confusion Matrix\n",
    "print(\"Confusion Matrix\")\n",
    "confusao = confusion_matrix(y_teste, previsao)\n",
    "confusao"
   ]
  },
  {
   "cell_type": "markdown",
   "metadata": {
    "hidden": true
   },
   "source": [
    " "
   ]
  },
  {
   "cell_type": "markdown",
   "metadata": {
    "heading_collapsed": true,
    "hidden": true
   },
   "source": [
    "#### *** Árvore de Decisão"
   ]
  },
  {
   "cell_type": "markdown",
   "metadata": {
    "hidden": true
   },
   "source": [
    " "
   ]
  },
  {
   "cell_type": "code",
   "execution_count": null,
   "metadata": {
    "hidden": true
   },
   "outputs": [],
   "source": [
    "# Criando o modelo preditivo usando SCIKIT-LEARN\n",
    "modelo_arvore = DecisionTreeClassifier()\n",
    "\n",
    "# Treinando o modelo\n",
    "modelo_arvore.fit(x_treinamento,y_treinamento)"
   ]
  },
  {
   "cell_type": "code",
   "execution_count": null,
   "metadata": {
    "hidden": true
   },
   "outputs": [],
   "source": [
    "export_graphviz(modelo_arvore, out_file = 'tree.dot')\n",
    "#gera um arquivo na raiz. Copiar o que esta neste arquivo e colar nese site: www.graphvoz.com  para gerar o desenho da arvore"
   ]
  },
  {
   "cell_type": "code",
   "execution_count": null,
   "metadata": {
    "hidden": true
   },
   "outputs": [],
   "source": [
    "previsao = modelo_arvore.predict(x_teste)\n",
    "previsao"
   ]
  },
  {
   "cell_type": "markdown",
   "metadata": {
    "hidden": true
   },
   "source": [
    " "
   ]
  },
  {
   "cell_type": "markdown",
   "metadata": {
    "hidden": true
   },
   "source": [
    "##### Verificando a exatidão no modelo nos dados de teste"
   ]
  },
  {
   "cell_type": "markdown",
   "metadata": {
    "hidden": true
   },
   "source": [
    " "
   ]
  },
  {
   "cell_type": "code",
   "execution_count": null,
   "metadata": {
    "hidden": true
   },
   "outputs": [],
   "source": [
    "taxa_acerto = accuracy_score(y_teste, previsao)\n",
    "taxa_erro = 1 - taxa_acerto\n",
    "taxa_acerto"
   ]
  },
  {
   "cell_type": "markdown",
   "metadata": {
    "hidden": true
   },
   "source": [
    " "
   ]
  },
  {
   "cell_type": "markdown",
   "metadata": {
    "hidden": true
   },
   "source": [
    "##### Matriz de Confusão"
   ]
  },
  {
   "cell_type": "markdown",
   "metadata": {
    "hidden": true
   },
   "source": [
    " "
   ]
  },
  {
   "cell_type": "code",
   "execution_count": null,
   "metadata": {
    "hidden": true
   },
   "outputs": [],
   "source": [
    "# Criando uma Confusion Matrix\n",
    "print(\"Confusion Matrix\")\n",
    "confusao = confusion_matrix(y_teste, previsao)\n",
    "confusao"
   ]
  },
  {
   "cell_type": "markdown",
   "metadata": {
    "hidden": true
   },
   "source": [
    " "
   ]
  },
  {
   "cell_type": "markdown",
   "metadata": {
    "heading_collapsed": true,
    "hidden": true
   },
   "source": [
    "####  *** SVM"
   ]
  },
  {
   "cell_type": "markdown",
   "metadata": {
    "hidden": true
   },
   "source": [
    " "
   ]
  },
  {
   "cell_type": "code",
   "execution_count": null,
   "metadata": {
    "hidden": true
   },
   "outputs": [],
   "source": [
    "# Criando o modelo preditivo usando SCIKIT-LEARN\n",
    "svm = SVC()\n",
    "\n",
    "# Treinando o modelo\n",
    "svm.fit(x_treinamento, y_treinamento)"
   ]
  },
  {
   "cell_type": "code",
   "execution_count": null,
   "metadata": {
    "hidden": true
   },
   "outputs": [],
   "source": [
    "previsao = svm.predict(x_teste)"
   ]
  },
  {
   "cell_type": "markdown",
   "metadata": {
    "hidden": true
   },
   "source": [
    " "
   ]
  },
  {
   "cell_type": "markdown",
   "metadata": {
    "hidden": true
   },
   "source": [
    "##### Verificando a exatidão no modelo nos dados de teste"
   ]
  },
  {
   "cell_type": "markdown",
   "metadata": {
    "hidden": true
   },
   "source": [
    " "
   ]
  },
  {
   "cell_type": "code",
   "execution_count": null,
   "metadata": {
    "hidden": true
   },
   "outputs": [],
   "source": [
    "taxa_acerto = accuracy_score(y_teste, previsao)\n",
    "taxa_acerto"
   ]
  },
  {
   "cell_type": "markdown",
   "metadata": {
    "hidden": true
   },
   "source": [
    " "
   ]
  },
  {
   "cell_type": "markdown",
   "metadata": {
    "hidden": true
   },
   "source": [
    "##### Matriz de Confusão"
   ]
  },
  {
   "cell_type": "markdown",
   "metadata": {
    "hidden": true
   },
   "source": [
    " "
   ]
  },
  {
   "cell_type": "code",
   "execution_count": null,
   "metadata": {
    "hidden": true
   },
   "outputs": [],
   "source": [
    "# Criando uma Confusion Matrix\n",
    "print(\"Confusion Matrix\")\n",
    "confusao = confusion_matrix(y_teste, previsao)\n",
    "confusao"
   ]
  },
  {
   "cell_type": "markdown",
   "metadata": {
    "hidden": true
   },
   "source": [
    " "
   ]
  },
  {
   "cell_type": "markdown",
   "metadata": {
    "heading_collapsed": true,
    "hidden": true
   },
   "source": [
    "### 6.1.2 -  REDES NEURAIS "
   ]
  },
  {
   "cell_type": "markdown",
   "metadata": {
    "hidden": true
   },
   "source": [
    " "
   ]
  },
  {
   "cell_type": "markdown",
   "metadata": {
    "heading_collapsed": true,
    "hidden": true
   },
   "source": [
    "####  *** RNA - Redes Neurais Artificiais"
   ]
  },
  {
   "cell_type": "markdown",
   "metadata": {
    "hidden": true
   },
   "source": [
    " "
   ]
  },
  {
   "cell_type": "code",
   "execution_count": null,
   "metadata": {
    "hidden": true
   },
   "outputs": [],
   "source": [
    "# Criando o modelo preditivo usando KERAS\n",
    "modelo = Sequential()  #uma camada apos a outra\n",
    "\n",
    "modelo.add(Dense(units = 5, activation = 'relu', input_dim = 4)) #5 camadas ocultas + 4 entrada\n",
    "modelo.add(Dropout(0.2))\n",
    "\n",
    "modelo.add(Dense(units = 4,  activation = 'relu'))# camada de oculta 2\n",
    "modelo.add(Dropout(0.2))\n",
    "\n",
    "modelo.add(Dense(units = 3, activation = 'softmax')) #camada de saida"
   ]
  },
  {
   "cell_type": "code",
   "execution_count": null,
   "metadata": {
    "hidden": true
   },
   "outputs": [],
   "source": [
    "#softmax -> Classificação Categórica\n",
    "#sigmoid - >Classificação Binária"
   ]
  },
  {
   "cell_type": "markdown",
   "metadata": {
    "hidden": true
   },
   "source": [
    " "
   ]
  },
  {
   "cell_type": "markdown",
   "metadata": {
    "heading_collapsed": true,
    "hidden": true
   },
   "source": [
    "##### Ver Modelo"
   ]
  },
  {
   "cell_type": "markdown",
   "metadata": {
    "hidden": true
   },
   "source": [
    " "
   ]
  },
  {
   "cell_type": "code",
   "execution_count": null,
   "metadata": {
    "hidden": true
   },
   "outputs": [],
   "source": [
    "modelo.summary()"
   ]
  },
  {
   "cell_type": "markdown",
   "metadata": {
    "hidden": true
   },
   "source": [
    " "
   ]
  },
  {
   "cell_type": "markdown",
   "metadata": {
    "heading_collapsed": true,
    "hidden": true
   },
   "source": [
    "##### Compilar Modelo\n"
   ]
  },
  {
   "cell_type": "markdown",
   "metadata": {
    "hidden": true
   },
   "source": [
    " "
   ]
  },
  {
   "cell_type": "code",
   "execution_count": null,
   "metadata": {
    "hidden": true
   },
   "outputs": [],
   "source": [
    "#Classificação Binária\n",
    "classificador.compile(optimizer = 'adam', \n",
    "                      loss = 'binary_crossentropy',\n",
    "                      metrics = ['binary_accuracy'])"
   ]
  },
  {
   "cell_type": "code",
   "execution_count": null,
   "metadata": {
    "hidden": true
   },
   "outputs": [],
   "source": [
    "#Classificação Categórica\n",
    "modelo.compile(optimizer = 'adam', \n",
    "               loss = 'categorical_crossentropy', \n",
    "               metrics = ['accuracy'])"
   ]
  },
  {
   "cell_type": "markdown",
   "metadata": {
    "hidden": true
   },
   "source": [
    " "
   ]
  },
  {
   "cell_type": "markdown",
   "metadata": {
    "heading_collapsed": true,
    "hidden": true
   },
   "source": [
    "##### Treinar Modelo\n"
   ]
  },
  {
   "cell_type": "markdown",
   "metadata": {
    "hidden": true
   },
   "source": [
    " "
   ]
  },
  {
   "cell_type": "code",
   "execution_count": null,
   "metadata": {
    "hidden": true
   },
   "outputs": [],
   "source": [
    "historico = modelo.fit(X_treinamento, \n",
    "                       y_treinamento, \n",
    "                       epochs = 1000, \n",
    "                       validation_data = (X_teste, y_teste))"
   ]
  },
  {
   "cell_type": "markdown",
   "metadata": {
    "hidden": true
   },
   "source": [
    " "
   ]
  },
  {
   "cell_type": "markdown",
   "metadata": {
    "heading_collapsed": true,
    "hidden": true
   },
   "source": [
    "##### Plotar imagens do treino\n"
   ]
  },
  {
   "cell_type": "markdown",
   "metadata": {
    "hidden": true
   },
   "source": [
    " "
   ]
  },
  {
   "cell_type": "code",
   "execution_count": null,
   "metadata": {
    "hidden": true
   },
   "outputs": [],
   "source": [
    "historico.history.keys()\n",
    "plt.plot(historico.history['val_loss'])"
   ]
  },
  {
   "cell_type": "code",
   "execution_count": null,
   "metadata": {
    "hidden": true
   },
   "outputs": [],
   "source": [
    "plt.plot(historico.history['val_accuracy'])"
   ]
  },
  {
   "cell_type": "markdown",
   "metadata": {
    "hidden": true
   },
   "source": [
    " "
   ]
  },
  {
   "cell_type": "markdown",
   "metadata": {
    "heading_collapsed": true,
    "hidden": true
   },
   "source": [
    "##### Predição"
   ]
  },
  {
   "cell_type": "markdown",
   "metadata": {
    "hidden": true
   },
   "source": [
    " "
   ]
  },
  {
   "cell_type": "code",
   "execution_count": null,
   "metadata": {
    "hidden": true
   },
   "outputs": [],
   "source": [
    "previsoes = modelo.predict(X_teste)\n",
    "previsoes = (previsoes > 0.5)\n",
    "previsoes"
   ]
  },
  {
   "cell_type": "markdown",
   "metadata": {
    "hidden": true
   },
   "source": [
    " "
   ]
  },
  {
   "cell_type": "markdown",
   "metadata": {
    "heading_collapsed": true,
    "hidden": true
   },
   "source": [
    "##### Avaliação "
   ]
  },
  {
   "cell_type": "markdown",
   "metadata": {
    "hidden": true
   },
   "source": [
    " "
   ]
  },
  {
   "cell_type": "code",
   "execution_count": null,
   "metadata": {
    "hidden": true
   },
   "outputs": [],
   "source": [
    "precisao = accuracy_score(classe_teste, previsoes)\n",
    "precisao"
   ]
  },
  {
   "cell_type": "code",
   "execution_count": null,
   "metadata": {
    "hidden": true
   },
   "outputs": [],
   "source": [
    "resultado = classificador.evaluate(previsores_teste, classe_teste)#usando ferramentas do keras\n",
    "resultado"
   ]
  },
  {
   "cell_type": "code",
   "execution_count": null,
   "metadata": {
    "hidden": true
   },
   "outputs": [],
   "source": [
    "#Matriz de Confusão MULTICLASSE ... Executar essa parte 1º\n",
    "y_teste_matrix = [np.argmax(t) for t in y_teste]              #RETORNA O INDICE QUE ESTA TRUE (DA RESPOSTA CERTA)\n",
    "y_previsao_matrix = [np.argmax(t) for t in previsoes]         #RETORNA O INDICE QUE ESTA TRUE (DA RESPOSTA CERTA)\n",
    "\n",
    "#Binária e Multiclasse\n",
    "matriz = confusion_matrix(y_teste_matrix, y_previsao_matrix)  #classe teste, previsões\n",
    "matriz"
   ]
  },
  {
   "cell_type": "markdown",
   "metadata": {
    "hidden": true
   },
   "source": [
    " "
   ]
  },
  {
   "cell_type": "markdown",
   "metadata": {
    "heading_collapsed": true,
    "hidden": true
   },
   "source": [
    "####  *** RNA  COM VALIDAÇÃO CRUZADA"
   ]
  },
  {
   "cell_type": "markdown",
   "metadata": {
    "hidden": true
   },
   "source": [
    " "
   ]
  },
  {
   "cell_type": "code",
   "execution_count": null,
   "metadata": {
    "hidden": true
   },
   "outputs": [],
   "source": [
    "def criarRede():\n",
    "    \n",
    "    classificador = Sequential()\n",
    "    \n",
    "    classificador.add(Dense(units = 16, activation = 'relu', kernel_initializer = 'random_uniform', input_dim = 30))    \n",
    "    classificador.add(Dropout(0.2))\n",
    "    \n",
    "    classificador.add(Dense(units = 16, activation = 'relu', kernel_initializer = 'random_uniform'))\n",
    "    classificador.add(Dropout(0.2))\n",
    "    \n",
    "    classificador.add(Dense(units = 1, activation = 'sigmoid'))\n",
    "    \n",
    "    otimizador = keras.optimizers.Adam(lr = 0.001, decay = 0.0001, clipvalue = 0.5)\n",
    "    \n",
    "    classificador.compile(optimizer = otimizador, \n",
    "                          loss = 'binary_crossentropy',\n",
    "                          metrics = ['binary_accuracy'])\n",
    "    \n",
    "    return classificador"
   ]
  },
  {
   "cell_type": "code",
   "execution_count": null,
   "metadata": {
    "hidden": true
   },
   "outputs": [],
   "source": [
    "classificador = KerasClassifier(build_fn = criarRede, epochs = 50, batch_size = 10)"
   ]
  },
  {
   "cell_type": "markdown",
   "metadata": {
    "hidden": true
   },
   "source": [
    " "
   ]
  },
  {
   "cell_type": "markdown",
   "metadata": {
    "hidden": true
   },
   "source": [
    "##### Ver Modelo\n"
   ]
  },
  {
   "cell_type": "markdown",
   "metadata": {
    "hidden": true
   },
   "source": [
    " "
   ]
  },
  {
   "cell_type": "code",
   "execution_count": null,
   "metadata": {
    "hidden": true
   },
   "outputs": [],
   "source": [
    "modelo.summary()"
   ]
  },
  {
   "cell_type": "markdown",
   "metadata": {
    "hidden": true
   },
   "source": [
    " "
   ]
  },
  {
   "cell_type": "markdown",
   "metadata": {
    "hidden": true
   },
   "source": [
    "##### Treinar Modelo\n"
   ]
  },
  {
   "cell_type": "markdown",
   "metadata": {
    "hidden": true
   },
   "source": [
    " "
   ]
  },
  {
   "cell_type": "code",
   "execution_count": null,
   "metadata": {
    "hidden": true
   },
   "outputs": [],
   "source": [
    "resultados = cross_val_score(estimator = classificador, \n",
    "                             X = previsores, \n",
    "                             y = classe, \n",
    "                             cv = 10, \n",
    "                             scoring = 'accuracy')"
   ]
  },
  {
   "cell_type": "code",
   "execution_count": null,
   "metadata": {
    "hidden": true
   },
   "outputs": [],
   "source": [
    "resultados"
   ]
  },
  {
   "cell_type": "markdown",
   "metadata": {
    "hidden": true
   },
   "source": [
    " "
   ]
  },
  {
   "cell_type": "markdown",
   "metadata": {
    "hidden": true
   },
   "source": [
    "##### Avaliação "
   ]
  },
  {
   "cell_type": "markdown",
   "metadata": {
    "hidden": true
   },
   "source": [
    " "
   ]
  },
  {
   "cell_type": "code",
   "execution_count": null,
   "metadata": {
    "hidden": true
   },
   "outputs": [],
   "source": [
    "media = resultados.mean()\n",
    "desvio = resultados.std()\n",
    "print(media)\n",
    "print(desvio)"
   ]
  },
  {
   "cell_type": "code",
   "execution_count": null,
   "metadata": {
    "hidden": true
   },
   "outputs": [],
   "source": []
  },
  {
   "cell_type": "code",
   "execution_count": null,
   "metadata": {
    "hidden": true
   },
   "outputs": [],
   "source": []
  },
  {
   "cell_type": "markdown",
   "metadata": {
    "hidden": true
   },
   "source": [
    " "
   ]
  },
  {
   "cell_type": "markdown",
   "metadata": {
    "heading_collapsed": true,
    "hidden": true
   },
   "source": [
    "#### TUNING DOS PARAMENTROS"
   ]
  },
  {
   "cell_type": "markdown",
   "metadata": {
    "hidden": true
   },
   "source": [
    " "
   ]
  },
  {
   "cell_type": "code",
   "execution_count": null,
   "metadata": {
    "hidden": true
   },
   "outputs": [],
   "source": [
    "def criarRede():\n",
    "    \n",
    "    classificador = Sequential()\n",
    "    \n",
    "    classificador.add(Dense(units = 16, activation = 'relu', kernel_initializer = 'random_uniform', input_dim = 30))    \n",
    "    classificador.add(Dropout(0.2))\n",
    "    \n",
    "    classificador.add(Dense(units = 16, activation = 'relu', kernel_initializer = 'random_uniform'))\n",
    "    classificador.add(Dropout(0.2))\n",
    "    \n",
    "    classificador.add(Dense(units = 1, activation = 'sigmoid'))\n",
    "    \n",
    "    otimizador = keras.optimizers.Adam(lr = 0.001, decay = 0.0001, clipvalue = 0.5)\n",
    "    \n",
    "    classificador.compile(optimizer = otimizador, \n",
    "                          loss = 'binary_crossentropy',\n",
    "                          metrics = ['binary_accuracy'])\n",
    "    \n",
    "    return classificador"
   ]
  },
  {
   "cell_type": "code",
   "execution_count": null,
   "metadata": {
    "hidden": true
   },
   "outputs": [],
   "source": [
    "classificador = KerasClassifier(build_fn = criarRede)"
   ]
  },
  {
   "cell_type": "code",
   "execution_count": null,
   "metadata": {
    "hidden": true
   },
   "outputs": [],
   "source": [
    "parametros = {'batch_size': [10, 30],\n",
    "              'epochs': [50, 100],\n",
    "              'optimizer': ['adam', 'sgd'],\n",
    "              'loos': ['binary_crossentropy', 'hinge'],\n",
    "              'kernel_initializer': ['random_uniform', 'normal'],\n",
    "              'activation': ['relu', 'tanh'],\n",
    "              'neurons': [16, 8]}"
   ]
  },
  {
   "cell_type": "code",
   "execution_count": null,
   "metadata": {
    "hidden": true
   },
   "outputs": [],
   "source": [
    "grid_search = GridSearchCV(estimator = classificador,\n",
    "                           param_grid = parametros,\n",
    "                           scoring = 'accuracy',\n",
    "                           cv = 5)"
   ]
  },
  {
   "cell_type": "code",
   "execution_count": null,
   "metadata": {
    "hidden": true
   },
   "outputs": [],
   "source": [
    "grid_search = grid_search.fit(previsores, classe)"
   ]
  },
  {
   "cell_type": "code",
   "execution_count": null,
   "metadata": {
    "hidden": true
   },
   "outputs": [],
   "source": [
    "melhores_parametros = grid_search.best_params_\n",
    "melhor_precisao = grid_search.best_score_"
   ]
  },
  {
   "cell_type": "code",
   "execution_count": null,
   "metadata": {
    "hidden": true
   },
   "outputs": [],
   "source": [
    "print(melhores_parametros)\n",
    "print(melhor_precisao)"
   ]
  },
  {
   "cell_type": "markdown",
   "metadata": {
    "hidden": true
   },
   "source": [
    " "
   ]
  },
  {
   "cell_type": "markdown",
   "metadata": {
    "heading_collapsed": true,
    "hidden": true
   },
   "source": [
    "####  *** CNN - Redes Neurais Convolucionais"
   ]
  },
  {
   "cell_type": "markdown",
   "metadata": {
    "hidden": true
   },
   "source": [
    " "
   ]
  },
  {
   "cell_type": "code",
   "execution_count": null,
   "metadata": {
    "hidden": true
   },
   "outputs": [],
   "source": [
    "#OPERADOR DE CONVOLUÇÃO -> POOLING ---- CAMDA DE CONVLUÇÃO ->POOLING -> FLATTENING\n",
    "#PRIMEIRA CAMADA DE CONVLUÇÃO\n",
    "\n",
    "classificador = Sequential()\n",
    "classificador.add(Conv2D(32, (3,3), input_shape=(28, 28, 1), activation = 'relu')) #32 ->  Nº DE KERNELS \n",
    "#64 É MAIS RECONMENDAVEL E POTENCIAS DE 2: 128 256 512 1024\n",
    "#(3,3) pois a imagem é pequena \n",
    "classificador.add(BatchNormalization()) #NORMALIAÇÃO NOS MAPAS DE CONVLOLUÇÃO\n",
    "classificador.add(MaxPooling2D(pool_size = (2,2)))#POOLING"
   ]
  },
  {
   "cell_type": "code",
   "execution_count": null,
   "metadata": {
    "hidden": true
   },
   "outputs": [],
   "source": [
    "#SEGUNDA CAMADA DE CONVLUÇÃO\n",
    "classificador.add(Conv2D(32, (3,3), activation = 'relu')) #não possui input shape\n",
    "classificador.add(BatchNormalization()) # normalização na camada de convolução\n",
    "classificador.add(MaxPooling2D(pool_size = (2,2)))"
   ]
  },
  {
   "cell_type": "code",
   "execution_count": null,
   "metadata": {
    "hidden": true
   },
   "outputs": [],
   "source": [
    "#Flatten\n",
    "classificador.add(Flatten()) #usa somente no final de todas convoluções"
   ]
  },
  {
   "cell_type": "code",
   "execution_count": null,
   "metadata": {
    "hidden": true
   },
   "outputs": [],
   "source": [
    "#CAMADA DENSA\n",
    "classificador.add(Dense(units = 128, activation = 'relu')) #13x13 na entrada(169) camada oculta 128. Valor multiplo de 2\n",
    "classificador.add(Dropout(0.2))\n",
    "classificador.add(Dense(units = 128, activation = 'relu'))\n",
    "classificador.add(Dropout(0.2))\n",
    "classificador.add(Dense(units = 10, activation = 'softmax'))"
   ]
  },
  {
   "cell_type": "code",
   "execution_count": null,
   "metadata": {
    "hidden": true
   },
   "outputs": [],
   "source": [
    "classificador.compile(loss = 'categorical_crossentropy', optimizer = 'adam', metrics = ['accuracy'])"
   ]
  },
  {
   "cell_type": "code",
   "execution_count": null,
   "metadata": {
    "hidden": true
   },
   "outputs": [],
   "source": [
    "classificador.fit(previsores_treinamento, \n",
    "                  classe_treinamento,\n",
    "                  batch_size = 128, \n",
    "                  epochs = 2,\n",
    "                  validation_data = (previsores_teste, classe_teste)) #ja mostra os resultados do teste, val_loss e val_acc"
   ]
  },
  {
   "cell_type": "code",
   "execution_count": null,
   "metadata": {
    "hidden": true
   },
   "outputs": [],
   "source": [
    "resultado = classificador.evaluate(previsores_teste, classe_teste)\n",
    "resultado"
   ]
  },
  {
   "cell_type": "markdown",
   "metadata": {
    "hidden": true
   },
   "source": [
    " "
   ]
  },
  {
   "cell_type": "markdown",
   "metadata": {
    "heading_collapsed": true,
    "hidden": true
   },
   "source": [
    "####  *** CNN  COM VALIDAÇÃO CRUZADA - KFOLD"
   ]
  },
  {
   "cell_type": "markdown",
   "metadata": {
    "hidden": true
   },
   "source": [
    " Prepar os dados como anteriormente (MNIST) -- Não usa necessariamento os dados de treinamento e teste"
   ]
  },
  {
   "cell_type": "code",
   "execution_count": null,
   "metadata": {
    "hidden": true
   },
   "outputs": [],
   "source": [
    "kfold = StratifiedKFold(n_splits = 5, shuffle = True, random_state = seed) #n_splits = 10 (k) usar o seed com outro valor tb\n",
    "resultados = []"
   ]
  },
  {
   "cell_type": "code",
   "execution_count": null,
   "metadata": {
    "hidden": true
   },
   "outputs": [],
   "source": [
    "for indice_treinamento, indice_teste in kfold.split(previsores, np.zeros(shape = (classe.shape[0], 1))):\n",
    "    #np.zeros(shape = (classe.shape[0], 1)) CRIA UMA COLUNA DE ZEROS... VAISER UTLIZADOS OS ÍNDICES\n",
    "    \n",
    "    classificador = Sequential()\n",
    "    classificador.add(Conv2D(32, (3,3), input_shape=(28,28,1), activation = 'relu'))\n",
    "    classificador.add(MaxPooling2D(pool_size = (2,2)))\n",
    "    classificador.add(Flatten())\n",
    "    \n",
    "    classificador.add(Dense(units = 128, activation = 'relu'))\n",
    "    classificador.add(Dense(units = 10, activation = 'softmax'))\n",
    "    \n",
    "    classificador.compile(loss = 'categorical_crossentropy', \n",
    "                          optimizer = 'adam',\n",
    "                          metrics = ['accuracy'])\n",
    "    \n",
    "    classificador.fit(previsores[indice_treinamento], \n",
    "                      classe[indice_treinamento],\n",
    "                      batch_size = 128, epochs = 5)\n",
    "    \n",
    "    precisao = classificador.evaluate(previsores[indice_teste], classe[indice_teste])\n",
    "    resultados.append(precisao[1])#precisao[0] VAL LOSS // precisao[1] VAL ACC\n"
   ]
  },
  {
   "cell_type": "code",
   "execution_count": null,
   "metadata": {
    "hidden": true
   },
   "outputs": [],
   "source": [
    "#media = resultados.mean()\n",
    "media = sum(resultados) / len(resultados)\n",
    "media"
   ]
  },
  {
   "cell_type": "markdown",
   "metadata": {
    "hidden": true
   },
   "source": [
    " "
   ]
  },
  {
   "cell_type": "markdown",
   "metadata": {
    "heading_collapsed": true,
    "hidden": true
   },
   "source": [
    "####  Argumentation - otimizacao - geracao de imagens extras - SEM VALIDAÇÃO CRUZADA"
   ]
  },
  {
   "cell_type": "markdown",
   "metadata": {
    "hidden": true
   },
   "source": [
    " "
   ]
  },
  {
   "cell_type": "markdown",
   "metadata": {
    "hidden": true
   },
   "source": [
    "  Prepar os dados como anteriormente (MNIST)"
   ]
  },
  {
   "cell_type": "code",
   "execution_count": 4,
   "metadata": {
    "hidden": true
   },
   "outputs": [],
   "source": [
    "classificador = Sequential()\n",
    "classificador.add(Conv2D(32, (3,3), input_shape=(28, 28, 1), activation = 'relu'))\n",
    "classificador.add(MaxPooling2D(pool_size = (2,2)))\n",
    "classificador.add(Flatten())"
   ]
  },
  {
   "cell_type": "code",
   "execution_count": 5,
   "metadata": {
    "hidden": true
   },
   "outputs": [],
   "source": [
    "classificador.add(Dense(units = 128, activation = 'relu'))\n",
    "classificador.add(Dense(units = 10, activation = 'softmax'))\n",
    "\n",
    "classificador.compile(loss = 'categorical_crossentropy',\n",
    "                      optimizer = 'adam',\n",
    "                      metrics = ['accuracy'])"
   ]
  },
  {
   "cell_type": "code",
   "execution_count": 6,
   "metadata": {
    "hidden": true
   },
   "outputs": [],
   "source": [
    "gerador_treinamento = ImageDataGenerator(rotation_range = 7,\n",
    "                                         horizontal_flip = True,\n",
    "                                         shear_range = 0.2,\n",
    "                                         height_shift_range = 0.07,\n",
    "                                         zoom_range = 0.2)"
   ]
  },
  {
   "cell_type": "code",
   "execution_count": 7,
   "metadata": {
    "hidden": true
   },
   "outputs": [],
   "source": [
    "gerador_teste = ImageDataGenerator()"
   ]
  },
  {
   "cell_type": "code",
   "execution_count": 8,
   "metadata": {
    "hidden": true
   },
   "outputs": [],
   "source": [
    "base_treinamento = gerador_treinamento.flow(previsores_treinamento,\n",
    "                                            classe_treinamento, batch_size = 128)\n",
    "\n",
    "base_teste = gerador_teste.flow(previsores_teste, classe_teste, batch_size = 128)"
   ]
  },
  {
   "cell_type": "code",
   "execution_count": null,
   "metadata": {
    "hidden": true
   },
   "outputs": [],
   "source": [
    "classificador.fit_generator(base_treinamento, \n",
    "                            steps_per_epoch = 600000 / 128,  #total de registros / batch_size\n",
    "                            epochs = 5, \n",
    "                            validation_data = base_teste,\n",
    "                            validation_steps = 10000 / 128)  #total de registros / batch_size"
   ]
  },
  {
   "cell_type": "markdown",
   "metadata": {
    "hidden": true
   },
   "source": [
    " "
   ]
  },
  {
   "cell_type": "markdown",
   "metadata": {
    "heading_collapsed": true,
    "hidden": true
   },
   "source": [
    "#### *** CNN - LENDO DADOS PELAS PASTAS"
   ]
  },
  {
   "cell_type": "markdown",
   "metadata": {
    "hidden": true
   },
   "source": [
    " "
   ]
  },
  {
   "cell_type": "code",
   "execution_count": 2,
   "metadata": {
    "hidden": true
   },
   "outputs": [],
   "source": [
    "classificador = Sequential()\n",
    "classificador.add(Conv2D(32, (3,3), input_shape = (64, 64, 3), activation = 'relu'))\n",
    "classificador.add(BatchNormalization())\n",
    "classificador.add(MaxPooling2D(pool_size = (2,2)))"
   ]
  },
  {
   "cell_type": "code",
   "execution_count": 3,
   "metadata": {
    "hidden": true
   },
   "outputs": [],
   "source": [
    "classificador.add(Conv2D(32, (3,3), input_shape = (64, 64, 3), activation = 'relu'))\n",
    "classificador.add(BatchNormalization())\n",
    "classificador.add(MaxPooling2D(pool_size = (2,2)))"
   ]
  },
  {
   "cell_type": "code",
   "execution_count": 4,
   "metadata": {
    "hidden": true
   },
   "outputs": [],
   "source": [
    "classificador.add(Flatten())"
   ]
  },
  {
   "cell_type": "code",
   "execution_count": 5,
   "metadata": {
    "hidden": true
   },
   "outputs": [],
   "source": [
    "classificador.add(Dense(units = 128, activation = 'relu'))\n",
    "classificador.add(Dropout(0.2))\n",
    "classificador.add(Dense(units = 128, activation = 'relu'))\n",
    "classificador.add(Dropout(0.2))\n",
    "classificador.add(Dense(units = 1, activation = 'sigmoid'))"
   ]
  },
  {
   "cell_type": "code",
   "execution_count": 6,
   "metadata": {
    "hidden": true
   },
   "outputs": [],
   "source": [
    "classificador.compile(optimizer = 'adam', loss = 'binary_crossentropy', metrics = ['accuracy'])"
   ]
  },
  {
   "cell_type": "code",
   "execution_count": 7,
   "metadata": {
    "hidden": true
   },
   "outputs": [],
   "source": [
    "gerador_treinamento = ImageDataGenerator(rescale = 1./255,     #normalização\n",
    "                                         rotation_range = 7,   #grau de giro\n",
    "                                         horizontal_flip = True, #giros horizontais\n",
    "                                         shear_range = 0.2,\n",
    "                                         height_shift_range = 0.07, #faixa de mudança\n",
    "                                         zoom_range = 0.2)\n",
    "\n",
    "gerador_teste = ImageDataGenerator(rescale = 1./255) #normalização"
   ]
  },
  {
   "cell_type": "code",
   "execution_count": 8,
   "metadata": {
    "hidden": true
   },
   "outputs": [
    {
     "name": "stdout",
     "output_type": "stream",
     "text": [
      "Found 4000 images belonging to 2 classes.\n"
     ]
    }
   ],
   "source": [
    "base_treinamento = gerador_treinamento.flow_from_directory('Dados/dataset/training_set', #usar essa estrutura(pastas) para encontrar  \n",
    "                                                           target_size = (64, 64),       #automaticamente\n",
    "                                                           batch_size = 32,\n",
    "                                                           class_mode = 'binary')\n"
   ]
  },
  {
   "cell_type": "code",
   "execution_count": 9,
   "metadata": {
    "hidden": true
   },
   "outputs": [
    {
     "name": "stdout",
     "output_type": "stream",
     "text": [
      "Found 1000 images belonging to 2 classes.\n"
     ]
    }
   ],
   "source": [
    "base_teste = gerador_teste.flow_from_directory('Dados/dataset/test_set',   #usar essa estrutura(pastas) para encontrar \n",
    "                                               target_size = (64, 64),     #automaticamente\n",
    "                                               batch_size = 32,\n",
    "                                               class_mode = 'binary')"
   ]
  },
  {
   "cell_type": "markdown",
   "metadata": {
    "hidden": true
   },
   "source": [
    " "
   ]
  },
  {
   "cell_type": "markdown",
   "metadata": {
    "heading_collapsed": true,
    "hidden": true
   },
   "source": [
    "##### Prever se uma imagem é cachorro ou gato"
   ]
  },
  {
   "cell_type": "markdown",
   "metadata": {
    "hidden": true
   },
   "source": [
    " "
   ]
  },
  {
   "cell_type": "code",
   "execution_count": 17,
   "metadata": {
    "hidden": true
   },
   "outputs": [],
   "source": [
    "imagem_teste = image.load_img('Dados/dataset/test_set/cachorro/dog.3500.jpg',target_size = (64,64))#imagem para classificação\n",
    "#target_size = (64,64) manter o padrao"
   ]
  },
  {
   "cell_type": "code",
   "execution_count": 18,
   "metadata": {
    "hidden": true
   },
   "outputs": [],
   "source": [
    "imagem_teste = image.img_to_array(imagem_teste) #conversao \n",
    "imagem_teste /= 255                             #normalização\n",
    "imagem_teste = np.expand_dims(imagem_teste, axis = 0) #adicionar coluna para ficar do formato do tensorFlow \n",
    "#(1,64,64,3)  1->quantidade de imagens(bath)"
   ]
  },
  {
   "cell_type": "code",
   "execution_count": 19,
   "metadata": {
    "hidden": true
   },
   "outputs": [
    {
     "data": {
      "text/plain": [
       "{'cachorro': 0, 'gato': 1}"
      ]
     },
     "execution_count": 19,
     "metadata": {},
     "output_type": "execute_result"
    }
   ],
   "source": [
    "base_treinamento.class_indices"
   ]
  },
  {
   "cell_type": "code",
   "execution_count": 20,
   "metadata": {
    "hidden": true
   },
   "outputs": [
    {
     "data": {
      "text/plain": [
       "array([[False]])"
      ]
     },
     "execution_count": 20,
     "metadata": {},
     "output_type": "execute_result"
    }
   ],
   "source": [
    "previsao = classificador.predict(imagem_teste)\n",
    "previsao"
   ]
  },
  {
   "cell_type": "code",
   "execution_count": null,
   "metadata": {
    "hidden": true
   },
   "outputs": [],
   "source": [
    "previsao = (previsao > 0.5)#o valor 0.5 é subjetivo\n",
    "previsao"
   ]
  },
  {
   "cell_type": "code",
   "execution_count": null,
   "metadata": {
    "hidden": true
   },
   "outputs": [],
   "source": [
    "if previsao:\n",
    "    print(\"Gato\")\n",
    "else:\n",
    "    print(\"Cachorro\")"
   ]
  },
  {
   "cell_type": "markdown",
   "metadata": {
    "hidden": true
   },
   "source": [
    " "
   ]
  },
  {
   "cell_type": "markdown",
   "metadata": {
    "heading_collapsed": true,
    "hidden": true
   },
   "source": [
    "####  *** RNN - Redes Neurais Recorrentes"
   ]
  },
  {
   "cell_type": "markdown",
   "metadata": {
    "hidden": true
   },
   "source": [
    " "
   ]
  },
  {
   "cell_type": "code",
   "execution_count": 4,
   "metadata": {
    "hidden": true
   },
   "outputs": [],
   "source": [
    "previsores = []\n",
    "preco_real = []"
   ]
  },
  {
   "cell_type": "code",
   "execution_count": 5,
   "metadata": {
    "hidden": true
   },
   "outputs": [],
   "source": [
    "for i in range(90, 1242):           #90 registros de previsores-> pula 90 para começar prever|| 1242 total de dados\n",
    "    \n",
    "    previsores.append(base_treinamento_normalizada[i-90:i, 0]) #pegar os valores antes do 90(iniciando do zero)\n",
    "    preco_real.append(base_treinamento_normalizada[i, 0]) #valor começa em 90, pois é o 1º a se prever\n",
    "    \n",
    "previsores, preco_real = np.array(previsores), np.array(preco_real) #transformar em array numpy\n",
    "previsores = np.reshape(previsores, (previsores.shape[0], previsores.shape[1], 1)) #formatar para formato do keras\n",
    "#quantidades de registros(batc size), Time step, Quantidade de atributos previsores"
   ]
  },
  {
   "cell_type": "code",
   "execution_count": 6,
   "metadata": {
    "hidden": true
   },
   "outputs": [],
   "source": [
    "#MODELO REGRESSOR LSTM\n",
    "\n",
    "regressor = Sequential()\n",
    "\n",
    "#1ª CAMADA\n",
    "regressor.add(LSTM(units = 100, return_sequences = True, input_shape = (previsores.shape[1], 1)))\n",
    "regressor.add(Dropout(0.3))\n",
    "#units =  quantidadese de memorias\n",
    "#return_sequences = True -> vai passar a informação para frente\n",
    "#adicionar muitas camadas "
   ]
  },
  {
   "cell_type": "code",
   "execution_count": 7,
   "metadata": {
    "hidden": true
   },
   "outputs": [],
   "source": [
    "#2ª CAMADA\n",
    "regressor.add(LSTM(units = 50, return_sequences = True))\n",
    "regressor.add(Dropout(0.3))\n",
    "#diminuir os units por camada"
   ]
  },
  {
   "cell_type": "code",
   "execution_count": 8,
   "metadata": {
    "hidden": true
   },
   "outputs": [],
   "source": [
    "#3ª CAMADA\n",
    "regressor.add(LSTM(units = 50, return_sequences = True))\n",
    "regressor.add(Dropout(0.3))"
   ]
  },
  {
   "cell_type": "code",
   "execution_count": 9,
   "metadata": {
    "hidden": true
   },
   "outputs": [],
   "source": [
    "#4ª CAMADA\n",
    "regressor.add(LSTM(units = 50))\n",
    "regressor.add(Dropout(0.3))\n",
    "#NAO POSSUI O  return_sequences"
   ]
  },
  {
   "cell_type": "code",
   "execution_count": 10,
   "metadata": {
    "hidden": true
   },
   "outputs": [],
   "source": [
    "#CAMADA DE SAIDA É UMA CAMADA DENSA\n",
    "regressor.add(Dense(units = 1, activation = 'linear'))"
   ]
  },
  {
   "cell_type": "code",
   "execution_count": 11,
   "metadata": {
    "hidden": true
   },
   "outputs": [],
   "source": [
    "regressor.compile(optimizer = 'rmsprop', \n",
    "                  loss = 'mean_squared_error',\n",
    "                  metrics = ['mean_absolute_error'])\n",
    "#ADAM TB FUNCIONA\n",
    "#METRICAS PODE SER O mean_absolute_error PQ É SO PARA VIZUALIZAÇÃO"
   ]
  },
  {
   "cell_type": "code",
   "execution_count": null,
   "metadata": {
    "hidden": true
   },
   "outputs": [],
   "source": [
    "#TREINAMENTO\n",
    "regressor.fit(previsores, preco_real, epochs = 100, batch_size = 32)"
   ]
  },
  {
   "cell_type": "code",
   "execution_count": 13,
   "metadata": {
    "hidden": true
   },
   "outputs": [],
   "source": [
    "#NOVA BASE PARA TESTE\n",
    "base_teste = pd.read_csv('dados/petr4-teste.csv')\n",
    "preco_real_teste = base_teste.iloc[:, 1:2].values\n",
    "base_completa = pd.concat((base['Open'], base_teste['Open']), axis = 0) #concatenação por coluna\n",
    "entradas = base_completa[len(base_completa) - len(base_teste) - 90:].values #dados de teste -90\n",
    "entradas = entradas.reshape(-1, 1) #-1 nao altera as linhas // 1 adiciona coluna\n",
    "entradas = normalizador.transform(entradas) #NAO USA O FIT_TRANSFORM POIS QUERO USAR A MESMA NORMALIZAÇÃO"
   ]
  },
  {
   "cell_type": "code",
   "execution_count": 14,
   "metadata": {
    "hidden": true
   },
   "outputs": [],
   "source": [
    "X_teste = []"
   ]
  },
  {
   "cell_type": "code",
   "execution_count": 15,
   "metadata": {
    "hidden": true
   },
   "outputs": [],
   "source": [
    "for i in range(90, 112):\n",
    "    X_teste.append(entradas[i-90:i, 0])\n",
    "X_teste = np.array(X_teste)\n",
    "X_teste = np.reshape(X_teste, (X_teste.shape[0], X_teste.shape[1], 1))\n",
    "previsoes = regressor.predict(X_teste)\n",
    "previsoes = normalizador.inverse_transform(previsoes) #REMOBVER A NORMALIZAÇÃO"
   ]
  },
  {
   "cell_type": "code",
   "execution_count": 16,
   "metadata": {
    "hidden": true
   },
   "outputs": [
    {
     "data": {
      "text/plain": [
       "17.87454563636364"
      ]
     },
     "execution_count": 16,
     "metadata": {},
     "output_type": "execute_result"
    }
   ],
   "source": [
    "previsoes.mean()\n",
    "preco_real_teste.mean()\n",
    "#FIZER UM MENOS OUTR TEMOS A DIFERENÇA EM R$"
   ]
  },
  {
   "cell_type": "code",
   "execution_count": 17,
   "metadata": {
    "hidden": true,
    "scrolled": false
   },
   "outputs": [
    {
     "data": {
      "image/png": "[encoded data removed]",
      "text/plain": [
       "<Figure size 432x288 with 1 Axes>"
      ]
     },
     "metadata": {
      "needs_background": "light"
     },
     "output_type": "display_data"
    }
   ],
   "source": [
    "plt.plot(preco_real_teste, color = 'red', label = 'Preço real')\n",
    "plt.plot(previsoes, color = 'blue', label = 'Previsões')\n",
    "plt.title('Previsão preço das ações')\n",
    "plt.xlabel('Tempo')\n",
    "plt.ylabel('Valor Yahoo')\n",
    "plt.legend()\n",
    "plt.show()"
   ]
  },
  {
   "cell_type": "markdown",
   "metadata": {
    "hidden": true
   },
   "source": [
    "VERIFICAR CODIGO COM MULTIPLAS ENTRADAS E MULTIPLAS SAIDAS"
   ]
  },
  {
   "cell_type": "code",
   "execution_count": null,
   "metadata": {
    "hidden": true
   },
   "outputs": [],
   "source": []
  },
  {
   "cell_type": "code",
   "execution_count": null,
   "metadata": {
    "hidden": true
   },
   "outputs": [],
   "source": []
  },
  {
   "cell_type": "code",
   "execution_count": null,
   "metadata": {
    "hidden": true
   },
   "outputs": [],
   "source": []
  },
  {
   "cell_type": "markdown",
   "metadata": {
    "hidden": true
   },
   "source": [
    " "
   ]
  },
  {
   "cell_type": "code",
   "execution_count": null,
   "metadata": {
    "hidden": true
   },
   "outputs": [],
   "source": []
  },
  {
   "cell_type": "code",
   "execution_count": null,
   "metadata": {
    "hidden": true
   },
   "outputs": [],
   "source": []
  },
  {
   "cell_type": "markdown",
   "metadata": {
    "hidden": true
   },
   "source": [
    " "
   ]
  },
  {
   "cell_type": "markdown",
   "metadata": {
    "heading_collapsed": true,
    "hidden": true
   },
   "source": [
    "## 6.2 - Apredizagem NÃO Supervisionada"
   ]
  },
  {
   "cell_type": "markdown",
   "metadata": {
    "hidden": true
   },
   "source": [
    " "
   ]
  },
  {
   "cell_type": "markdown",
   "metadata": {
    "heading_collapsed": true,
    "hidden": true
   },
   "source": [
    "### 6.2.1 - Clustering"
   ]
  },
  {
   "cell_type": "markdown",
   "metadata": {
    "hidden": true
   },
   "source": [
    " "
   ]
  },
  {
   "cell_type": "markdown",
   "metadata": {
    "heading_collapsed": true,
    "hidden": true
   },
   "source": [
    "####  *** Agrupamento Fuzzy"
   ]
  },
  {
   "cell_type": "markdown",
   "metadata": {
    "hidden": true
   },
   "source": [
    " "
   ]
  },
  {
   "cell_type": "code",
   "execution_count": null,
   "metadata": {
    "hidden": true
   },
   "outputs": [],
   "source": [
    "# Criando o modelo preditivo usando SCIKIT-LEARN (skfuzzy)\n",
    "r = skfuzzy.cmeans(data = iris.data.T, c=3, m=2, error = 0.005, maxiter = 1000, init = None)\n",
    "#tranpor a matriz de dados||valores default pela documentação\n",
    "r"
   ]
  },
  {
   "cell_type": "code",
   "execution_count": null,
   "metadata": {
    "hidden": true
   },
   "outputs": [],
   "source": [
    "previsao_porcentagem = r[1]\n",
    "previsao_porcentagem[0][0]\n",
    "previsao_porcentagem[1][0]\n",
    "previsao_porcentagem[2][0]\n",
    "previsao = previsao_porcentagem.argmax(axis = 0)\n",
    "previsao"
   ]
  },
  {
   "cell_type": "markdown",
   "metadata": {
    "hidden": true
   },
   "source": [
    " "
   ]
  },
  {
   "cell_type": "markdown",
   "metadata": {
    "heading_collapsed": true,
    "hidden": true
   },
   "source": [
    "###### Matriz de Confusão"
   ]
  },
  {
   "cell_type": "markdown",
   "metadata": {
    "hidden": true
   },
   "source": [
    " "
   ]
  },
  {
   "cell_type": "code",
   "execution_count": null,
   "metadata": {
    "hidden": true
   },
   "outputs": [],
   "source": [
    "#sabemos os agrupamentos\n",
    "resultados = confusion_matrix(iris.target, previsao)\n",
    "resultados"
   ]
  },
  {
   "cell_type": "markdown",
   "metadata": {
    "hidden": true
   },
   "source": [
    " "
   ]
  },
  {
   "cell_type": "markdown",
   "metadata": {
    "heading_collapsed": true,
    "hidden": true
   },
   "source": [
    "####  ***  Agrupamento Kmeans"
   ]
  },
  {
   "cell_type": "markdown",
   "metadata": {
    "hidden": true
   },
   "source": [
    " "
   ]
  },
  {
   "cell_type": "code",
   "execution_count": null,
   "metadata": {
    "hidden": true
   },
   "outputs": [],
   "source": [
    "# Criando o modelo preditivo usando SCIKIT-LEARN\n",
    "cluster = KMeans(n_clusters = 3)\n",
    "\n",
    "# Treinando o modelo\n",
    "cluster.fit(iris.data)"
   ]
  },
  {
   "cell_type": "code",
   "execution_count": null,
   "metadata": {
    "hidden": true
   },
   "outputs": [],
   "source": [
    "centroide = cluster.cluster_centers_\n",
    "centroide"
   ]
  },
  {
   "cell_type": "code",
   "execution_count": null,
   "metadata": {
    "hidden": true
   },
   "outputs": [],
   "source": [
    "previsoes = cluster.labels_\n",
    "previsoes"
   ]
  },
  {
   "cell_type": "markdown",
   "metadata": {
    "hidden": true
   },
   "source": [
    " "
   ]
  },
  {
   "cell_type": "markdown",
   "metadata": {
    "heading_collapsed": true,
    "hidden": true
   },
   "source": [
    "######  Matriz de Confusão"
   ]
  },
  {
   "cell_type": "markdown",
   "metadata": {
    "hidden": true
   },
   "source": [
    " "
   ]
  },
  {
   "cell_type": "code",
   "execution_count": null,
   "metadata": {
    "hidden": true
   },
   "outputs": [],
   "source": [
    "#sabemos os agrupamentos\n",
    "resultados = confusion_matrix(iris.target, previsoes)\n",
    "resultados"
   ]
  },
  {
   "cell_type": "markdown",
   "metadata": {
    "hidden": true
   },
   "source": [
    " "
   ]
  },
  {
   "cell_type": "markdown",
   "metadata": {
    "heading_collapsed": true,
    "hidden": true
   },
   "source": [
    "####  *** Agrupamento Kmedoids"
   ]
  },
  {
   "cell_type": "markdown",
   "metadata": {
    "hidden": true
   },
   "source": [
    " "
   ]
  },
  {
   "cell_type": "code",
   "execution_count": null,
   "metadata": {
    "hidden": true
   },
   "outputs": [],
   "source": [
    "# Criando o modelo preditivo usando SCIKIT-LEARN\n",
    "cluster = kmedoids(iris.data[:,0:2],[3, 12, 20])\n",
    "cluster.get_medoids()\n",
    "cluster.process()"
   ]
  },
  {
   "cell_type": "code",
   "execution_count": null,
   "metadata": {
    "hidden": true
   },
   "outputs": [],
   "source": [
    "previsao = cluster.get_clusters()\n",
    "previsao"
   ]
  },
  {
   "cell_type": "code",
   "execution_count": null,
   "metadata": {
    "hidden": true
   },
   "outputs": [],
   "source": [
    "medoids = cluster.get_medoids()\n",
    "medoids"
   ]
  },
  {
   "cell_type": "code",
   "execution_count": null,
   "metadata": {
    "hidden": true
   },
   "outputs": [],
   "source": [
    "v = cluster_visualizer()\n",
    "v.append_clusters(previsao, iris.data[:,0:2])\n",
    "v.append_cluster(medoids, data = iris.data[:,0:2],marker = '*',markersize = 15)\n",
    "v.show()"
   ]
  },
  {
   "cell_type": "markdown",
   "metadata": {
    "hidden": true
   },
   "source": [
    " "
   ]
  },
  {
   "cell_type": "markdown",
   "metadata": {
    "hidden": true
   },
   "source": [
    "######  Matriz de Confusão"
   ]
  },
  {
   "cell_type": "markdown",
   "metadata": {
    "hidden": true
   },
   "source": [
    " "
   ]
  },
  {
   "cell_type": "code",
   "execution_count": null,
   "metadata": {
    "hidden": true
   },
   "outputs": [],
   "source": [
    "lista_previsao = []\n",
    "lista_real = []\n",
    "for i in range(len(previsao)):\n",
    "    print('------------')\n",
    "    print(i)\n",
    "    print('------------')\n",
    "    for j in range(len(previsao[i])):\n",
    "        print(previsao[i][j])\n",
    "        lista_previsao.append(i)\n",
    "        lista_real.append(iris.target[previsao[i][j]])"
   ]
  },
  {
   "cell_type": "code",
   "execution_count": null,
   "metadata": {
    "hidden": true
   },
   "outputs": [],
   "source": [
    "lista_previsao = np.asarray(lista_previsao)\n",
    "lista_real = np.asarray(lista_real)"
   ]
  },
  {
   "cell_type": "code",
   "execution_count": null,
   "metadata": {
    "hidden": true
   },
   "outputs": [],
   "source": [
    "resultados = confusion_matrix(lista_real, lista_previsao)\n",
    "resultados"
   ]
  },
  {
   "cell_type": "code",
   "execution_count": null,
   "metadata": {
    "hidden": true
   },
   "outputs": [],
   "source": []
  },
  {
   "cell_type": "code",
   "execution_count": null,
   "metadata": {
    "hidden": true
   },
   "outputs": [],
   "source": []
  },
  {
   "cell_type": "code",
   "execution_count": null,
   "metadata": {
    "hidden": true
   },
   "outputs": [],
   "source": []
  },
  {
   "cell_type": "markdown",
   "metadata": {
    "hidden": true
   },
   "source": [
    " "
   ]
  },
  {
   "cell_type": "markdown",
   "metadata": {
    "heading_collapsed": true,
    "hidden": true
   },
   "source": [
    "### 6.2.2 - Mapas Auto Organizaveis"
   ]
  },
  {
   "cell_type": "markdown",
   "metadata": {
    "hidden": true
   },
   "source": [
    " "
   ]
  },
  {
   "cell_type": "code",
   "execution_count": 20,
   "metadata": {
    "hidden": true
   },
   "outputs": [],
   "source": [
    "#CARREGAR DADOS E SEPARALOS\n",
    "base = pd.read_csv('dados/vinhos.csv')\n",
    "X = base.iloc[:,1:14].values\n",
    "y = base.iloc[:,0].values #AKI ESTÃO AS CLASSES, MAS NAO USAREMOS"
   ]
  },
  {
   "cell_type": "code",
   "execution_count": 6,
   "metadata": {
    "hidden": true
   },
   "outputs": [],
   "source": [
    "#NORMALIZAÇÃO\n",
    "normalizador = MinMaxScaler(feature_range = (0,1))\n",
    "X = normalizador.fit_transform(X)"
   ]
  },
  {
   "cell_type": "code",
   "execution_count": 7,
   "metadata": {
    "code_folding": [],
    "hidden": true
   },
   "outputs": [],
   "source": [
    "#CRIAÇÃO DA REDE\n",
    "som = MiniSom(x = 8, #5sqrt(N) =~8  -> 8x8\n",
    "              y = 8,         \n",
    "              input_len = 13, \n",
    "              sigma = 1.0, #valor do raio\n",
    "              learning_rate = 0.5, \n",
    "              random_seed = 2)\n",
    "\n",
    "#INICIALIZAÇÃO DOS PESOS\n",
    "som.random_weights_init(X)\n",
    "#TREINAMENTO\n",
    "som.train_random(data = X, num_iteration = 100) #EPOCAS = 100|| 100 é o suficiente para maioria dos casos"
   ]
  },
  {
   "cell_type": "code",
   "execution_count": null,
   "metadata": {
    "hidden": true
   },
   "outputs": [],
   "source": [
    "som._weights\n",
    "#cada valor é um novo ponto(neuronio)"
   ]
  },
  {
   "cell_type": "code",
   "execution_count": null,
   "metadata": {
    "hidden": true
   },
   "outputs": [],
   "source": [
    "som._activation_map #VALORES DO MAPA"
   ]
  },
  {
   "cell_type": "code",
   "execution_count": null,
   "metadata": {
    "hidden": true
   },
   "outputs": [],
   "source": [
    "q = som.activation_response(X)\n",
    "q #CADA VEZ QUE O O NEURONIO FOI CONSIDERADO \"B M U\""
   ]
  },
  {
   "cell_type": "code",
   "execution_count": null,
   "metadata": {
    "hidden": true
   },
   "outputs": [],
   "source": [
    "#BIBLIOTECA pylab\n",
    "pcolor(som.distance_map().T) #calcula o MID\n",
    "# MID - mean inter neuron distance\n",
    "# 1 é a maior distancia por causa da normalização\n",
    "colorbar() #escla -> qanto menor mais parecido ele é"
   ]
  },
  {
   "cell_type": "code",
   "execution_count": null,
   "metadata": {
    "hidden": true
   },
   "outputs": [],
   "source": [
    "w = som.winner(X[2])#qual dos neuronios foi conciderado o BMU do neuronio 2\n",
    "markers = ['o', 's', 'D']\n",
    "color = ['r', 'g', 'b']\n",
    "y[y == 1] = 0 #começa saida 1 entao tem que converter para zero e assim por diante\n",
    "y[y == 2] = 1\n",
    "y[y == 3] = 2\n",
    "w"
   ]
  },
  {
   "cell_type": "code",
   "execution_count": null,
   "metadata": {
    "hidden": true
   },
   "outputs": [],
   "source": [
    "for i, x in enumerate(X):\n",
    "    #print(i)   #indice\n",
    "    #print(x)   #linha\n",
    "    w = som.winner(x)\n",
    "    #print(w)\n",
    "    plot(w[0] + 0.5, w[1] + 0.5, markers[y[i]], #0.5 é para centralizar\n",
    "         markerfacecolor = 'None', \n",
    "         markersize = 10,\n",
    "         markeredgecolor = color[y[i]], \n",
    "         markeredgewidth = 2)"
   ]
  },
  {
   "cell_type": "code",
   "execution_count": null,
   "metadata": {
    "hidden": true
   },
   "outputs": [],
   "source": [
    "#JUNTANDO OS GRAFICOS\n",
    "pcolor(som.distance_map().T) #calcula o MID\n",
    "# MID - mean inter neuron distance\n",
    "# 1 é a maior distancia por causa da normalização\n",
    "colorbar() #escla -> qanto menor mais parecido ele é\n",
    "\n",
    "w = som.winner(X[2])#qual dos neuronios foi conciderado o BMU do neuronio 2\n",
    "markers = ['o', 's', 'D']\n",
    "color = ['r', 'g', 'b']\n",
    "#y[y == 1] = 0 #começa saida 1 entao tem que converter para zero e assim por diante\n",
    "#y[y == 2] = 1\n",
    "#y[y == 3] = 2 #NAO PRESISA ALTERAR DE NOVO, JA FOI FEITO\n",
    "\n",
    "for i, x in enumerate(X):\n",
    "    #print(i)   #indice\n",
    "    #print(x)   #linha\n",
    "    w = som.winner(x)\n",
    "    #print(w)\n",
    "    plot(w[0] + 0.5, w[1] + 0.5, markers[y[i]], #0.5 é para centralizar\n",
    "         markerfacecolor = 'None', \n",
    "         markersize = 10,\n",
    "         markeredgecolor = color[y[i]], \n",
    "         markeredgewidth = 2)\n",
    "#BOLINHA É A CLASSE ZERO\n",
    "#QUADRADO É A CLASSE UM\n",
    "#RETANGULO É A CLASSE DOIS"
   ]
  },
  {
   "cell_type": "code",
   "execution_count": null,
   "metadata": {
    "hidden": true
   },
   "outputs": [],
   "source": [
    "y"
   ]
  },
  {
   "cell_type": "markdown",
   "metadata": {
    "hidden": true
   },
   "source": [
    " "
   ]
  },
  {
   "cell_type": "markdown",
   "metadata": {
    "heading_collapsed": true,
    "hidden": true
   },
   "source": [
    "### 6.2.3 - Sistemas de Recomendação"
   ]
  },
  {
   "cell_type": "markdown",
   "metadata": {
    "hidden": true
   },
   "source": [
    " "
   ]
  },
  {
   "cell_type": "code",
   "execution_count": null,
   "metadata": {
    "hidden": true
   },
   "outputs": [],
   "source": []
  },
  {
   "cell_type": "markdown",
   "metadata": {
    "hidden": true
   },
   "source": [
    " "
   ]
  },
  {
   "cell_type": "markdown",
   "metadata": {
    "heading_collapsed": true,
    "hidden": true
   },
   "source": [
    "### 6.2.4 - Regras de Associação"
   ]
  },
  {
   "cell_type": "markdown",
   "metadata": {
    "heading_collapsed": true,
    "hidden": true
   },
   "source": [
    "## 6.3 -  SÉRIES TEMPORAIS"
   ]
  },
  {
   "cell_type": "markdown",
   "metadata": {
    "hidden": true
   },
   "source": [
    " "
   ]
  },
  {
   "cell_type": "code",
   "execution_count": null,
   "metadata": {
    "hidden": true
   },
   "outputs": [],
   "source": [
    "regras = apriori(transacao, min_support = 0.5, min_confiance = 0.5)\n",
    "print(regras)"
   ]
  },
  {
   "cell_type": "code",
   "execution_count": null,
   "metadata": {
    "hidden": true
   },
   "outputs": [],
   "source": [
    "resultados = list(regras)\n",
    "resultados"
   ]
  },
  {
   "cell_type": "code",
   "execution_count": null,
   "metadata": {
    "hidden": true
   },
   "outputs": [],
   "source": [
    "resultados2 = [list(x) for x in resultados]\n",
    "resultados2"
   ]
  },
  {
   "cell_type": "code",
   "execution_count": null,
   "metadata": {
    "hidden": true
   },
   "outputs": [],
   "source": [
    "resultados3 = []\n",
    "for j in range(0,7):\n",
    "    resultados3.append([list(x) for x in resultados2[j][2]])\n",
    "resultados3"
   ]
  },
  {
   "cell_type": "code",
   "execution_count": null,
   "metadata": {
    "hidden": true
   },
   "outputs": [],
   "source": []
  },
  {
   "cell_type": "markdown",
   "metadata": {
    "hidden": true
   },
   "source": [
    " "
   ]
  },
  {
   "cell_type": "markdown",
   "metadata": {
    "heading_collapsed": true
   },
   "source": [
    "# 7.0 - SALVAR E CARREGAR MODELO TREINADO"
   ]
  },
  {
   "cell_type": "markdown",
   "metadata": {
    "hidden": true
   },
   "source": [
    " "
   ]
  },
  {
   "cell_type": "markdown",
   "metadata": {
    "heading_collapsed": true,
    "hidden": true
   },
   "source": [
    "## 7.1 - Salvando o Modelo"
   ]
  },
  {
   "cell_type": "markdown",
   "metadata": {
    "hidden": true
   },
   "source": [
    " "
   ]
  },
  {
   "cell_type": "markdown",
   "metadata": {
    "heading_collapsed": true,
    "hidden": true
   },
   "source": [
    "### USANDO PICKLE"
   ]
  },
  {
   "cell_type": "markdown",
   "metadata": {
    "hidden": true
   },
   "source": [
    " "
   ]
  },
  {
   "cell_type": "code",
   "execution_count": null,
   "metadata": {
    "hidden": true
   },
   "outputs": [],
   "source": [
    "filename = 'modelo_treinado_v3.sav'\n",
    "pickle.dump(modelo_nb1, open(filename, 'wb'))"
   ]
  },
  {
   "cell_type": "markdown",
   "metadata": {
    "hidden": true
   },
   "source": [
    " "
   ]
  },
  {
   "cell_type": "markdown",
   "metadata": {
    "heading_collapsed": true,
    "hidden": true
   },
   "source": [
    "### USANDO JSON"
   ]
  },
  {
   "cell_type": "markdown",
   "metadata": {
    "hidden": true
   },
   "source": [
    " "
   ]
  },
  {
   "cell_type": "code",
   "execution_count": null,
   "metadata": {
    "hidden": true
   },
   "outputs": [],
   "source": [
    "#salvar rede neural\n",
    "classificador_json = classificador.to_json()\n",
    "with open('classificador.json', 'w') as json_file:\n",
    "    json_file.write(classificador_json)\n",
    "classificador.save_weights('classificador.h5')"
   ]
  },
  {
   "cell_type": "markdown",
   "metadata": {
    "hidden": true
   },
   "source": [
    " "
   ]
  },
  {
   "cell_type": "markdown",
   "metadata": {
    "heading_collapsed": true,
    "hidden": true
   },
   "source": [
    "## 7.2- Carregando o Modelo"
   ]
  },
  {
   "cell_type": "markdown",
   "metadata": {
    "hidden": true
   },
   "source": [
    " "
   ]
  },
  {
   "cell_type": "markdown",
   "metadata": {
    "heading_collapsed": true,
    "hidden": true
   },
   "source": [
    "### USANDO PICKLE"
   ]
  },
  {
   "cell_type": "markdown",
   "metadata": {
    "hidden": true
   },
   "source": [
    " "
   ]
  },
  {
   "cell_type": "code",
   "execution_count": null,
   "metadata": {
    "hidden": true
   },
   "outputs": [],
   "source": [
    "# Carregando o modelo e fazendo previsão com novos conjuntos de dados \n",
    "# (X_teste, Y_teste devem ser novos conjuntos de dados preparados com o procedimento de limpeza e transformação adequados)\n",
    "loaded_model = pickle.load(open(filename, 'rb'))\n",
    "resultado1 = loaded_model.predict(X_teste[15].reshape(1, -1))\n",
    "resultado2 = loaded_model.predict(X_teste[18].reshape(1, -1))\n",
    "print(resultado1)\n",
    "print(resultado2)"
   ]
  },
  {
   "cell_type": "markdown",
   "metadata": {
    "hidden": true
   },
   "source": [
    " "
   ]
  },
  {
   "cell_type": "markdown",
   "metadata": {
    "heading_collapsed": true,
    "hidden": true
   },
   "source": [
    "### USANDO JSON"
   ]
  },
  {
   "cell_type": "markdown",
   "metadata": {
    "hidden": true
   },
   "source": [
    " "
   ]
  },
  {
   "cell_type": "code",
   "execution_count": null,
   "metadata": {
    "hidden": true
   },
   "outputs": [],
   "source": [
    "#carregar rede neural\n",
    "from keras.models import model_from_json"
   ]
  },
  {
   "cell_type": "code",
   "execution_count": null,
   "metadata": {
    "hidden": true
   },
   "outputs": [],
   "source": [
    "#carregar rede neural\n",
    "arquivo = open('classificador_breast.json', 'r')\n",
    "estrutura_rede = arquivo.read()\n",
    "arquivo.close()\n",
    "classificador = model_from_json(estrutura_rede)\n",
    "classificador.load_weights('classificador_breast.h5')"
   ]
  },
  {
   "cell_type": "markdown",
   "metadata": {
    "hidden": true
   },
   "source": [
    " "
   ]
  },
  {
   "cell_type": "markdown",
   "metadata": {
    "heading_collapsed": true,
    "hidden": true
   },
   "source": [
    "## 7.3- Teste do Modelo Carregado"
   ]
  },
  {
   "cell_type": "markdown",
   "metadata": {
    "hidden": true
   },
   "source": [
    " "
   ]
  },
  {
   "cell_type": "code",
   "execution_count": null,
   "metadata": {
    "hidden": true
   },
   "outputs": [],
   "source": [
    "novo = np.array([[15.80, 8.34, 118, 900, 0.10, 0.26, 0.08, 0.134, 0.178,\n",
    "                  0.20, 0.05, 1098, 0.87, 4500, 145.2, 0.005, 0.04, 0.05, 0.015,\n",
    "                  0.03, 0.007, 23.15, 16.64, 178.5, 2018, 0.14, 0.185,\n",
    "                  0.84, 158, 0.363]])\n",
    "previsao = classificador.predict(novo)\n",
    "previsao = (previsao > 0.5)"
   ]
  },
  {
   "cell_type": "code",
   "execution_count": null,
   "metadata": {
    "hidden": true
   },
   "outputs": [],
   "source": [
    "#verificacao de loss e accuracy\n",
    "entradas = 'Dados/entradas-breast.csv' #usar os dados do treinamento\n",
    "saidas = 'Dados/saidas-breast.csv' #usar os dados do treinamento\n",
    "\n",
    "previsores = pd.read_csv(entradas)\n",
    "classe = pd.read_csv(saidas)\n",
    "\n",
    "classificador.compile(loss='binary_crossentropy', optimizer='adam', metrics=['binary_accuracy'])\n",
    "\n",
    "resultado = classificador.evaluate(previsores, classe)\n",
    "resultado"
   ]
  }
 ],
 "metadata": {
  "kernelspec": {
   "display_name": "Python 3",
   "language": "python",
   "name": "python3"
  },
  "language_info": {
   "codemirror_mode": {
    "name": "ipython",
    "version": 3
   },
   "file_extension": ".py",
   "mimetype": "text/x-python",
   "name": "python",
   "nbconvert_exporter": "python",
   "pygments_lexer": "ipython3",
   "version": "3.7.4"
  }
 },
 "nbformat": 4,
 "nbformat_minor": 2
}
